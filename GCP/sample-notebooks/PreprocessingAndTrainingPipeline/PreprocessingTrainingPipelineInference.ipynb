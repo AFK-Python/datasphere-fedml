{
 "cells": [
  {
   "cell_type": "code",
   "execution_count": null,
   "id": "f7d193bd-485c-402a-8d67-a7199d1879b9",
   "metadata": {},
   "outputs": [],
   "source": [
    "pip install fedml_gcp"
   ]
  },
  {
   "cell_type": "code",
   "execution_count": null,
   "id": "468b9b4d-f9b0-48aa-bbc6-d4e0f4610c89",
   "metadata": {},
   "outputs": [],
   "source": [
    "import os\n",
    "import pandas as pd\n",
    "import numpy as np\n",
    "from fedml_gcp import DbConnection\n",
    "from google.api_core.client_options import ClientOptions\n",
    "from googleapiclient import discovery"
   ]
  },
  {
   "cell_type": "code",
   "execution_count": null,
   "id": "67abb367-f18e-4056-89b0-1e7663be0ce2",
   "metadata": {},
   "outputs": [],
   "source": [
    "db = DbConnection()\n",
    "res, column_headers = db.get_data_with_headers(table_name='IMDB_TEST_VIEW', size=1)\n",
    "org_data = pd.DataFrame(res, columns=column_headers)"
   ]
  },
  {
   "cell_type": "code",
   "execution_count": null,
   "id": "12b3661d-181a-4d10-9857-ac9367ac28a7",
   "metadata": {},
   "outputs": [],
   "source": [
    "org_data = org_data.tail(1000)\n",
    "org_data"
   ]
  },
  {
   "cell_type": "code",
   "execution_count": null,
   "id": "9e798089-0195-460b-ba56-cefbb14afd8b",
   "metadata": {},
   "outputs": [],
   "source": [
    "series_data = org_data['Comment']\n",
    "print(type(series_data))"
   ]
  },
  {
   "cell_type": "code",
   "execution_count": null,
   "id": "6a3eca87-14fc-4c30-829c-bf5fa1a82331",
   "metadata": {},
   "outputs": [],
   "source": [
    "data = {\n",
    "    'instances': series_data.values.tolist()\n",
    "}\n",
    "response = dwc.predict(data, 'preprocessed_pipeline_deploy')"
   ]
  },
  {
   "cell_type": "code",
   "execution_count": null,
   "id": "3527c2af-5657-4c77-9e54-776ea1e79315",
   "metadata": {},
   "outputs": [],
   "source": []
  }
 ],
 "metadata": {
  "kernelspec": {
   "display_name": "Python 3 (ipykernel)",
   "language": "python",
   "name": "python3"
  },
  "language_info": {
   "codemirror_mode": {
    "name": "ipython",
    "version": 3
   },
   "file_extension": ".py",
   "mimetype": "text/x-python",
   "name": "python",
   "nbconvert_exporter": "python",
   "pygments_lexer": "ipython3",
   "version": "3.8.2"
  }
 },
 "nbformat": 4,
 "nbformat_minor": 5
}
