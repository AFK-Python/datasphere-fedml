{
 "cells": [
  {
   "cell_type": "markdown",
   "id": "1243558d-f794-4bc1-923a-1764ee630ffb",
   "metadata": {},
   "source": [
    "# Scikit-Learn Preprocessing and Training Pipeline\n",
    "\n",
    "from sklearn.feature_extraction.text import TfidfVectorizer\n",
    "\n",
    "from sklearn.naive_bayes import MultinomialNB\n",
    "\n",
    "\n",
    "Using data from Google Cloud Storage and SAP Datasphere"
   ]
  },
  {
   "cell_type": "markdown",
   "id": "bff769ad-8058-4c5f-9254-61973f9bc950",
   "metadata": {},
   "source": [
    "## Install fedml_gcp package"
   ]
  },
  {
   "cell_type": "code",
   "execution_count": null,
   "id": "9e78154b-8b89-4d64-a7f5-51985199f8ff",
   "metadata": {},
   "outputs": [],
   "source": [
    "pip install fedml_gcp"
   ]
  },
  {
   "cell_type": "markdown",
   "id": "d6951b00-ccd5-493b-82a3-eed64d23bfc9",
   "metadata": {},
   "source": [
    "## Import Libraries"
   ]
  },
  {
   "cell_type": "code",
   "execution_count": null,
   "id": "42f29977-dfa3-4cf8-8e87-3b5b900a41ac",
   "metadata": {},
   "outputs": [],
   "source": [
    "import os\n",
    "\n",
    "from fedml_gcp import dwcgcp"
   ]
  },
  {
   "cell_type": "markdown",
   "id": "2e1ce832-c3e7-41ff-99a2-d30a8c84ae3c",
   "metadata": {},
   "source": [
    "## Some constant variables to use throughout the notebook"
   ]
  },
  {
   "cell_type": "code",
   "execution_count": null,
   "id": "94c73c94-b4dd-449f-9e2b-f192d8409bb4",
   "metadata": {},
   "outputs": [],
   "source": [
    "PROJECT_ID = '<project_id>'\n",
    "REGION = '<region>'\n",
    "\n",
    "BUCKET_NAME = '<bucket_name>'\n",
    "BUCKET_URI = \"gs://\"+BUCKET_NAME\n",
    "BUCKET_FOLDER = 'preprocessed-pipeline'\n",
    "MODEL_OUTPUT_DIR = BUCKET_URI+'/'+BUCKET_FOLDER\n",
    "\n",
    "SCRIPT_PATH = 'PreprocessingAndTrainingPipelineScript.py'\n",
    "JOB_NAME = \"preprocessed-pipeline-training\"\n",
    "\n",
    "MODEL_DISPLAY_NAME = \"preprocessed-pipeline-model\"\n",
    "DEPLOYED_MODEL_DISPLAY_NAME = 'preprocessed-pipeline-deployed-model'"
   ]
  },
  {
   "cell_type": "markdown",
   "id": "5a88817f-1f37-42e0-ab72-1e2ffa784f65",
   "metadata": {},
   "source": [
    "# Create DwcGCP Instance to access class methods and train model\n",
    "\n",
    "It is expected that the bucket name passed here already exists in Cloud Storage.\n",
    "\n",
    "For information on this constructor, please refer to the readme."
   ]
  },
  {
   "cell_type": "code",
   "execution_count": null,
   "id": "3988098a-b5bd-4e73-a831-7a6e3a734935",
   "metadata": {},
   "outputs": [],
   "source": [
    "params = {'project':PROJECT_ID,\n",
    "         'location':REGION, \n",
    "         'staging_bucket':BUCKET_URI}"
   ]
  },
  {
   "cell_type": "code",
   "execution_count": null,
   "id": "a113446e-f8e2-447f-b9e8-2ac6b3e1db83",
   "metadata": {},
   "outputs": [],
   "source": [
    "dwc = dwcgcp.DwcGCP(params)\n"
   ]
  },
  {
   "cell_type": "markdown",
   "id": "71d30257-ce03-4e8e-a2a4-e5163314731b",
   "metadata": {},
   "source": [
    "## Determine which training image and deploying image you want to use. \n",
    "\n",
    "Please refer here for the training pre-built containers: https://cloud.google.com/vertex-ai/docs/training/create-python-pre-built-container\n",
    "\n",
    "Please refer here for the deployment pre-built containers: https://cloud.google.com/vertex-ai/docs/predictions/pre-built-containers"
   ]
  },
  {
   "cell_type": "code",
   "execution_count": null,
   "id": "a269e4bd-fe48-44a7-80c7-f8cb2c7edab6",
   "metadata": {},
   "outputs": [],
   "source": [
    "TRAIN_VERSION = \"scikit-learn-cpu.0-23\"\n",
    "DEPLOY_VERSION = \"sklearn-cpu.1-0\"\n",
    "\n",
    "TRAIN_IMAGE = \"us-docker.pkg.dev/vertex-ai/training/{}:latest\".format(TRAIN_VERSION)\n",
    "DEPLOY_IMAGE = \"us-docker.pkg.dev/vertex-ai/prediction/{}:latest\".format(DEPLOY_VERSION)"
   ]
  },
  {
   "cell_type": "markdown",
   "id": "bdcf1466-0e41-422c-938f-e7783823b422",
   "metadata": {},
   "source": [
    "# Training using a custom training job and pre built container\n",
    "\n",
    "For information on the dwc.train_model() function, please refer to the readme.\n",
    "\n",
    "In the training inputs, we are using a script. When using a script, we have to pass the required packages needed as well.\n",
    "\n",
    "We are also passing args which hold the table name to get data from and some other arguments we want to access in our training script. Before running the following cell, you should have a config.json uploaded to the bucket name you specified above with the path being /gcs/'+bucket_name+'/config.json'. This is specified in the training script, inside the function called get_dwc_data. This is used as the url parameter to DbConnection() so DbConnection knows where to find your credentials for access to SAP Datasphere.\n",
    "\n",
    "You should also have the follow view IMDB_TEST_VIEW created in your SAP Datasphere. To gather this data, please refer to https://www.kaggle.com/mantri7/imdb-movie-reviews-dataset?select=train_data+%281%29.csv and download the test dataset.\n",
    "\n",
    "This script also downloads data from Cloud Storage and uses it for training. Please download the train dataset from the link below and upload it to your Cloud Storage bucket (file path = /data) before proceeding. https://www.kaggle.com/mantri7/imdb-movie-reviews-dataset?select=train_data+%281%29.csv"
   ]
  },
  {
   "cell_type": "code",
   "execution_count": null,
   "id": "b4cd9ac3-146f-4a99-9870-79a4d78e01fc",
   "metadata": {},
   "outputs": [],
   "source": [
    "table_name = 'IMDB_TEST_VIEW'\n",
    "file_path = BUCKET_FOLDER+'/data/imdb_train.csv'\n",
    "table_size = 1\n",
    "job_dir = 'gs://'+BUCKET_NAME\n",
    "    \n",
    "cmd_args = [\n",
    "    \"--table_name=\" + str(table_name),\n",
    "    \"--table_size=\"+ str(table_size),\n",
    "    \"--file_path=\"+ str(file_path),\n",
    "    \"--job-dir=\" + str(job_dir),\n",
    "    \"--bucket_name=\" + str(BUCKET_NAME),\n",
    "    \"--bucket_folder=\" + str(BUCKET_FOLDER)\n",
    "]"
   ]
  },
  {
   "cell_type": "code",
   "execution_count": null,
   "id": "400f7513-db6e-4e9c-a38f-587233694230",
   "metadata": {},
   "outputs": [],
   "source": [
    "required_packages = [\n",
    "    'fedml_gcp',\n",
    "    'matplotlib>=2.2.3',\n",
    "    'seaborn>=0.9.0',\n",
    "    'scikit-learn>=0.20.2',\n",
    "    'pandas',\n",
    "    'numpy',\n",
    "    'hdbcli',\n",
    "    'pandas-gbq'\n",
    "\n",
    "]"
   ]
  },
  {
   "cell_type": "code",
   "execution_count": null,
   "id": "8de59e12-6e4a-49b4-b612-358d8abaa269",
   "metadata": {},
   "outputs": [],
   "source": [
    "inputs2 = {\n",
    "    'display_name':JOB_NAME,\n",
    "    'script_path':SCRIPT_PATH,\n",
    "    'container_uri':TRAIN_IMAGE,\n",
    "    'model_serving_container_image_uri':DEPLOY_IMAGE,\n",
    "    'requirements':required_packages\n",
    "}"
   ]
  },
  {
   "cell_type": "code",
   "execution_count": null,
   "id": "f89341ae-8f68-4194-af8b-ca0bd0009658",
   "metadata": {},
   "outputs": [],
   "source": [
    "run_job_params2 = {'model_display_name':MODEL_DISPLAY_NAME,\n",
    "                  'args':cmd_args,\n",
    "                  'replica_count':1,\n",
    "                  'base_output_dir':MODEL_OUTPUT_DIR,\n",
    "                  'sync':True}"
   ]
  },
  {
   "cell_type": "code",
   "execution_count": null,
   "id": "17f5dc81-8e21-4ff5-8f34-91b8af9447f8",
   "metadata": {},
   "outputs": [],
   "source": [
    "model = dwc.train_model(training_inputs=inputs2, \n",
    "                      training_type='custom',\n",
    "                     params=run_job_params2)"
   ]
  },
  {
   "cell_type": "markdown",
   "id": "fe150849-579f-424d-b365-aa0aefff4acf",
   "metadata": {},
   "source": [
    "## Deployment\n",
    "\n",
    "For information on the dwc.deploy() function please refer to the readme.\n",
    "\n",
    "Here we are deploying the model we trained in the above cell."
   ]
  },
  {
   "cell_type": "code",
   "execution_count": null,
   "id": "cb7a1725-447f-457a-ba9e-65add886d649",
   "metadata": {},
   "outputs": [],
   "source": [
    "model_config = {\n",
    "    'deployed_model_display_name': DEPLOYED_MODEL_DISPLAY_NAME,\n",
    "    'traffic_split':{\"0\": 100},\n",
    "    'machine_type':'n1-standard-2',\n",
    "    'min_replica_count':1,\n",
    "    'max_replica_count':1,\n",
    "    'sync':True\n",
    "    \n",
    "}\n",
    "deployed_endpoint = dwc.deploy(model=model, model_config=model_config)"
   ]
  },
  {
   "cell_type": "markdown",
   "id": "e2eee69c-35b2-47fc-821b-6efe8e607edd",
   "metadata": {},
   "source": [
    "## Prediction\n",
    "\n",
    "Once the model is deployed to an endpoint, we can run predictions on it.\n",
    "\n",
    "For information on the dwc.predict() function please refer to the readme.\n",
    "\n",
    "Since we are using DbConnection here, we will need to have the config.json in this notebook instance as well."
   ]
  },
  {
   "cell_type": "code",
   "execution_count": null,
   "id": "c935e6b7-cef7-4396-9230-9c79de1f3fc4",
   "metadata": {},
   "outputs": [],
   "source": [
    "from fedml_gcp import DbConnection\n",
    "import pandas as pd\n",
    "import numpy as np"
   ]
  },
  {
   "cell_type": "code",
   "execution_count": null,
   "id": "1b8f43c1-3659-4aff-88b8-afc234538d0d",
   "metadata": {},
   "outputs": [],
   "source": [
    "db = DbConnection()\n",
    "res, column_headers = db.get_data_with_headers(table_name='IMDB_TEST_VIEW', size=1)\n",
    "org_data = pd.DataFrame(res, columns=column_headers)"
   ]
  },
  {
   "cell_type": "code",
   "execution_count": null,
   "id": "2e04c902-6f40-4974-a355-d1201e8eea3e",
   "metadata": {},
   "outputs": [],
   "source": [
    "org_data = org_data.tail(1000)\n",
    "org_data"
   ]
  },
  {
   "cell_type": "code",
   "execution_count": null,
   "id": "8757631f-aaa9-4c09-aa25-49b20c4ff228",
   "metadata": {},
   "outputs": [],
   "source": [
    "series_data = org_data['Comment']\n",
    "print(type(series_data))"
   ]
  },
  {
   "cell_type": "code",
   "execution_count": null,
   "id": "4bbb803f-181a-468b-9c89-82c0997de3fe",
   "metadata": {},
   "outputs": [],
   "source": [
    "params = {'instances':series_data.values.tolist()}"
   ]
  },
  {
   "cell_type": "code",
   "execution_count": null,
   "id": "4b91b218-e344-4500-925e-5e7f1c15fd8d",
   "metadata": {},
   "outputs": [],
   "source": [
    "predictions = dwc.predict(endpoint=deployed_endpoint, predict_params=params)"
   ]
  },
  {
   "cell_type": "code",
   "execution_count": null,
   "id": "c3fab687-5015-4818-91cc-52d8ca088337",
   "metadata": {},
   "outputs": [],
   "source": [
    "predictions"
   ]
  }
 ],
 "metadata": {
  "environment": {
   "kernel": "python3",
   "name": "common-cpu.m102",
   "type": "gcloud",
   "uri": "gcr.io/deeplearning-platform-release/base-cpu:m102"
  },
  "kernelspec": {
   "display_name": "Python 3.9.9 64-bit",
   "language": "python",
   "name": "python3"
  },
  "language_info": {
   "codemirror_mode": {
    "name": "ipython",
    "version": 3
   },
   "file_extension": ".py",
   "mimetype": "text/x-python",
   "name": "python",
   "nbconvert_exporter": "python",
   "pygments_lexer": "ipython3",
   "version": "3.9.9"
  }
 },
 "nbformat": 4,
 "nbformat_minor": 5
}
