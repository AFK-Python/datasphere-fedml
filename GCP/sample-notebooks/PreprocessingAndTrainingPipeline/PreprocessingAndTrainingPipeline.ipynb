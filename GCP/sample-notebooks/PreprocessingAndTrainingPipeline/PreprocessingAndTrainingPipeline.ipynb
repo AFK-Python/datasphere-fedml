{
 "cells": [
  {
   "cell_type": "markdown",
   "source": [
    "## Scikit-Learn Preprocessing and Training Pipeline\n",
    "##### from sklearn.feature_extraction.text import TfidfVectorizer\n",
    "##### from sklearn.naive_bayes import MultinomialNB\n",
    "### Using data from Google Cloud Storage and DWC"
   ],
   "metadata": {}
  },
  {
   "cell_type": "markdown",
   "source": [
    "## Install fedml_gcp package"
   ],
   "metadata": {}
  },
  {
   "cell_type": "code",
   "execution_count": 1,
   "source": [
    "pip install fedml_gcp-1.0.0-py3-none-any.whl --force-reinstall"
   ],
   "outputs": [
    {
     "output_type": "stream",
     "name": "stdout",
     "text": [
      "Processing ./fedml_gcp-1.0.0-py3-none-any.whl\n",
      "Collecting hdbcli\n",
      "  Using cached hdbcli-2.10.13-cp34-abi3-manylinux1_x86_64.whl (11.7 MB)\n",
      "Collecting google\n",
      "  Using cached google-3.0.0-py2.py3-none-any.whl (45 kB)\n",
      "Collecting beautifulsoup4\n",
      "  Using cached beautifulsoup4-4.10.0-py3-none-any.whl (97 kB)\n",
      "Collecting soupsieve>1.2\n",
      "  Using cached soupsieve-2.2.1-py3-none-any.whl (33 kB)\n",
      "Installing collected packages: soupsieve, beautifulsoup4, hdbcli, google, fedml-gcp\n",
      "  Attempting uninstall: soupsieve\n",
      "    Found existing installation: soupsieve 2.2.1\n",
      "    Uninstalling soupsieve-2.2.1:\n",
      "      Successfully uninstalled soupsieve-2.2.1\n",
      "  Attempting uninstall: beautifulsoup4\n",
      "    Found existing installation: beautifulsoup4 4.10.0\n",
      "    Uninstalling beautifulsoup4-4.10.0:\n",
      "      Successfully uninstalled beautifulsoup4-4.10.0\n",
      "  Attempting uninstall: hdbcli\n",
      "    Found existing installation: hdbcli 2.10.13\n",
      "    Uninstalling hdbcli-2.10.13:\n",
      "      Successfully uninstalled hdbcli-2.10.13\n",
      "  Attempting uninstall: google\n",
      "    Found existing installation: google 3.0.0\n",
      "    Uninstalling google-3.0.0:\n",
      "      Successfully uninstalled google-3.0.0\n",
      "  Attempting uninstall: fedml-gcp\n",
      "    Found existing installation: fedml-gcp 1.0.0\n",
      "    Uninstalling fedml-gcp-1.0.0:\n",
      "      Successfully uninstalled fedml-gcp-1.0.0\n",
      "Successfully installed beautifulsoup4-4.10.0 fedml-gcp-1.0.0 google-3.0.0 hdbcli-2.10.13 soupsieve-2.2.1\n",
      "Note: you may need to restart the kernel to use updated packages.\n"
     ]
    }
   ],
   "metadata": {}
  },
  {
   "cell_type": "markdown",
   "source": [
    "## Import Libraries"
   ],
   "metadata": {}
  },
  {
   "cell_type": "code",
   "execution_count": 2,
   "source": [
    "from fedml_gcp import DwcGCP\n",
    "import numpy as np\n",
    "import pandas as pd"
   ],
   "outputs": [],
   "metadata": {}
  },
  {
   "cell_type": "markdown",
   "source": [
    "## Create DwcGCP Instance to access class methods and train model"
   ],
   "metadata": {}
  },
  {
   "cell_type": "markdown",
   "source": [
    "It is expected that the bucket name passed here already exists in Cloud Storage."
   ],
   "metadata": {}
  },
  {
   "cell_type": "code",
   "execution_count": 3,
   "source": [
    "dwc = DwcGCP(project_name='fed-ml',\n",
    "                 bucket_name='fedml-bucket')"
   ],
   "outputs": [],
   "metadata": {}
  },
  {
   "cell_type": "markdown",
   "source": [
    "### Create tar bundle of script folder so GCP can use it for training\n",
    "\n",
    "Before running this cell, please ensure that the script package has all the necessary files for a training job."
   ],
   "metadata": {}
  },
  {
   "cell_type": "code",
   "execution_count": 4,
   "source": [
    "dwc.make_tar_bundle('PreprocessedPipeline.tar.gz', \n",
    "                    'PreprocessingAndTrainingPipeline', \n",
    "                    'preprocessed-pipeline/train/PreprocessedPipeline.tar.gz')\n"
   ],
   "outputs": [
    {
     "output_type": "stream",
     "name": "stdout",
     "text": [
      "File PreprocessedPipeline.tar.gz uploaded to preprocessed-pipeline/train/PreprocessedPipeline.tar.gz.\n"
     ]
    }
   ],
   "metadata": {}
  },
  {
   "cell_type": "markdown",
   "source": [
    "### Train Model"
   ],
   "metadata": {}
  },
  {
   "cell_type": "markdown",
   "source": [
    "GCP takes in training inputs that are specific to the training job and the environment needed.\n",
    "\n",
    "In the training inputs, we are the python module. This is the module that your script package is named, and it references the task.py file inside the script package.\n",
    "\n",
    "We are also passing args which hold the table name to get data from. Before running the following cell, you should have a config.json file in the script package with the specified values to allow you to access to DWC.\n",
    "\n",
    "You should also have the follow view `IMDB_TEST_VIEW` created in your DWC. To gather this data, please refer to https://www.kaggle.com/mantri7/imdb-movie-reviews-dataset?select=train_data+%281%29.csv and download the test dataset.\n",
    "\n",
    "This script also downloads data from Cloud Storage and uses it for training. Please download the train dataset from the link below and upload it to your Cloud Storage bucket (file path = fedml-bucket/data) before proceeding. https://www.kaggle.com/mantri7/imdb-movie-reviews-dataset?select=train_data+%281%29.csv"
   ],
   "metadata": {}
  },
  {
   "cell_type": "code",
   "execution_count": 5,
   "source": [
    "training_inputs = {\n",
    "    'scaleTier': 'BASIC',\n",
    "    'packageUris': ['gs://fedml-bucket/preprocessed-pipeline/train/PreprocessedPipeline.tar.gz', \"gs://fedml-bucket/fedml_gcp-1.0.0-py3-none-any.whl\"],\n",
    "    'pythonModule': 'trainer.task',\n",
    "    'args': ['--table_name', 'IMDB_TEST_VIEW',\n",
    "             '--table_size', '1',\n",
    "            '--file_path', 'data/imdb_train.csv',\n",
    "            '--bucket_name', 'fedml-bucket'],\n",
    "    'region': 'us-east1',\n",
    "    'jobDir': 'gs://fedml-bucket',\n",
    "    'runtimeVersion': '2.5',\n",
    "    'pythonVersion': '3.7',\n",
    "    'scheduling': {'maxWaitTime': '3600s', 'maxRunningTime': '7200s'}\n",
    "}"
   ],
   "outputs": [],
   "metadata": {}
  },
  {
   "cell_type": "code",
   "execution_count": 6,
   "source": [
    "dwc.train_model('preprocessed_pipeline_final_train1', training_inputs)"
   ],
   "outputs": [
    {
     "output_type": "stream",
     "name": "stdout",
     "text": [
      "Training Job Submitted Succesfully\n",
      "Job status for fed-ml.preprocessed_pipeline_final_train1:\n",
      "    state : QUEUED\n"
     ]
    }
   ],
   "metadata": {}
  },
  {
   "cell_type": "markdown",
   "source": [
    "### Deploy model"
   ],
   "metadata": {}
  },
  {
   "cell_type": "code",
   "execution_count": 9,
   "source": [
    "dwc.deploy(model_name='preprocessed_pipeline_final_deploy1', \n",
    "           model_location='/preprocessed-pipeline/model', version='v1', region='us-east1')"
   ],
   "outputs": [
    {
     "output_type": "stream",
     "name": "stdout",
     "text": [
      "{'name': 'projects/fed-ml/models/preprocessed_pipeline_final_deploy1', 'regions': ['us-east1'], 'etag': '0NDOT0JEk+A='}\n",
      "{'name': 'projects/fed-ml/operations/create_preprocessed_pipeline_final_deploy1_version-1633572294019', 'metadata': {'@type': 'type.googleapis.com/google.cloud.ml.v1.OperationMetadata', 'createTime': '2021-10-07T02:04:54Z', 'operationType': 'CREATE_VERSION', 'modelName': 'projects/fed-ml/models/preprocessed_pipeline_final_deploy1', 'version': {'name': 'projects/fed-ml/models/preprocessed_pipeline_final_deploy1/versions/version', 'deploymentUri': 'gs://fedml-bucket/preprocessed-pipeline/model', 'createTime': '2021-10-07T02:04:54Z', 'runtimeVersion': '2.5', 'etag': 'RJRlUeXxcn0=', 'framework': 'SCIKIT_LEARN', 'machineType': 'mls1-c1-m2', 'pythonVersion': '3.7'}}}\n"
     ]
    }
   ],
   "metadata": {}
  },
  {
   "cell_type": "code",
   "execution_count": null,
   "source": [],
   "outputs": [],
   "metadata": {}
  }
 ],
 "metadata": {
  "environment": {
   "name": "common-cpu.m76",
   "type": "gcloud",
   "uri": "gcr.io/deeplearning-platform-release/base-cpu:m76"
  },
  "kernelspec": {
   "display_name": "Python 3",
   "language": "python",
   "name": "python3"
  },
  "language_info": {
   "codemirror_mode": {
    "name": "ipython",
    "version": 3
   },
   "file_extension": ".py",
   "mimetype": "text/x-python",
   "name": "python",
   "nbconvert_exporter": "python",
   "pygments_lexer": "ipython3",
   "version": "3.7.10"
  }
 },
 "nbformat": 4,
 "nbformat_minor": 5
}