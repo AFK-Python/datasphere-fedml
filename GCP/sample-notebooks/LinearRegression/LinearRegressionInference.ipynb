{
 "cells": [
  {
   "cell_type": "code",
   "execution_count": null,
   "id": "87a494e6-40df-4aa3-8b51-cba878bb5aff",
   "metadata": {},
   "outputs": [],
   "source": [
    "pip install fedml_gcp"
   ]
  },
  {
   "cell_type": "code",
   "execution_count": null,
   "id": "468b9b4d-f9b0-48aa-bbc6-d4e0f4610c89",
   "metadata": {},
   "outputs": [],
   "source": [
    "import os\n",
    "import pandas as pd\n",
    "import numpy as np\n",
    "from fedml_gcp import DbConnection\n",
    "from google.api_core.client_options import ClientOptions\n",
    "from googleapiclient import discovery"
   ]
  },
  {
   "cell_type": "code",
   "execution_count": null,
   "id": "67abb367-f18e-4056-89b0-1e7663be0ce2",
   "metadata": {},
   "outputs": [],
   "source": [
    "db = DbConnection()\n",
    "org_data = db.get_data_with_headers(table_name='SALES_VIEW', size=float(.00001))\n",
    "org_data = pd.DataFrame(org_data[0], columns=org_data[1])\n",
    "org_data = org_data[['Units_Sold', 'Unit_Price', 'Unit_Cost', 'Total_Revenue', 'Total_Cost', 'Total_Profit']]\n",
    "org_data"
   ]
  },
  {
   "cell_type": "code",
   "execution_count": null,
   "id": "8497afe1-469d-46c1-80f9-c05b85a1a71c",
   "metadata": {},
   "outputs": [],
   "source": [
    "x_data = org_data.drop(['Total_Profit'], axis=1)"
   ]
  },
  {
   "cell_type": "code",
   "execution_count": null,
   "id": "6a3eca87-14fc-4c30-829c-bf5fa1a82331",
   "metadata": {},
   "outputs": [],
   "source": [
    "x_data = x_data.fillna(0)"
   ]
  },
  {
   "cell_type": "code",
   "execution_count": null,
   "id": "38e88ec7-09c9-44b8-8392-4a8fab45fe17",
   "metadata": {},
   "outputs": [],
   "source": [
    "def default_json(t):\n",
    "    return f'{t}'\n",
    "\n",
    "import json\n",
    "data = {\"instances\": x_data.values.tolist()}\n",
    "with open('test_data.json', 'w') as fp:\n",
    "    json.dump(data, fp, default=default_json)"
   ]
  },
  {
   "cell_type": "code",
   "execution_count": null,
   "id": "97681a17-eee3-4646-b51e-83661cccc134",
   "metadata": {},
   "outputs": [],
   "source": [
    "response = dwc.invoke_kyma_endpoint(api=\"https://your-kyma-endpoint.com/predict\", payload_path=\"test_data.json\")"
   ]
  }
 ],
 "metadata": {
  "kernelspec": {
   "display_name": "Python 3 (ipykernel)",
   "language": "python",
   "name": "python3"
  },
  "language_info": {
   "codemirror_mode": {
    "name": "ipython",
    "version": 3
   },
   "file_extension": ".py",
   "mimetype": "text/x-python",
   "name": "python",
   "nbconvert_exporter": "python",
   "pygments_lexer": "ipython3",
   "version": "3.8.2"
  }
 },
 "nbformat": 4,
 "nbformat_minor": 5
}
