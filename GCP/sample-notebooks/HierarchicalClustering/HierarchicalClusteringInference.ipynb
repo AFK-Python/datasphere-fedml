{
 "cells": [
  {
   "cell_type": "code",
   "execution_count": null,
   "id": "9df924ab-715b-4421-947f-a07940b99bb8",
   "metadata": {},
   "outputs": [],
   "source": [
    "pip install fedml_gcp"
   ]
  },
  {
   "cell_type": "code",
   "execution_count": null,
   "id": "468b9b4d-f9b0-48aa-bbc6-d4e0f4610c89",
   "metadata": {},
   "outputs": [],
   "source": [
    "import os\n",
    "import pandas as pd\n",
    "import numpy as np\n",
    "from fedml_gcp import DbConnection\n",
    "from google.api_core.client_options import ClientOptions\n",
    "from googleapiclient import discovery"
   ]
  },
  {
   "cell_type": "code",
   "execution_count": null,
   "id": "67abb367-f18e-4056-89b0-1e7663be0ce2",
   "metadata": {},
   "outputs": [],
   "source": [
    "db = DbConnection()\n",
    "data = db.get_data_with_headers(table_name=\"MALL_CUSTOMERS_VIEW\", size=1)\n",
    "data = pd.DataFrame(data[0], columns=data[1])\n",
    "data = data.sample(frac=1).reset_index(drop=True)\n",
    "data = data.tail(100)\n",
    "data"
   ]
  },
  {
   "cell_type": "code",
   "execution_count": null,
   "id": "e38f7378-ecd9-4cc8-a55e-f526a407785a",
   "metadata": {},
   "outputs": [],
   "source": [
    "x_data = data.drop(['CustomerID', 'Gender', 'Age'], axis=1)\n",
    "x_data"
   ]
  },
  {
   "cell_type": "code",
   "execution_count": null,
   "id": "6a3eca87-14fc-4c30-829c-bf5fa1a82331",
   "metadata": {},
   "outputs": [],
   "source": [
    "data = {\n",
    "    'instances': x_data.values.tolist()\n",
    "}\n",
    "response = dwc.predict(data, 'h_clustering_deploy')"
   ]
  },
  {
   "cell_type": "code",
   "execution_count": null,
   "id": "97681a17-eee3-4646-b51e-83661cccc134",
   "metadata": {},
   "outputs": [],
   "source": [
    "predictions = response['predictions']\n",
    "len(predictions)"
   ]
  },
  {
   "cell_type": "code",
   "execution_count": null,
   "id": "52b1f244-84c5-45a8-a4db-130ab6d7a390",
   "metadata": {},
   "outputs": [],
   "source": [
    "predictions"
   ]
  },
  {
   "cell_type": "code",
   "execution_count": null,
   "id": "8769325c-81f6-4d05-9cf7-60b835c6bf7a",
   "metadata": {},
   "outputs": [],
   "source": []
  }
 ],
 "metadata": {
  "kernelspec": {
   "display_name": "Python 3 (ipykernel)",
   "language": "python",
   "name": "python3"
  },
  "language_info": {
   "codemirror_mode": {
    "name": "ipython",
    "version": 3
   },
   "file_extension": ".py",
   "mimetype": "text/x-python",
   "name": "python",
   "nbconvert_exporter": "python",
   "pygments_lexer": "ipython3",
   "version": "3.8.2"
  }
 },
 "nbformat": 4,
 "nbformat_minor": 5
}
