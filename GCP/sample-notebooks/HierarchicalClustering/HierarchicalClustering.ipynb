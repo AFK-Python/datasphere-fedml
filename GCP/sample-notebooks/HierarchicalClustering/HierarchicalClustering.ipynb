{
 "cells": [
  {
   "cell_type": "markdown",
   "source": [
    "## Scikit-Learn Hierarchical Clustering\n",
    "### Using MALL_CUSTOMERS_VIEW from DWC. This view has 200 records"
   ],
   "metadata": {}
  },
  {
   "cell_type": "markdown",
   "source": [
    "## Install fedml_gcp package"
   ],
   "metadata": {}
  },
  {
   "cell_type": "code",
   "execution_count": 1,
   "source": [
    "pip install fedml_gcp-1.0.0-py3-none-any.whl --force-reinstall"
   ],
   "outputs": [
    {
     "output_type": "stream",
     "name": "stdout",
     "text": [
      "Processing ./fedml_gcp-1.0.0-py3-none-any.whl\n",
      "Collecting hdbcli\n",
      "  Using cached hdbcli-2.10.13-cp34-abi3-manylinux1_x86_64.whl (11.7 MB)\n",
      "Collecting google\n",
      "  Using cached google-3.0.0-py2.py3-none-any.whl (45 kB)\n",
      "Collecting beautifulsoup4\n",
      "  Using cached beautifulsoup4-4.10.0-py3-none-any.whl (97 kB)\n",
      "Collecting soupsieve>1.2\n",
      "  Using cached soupsieve-2.2.1-py3-none-any.whl (33 kB)\n",
      "Installing collected packages: soupsieve, beautifulsoup4, hdbcli, google, fedml-gcp\n",
      "  Attempting uninstall: soupsieve\n",
      "    Found existing installation: soupsieve 2.2.1\n",
      "    Uninstalling soupsieve-2.2.1:\n",
      "      Successfully uninstalled soupsieve-2.2.1\n",
      "  Attempting uninstall: beautifulsoup4\n",
      "    Found existing installation: beautifulsoup4 4.10.0\n",
      "    Uninstalling beautifulsoup4-4.10.0:\n",
      "      Successfully uninstalled beautifulsoup4-4.10.0\n",
      "  Attempting uninstall: hdbcli\n",
      "    Found existing installation: hdbcli 2.10.13\n",
      "    Uninstalling hdbcli-2.10.13:\n",
      "      Successfully uninstalled hdbcli-2.10.13\n",
      "  Attempting uninstall: google\n",
      "    Found existing installation: google 3.0.0\n",
      "    Uninstalling google-3.0.0:\n",
      "      Successfully uninstalled google-3.0.0\n",
      "  Attempting uninstall: fedml-gcp\n",
      "    Found existing installation: fedml-gcp 1.0.0\n",
      "    Uninstalling fedml-gcp-1.0.0:\n",
      "      Successfully uninstalled fedml-gcp-1.0.0\n",
      "Successfully installed beautifulsoup4-4.10.0 fedml-gcp-1.0.0 google-3.0.0 hdbcli-2.10.13 soupsieve-2.2.1\n",
      "Note: you may need to restart the kernel to use updated packages.\n"
     ]
    }
   ],
   "metadata": {}
  },
  {
   "cell_type": "markdown",
   "source": [
    "## Import Libraries"
   ],
   "metadata": {}
  },
  {
   "cell_type": "code",
   "execution_count": 2,
   "source": [
    "from fedml_gcp import DwcGCP\n",
    "import numpy as np\n",
    "import pandas as pd"
   ],
   "outputs": [],
   "metadata": {}
  },
  {
   "cell_type": "markdown",
   "source": [
    "## Create DwcGCP Instance to access class methods and train model"
   ],
   "metadata": {}
  },
  {
   "cell_type": "markdown",
   "source": [
    "It is expected that the bucket name passed here already exists in Cloud Storage."
   ],
   "metadata": {}
  },
  {
   "cell_type": "code",
   "execution_count": 3,
   "source": [
    "dwc = DwcGCP(project_name='fed-ml',\n",
    "                 bucket_name='fedml-bucket')"
   ],
   "outputs": [],
   "metadata": {}
  },
  {
   "cell_type": "markdown",
   "source": [
    "### Create tar bundle of script folder so GCP can use it for training\n",
    "\n",
    "Before running this cell, please ensure that the script package has all the necessary files for a training job."
   ],
   "metadata": {}
  },
  {
   "cell_type": "code",
   "execution_count": 4,
   "source": [
    "dwc.make_tar_bundle('HierarchicalClustering.tar.gz', 'HierarchicalClustering', 'hc/train/HierarchicalClustering.tar.gz')\n"
   ],
   "outputs": [
    {
     "output_type": "stream",
     "name": "stdout",
     "text": [
      "File HierarchicalClustering.tar.gz uploaded to hc/train/HierarchicalClustering.tar.gz.\n"
     ]
    }
   ],
   "metadata": {}
  },
  {
   "cell_type": "markdown",
   "source": [
    "### Create tar bundle of predictor script folder so GCP can use it for inferencing\n",
    "\n",
    "Before running this cell, please ensure that the predictor package has all the necessary files for a training job."
   ],
   "metadata": {}
  },
  {
   "cell_type": "code",
   "execution_count": 5,
   "source": [
    "dwc.make_tar_bundle('HierarchicalClusteringPredictor.tar.gz', 'HierarchicalClusteringPredictor', 'hc/prediction/HierarchicalClusteringPredictor.tar.gz')\n"
   ],
   "outputs": [
    {
     "output_type": "stream",
     "name": "stdout",
     "text": [
      "File HierarchicalClusteringPredictor.tar.gz uploaded to hc/prediction/HierarchicalClusteringPredictor.tar.gz.\n"
     ]
    }
   ],
   "metadata": {}
  },
  {
   "cell_type": "markdown",
   "source": [
    "### Train Model"
   ],
   "metadata": {}
  },
  {
   "cell_type": "markdown",
   "source": [
    "GCP takes in training inputs that are specific to the training job and the environment needed.\n",
    "\n",
    "In the training inputs, we are the python module. This is the module that your script package is named, and it references the task.py file inside the script package.\n",
    "\n",
    "We are also passing args which hold the table name to get data from. Before running the following cell, you should have a config.json file in the script package with the specified values to allow you to access to DWC.\n",
    "\n",
    "You should also have the follow view `MALL_CUSTOMERS_VIEW` created in your DWC. To gather this data, please refer to https://www.kaggle.com/roshansharma/mall-customers-clustering-analysis/data"
   ],
   "metadata": {}
  },
  {
   "cell_type": "code",
   "execution_count": 6,
   "source": [
    "training_inputs = {\n",
    "    'scaleTier': 'BASIC',\n",
    "    'packageUris': ['gs://fedml-bucket/hc/train/HierarchicalClustering.tar.gz', \"gs://fedml-bucket/fedml_gcp-1.0.0-py3-none-any.whl\"],\n",
    "    'pythonModule': 'trainer.task',\n",
    "    'args': ['--table_name', 'MALL_CUSTOMERS_VIEW',\n",
    "             '--table_size', '1',\n",
    "            '--bucket_name', 'fedml-bucket'],\n",
    "    'region': 'us-east1',\n",
    "    'jobDir': 'gs://fedml-bucket',\n",
    "    'runtimeVersion': '2.5',\n",
    "    'pythonVersion': '3.7',\n",
    "    'scheduling': {'maxWaitTime': '3600s', 'maxRunningTime': '7200s'}\n",
    "}"
   ],
   "outputs": [],
   "metadata": {}
  },
  {
   "cell_type": "code",
   "execution_count": 7,
   "source": [
    "dwc.train_model('h_clustering_final_train2', training_inputs)"
   ],
   "outputs": [
    {
     "output_type": "stream",
     "name": "stdout",
     "text": [
      "Training Job Submitted Succesfully\n",
      "Job status for fed-ml.h_clustering_final_train2:\n",
      "    state : QUEUED\n"
     ]
    }
   ],
   "metadata": {}
  },
  {
   "cell_type": "markdown",
   "source": [
    "### Deploy model"
   ],
   "metadata": {}
  },
  {
   "cell_type": "code",
   "execution_count": 11,
   "source": [
    "dwc.deploy(model_name='h_clustering_final_deploy3', model_location='/hc/model/', version='v1', region='us-east1', \n",
    "           prediction_location='hc/prediction/', custom_predict='HierarchicalClusteringPredictor.tar.gz', module_name='predictor.MyPredictor')\n"
   ],
   "outputs": [
    {
     "output_type": "stream",
     "name": "stdout",
     "text": [
      "{'name': 'projects/fed-ml/models/h_clustering_final_deploy3', 'regions': ['us-east1'], 'etag': 'zp24dvA7Or8='}\n",
      "{'name': 'projects/fed-ml/operations/create_h_clustering_final_deploy3_version-1633569329916', 'metadata': {'@type': 'type.googleapis.com/google.cloud.ml.v1.OperationMetadata', 'createTime': '2021-10-07T01:15:30Z', 'operationType': 'CREATE_VERSION', 'modelName': 'projects/fed-ml/models/h_clustering_final_deploy3', 'version': {'name': 'projects/fed-ml/models/h_clustering_final_deploy3/versions/version', 'deploymentUri': 'gs://fedml-bucket/hc/model/', 'createTime': '2021-10-07T01:15:29Z', 'runtimeVersion': '2.5', 'packageUris': ['gs://fedml-bucket/hc/prediction/HierarchicalClusteringPredictor.tar.gz'], 'etag': 'cw5dx7ydW2c=', 'machineType': 'mls1-c1-m2', 'pythonVersion': '3.7', 'predictionClass': 'predictor.MyPredictor'}}}\n"
     ]
    }
   ],
   "metadata": {}
  },
  {
   "cell_type": "code",
   "execution_count": null,
   "source": [],
   "outputs": [],
   "metadata": {}
  }
 ],
 "metadata": {
  "environment": {
   "name": "common-cpu.m76",
   "type": "gcloud",
   "uri": "gcr.io/deeplearning-platform-release/base-cpu:m76"
  },
  "kernelspec": {
   "display_name": "Python 3",
   "language": "python",
   "name": "python3"
  },
  "language_info": {
   "codemirror_mode": {
    "name": "ipython",
    "version": 3
   },
   "file_extension": ".py",
   "mimetype": "text/x-python",
   "name": "python",
   "nbconvert_exporter": "python",
   "pygments_lexer": "ipython3",
   "version": "3.7.10"
  }
 },
 "nbformat": 4,
 "nbformat_minor": 5
}