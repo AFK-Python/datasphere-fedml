{
 "cells": [
  {
   "cell_type": "markdown",
   "metadata": {},
   "source": [
    "## Scikit-Learn PCA\n",
    "### Using BREASTCANCER_VIEW from DWC. This view has 569 records"
   ]
  },
  {
   "cell_type": "markdown",
   "metadata": {},
   "source": [
    "## Install fedml_gcp package"
   ]
  },
  {
   "cell_type": "code",
   "execution_count": 1,
   "metadata": {},
   "outputs": [
    {
     "name": "stdout",
     "output_type": "stream",
     "text": [
      "Processing ./fedml_gcp-1.0.0-py3-none-any.whl\n",
      "Collecting google\n",
      "  Using cached google-3.0.0-py2.py3-none-any.whl (45 kB)\n",
      "Collecting hdbcli\n",
      "  Using cached hdbcli-2.10.13-cp34-abi3-manylinux1_x86_64.whl (11.7 MB)\n",
      "Collecting beautifulsoup4\n",
      "  Using cached beautifulsoup4-4.10.0-py3-none-any.whl (97 kB)\n",
      "Collecting soupsieve>1.2\n",
      "  Using cached soupsieve-2.2.1-py3-none-any.whl (33 kB)\n",
      "Installing collected packages: soupsieve, beautifulsoup4, hdbcli, google, fedml-gcp\n",
      "  Attempting uninstall: soupsieve\n",
      "    Found existing installation: soupsieve 2.2.1\n",
      "    Uninstalling soupsieve-2.2.1:\n",
      "      Successfully uninstalled soupsieve-2.2.1\n",
      "  Attempting uninstall: beautifulsoup4\n",
      "    Found existing installation: beautifulsoup4 4.10.0\n",
      "    Uninstalling beautifulsoup4-4.10.0:\n",
      "      Successfully uninstalled beautifulsoup4-4.10.0\n",
      "  Attempting uninstall: hdbcli\n",
      "    Found existing installation: hdbcli 2.10.13\n",
      "    Uninstalling hdbcli-2.10.13:\n",
      "      Successfully uninstalled hdbcli-2.10.13\n",
      "  Attempting uninstall: google\n",
      "    Found existing installation: google 3.0.0\n",
      "    Uninstalling google-3.0.0:\n",
      "      Successfully uninstalled google-3.0.0\n",
      "  Attempting uninstall: fedml-gcp\n",
      "    Found existing installation: fedml-gcp 1.0.0\n",
      "    Uninstalling fedml-gcp-1.0.0:\n",
      "      Successfully uninstalled fedml-gcp-1.0.0\n",
      "Successfully installed beautifulsoup4-4.10.0 fedml-gcp-1.0.0 google-3.0.0 hdbcli-2.10.13 soupsieve-2.2.1\n",
      "Note: you may need to restart the kernel to use updated packages.\n"
     ]
    }
   ],
   "source": [
    "pip install fedml_gcp"
   ]
  },
  {
   "cell_type": "markdown",
   "metadata": {},
   "source": [
    "## Import Libraries"
   ]
  },
  {
   "cell_type": "code",
   "execution_count": 2,
   "metadata": {},
   "outputs": [],
   "source": [
    "from fedml_gcp import DwcGCP\n",
    "import numpy as np\n",
    "import pandas as pd"
   ]
  },
  {
   "cell_type": "markdown",
   "metadata": {},
   "source": [
    "## Create DwcGCP Instance to access class methods and train model"
   ]
  },
  {
   "cell_type": "markdown",
   "metadata": {},
   "source": [
    "It is expected that the bucket name passed here already exists in Cloud Storage."
   ]
  },
  {
   "cell_type": "code",
   "execution_count": 3,
   "metadata": {},
   "outputs": [],
   "source": [
    "dwc = DwcGCP(project_name='example-project',\n",
    "                 bucket_name='<bucket-name>')"
   ]
  },
  {
   "cell_type": "markdown",
   "metadata": {},
   "source": [
    "### Create tar bundle of script folder so GCP can use it for training\n",
    "\n",
    "Before running this cell, please ensure that the script package has all the necessary files for a training job."
   ]
  },
  {
   "cell_type": "code",
   "execution_count": 4,
   "metadata": {},
   "outputs": [
    {
     "name": "stdout",
     "output_type": "stream",
     "text": [
      "File DimReduction.tar.gz uploaded to dim-red/train/DimReduction.tar.gz.\n"
     ]
    }
   ],
   "source": [
    "dwc.make_tar_bundle('DimReduction.tar.gz', 'Dimensionality-Reduction', 'dim-red/train/DimReduction.tar.gz')\n"
   ]
  },
  {
   "cell_type": "markdown",
   "metadata": {},
   "source": [
    "### Create tar bundle of predictor script folder so GCP can use it for inferencing\n",
    "\n",
    "Before running this cell, please ensure that the predictor package has all the necessary files for a training job."
   ]
  },
  {
   "cell_type": "code",
   "execution_count": 5,
   "metadata": {},
   "outputs": [
    {
     "name": "stdout",
     "output_type": "stream",
     "text": [
      "File DimReductionPredictor.tar.gz uploaded to dim-red/prediction/DimReductionPredictor.tar.gz.\n"
     ]
    }
   ],
   "source": [
    "dwc.make_tar_bundle('DimReductionPredictor.tar.gz', 'Dimensionality-Reduction-Predictor', 'dim-red/prediction/DimReductionPredictor.tar.gz')\n"
   ]
  },
  {
   "cell_type": "markdown",
   "metadata": {},
   "source": [
    "### Train Model"
   ]
  },
  {
   "cell_type": "markdown",
   "metadata": {},
   "source": [
    "GCP takes in training inputs that are specific to the training job and the environment needed.\n",
    "\n",
    "In the training inputs, we are the python module. This is the module that your script package is named, and it references the task.py file inside the script package.\n",
    "\n",
    "We are also passing args which hold the table name to get data from. Before running the following cell, you should have a config.json file in the script package with the specified values to allow you to access to DWC.\n",
    "\n",
    "You should also have the follow view `BREASTCANCER_VIEW` created in your DWC. To gather this data, please refer to https://www.kaggle.com/uciml/breast-cancer-wisconsin-data"
   ]
  },
  {
   "cell_type": "code",
   "execution_count": 6,
   "metadata": {},
   "outputs": [],
   "source": [
    "training_inputs = {\n",
    "    'scaleTier': 'BASIC',\n",
    "    'packageUris': ['gs://<bucket-name>/dim-red/train/DimReduction.tar.gz'],\n",
    "    'pythonModule': 'trainer.task',\n",
    "    'args': ['--table_name', 'BREASTCANCER_VIEW',\n",
    "             '--num_components', '3',\n",
    "            '--bucket_name', '<bucket-name>'],\n",
    "    'region': 'us-east1',\n",
    "    'jobDir': 'gs://<bucket-name>',\n",
    "    'runtimeVersion': '2.5',\n",
    "    'pythonVersion': '3.7',\n",
    "    'scheduling': {'maxWaitTime': '3600s', 'maxRunningTime': '7200s'}\n",
    "}"
   ]
  },
  {
   "cell_type": "code",
   "execution_count": 7,
   "metadata": {},
   "outputs": [
    {
     "name": "stdout",
     "output_type": "stream",
     "text": [
      "Training Job Submitted Succesfully\n",
      "Job status for sap-ti-ci-sce.dim_red_final_train2:\n",
      "    state : QUEUED\n"
     ]
    }
   ],
   "source": [
    "dwc.train_model('dim_red_final_train2', training_inputs)"
   ]
  },
  {
   "cell_type": "markdown",
   "metadata": {},
   "source": [
    "### Deploy Model"
   ]
  },
  {
   "cell_type": "code",
   "execution_count": null,
   "id": "9f073de7",
   "metadata": {},
   "outputs": [],
   "source": [
    "dwc.deploy_to_kyma('example@project-name.gserviceaccount.com', 'key.json', 'custom-kyma-deploy', custom_predictor='Dimensionality-Reduction-Predictor/predictor.py',  model_location='Dimensionality-Reduction/model/model.pkl')"
   ]
  }
 ],
 "metadata": {
  "environment": {
   "name": "common-cpu.m76",
   "type": "gcloud",
   "uri": "gcr.io/deeplearning-platform-release/base-cpu:m76"
  },
  "kernelspec": {
   "display_name": "Python 3",
   "language": "python",
   "name": "python3"
  },
  "language_info": {
   "codemirror_mode": {
    "name": "ipython",
    "version": 3
   },
   "file_extension": ".py",
   "mimetype": "text/x-python",
   "name": "python",
   "nbconvert_exporter": "python",
   "pygments_lexer": "ipython3",
   "version": "3.7.10"
  }
 },
 "nbformat": 4,
 "nbformat_minor": 5
}
