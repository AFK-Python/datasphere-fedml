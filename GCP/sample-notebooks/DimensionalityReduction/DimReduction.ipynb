{
 "cells": [
  {
   "cell_type": "markdown",
   "id": "1243558d-f794-4bc1-923a-1764ee630ffb",
   "metadata": {},
   "source": [
    "# Scikit-Learn PCA\n",
    "Using BREASTCANCER_VIEW from SAP Datasphere. This view has 569 records"
   ]
  },
  {
   "cell_type": "markdown",
   "id": "bff769ad-8058-4c5f-9254-61973f9bc950",
   "metadata": {},
   "source": [
    "## Install fedml_gcp package"
   ]
  },
  {
   "cell_type": "code",
   "execution_count": null,
   "id": "9e78154b-8b89-4d64-a7f5-51985199f8ff",
   "metadata": {},
   "outputs": [],
   "source": [
    "pip install fedml_gcp"
   ]
  },
  {
   "cell_type": "markdown",
   "id": "d6951b00-ccd5-493b-82a3-eed64d23bfc9",
   "metadata": {},
   "source": [
    "## Import Libraries"
   ]
  },
  {
   "cell_type": "code",
   "execution_count": null,
   "id": "42f29977-dfa3-4cf8-8e87-3b5b900a41ac",
   "metadata": {},
   "outputs": [],
   "source": [
    "import os\n",
    "import time\n",
    "from fedml_gcp import dwcgcp"
   ]
  },
  {
   "cell_type": "markdown",
   "id": "2e1ce832-c3e7-41ff-99a2-d30a8c84ae3c",
   "metadata": {},
   "source": [
    "## Some constant variables to use throughout the notebook"
   ]
  },
  {
   "cell_type": "code",
   "execution_count": null,
   "id": "94c73c94-b4dd-449f-9e2b-f192d8409bb4",
   "metadata": {},
   "outputs": [],
   "source": [
    "PROJECT_ID = '<project_id>'\n",
    "REGION = '<region>'\n",
    "\n",
    "BUCKET_NAME = '<bucket_name>'\n",
    "BUCKET_URI = \"gs://\"+BUCKET_NAME\n",
    "BUCKET_FOLDER = 'dimreduction'\n",
    "MODEL_OUTPUT_DIR = BUCKET_URI+'/'+BUCKET_FOLDER\n",
    "GCS_PATH_TO_MODEL_ARTIFACTS= MODEL_OUTPUT_DIR+'/model/'\n",
    "\n",
    "TRAINING_PACKAGE_PATH = 'Dimensionality-Reduction'\n",
    "PREDICTOR_PACKAGE_PATH = 'DimensionalityReductionPredictor'\n",
    "JOB_NAME = \"dimreduction-training\"\n",
    "\n",
    "MODEL_DISPLAY_NAME = \"dimreduction-model\"\n",
    "DEPLOYED_MODEL_DISPLAY_NAME = 'dimreduction-deployed-model'\n",
    "\n",
    "TAR_BUNDLE_NAME = 'DimReduction.tar.gz'\n",
    "\n",
    "CONTAINER_REGISTRY_REPOSITORY = 'dimreduction'\n",
    "IMAGE = 'image-'+str(int(time.time()))"
   ]
  },
  {
   "cell_type": "markdown",
   "id": "5a88817f-1f37-42e0-ab72-1e2ffa784f65",
   "metadata": {},
   "source": [
    "# Create DwcGCP Instance to access class methods and train model\n",
    "\n",
    "It is expected that the bucket name passed here already exists in Cloud Storage.\n",
    "\n",
    "For information on this constructor, please refer to the readme."
   ]
  },
  {
   "cell_type": "code",
   "execution_count": null,
   "id": "00ffa703-e9de-41fe-91a9-3aee00fd8c9f",
   "metadata": {},
   "outputs": [],
   "source": [
    "params = {'project':PROJECT_ID,\n",
    "         'location':REGION, \n",
    "         'staging_bucket':BUCKET_URI}"
   ]
  },
  {
   "cell_type": "code",
   "execution_count": null,
   "id": "a113446e-f8e2-447f-b9e8-2ac6b3e1db83",
   "metadata": {},
   "outputs": [],
   "source": [
    "dwc = dwcgcp.DwcGCP(params)\n"
   ]
  },
  {
   "cell_type": "markdown",
   "id": "ac498923-1ff6-46ad-8bce-e757c662c1ad",
   "metadata": {},
   "source": [
    "# Create tar bundle of script folder so GCP can use it for training\n",
    "\n",
    "Please refer to the readme for more information on the dwc.make_tar_bundle() function\n",
    "\n",
    "Before running this cell, please ensure that the script package has all the necessary files for a training job."
   ]
  },
  {
   "cell_type": "code",
   "execution_count": null,
   "id": "3817d6a4-34bc-4685-8dfe-4ee1e948e6f3",
   "metadata": {},
   "outputs": [],
   "source": [
    "dwc.make_tar_bundle(TAR_BUNDLE_NAME, \n",
    "                    TRAINING_PACKAGE_PATH, \n",
    "                    BUCKET_FOLDER+'/train/'+TAR_BUNDLE_NAME)\n"
   ]
  },
  {
   "cell_type": "markdown",
   "id": "71d30257-ce03-4e8e-a2a4-e5163314731b",
   "metadata": {},
   "source": [
    "## Determine which training image and deploying image you want to use. \n",
    "\n",
    "Please refer here for the training pre-built containers: https://cloud.google.com/vertex-ai/docs/training/create-python-pre-built-container\n",
    "\n",
    "Please refer here for the deployment pre-built containers: https://cloud.google.com/vertex-ai/docs/predictions/pre-built-containers"
   ]
  },
  {
   "cell_type": "code",
   "execution_count": null,
   "id": "a269e4bd-fe48-44a7-80c7-f8cb2c7edab6",
   "metadata": {},
   "outputs": [],
   "source": [
    "TRAIN_VERSION = \"scikit-learn-cpu.0-23\"\n",
    "DEPLOY_VERSION = \"sklearn-cpu.1-0\"\n",
    "\n",
    "TRAIN_IMAGE = \"us-docker.pkg.dev/vertex-ai/training/{}:latest\".format(TRAIN_VERSION)\n",
    "DEPLOY_IMAGE = \"us-docker.pkg.dev/vertex-ai/prediction/{}:latest\".format(DEPLOY_VERSION)"
   ]
  },
  {
   "cell_type": "markdown",
   "id": "2ec502a5-1f07-45b9-937a-3534a0ba11fe",
   "metadata": {
    "tags": []
   },
   "source": [
    "# Training using a custom python package and prebuilt container\n",
    "For information on the dwc.train_model() function, please refer to the readme.\n",
    "\n",
    "In the training inputs, we are using a script. When using a script, we have to pass the required packages needed as well.\n",
    "\n",
    "We are also passing args which hold the table name to get data from and some other arguments we want to access in our training script. Before running the following cell, you should have a config.json uploaded to the bucket name you specified above with the path being /gcs/'+bucket_name+'/config.json'. This is specified in the training script, inside the function called get_dwc_data. This is used as the url parameter to DbConnection() so DbConnection knows where to find your credentials for access to SAP Datasphere.\n",
    "\n",
    "You should also have the follow view BREASTCANCER_VIEW created in your SAP Datasphere. To gather this data, please refer to https://www.kaggle.com/uciml/breast-cancer-wisconsin-data"
   ]
  },
  {
   "cell_type": "code",
   "execution_count": null,
   "id": "a48a560c-fa08-41d5-be54-5a57c5fa1a38",
   "metadata": {},
   "outputs": [],
   "source": [
    "table_name = 'BREASTCANCER_VIEW'\n",
    "num_components = 3\n",
    "job_dir = 'gs://'+BUCKET_NAME\n",
    "\n",
    "cmd_args = [\n",
    "    \"--table_name=\" + str(table_name),\n",
    "    \"--num_components=\" + str(num_components),\n",
    "    \"--job-dir=\" + str(job_dir),\n",
    "    \"--bucket_name=\" + str(BUCKET_NAME),\n",
    "    \"--bucket_folder=\" + str(BUCKET_FOLDER),\n",
    "    \"--package_name=\" + 'trainer'\n",
    "    \n",
    "]"
   ]
  },
  {
   "cell_type": "code",
   "execution_count": null,
   "id": "177dd43b-29c9-4124-ba06-d743763ad22a",
   "metadata": {},
   "outputs": [],
   "source": [
    "inputs ={\n",
    "    'display_name':JOB_NAME,\n",
    "    'python_package_gcs_uri':BUCKET_URI + '/' + BUCKET_FOLDER+'/train/'+TAR_BUNDLE_NAME,\n",
    "    'python_module_name':'trainer.task',\n",
    "    'container_uri':TRAIN_IMAGE,\n",
    "    'model_serving_container_image_uri':DEPLOY_IMAGE,\n",
    "}"
   ]
  },
  {
   "cell_type": "code",
   "execution_count": null,
   "id": "1e979f43-83d3-4223-a1b7-95a2f984ad13",
   "metadata": {},
   "outputs": [],
   "source": [
    "run_job_params = {'model_display_name':MODEL_DISPLAY_NAME,\n",
    "                  'args':cmd_args,\n",
    "                  'replica_count':1,\n",
    "                  'base_output_dir':MODEL_OUTPUT_DIR,\n",
    "                  'sync':True}"
   ]
  },
  {
   "cell_type": "code",
   "execution_count": null,
   "id": "2f0ec4d8-2b06-493c-862e-feb9b7315bd0",
   "metadata": {},
   "outputs": [],
   "source": [
    "job = dwc.train_model(training_inputs=inputs, \n",
    "                      training_type='customPythonPackage',\n",
    "                     params=run_job_params)"
   ]
  },
  {
   "cell_type": "markdown",
   "id": "fe150849-579f-424d-b365-aa0aefff4acf",
   "metadata": {},
   "source": [
    "## Deployment\n",
    "\n",
    "For information on the dwc.deploy() function please refer to the readme.\n",
    "\n",
    "Here we are deploying a custom predictor for the model we trained above."
   ]
  },
  {
   "cell_type": "code",
   "execution_count": null,
   "id": "795ba73f-f3bb-439c-b1a9-3f4e151c1dbd",
   "metadata": {},
   "outputs": [],
   "source": [
    "from DimensionalityReductionPredictor.predictor import MyPredictor"
   ]
  },
  {
   "cell_type": "code",
   "execution_count": null,
   "id": "cb7a1725-447f-457a-ba9e-65add886d649",
   "metadata": {},
   "outputs": [],
   "source": [
    "cpr_model_config = {\n",
    "    'src_dir': PREDICTOR_PACKAGE_PATH,\n",
    "    'output_image_uri':f\"gcr.io/{PROJECT_ID}/{CONTAINER_REGISTRY_REPOSITORY}/{IMAGE}\",\n",
    "    'predictor':MyPredictor,\n",
    "    'requirements_path':os.path.join(PREDICTOR_PACKAGE_PATH, \"requirements.txt\"),\n",
    "    'no_cache':True\n",
    "\n",
    "}\n",
    "upload_config = {\n",
    "    'display_name':DEPLOYED_MODEL_DISPLAY_NAME,\n",
    "    'artifact_uri':GCS_PATH_TO_MODEL_ARTIFACTS,\n",
    "}"
   ]
  },
  {
   "cell_type": "code",
   "execution_count": null,
   "id": "e883eb42-c042-402d-a3df-3aef04645230",
   "metadata": {},
   "outputs": [],
   "source": [
    "model = dwc.upload_custom_predictor(cpr_model_config, upload_config)"
   ]
  },
  {
   "cell_type": "code",
   "execution_count": null,
   "id": "ee8c2cfe-cb9e-4541-bd7a-82ecab01822e",
   "metadata": {},
   "outputs": [],
   "source": [
    "model_config = {'machine_type': \"n1-standard-4\"}\n",
    "endpoint = dwc.deploy(model, model_config)"
   ]
  },
  {
   "cell_type": "markdown",
   "id": "e2eee69c-35b2-47fc-821b-6efe8e607edd",
   "metadata": {},
   "source": [
    "## Prediction\n",
    "\n",
    "Once the model is deployed to an endpoint, we can run predictions on it.\n",
    "\n",
    "For information on the dwc.predict() function please refer to the readme.\n",
    "\n",
    "Since we are using DbConnection here, we will need to have the config.json in this notebook instance as well."
   ]
  },
  {
   "cell_type": "code",
   "execution_count": null,
   "id": "c935e6b7-cef7-4396-9230-9c79de1f3fc4",
   "metadata": {},
   "outputs": [],
   "source": [
    "from fedml_gcp import DbConnection\n",
    "import pandas as pd\n",
    "import numpy as np"
   ]
  },
  {
   "cell_type": "code",
   "execution_count": null,
   "id": "1b8f43c1-3659-4aff-88b8-afc234538d0d",
   "metadata": {},
   "outputs": [],
   "source": [
    "db = DbConnection()\n",
    "org_data = db.get_data_with_headers(table_name=\"BREASTCANCER_VIEW\", size=1)\n",
    "org_data = pd.DataFrame(org_data[0], columns=org_data[1])\n",
    "org_data = org_data.sample(frac=1).reset_index(drop=True)\n",
    "org_data = org_data[500:]\n",
    "org_data.fillna(0, inplace=True)\n",
    "y = org_data['diagnosis']\n",
    "X = org_data.drop(['diagnosis'], axis=1)"
   ]
  },
  {
   "cell_type": "code",
   "execution_count": null,
   "id": "2e04c902-6f40-4974-a355-d1201e8eea3e",
   "metadata": {},
   "outputs": [],
   "source": [
    "X"
   ]
  },
  {
   "cell_type": "code",
   "execution_count": null,
   "id": "4bbb803f-181a-468b-9c89-82c0997de3fe",
   "metadata": {},
   "outputs": [],
   "source": [
    "params = {'instances':X.astype('float64').values.tolist()}"
   ]
  },
  {
   "cell_type": "code",
   "execution_count": null,
   "id": "4b91b218-e344-4500-925e-5e7f1c15fd8d",
   "metadata": {},
   "outputs": [],
   "source": [
    "predictions = dwc.predict(endpoint=endpoint, predict_params=params)"
   ]
  },
  {
   "cell_type": "code",
   "execution_count": null,
   "id": "2407d5a4-00cf-4381-8286-1dbea40876b3",
   "metadata": {},
   "outputs": [],
   "source": [
    "predictions"
   ]
  },
  {
   "cell_type": "code",
   "execution_count": null,
   "id": "a561539f-8f24-4c32-9ad0-e9bbe5f3fb2b",
   "metadata": {},
   "outputs": [],
   "source": []
  }
 ],
 "metadata": {
  "environment": {
   "kernel": "python3",
   "name": "common-cpu.m102",
   "type": "gcloud",
   "uri": "gcr.io/deeplearning-platform-release/base-cpu:m102"
  },
  "kernelspec": {
   "display_name": "Python 3.9.9 64-bit",
   "language": "python",
   "name": "python3"
  },
  "language_info": {
   "codemirror_mode": {
    "name": "ipython",
    "version": 3
   },
   "file_extension": ".py",
   "mimetype": "text/x-python",
   "name": "python",
   "nbconvert_exporter": "python",
   "pygments_lexer": "ipython3",
   "version": "3.9.9"
  }
 },
 "nbformat": 4,
 "nbformat_minor": 5
}
