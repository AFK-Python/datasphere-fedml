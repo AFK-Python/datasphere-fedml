{
 "cells": [
  {
   "cell_type": "markdown",
   "id": "6cc95a44",
   "metadata": {},
   "source": [
    "# Scikit-Learn Cross Val Score on Logistic Regression Model\n",
    "## Using IRIS_VIEW from DWC. This view has 150 records."
   ]
  },
  {
   "cell_type": "markdown",
   "id": "0d373221",
   "metadata": {},
   "source": [
    "## Install fedml_gcp package"
   ]
  },
  {
   "cell_type": "code",
   "execution_count": null,
   "id": "1a6ac555",
   "metadata": {},
   "outputs": [],
   "source": [
    "pip install fedml_gcp"
   ]
  },
  {
   "cell_type": "markdown",
   "id": "cc05c179",
   "metadata": {},
   "source": [
    "## Import Libraries"
   ]
  },
  {
   "cell_type": "code",
   "execution_count": null,
   "id": "6d85c56c",
   "metadata": {},
   "outputs": [],
   "source": [
    "from fedml_gcp import DwcGCP\n",
    "import numpy as np\n",
    "import pandas as pd"
   ]
  },
  {
   "cell_type": "markdown",
   "id": "b7da9144",
   "metadata": {},
   "source": [
    "## Create DwcGCP Instance to access class methods and train model"
   ]
  },
  {
   "cell_type": "markdown",
   "id": "039534bc",
   "metadata": {},
   "source": [
    "It is expected that the bucket name passed here already exists in Cloud Storage."
   ]
  },
  {
   "cell_type": "code",
   "execution_count": null,
   "id": "04ef04ae",
   "metadata": {},
   "outputs": [],
   "source": [
    "dwc = DwcGCP(project_name='example-project',\n",
    "                 bucket_name='<bucket-name>')"
   ]
  },
  {
   "cell_type": "markdown",
   "id": "7cce51bd",
   "metadata": {},
   "source": [
    "### Create tar bundle of script folder so GCP can use it for training\n",
    "\n",
    "Before running this cell, please ensure that the script package has all the necessary files for a training job."
   ]
  },
  {
   "cell_type": "code",
   "execution_count": null,
   "id": "6216c593",
   "metadata": {},
   "outputs": [],
   "source": [
    "dwc.make_tar_bundle('CrossValScore.tar.gz', 'CrossValScore', 'crossval/train/CrossValScore.tar.gz')"
   ]
  },
  {
   "cell_type": "markdown",
   "id": "5481062f",
   "metadata": {},
   "source": [
    "### Train Model"
   ]
  },
  {
   "cell_type": "markdown",
   "id": "d2c4ae77",
   "metadata": {},
   "source": [
    "GCP takes in training inputs that are specific to the training job and the environment needed.\n",
    "\n",
    "In the training inputs, we are the python module. This is the module that your script package is named, and it references the task.py file inside the script package.\n",
    "\n",
    "We are also passing args which hold the table name to get data from. Before running the following cell, you should have a config.json file in the script package with the specified values to allow you to access to DWC.\n",
    "\n",
    "You should also have the follow view `IRIS_VIEW` created in your DWC. To gather this data, please refer to https://www.kaggle.com/uciml/iris"
   ]
  },
  {
   "cell_type": "code",
   "execution_count": null,
   "id": "547106bf",
   "metadata": {},
   "outputs": [],
   "source": [
    "training_inputs = {\n",
    "    'scaleTier': 'BASIC',\n",
    "    'packageUris': ['gs://<bucket-name>/crossval/train/CrossValScore.tar.gz'],\n",
    "    'pythonModule': 'trainer.task',\n",
    "    'args': ['--table_name', 'IRIS_VIEW',\n",
    "             '--table_size', '1',\n",
    "            '--bucket_name', '<bucket-name>'],\n",
    "    'region': 'us-east1',\n",
    "    'jobDir': 'gs://<bucket-name>',\n",
    "    'runtimeVersion': '2.5',\n",
    "    'pythonVersion': '3.7',\n",
    "    'scheduling': {'maxWaitTime': '3600s', 'maxRunningTime': '7200s'}\n",
    "}"
   ]
  },
  {
   "cell_type": "code",
   "execution_count": null,
   "id": "02212e95",
   "metadata": {},
   "outputs": [],
   "source": [
    "dwc.train_model('cross_val_final_train1', training_inputs)"
   ]
  },
  {
   "cell_type": "markdown",
   "id": "0e833fd0",
   "metadata": {},
   "source": [
    "### Deploy model"
   ]
  },
  {
   "cell_type": "code",
   "execution_count": null,
   "id": "967d866d",
   "metadata": {},
   "outputs": [],
   "source": [
    "dwc.deploy(model_name='<example-model>', model_location='/crossval/model', version='v1', region='us-east1')"
   ]
  }
 ],
 "metadata": {
  "environment": {
   "name": "common-cpu.m76",
   "type": "gcloud",
   "uri": "gcr.io/deeplearning-platform-release/base-cpu:m76"
  },
  "kernelspec": {
   "display_name": "Python 3",
   "language": "python",
   "name": "python3"
  },
  "language_info": {
   "codemirror_mode": {
    "name": "ipython",
    "version": 3
   },
   "file_extension": ".py",
   "mimetype": "text/x-python",
   "name": "python",
   "nbconvert_exporter": "python",
   "pygments_lexer": "ipython3",
   "version": "3.7.10"
  }
 },
 "nbformat": 4,
 "nbformat_minor": 5
}
