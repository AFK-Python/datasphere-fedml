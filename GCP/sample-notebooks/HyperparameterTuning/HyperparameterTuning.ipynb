{
 "cells": [
  {
   "cell_type": "markdown",
   "source": [
    "## Scikit-Learn Hyperparameter Tuning\n",
    "### Using local data (data was created from preprocessor script)"
   ],
   "metadata": {}
  },
  {
   "cell_type": "markdown",
   "source": [
    "## Install fedml_gcp package"
   ],
   "metadata": {}
  },
  {
   "cell_type": "code",
   "execution_count": 1,
   "source": [
    "pip install fedml_gcp-1.0.0-py3-none-any.whl --force-reinstall"
   ],
   "outputs": [
    {
     "output_type": "stream",
     "name": "stdout",
     "text": [
      "Processing ./fedml_gcp-1.0.0-py3-none-any.whl\n",
      "Collecting google\n",
      "  Using cached google-3.0.0-py2.py3-none-any.whl (45 kB)\n",
      "Collecting hdbcli\n",
      "  Using cached hdbcli-2.10.13-cp34-abi3-manylinux1_x86_64.whl (11.7 MB)\n",
      "Collecting beautifulsoup4\n",
      "  Using cached beautifulsoup4-4.10.0-py3-none-any.whl (97 kB)\n",
      "Collecting soupsieve>1.2\n",
      "  Using cached soupsieve-2.2.1-py3-none-any.whl (33 kB)\n",
      "Installing collected packages: soupsieve, beautifulsoup4, hdbcli, google, fedml-gcp\n",
      "  Attempting uninstall: soupsieve\n",
      "    Found existing installation: soupsieve 2.2.1\n",
      "    Uninstalling soupsieve-2.2.1:\n",
      "      Successfully uninstalled soupsieve-2.2.1\n",
      "  Attempting uninstall: beautifulsoup4\n",
      "    Found existing installation: beautifulsoup4 4.10.0\n",
      "    Uninstalling beautifulsoup4-4.10.0:\n",
      "      Successfully uninstalled beautifulsoup4-4.10.0\n",
      "  Attempting uninstall: hdbcli\n",
      "    Found existing installation: hdbcli 2.10.13\n",
      "    Uninstalling hdbcli-2.10.13:\n",
      "      Successfully uninstalled hdbcli-2.10.13\n",
      "  Attempting uninstall: google\n",
      "    Found existing installation: google 3.0.0\n",
      "    Uninstalling google-3.0.0:\n",
      "      Successfully uninstalled google-3.0.0\n",
      "  Attempting uninstall: fedml-gcp\n",
      "    Found existing installation: fedml-gcp 1.0.0\n",
      "    Uninstalling fedml-gcp-1.0.0:\n",
      "      Successfully uninstalled fedml-gcp-1.0.0\n",
      "Successfully installed beautifulsoup4-4.10.0 fedml-gcp-1.0.0 google-3.0.0 hdbcli-2.10.13 soupsieve-2.2.1\n",
      "Note: you may need to restart the kernel to use updated packages.\n"
     ]
    }
   ],
   "metadata": {}
  },
  {
   "cell_type": "markdown",
   "source": [
    "## Import Libraries"
   ],
   "metadata": {}
  },
  {
   "cell_type": "code",
   "execution_count": 2,
   "source": [
    "from fedml_gcp import DwcGCP\n",
    "import numpy as np\n",
    "import pandas as pd\n",
    "import json"
   ],
   "outputs": [],
   "metadata": {}
  },
  {
   "cell_type": "markdown",
   "source": [
    "## Create DwcGCP Instance to access class methods and train model"
   ],
   "metadata": {}
  },
  {
   "cell_type": "markdown",
   "source": [
    "It is expected that the bucket name passed here already exists in Cloud Storage."
   ],
   "metadata": {}
  },
  {
   "cell_type": "code",
   "execution_count": 3,
   "source": [
    "dwc = DwcGCP(project_name='fed-ml',\n",
    "                 bucket_name='fedml-bucket')"
   ],
   "outputs": [],
   "metadata": {}
  },
  {
   "cell_type": "markdown",
   "source": [
    "## Data setup\n",
    "\n",
    "In this example, we are using local data for training.\n",
    "Before running this cell, please make sure to have run the Data Preprocessor model example. That model will write to an output directory for the bucket specified in that models arguments. The output directory will contain the preprocessed_data.csv and labels.csv files used for this model. Download those files for use and write them to the Hyperparameter Tuning Script package folder."
   ],
   "metadata": {}
  },
  {
   "cell_type": "code",
   "execution_count": 4,
   "source": [
    "dwc.download_blob('fedml-bucket', 'datapreprocessor/output/preprocessed_data.csv',\n",
    "                  'HyperparameterTuning/trainer/preprocessed_data.csv')\n",
    "dwc.download_blob('fedml-bucket', 'datapreprocessor/output/y_train.csv',\n",
    "                  'HyperparameterTuning/trainer/labels.csv')"
   ],
   "outputs": [
    {
     "output_type": "stream",
     "name": "stdout",
     "text": [
      "Downloaded storage object datapreprocessor/output/preprocessed_data.csv from bucket fedml-bucket to local file HyperparameterTuning/trainer/preprocessed_data.csv.\n",
      "Downloaded storage object datapreprocessor/output/y_train.csv from bucket fedml-bucket to local file HyperparameterTuning/trainer/labels.csv.\n"
     ]
    }
   ],
   "metadata": {}
  },
  {
   "cell_type": "markdown",
   "source": [
    "### Create tar bundle of script folder so GCP can use it for training\n",
    "\n",
    "Before running this cell, please ensure that the script package has all the necessary files for a training job."
   ],
   "metadata": {}
  },
  {
   "cell_type": "code",
   "execution_count": 5,
   "source": [
    "dwc.make_tar_bundle('HyperparameterTuning.tar.gz', 'HyperparameterTuning', 'h_tuning/train/HyperparameterTuning.tar.gz')"
   ],
   "outputs": [
    {
     "output_type": "stream",
     "name": "stdout",
     "text": [
      "File HyperparameterTuning.tar.gz uploaded to h_tuning/train/HyperparameterTuning.tar.gz.\n"
     ]
    }
   ],
   "metadata": {}
  },
  {
   "cell_type": "markdown",
   "source": [
    "### Train Model"
   ],
   "metadata": {}
  },
  {
   "cell_type": "markdown",
   "source": [
    "GCP takes in training inputs that are specific to the training job and the environment needed.\n",
    "\n",
    "In the training inputs, we are the python module. This is the module that your script package is named, and it references the task.py file inside the script package.\n"
   ],
   "metadata": {}
  },
  {
   "cell_type": "code",
   "execution_count": 6,
   "source": [
    "hyperparameters = {\n",
    "    'max_depth': [2, 4, 6],\n",
    "    'n_estimators': [100, 250, 300],\n",
    "    'max_features': [4, 5, 6, 'sqrt'],\n",
    "    'min_samples_leaf': [25, 30]\n",
    "    }\n",
    "hyperparameters = json.dumps(hyperparameters)\n",
    "training_inputs = {\n",
    "    'scaleTier': 'BASIC',\n",
    "    'packageUris': ['gs://fedml-bucket/h_tuning/train/HyperparameterTuning.tar.gz', \"gs://fedml-bucket/fedml_gcp-1.0.0-py3-none-any.whl\"],\n",
    "    'pythonModule': 'trainer.task',\n",
    "    'args': ['--preprocessed_file_name', 'preprocessed_data.csv',\n",
    "             '--labels_file_name', 'labels.csv',\n",
    "             '--hyperparameters', hyperparameters,\n",
    "             '--n_jobs', '24',\n",
    "            '--bucket_name', 'fedml-bucket'],\n",
    "    'region': 'us-east1',\n",
    "    'jobDir': 'gs://fedml-bucket',\n",
    "    'runtimeVersion': '2.5',\n",
    "    'pythonVersion': '3.7',\n",
    "    'scheduling': {'maxWaitTime': '3600s', 'maxRunningTime': '7200s'}\n",
    "}"
   ],
   "outputs": [],
   "metadata": {}
  },
  {
   "cell_type": "code",
   "execution_count": 7,
   "source": [
    "dwc.train_model('h_tuning_final_train1', training_inputs)"
   ],
   "outputs": [
    {
     "output_type": "stream",
     "name": "stdout",
     "text": [
      "Training Job Submitted Succesfully\n",
      "Job status for fed-ml.h_tuning_final_train1:\n",
      "    state : QUEUED\n"
     ]
    }
   ],
   "metadata": {}
  },
  {
   "cell_type": "markdown",
   "source": [
    "### Deploy model"
   ],
   "metadata": {}
  },
  {
   "cell_type": "code",
   "execution_count": 8,
   "source": [
    "dwc.deploy(model_name='h_tuning_final_deploy1', model_location='/h_tuning/model', version='v1', region='us-east1')"
   ],
   "outputs": [
    {
     "output_type": "stream",
     "name": "stdout",
     "text": [
      "{'name': 'projects/fed-ml/models/h_tuning_final_deploy1', 'regions': ['us-east1'], 'etag': '070g99Zt5C8='}\n",
      "{'name': 'projects/fed-ml/operations/create_h_tuning_final_deploy1_version-1633569633431', 'metadata': {'@type': 'type.googleapis.com/google.cloud.ml.v1.OperationMetadata', 'createTime': '2021-10-07T01:20:33Z', 'operationType': 'CREATE_VERSION', 'modelName': 'projects/fed-ml/models/h_tuning_final_deploy1', 'version': {'name': 'projects/fed-ml/models/h_tuning_final_deploy1/versions/version', 'deploymentUri': 'gs://fedml-bucket/h_tuning/model', 'createTime': '2021-10-07T01:20:33Z', 'runtimeVersion': '2.5', 'etag': 'tJSihQU6IYA=', 'framework': 'SCIKIT_LEARN', 'machineType': 'mls1-c1-m2', 'pythonVersion': '3.7'}}}\n"
     ]
    }
   ],
   "metadata": {}
  },
  {
   "cell_type": "code",
   "execution_count": null,
   "source": [],
   "outputs": [],
   "metadata": {}
  }
 ],
 "metadata": {
  "environment": {
   "name": "common-cpu.m76",
   "type": "gcloud",
   "uri": "gcr.io/deeplearning-platform-release/base-cpu:m76"
  },
  "kernelspec": {
   "display_name": "Python 3",
   "language": "python",
   "name": "python3"
  },
  "language_info": {
   "codemirror_mode": {
    "name": "ipython",
    "version": 3
   },
   "file_extension": ".py",
   "mimetype": "text/x-python",
   "name": "python",
   "nbconvert_exporter": "python",
   "pygments_lexer": "ipython3",
   "version": "3.7.10"
  }
 },
 "nbformat": 4,
 "nbformat_minor": 5
}