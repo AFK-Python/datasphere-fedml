{
 "cells": [
  {
   "cell_type": "markdown",
   "id": "1243558d-f794-4bc1-923a-1764ee630ffb",
   "metadata": {},
   "source": [
    "# Scikit-Learn Hyperparameter Tuning\n",
    "Using local data (data was created from preprocessor script)"
   ]
  },
  {
   "cell_type": "markdown",
   "id": "bff769ad-8058-4c5f-9254-61973f9bc950",
   "metadata": {},
   "source": [
    "## Install fedml_gcp package"
   ]
  },
  {
   "cell_type": "code",
   "execution_count": null,
   "id": "9e78154b-8b89-4d64-a7f5-51985199f8ff",
   "metadata": {},
   "outputs": [],
   "source": [
    "pip install fedml_gcp"
   ]
  },
  {
   "cell_type": "markdown",
   "id": "d6951b00-ccd5-493b-82a3-eed64d23bfc9",
   "metadata": {},
   "source": [
    "## Import Libraries"
   ]
  },
  {
   "cell_type": "code",
   "execution_count": null,
   "id": "42f29977-dfa3-4cf8-8e87-3b5b900a41ac",
   "metadata": {},
   "outputs": [],
   "source": [
    "import os\n",
    "import json\n",
    "from fedml_gcp import dwcgcp"
   ]
  },
  {
   "cell_type": "markdown",
   "id": "2e1ce832-c3e7-41ff-99a2-d30a8c84ae3c",
   "metadata": {},
   "source": [
    "## Some constant variables to use throughout the notebook"
   ]
  },
  {
   "cell_type": "code",
   "execution_count": null,
   "id": "94c73c94-b4dd-449f-9e2b-f192d8409bb4",
   "metadata": {},
   "outputs": [],
   "source": [
    "PROJECT_ID = '<project_id>'\n",
    "REGION = '<region>'\n",
    "\n",
    "BUCKET_NAME = '<bucket_name>'\n",
    "BUCKET_URI = \"gs://\"+BUCKET_NAME\n",
    "BUCKET_FOLDER = 'h_tuning'\n",
    "MODEL_OUTPUT_DIR = BUCKET_URI+'/'+BUCKET_FOLDER\n",
    "GCS_PATH_TO_MODEL_ARTIFACTS= MODEL_OUTPUT_DIR+'/model/'\n",
    "\n",
    "TRAINING_PACKAGE_PATH = 'HyperparameterTuning'\n",
    "JOB_NAME = \"h-tuning-training\"\n",
    "\n",
    "MODEL_DISPLAY_NAME = \"h-tuning-model\"\n",
    "DEPLOYED_MODEL_DISPLAY_NAME = 'h-tuning-deployed-model'\n",
    "\n",
    "TAR_BUNDLE_NAME = 'HyperparameterTuning.tar.gz'"
   ]
  },
  {
   "cell_type": "markdown",
   "id": "5a88817f-1f37-42e0-ab72-1e2ffa784f65",
   "metadata": {},
   "source": [
    "# Create DwcGCP Instance to access class methods and train model\n",
    "\n",
    "It is expected that the bucket name passed here already exists in Cloud Storage.\n",
    "\n",
    "For information on this constructor, please refer to the readme."
   ]
  },
  {
   "cell_type": "code",
   "execution_count": null,
   "id": "1f16bac8-1d53-4a6c-a971-b284396a6cd4",
   "metadata": {},
   "outputs": [],
   "source": [
    "params = {'project':PROJECT_ID,\n",
    "         'location':REGION, \n",
    "         'staging_bucket':BUCKET_URI}"
   ]
  },
  {
   "cell_type": "code",
   "execution_count": null,
   "id": "a113446e-f8e2-447f-b9e8-2ac6b3e1db83",
   "metadata": {},
   "outputs": [],
   "source": [
    "dwc = dwcgcp.DwcGCP(params)\n"
   ]
  },
  {
   "cell_type": "markdown",
   "id": "71d30257-ce03-4e8e-a2a4-e5163314731b",
   "metadata": {},
   "source": [
    "## Determine which training image and deploying image you want to use. \n",
    "\n",
    "Please refer here for the training pre-built containers: https://cloud.google.com/vertex-ai/docs/training/create-python-pre-built-container\n",
    "\n",
    "Please refer here for the deployment pre-built containers: https://cloud.google.com/vertex-ai/docs/predictions/pre-built-containers"
   ]
  },
  {
   "cell_type": "code",
   "execution_count": null,
   "id": "a269e4bd-fe48-44a7-80c7-f8cb2c7edab6",
   "metadata": {},
   "outputs": [],
   "source": [
    "TRAIN_VERSION = <ADD YOUR TRAINING IMAGE HERE FROM THE GCP LINKS ABOVE>\n",
    "DEPLOY_VERSION = <ADD YOUR DEPLOY IMAGE HERE FROM THE GCP LINKS ABOVE>\n",
    "\n",
    "TRAIN_IMAGE = \"us-docker.pkg.dev/vertex-ai/training/{}:latest\".format(TRAIN_VERSION)\n",
    "DEPLOY_IMAGE = \"us-docker.pkg.dev/vertex-ai/prediction/{}:latest\".format(DEPLOY_VERSION)"
   ]
  },
  {
   "cell_type": "markdown",
   "id": "bdcf1466-0e41-422c-938f-e7783823b422",
   "metadata": {},
   "source": [
    "# Training using a custom training job and pre built container\n",
    "\n",
    "For information on the dwc.train_model() function, please refer to the readme.\n",
    "\n",
    "In the training inputs, we are using a script. When using a script, we have to pass the required packages needed as well.\n",
    "\n",
    "We are also passing args which hold the file names to get data from and some other arguments we want to access in our training script. Before running the following cell, you should have to download the preprocessed data we want to use. Then create the tar bundle, and finally we can train.\n"
   ]
  },
  {
   "cell_type": "code",
   "execution_count": null,
   "id": "8ea8477e-c176-4a70-81a9-ca0b93ef62ca",
   "metadata": {},
   "outputs": [],
   "source": [
    "dwc.download_blob(BUCKET_NAME, 'datapreprocessor/output/preprocessed_data.csv',\n",
    "                  'HyperparameterTuning/trainer/preprocessed_data.csv')\n",
    "dwc.download_blob(BUCKET_NAME, 'datapreprocessor/output/y_train.csv',\n",
    "                  'HyperparameterTuning/trainer/labels.csv')"
   ]
  },
  {
   "cell_type": "markdown",
   "id": "b4fd41dc-007c-4df3-970c-c7491426e1fa",
   "metadata": {
    "tags": []
   },
   "source": [
    "# Create tar bundle of script folder so GCP can use it for training\n",
    "\n",
    "Please refer to the readme for more information on the dwc.make_tar_bundle() function\n",
    "\n",
    "Before running this cell, please ensure that the script package has all the necessary files for a training job."
   ]
  },
  {
   "cell_type": "code",
   "execution_count": null,
   "id": "a7bae649-bba0-4619-bb42-ee5be0d63724",
   "metadata": {},
   "outputs": [],
   "source": [
    "dwc.make_tar_bundle(TAR_BUNDLE_NAME, \n",
    "                    TRAINING_PACKAGE_PATH, \n",
    "                    BUCKET_FOLDER+'/train/'+TAR_BUNDLE_NAME)\n"
   ]
  },
  {
   "cell_type": "code",
   "execution_count": null,
   "id": "b4cd9ac3-146f-4a99-9870-79a4d78e01fc",
   "metadata": {},
   "outputs": [],
   "source": [
    "hyperparameters = {\n",
    "    'max_depth': [2, 4, 6],\n",
    "    'n_estimators': [100, 250, 300],\n",
    "    'max_features': [4, 5, 6, 'sqrt'],\n",
    "    'min_samples_leaf': [25, 30]\n",
    "    }\n",
    "\n",
    "job_dir = 'gs://'+BUCKET_NAME\n",
    "    \n",
    "cmd_args = [\n",
    "    \"--preprocessed_file_name=\" + 'preprocessed_data.csv',\n",
    "    \"--labels_file_name=\"+ 'labels.csv',\n",
    "    \"--hyperparameters=\" + json.dumps(hyperparameters),\n",
    "    \"--n_jobs=\"+'24',\n",
    "    \"--job-dir=\" + str(job_dir),\n",
    "    \"--bucket_name=\" + str(BUCKET_NAME),\n",
    "    \"--bucket_folder=\" + str(BUCKET_FOLDER)\n",
    "]"
   ]
  },
  {
   "cell_type": "code",
   "execution_count": null,
   "id": "400f7513-db6e-4e9c-a38f-587233694230",
   "metadata": {},
   "outputs": [],
   "source": [
    "inputs ={\n",
    "    'display_name':JOB_NAME,\n",
    "    'python_package_gcs_uri':BUCKET_URI + '/' + BUCKET_FOLDER+'/train/'+TAR_BUNDLE_NAME,\n",
    "    'python_module_name':'trainer.task',\n",
    "    'container_uri':TRAIN_IMAGE,\n",
    "    'model_serving_container_image_uri':DEPLOY_IMAGE,\n",
    "}"
   ]
  },
  {
   "cell_type": "code",
   "execution_count": null,
   "id": "8de59e12-6e4a-49b4-b612-358d8abaa269",
   "metadata": {},
   "outputs": [],
   "source": [
    "run_job_params = {'model_display_name':MODEL_DISPLAY_NAME,\n",
    "                  'args':cmd_args,\n",
    "                  'replica_count':1,\n",
    "                  'base_output_dir':MODEL_OUTPUT_DIR,\n",
    "                  'sync':True}"
   ]
  },
  {
   "cell_type": "code",
   "execution_count": null,
   "id": "f89341ae-8f68-4194-af8b-ca0bd0009658",
   "metadata": {},
   "outputs": [],
   "source": [
    "job = dwc.train_model(training_inputs=inputs, \n",
    "                      training_type='customPythonPackage',\n",
    "                     params=run_job_params)"
   ]
  },
  {
   "cell_type": "markdown",
   "id": "fe150849-579f-424d-b365-aa0aefff4acf",
   "metadata": {},
   "source": [
    "## Deployment\n",
    "\n",
    "For information on the dwc.deploy() function please refer to the readme.\n",
    "\n",
    "Here we are deploying the model we trained in the above cell."
   ]
  },
  {
   "cell_type": "code",
   "execution_count": null,
   "id": "cb7a1725-447f-457a-ba9e-65add886d649",
   "metadata": {},
   "outputs": [],
   "source": [
    "model_config = {\n",
    "    'deployed_model_display_name': DEPLOYED_MODEL_DISPLAY_NAME,\n",
    "    'traffic_split':{\"0\": 100},\n",
    "    'machine_type':'n1-standard-2',\n",
    "    'min_replica_count':1,\n",
    "    'max_replica_count':1,\n",
    "    'sync':True\n",
    "    \n",
    "}\n",
    "deployed_endpoint = dwc.deploy(model=job, model_config=model_config)"
   ]
  },
  {
   "cell_type": "markdown",
   "id": "e2eee69c-35b2-47fc-821b-6efe8e607edd",
   "metadata": {},
   "source": [
    "## Prediction\n",
    "\n",
    "Once the model is deployed to an endpoint, we can run predictions on it.\n",
    "\n",
    "For information on the dwc.predict() function please refer to the readme.\n",
    "\n",
    "Since we are using DbConnection here, we will need to have the config.json in this notebook instance as well."
   ]
  },
  {
   "cell_type": "code",
   "execution_count": null,
   "id": "c935e6b7-cef7-4396-9230-9c79de1f3fc4",
   "metadata": {},
   "outputs": [],
   "source": [
    "from fedml_gcp import DbConnection\n",
    "import pandas as pd\n",
    "import numpy as np"
   ]
  },
  {
   "cell_type": "code",
   "execution_count": null,
   "id": "1b8f43c1-3659-4aff-88b8-afc234538d0d",
   "metadata": {},
   "outputs": [],
   "source": [
    "db = DbConnection()\n",
    "org_data = db.get_data_with_headers(table_name=\"TITANIC_TEST_VIEW\", size=1)\n",
    "org_data = pd.DataFrame(org_data[0], columns=org_data[1])\n",
    "org_data.Age.fillna(value=np.nan, inplace=True)\n",
    "org_data = org_data.drop(['Name', 'Ticket'], axis=1)\n",
    "org_data = org_data.drop(['Cabin'], axis=1)\n",
    "org_data"
   ]
  },
  {
   "cell_type": "code",
   "execution_count": null,
   "id": "2e04c902-6f40-4974-a355-d1201e8eea3e",
   "metadata": {},
   "outputs": [],
   "source": [
    "select_dtypes = {\n",
    "    'PassengerId': 'int64',\n",
    "    'Pclass': 'int64',\n",
    "    'Sex': 'string',\n",
    "    'Age': 'float64',\n",
    "    'SibSp': 'int64',\n",
    "    'Parch': 'int64',\n",
    "    'Fare': 'float64',\n",
    "    'Embarked': 'string'\n",
    "}\n",
    "\n",
    "org_data = org_data.astype(select_dtypes)\n",
    "org_data"
   ]
  },
  {
   "cell_type": "code",
   "execution_count": null,
   "id": "4bbb803f-181a-468b-9c89-82c0997de3fe",
   "metadata": {},
   "outputs": [],
   "source": [
    "data = {\n",
    "    'instances': org_data.values.tolist()\n",
    "}"
   ]
  },
  {
   "cell_type": "code",
   "execution_count": null,
   "id": "4b91b218-e344-4500-925e-5e7f1c15fd8d",
   "metadata": {},
   "outputs": [],
   "source": [
    "predictions = dwc.predict(endpoint='4063249618492719104', predict_params=data)"
   ]
  },
  {
   "cell_type": "code",
   "execution_count": null,
   "id": "5d664a4a-5af5-40d5-927d-1e32d052318e",
   "metadata": {},
   "outputs": [],
   "source": [
    "type(predictions)"
   ]
  },
  {
   "cell_type": "code",
   "execution_count": null,
   "id": "69bcb2f6-4d4e-44a5-ba9b-b03110b4771e",
   "metadata": {},
   "outputs": [],
   "source": [
    "params = {\n",
    "    'instances': predictions\n",
    "}"
   ]
  },
  {
   "cell_type": "code",
   "execution_count": null,
   "id": "7f09d983-41a2-4979-89b3-26f0b8540865",
   "metadata": {},
   "outputs": [],
   "source": [
    "final_predictions = dwc.predict(endpoint=deployed_endpoint, predict_params=params)"
   ]
  },
  {
   "cell_type": "code",
   "execution_count": null,
   "id": "a561539f-8f24-4c32-9ad0-e9bbe5f3fb2b",
   "metadata": {},
   "outputs": [],
   "source": [
    "column_names = ['num__PassengerId', 'num__Pclass', 'num__Age', 'num__SibSp',\n",
    "       'num__Parch', 'num__Fare', 'onehotencoder__x0_female',\n",
    "       'onehotencoder__x0_male', 'onehotencoder__x1_C', 'onehotencoder__x1_Q',\n",
    "       'onehotencoder__x1_S']\n",
    "df = pd.DataFrame(predictions, columns=column_names)\n",
    "df"
   ]
  },
  {
   "cell_type": "code",
   "execution_count": null,
   "id": "3ecdf72e-3146-4a70-818e-433d8328f4aa",
   "metadata": {},
   "outputs": [],
   "source": []
  }
 ],
 "metadata": {
  "environment": {
   "kernel": "python3",
   "name": "common-cpu.m102",
   "type": "gcloud",
   "uri": "gcr.io/deeplearning-platform-release/base-cpu:m102"
  },
  "kernelspec": {
   "display_name": "Python 3.9.9 64-bit",
   "language": "python",
   "name": "python3"
  },
  "language_info": {
   "codemirror_mode": {
    "name": "ipython",
    "version": 3
   },
   "file_extension": ".py",
   "mimetype": "text/x-python",
   "name": "python",
   "nbconvert_exporter": "python",
   "pygments_lexer": "ipython3",
   "version": "3.9.9"
  }
 },
 "nbformat": 4,
 "nbformat_minor": 5
}
