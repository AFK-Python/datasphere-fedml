{
 "cells": [
  {
   "cell_type": "code",
   "execution_count": null,
   "id": "c9ce81f3-43bc-428c-b934-93278118b69a",
   "metadata": {},
   "outputs": [],
   "source": [
    "pip install fedml_gcp"
   ]
  },
  {
   "cell_type": "code",
   "execution_count": null,
   "id": "468b9b4d-f9b0-48aa-bbc6-d4e0f4610c89",
   "metadata": {},
   "outputs": [],
   "source": [
    "import os\n",
    "import pandas as pd\n",
    "import numpy as np\n",
    "from fedml_gcp import DbConnection\n",
    "from google.api_core.client_options import ClientOptions\n",
    "from googleapiclient import discovery"
   ]
  },
  {
   "cell_type": "code",
   "execution_count": null,
   "id": "67abb367-f18e-4056-89b0-1e7663be0ce2",
   "metadata": {},
   "outputs": [],
   "source": [
    "db = DbConnection()\n",
    "org_data = db.get_data_with_headers(table_name=\"TITANIC_TEST_VIEW\", size=1)\n",
    "org_data = pd.DataFrame(org_data[0], columns=org_data[1])\n",
    "org_data.Age.fillna(value=np.nan, inplace=True)\n",
    "org_data = org_data.drop(['Name', 'Ticket'], axis=1)\n",
    "org_data = org_data.drop(['Cabin'], axis=1)\n",
    "org_data"
   ]
  },
  {
   "cell_type": "code",
   "execution_count": null,
   "id": "45627b02-a5fb-4fe8-b2ad-d13846000780",
   "metadata": {},
   "outputs": [],
   "source": [
    "select_dtypes = {\n",
    "    'PassengerId': 'int64',\n",
    "    'Pclass': 'int64',\n",
    "    'Sex': 'string',\n",
    "    'Age': 'float64',\n",
    "    'SibSp': 'int64',\n",
    "    'Parch': 'int64',\n",
    "    'Fare': 'float64',\n",
    "    'Embarked': 'string'\n",
    "}\n",
    "\n",
    "org_data = org_data.astype(select_dtypes)\n",
    "org_data"
   ]
  },
  {
   "cell_type": "code",
   "execution_count": null,
   "id": "6a3eca87-14fc-4c30-829c-bf5fa1a82331",
   "metadata": {},
   "outputs": [],
   "source": [
    "data = {\n",
    "    'instances': org_data.values.tolist()\n",
    "}\n",
    "\n",
    "response = dwc.predict(data, 'h_tuning_deploy')"
   ]
  },
  {
   "cell_type": "code",
   "execution_count": null,
   "id": "97681a17-eee3-4646-b51e-83661cccc134",
   "metadata": {},
   "outputs": [],
   "source": [
    "predictions = response['predictions']\n",
    "len(predictions)"
   ]
  },
  {
   "cell_type": "code",
   "execution_count": null,
   "id": "70b4a1fa-2ca9-4e33-bd0b-b945863b3591",
   "metadata": {},
   "outputs": [],
   "source": [
    "column_names = ['num__PassengerId', 'num__Pclass', 'num__Age', 'num__SibSp',\n",
    "       'num__Parch', 'num__Fare', 'onehotencoder__x0_female',\n",
    "       'onehotencoder__x0_male', 'onehotencoder__x1_C', 'onehotencoder__x1_Q',\n",
    "       'onehotencoder__x1_S']\n",
    "df = pd.DataFrame(predictions, columns=column_names)\n",
    "df"
   ]
  },
  {
   "cell_type": "code",
   "execution_count": null,
   "id": "6063aab1-843d-497c-815c-8c72747be6b4",
   "metadata": {},
   "outputs": [],
   "source": []
  }
 ],
 "metadata": {
  "kernelspec": {
   "display_name": "Python 3 (ipykernel)",
   "language": "python",
   "name": "python3"
  },
  "language_info": {
   "codemirror_mode": {
    "name": "ipython",
    "version": 3
   },
   "file_extension": ".py",
   "mimetype": "text/x-python",
   "name": "python",
   "nbconvert_exporter": "python",
   "pygments_lexer": "ipython3",
   "version": "3.8.2"
  }
 },
 "nbformat": 4,
 "nbformat_minor": 5
}
