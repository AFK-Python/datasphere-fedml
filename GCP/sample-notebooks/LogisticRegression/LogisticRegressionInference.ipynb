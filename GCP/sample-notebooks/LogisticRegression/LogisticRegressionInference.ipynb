{
 "cells": [
  {
   "cell_type": "code",
   "execution_count": null,
   "id": "139df96f-3c9c-496f-80b1-db470c60bcd7",
   "metadata": {},
   "outputs": [],
   "source": [
    "pip install fedml_gcp"
   ]
  },
  {
   "cell_type": "code",
   "execution_count": null,
   "id": "468b9b4d-f9b0-48aa-bbc6-d4e0f4610c89",
   "metadata": {},
   "outputs": [],
   "source": [
    "import os\n",
    "import pandas as pd\n",
    "import numpy as np\n",
    "from fedml_gcp import DbConnection\n",
    "from google.api_core.client_options import ClientOptions\n",
    "from googleapiclient import discovery"
   ]
  },
  {
   "cell_type": "code",
   "execution_count": null,
   "id": "67abb367-f18e-4056-89b0-1e7663be0ce2",
   "metadata": {},
   "outputs": [],
   "source": [
    "db = DbConnection()\n",
    "org_data = db.get_data_with_headers(table_name='IRIS_VIEW', size=float(1))\n",
    "org_data = pd.DataFrame(org_data[0], columns=org_data[1])\n",
    "org_data = org_data.sample(frac=1).reset_index(drop=True)\n",
    "org_data = org_data[101:]\n",
    "org_data"
   ]
  },
  {
   "cell_type": "code",
   "execution_count": null,
   "id": "e38f7378-ecd9-4cc8-a55e-f526a407785a",
   "metadata": {},
   "outputs": [],
   "source": [
    "x_data = org_data.drop(['species'], axis=1)\n",
    "x_data"
   ]
  },
  {
   "cell_type": "code",
   "execution_count": null,
   "id": "6a3eca87-14fc-4c30-829c-bf5fa1a82331",
   "metadata": {},
   "outputs": [],
   "source": [
    "data = {\n",
    "    'instances': x_data.astype('float64').values.tolist()\n",
    "}\n",
    "\n",
    "response = dwc.predict(data, 'logistic_reg_deploy')"
   ]
  },
  {
   "cell_type": "code",
   "execution_count": null,
   "id": "55a05a8f-21aa-4ee9-8c53-488c0beeb080",
   "metadata": {},
   "outputs": [],
   "source": [
    "LABEL_TO_INDEX = {\n",
    "    'Iris-virginica': 0,\n",
    "    'Iris-versicolor': 1,\n",
    "    'Iris-setosa': 2\n",
    "}\n",
    "org_data['species'].map(LABEL_TO_INDEX).values"
   ]
  },
  {
   "cell_type": "code",
   "execution_count": null,
   "id": "97681a17-eee3-4646-b51e-83661cccc134",
   "metadata": {},
   "outputs": [],
   "source": [
    "predictions = response['predictions']\n",
    "len(predictions)"
   ]
  },
  {
   "cell_type": "code",
   "execution_count": null,
   "id": "d234b606-f85f-4fa5-981e-3a13c7e1cab1",
   "metadata": {},
   "outputs": [],
   "source": [
    "actuals = org_data['species'].map(LABEL_TO_INDEX).to_numpy()"
   ]
  },
  {
   "cell_type": "code",
   "execution_count": null,
   "id": "f8fc208b-6123-45e0-877a-9177f1cabae6",
   "metadata": {},
   "outputs": [],
   "source": [
    "from sklearn import metrics\n",
    "acc = metrics.accuracy_score(actuals, predictions)\n",
    "acc"
   ]
  },
  {
   "cell_type": "code",
   "execution_count": null,
   "id": "8769325c-81f6-4d05-9cf7-60b835c6bf7a",
   "metadata": {},
   "outputs": [],
   "source": []
  }
 ],
 "metadata": {
  "kernelspec": {
   "display_name": "Python 3 (ipykernel)",
   "language": "python",
   "name": "python3"
  },
  "language_info": {
   "codemirror_mode": {
    "name": "ipython",
    "version": 3
   },
   "file_extension": ".py",
   "mimetype": "text/x-python",
   "name": "python",
   "nbconvert_exporter": "python",
   "pygments_lexer": "ipython3",
   "version": "3.8.2"
  }
 },
 "nbformat": 4,
 "nbformat_minor": 5
}
