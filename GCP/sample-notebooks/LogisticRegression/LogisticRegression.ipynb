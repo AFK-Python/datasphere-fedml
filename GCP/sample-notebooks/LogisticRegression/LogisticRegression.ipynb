{
 "cells": [
  {
   "cell_type": "markdown",
   "id": "75e90a32-ce74-4048-ba23-bfebc8de76b5",
   "metadata": {},
   "source": [
    "# Scikit-Learn LogisticRegression\n",
    "Using IRIS_VIEW from SAP Datasphere. This view has 150 records"
   ]
  },
  {
   "cell_type": "markdown",
   "id": "6f7eba81-497f-4c00-8b25-bfc227e7a15f",
   "metadata": {},
   "source": [
    "## Install fedml_gcp package"
   ]
  },
  {
   "cell_type": "code",
   "execution_count": null,
   "id": "7a62a20f-ed75-482e-89c4-ee1564b13cc2",
   "metadata": {},
   "outputs": [],
   "source": [
    "pip install fedml_gcp"
   ]
  },
  {
   "cell_type": "markdown",
   "id": "a8e2f770-214d-428f-b2dd-095c77eed268",
   "metadata": {},
   "source": [
    "## Import Libraries"
   ]
  },
  {
   "cell_type": "code",
   "execution_count": null,
   "id": "a89618f3-7d3b-4525-a90d-0295c665a79e",
   "metadata": {},
   "outputs": [],
   "source": [
    "import os\n",
    "import time\n",
    "from fedml_gcp import dwcgcp"
   ]
  },
  {
   "cell_type": "markdown",
   "id": "b6487897-db0e-43bd-9287-b929231c1092",
   "metadata": {},
   "source": [
    "## Some constant variables to use throughout the notebook"
   ]
  },
  {
   "cell_type": "code",
   "execution_count": null,
   "id": "94c73c94-b4dd-449f-9e2b-f192d8409bb4",
   "metadata": {},
   "outputs": [],
   "source": [
    "PROJECT_ID = '<project_id>'\n",
    "REGION = '<region>'\n",
    "\n",
    "BUCKET_NAME = '<bucket_name>'\n",
    "BUCKET_URI = \"gs://\"+BUCKET_NAME\n",
    "BUCKET_FOLDER = 'logisticReg'\n",
    "MODEL_OUTPUT_DIR = BUCKET_URI+'/'+BUCKET_FOLDER\n",
    "GCS_PATH_TO_MODEL_ARTIFACTS= MODEL_OUTPUT_DIR+'/model/'\n",
    "\n",
    "TRAINING_PACKAGE_PATH = 'LogisticRegression'\n",
    "JOB_NAME = \"logistic-regression-training\"\n",
    "\n",
    "MODEL_DISPLAY_NAME = \"logistic-regression-model\"\n",
    "DEPLOYED_MODEL_DISPLAY_NAME = 'logistic-regression-deployed-model'\n",
    "\n",
    "TAR_BUNDLE_NAME = 'LogisticRegression.tar.gz'\n",
    "\n",
    "CONTAINER_REGISTRY_REPOSITORY = 'logisticregression'\n",
    "IMAGE = 'image-'+str(int(time.time()))"
   ]
  },
  {
   "cell_type": "markdown",
   "id": "73affab6-ee31-4d09-b80b-030dabc2423a",
   "metadata": {},
   "source": [
    "# Create DwcGCP Instance to access class methods and train model\n",
    "\n",
    "It is expected that the bucket name passed here already exists in Cloud Storage.\n",
    "\n",
    "For information on this constructor, please refer to the readme."
   ]
  },
  {
   "cell_type": "code",
   "execution_count": null,
   "id": "96516ac4-3e4b-4fb3-9b24-7a875077462c",
   "metadata": {},
   "outputs": [],
   "source": [
    "params = {'project':PROJECT_ID,\n",
    "         'location':REGION, \n",
    "         'staging_bucket':BUCKET_URI}"
   ]
  },
  {
   "cell_type": "code",
   "execution_count": null,
   "id": "34423f00-1ece-43b0-94e3-eb8685d6b866",
   "metadata": {},
   "outputs": [],
   "source": [
    "dwc = dwcgcp.DwcGCP(params)\n"
   ]
  },
  {
   "cell_type": "markdown",
   "id": "f708de0a-5797-4568-88ee-75a061c91e12",
   "metadata": {},
   "source": [
    "# Create tar bundle of script folder so GCP can use it for training\n",
    "\n",
    "Please refer to the readme for more information on the dwc.make_tar_bundle() function\n",
    "\n",
    "Before running this cell, please ensure that the script package has all the necessary files for a training job."
   ]
  },
  {
   "cell_type": "code",
   "execution_count": null,
   "id": "b3bf5c33-f414-4946-ac51-5ac7547ca104",
   "metadata": {},
   "outputs": [],
   "source": [
    "dwc.make_tar_bundle(TAR_BUNDLE_NAME, \n",
    "                    TRAINING_PACKAGE_PATH, \n",
    "                    BUCKET_FOLDER+'/train/'+TAR_BUNDLE_NAME)\n"
   ]
  },
  {
   "cell_type": "markdown",
   "id": "f52b19c4-1747-4ee9-9ae3-7337ee32749c",
   "metadata": {},
   "source": [
    "## Determine which training image and deploying image you want to use. \n",
    "\n",
    "Please refer here for the training pre-built containers: https://cloud.google.com/vertex-ai/docs/training/create-python-pre-built-container\n",
    "\n",
    "Please refer here for the deployment pre-built containers: https://cloud.google.com/vertex-ai/docs/predictions/pre-built-containers"
   ]
  },
  {
   "cell_type": "code",
   "execution_count": null,
   "id": "6c9a392a-febf-49c1-862f-fa5bb51eb7cb",
   "metadata": {},
   "outputs": [],
   "source": [
    "TRAIN_VERSION = <ADD YOUR TRAINING IMAGE HERE FROM THE GCP LINKS ABOVE>\n",
    "DEPLOY_VERSION = <ADD YOUR DEPLOY IMAGE HERE FROM THE GCP LINKS ABOVE>\n",
    "\n",
    "TRAIN_IMAGE = \"us-docker.pkg.dev/vertex-ai/training/{}:latest\".format(TRAIN_VERSION)\n",
    "DEPLOY_IMAGE = \"us-docker.pkg.dev/vertex-ai/prediction/{}:latest\".format(DEPLOY_VERSION)"
   ]
  },
  {
   "cell_type": "markdown",
   "id": "733360fc-4b17-44c6-903c-0e185dacc72b",
   "metadata": {},
   "source": [
    "# Training using a custom python package and prebuilt container\n",
    "For information on the dwc.train_model() function, please refer to the readme.\n",
    "\n",
    "In the training inputs, we are using a script. When using a script, we have to pass the required packages needed as well.\n",
    "\n",
    "We are also passing args which hold the table name to get data from and some other arguments we want to access in our training script. Before running the following cell, you should have a config.json uploaded to the bucket name you specified above with the path being /gcs/'+bucket_name+'/config.json'. This is specified in the training script, inside the function called get_dwc_data. This is used as the url parameter to DbConnection() so DbConnection knows where to find your credentials for access to SAP Datasphere.\n",
    "\n",
    "You should also have the follow view IRIS_VIEW created in your SAP Datasphere. To gather this data, please refer to https://www.kaggle.com/uciml/iris"
   ]
  },
  {
   "cell_type": "code",
   "execution_count": null,
   "id": "5125f869-1b40-4b3c-aa23-481b04dbc3c5",
   "metadata": {},
   "outputs": [],
   "source": [
    "table_name = 'IRIS_VIEW'\n",
    "job_dir = 'gs://'+BUCKET_NAME\n",
    "\n",
    "cmd_args = [\n",
    "    \"--table_name=\" + str(table_name),\n",
    "    \"--job-dir=\" + str(job_dir),\n",
    "    \"--table_size=\" + '1',\n",
    "    \"--bucket_name=\" + str(BUCKET_NAME),\n",
    "    \"--bucket_folder=\" + str(BUCKET_FOLDER),\n",
    "    \"--package_name=\" + 'trainer'\n",
    "    \n",
    "]"
   ]
  },
  {
   "cell_type": "code",
   "execution_count": null,
   "id": "2d2cbd07-abdd-486e-91bf-ce0072b97ba2",
   "metadata": {},
   "outputs": [],
   "source": [
    "inputs ={\n",
    "    'display_name':JOB_NAME,\n",
    "    'python_package_gcs_uri':BUCKET_URI + '/' + BUCKET_FOLDER+'/train/'+TAR_BUNDLE_NAME,\n",
    "    'python_module_name':'trainer.task',\n",
    "    'container_uri':TRAIN_IMAGE,\n",
    "    'model_serving_container_image_uri':DEPLOY_IMAGE,\n",
    "}"
   ]
  },
  {
   "cell_type": "code",
   "execution_count": null,
   "id": "8976af84-d2aa-4a60-9652-d8b3daae9f68",
   "metadata": {},
   "outputs": [],
   "source": [
    "run_job_params = {'model_display_name':MODEL_DISPLAY_NAME,\n",
    "                  'args':cmd_args,\n",
    "                  'replica_count':1,\n",
    "                  'base_output_dir':MODEL_OUTPUT_DIR,\n",
    "                  'sync':True}"
   ]
  },
  {
   "cell_type": "code",
   "execution_count": null,
   "id": "ab7c22f4-d5be-4e08-8759-28fed0f19a28",
   "metadata": {},
   "outputs": [],
   "source": [
    "job = dwc.train_model(training_inputs=inputs, \n",
    "                      training_type='customPythonPackage',\n",
    "                     params=run_job_params)"
   ]
  },
  {
   "cell_type": "markdown",
   "id": "e6ceb0f7-0bc1-465d-949d-4868c8ca6410",
   "metadata": {},
   "source": [
    "## Deployment\n",
    "\n",
    "For information on the dwc.deploy() function please refer to the readme.\n",
    "\n",
    "Here we are deploying a custom predictor for the model we trained above."
   ]
  },
  {
   "cell_type": "code",
   "execution_count": null,
   "id": "f9b563c3-ff2e-4db4-9538-2629035db232",
   "metadata": {},
   "outputs": [],
   "source": [
    "model_config = {\n",
    "    'deployed_model_display_name': DEPLOYED_MODEL_DISPLAY_NAME,\n",
    "    'traffic_split':{\"0\": 100},\n",
    "    'machine_type':'n1-standard-2',\n",
    "    'min_replica_count':1,\n",
    "    'max_replica_count':1,\n",
    "    'sync':True\n",
    "    \n",
    "}\n",
    "deployed_endpoint = dwc.deploy(model=job, model_config=model_config)"
   ]
  },
  {
   "cell_type": "markdown",
   "id": "68f6f6d2-735e-4b46-82d3-5e39e1432f75",
   "metadata": {},
   "source": [
    "## Prediction\n",
    "\n",
    "Once the model is deployed to an endpoint, we can run predictions on it.\n",
    "\n",
    "For information on the dwc.predict() function please refer to the readme.\n",
    "\n",
    "Since we are using DbConnection here, we will need to have the config.json in this notebook instance as well."
   ]
  },
  {
   "cell_type": "code",
   "execution_count": null,
   "id": "041dbb25-2c88-4331-ab9b-92f18b17747e",
   "metadata": {},
   "outputs": [],
   "source": [
    "import os\n",
    "import pandas as pd\n",
    "import numpy as np\n",
    "from fedml_gcp import DbConnection"
   ]
  },
  {
   "cell_type": "code",
   "execution_count": null,
   "id": "8aa3e4e8-fd50-4789-9cd6-212af9ffc018",
   "metadata": {},
   "outputs": [],
   "source": [
    "db = DbConnection()\n",
    "org_data = db.get_data_with_headers(table_name='IRIS_VIEW', size=float(1))\n",
    "org_data = pd.DataFrame(org_data[0], columns=org_data[1])\n",
    "org_data = org_data.sample(frac=1).reset_index(drop=True)\n",
    "org_data = org_data[101:]\n",
    "org_data"
   ]
  },
  {
   "cell_type": "code",
   "execution_count": null,
   "id": "566c07fa-b608-4439-ae62-b774fae24fb1",
   "metadata": {},
   "outputs": [],
   "source": [
    "x_data = org_data.drop(['species'], axis=1)\n",
    "x_data"
   ]
  },
  {
   "cell_type": "code",
   "execution_count": null,
   "id": "50367c77-9a06-4ff7-bd49-fedc59269343",
   "metadata": {},
   "outputs": [],
   "source": [
    "params = {\n",
    "    'instances': x_data.astype('float64').values.tolist()\n",
    "}\n",
    "\n",
    "response = dwc.predict(predict_params=params, endpoint=deployed_endpoint)"
   ]
  },
  {
   "cell_type": "code",
   "execution_count": null,
   "id": "b9c121f1-cdd9-4916-aaa3-dca9151c6815",
   "metadata": {},
   "outputs": [],
   "source": [
    "LABEL_TO_INDEX = {\n",
    "    'Iris-virginica': 0,\n",
    "    'Iris-versicolor': 1,\n",
    "    'Iris-setosa': 2\n",
    "}\n",
    "org_data['species'].map(LABEL_TO_INDEX).values"
   ]
  },
  {
   "cell_type": "code",
   "execution_count": null,
   "id": "24cc08cd-9ec6-49da-ad5c-3a266bf48bab",
   "metadata": {},
   "outputs": [],
   "source": [
    "len(response)"
   ]
  },
  {
   "cell_type": "code",
   "execution_count": null,
   "id": "2c980704-d194-4294-b9df-e1fd3bd3fcf6",
   "metadata": {},
   "outputs": [],
   "source": [
    "actuals = org_data['species'].map(LABEL_TO_INDEX).to_numpy()"
   ]
  },
  {
   "cell_type": "code",
   "execution_count": null,
   "id": "3a900468-cab4-4802-9554-129ef9dfc1cb",
   "metadata": {},
   "outputs": [],
   "source": [
    "from sklearn import metrics\n",
    "acc = metrics.accuracy_score(actuals, response)\n",
    "acc"
   ]
  },
  {
   "cell_type": "code",
   "execution_count": null,
   "id": "2e2208a0-0059-4332-aa41-b3dee0588d70",
   "metadata": {},
   "outputs": [],
   "source": []
  }
 ],
 "metadata": {
  "environment": {
   "kernel": "python3",
   "name": "common-cpu.m102",
   "type": "gcloud",
   "uri": "gcr.io/deeplearning-platform-release/base-cpu:m102"
  },
  "kernelspec": {
   "display_name": "Python 3.9.9 64-bit",
   "language": "python",
   "name": "python3"
  },
  "language_info": {
   "codemirror_mode": {
    "name": "ipython",
    "version": 3
   },
   "file_extension": ".py",
   "mimetype": "text/x-python",
   "name": "python",
   "nbconvert_exporter": "python",
   "pygments_lexer": "ipython3",
   "version": "3.9.9"
  }
 },
 "nbformat": 4,
 "nbformat_minor": 5
}
