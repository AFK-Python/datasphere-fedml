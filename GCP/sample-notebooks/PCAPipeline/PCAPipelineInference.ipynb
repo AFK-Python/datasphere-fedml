{
 "cells": [
  {
   "cell_type": "code",
   "execution_count": null,
   "id": "f104bb96-d6b4-49b6-aa89-d019a6e34de8",
   "metadata": {},
   "outputs": [],
   "source": [
    "pip install fedml_gcp"
   ]
  },
  {
   "cell_type": "code",
   "execution_count": null,
   "id": "468b9b4d-f9b0-48aa-bbc6-d4e0f4610c89",
   "metadata": {},
   "outputs": [],
   "source": [
    "import os\n",
    "import pandas as pd\n",
    "import numpy as np\n",
    "from fedml_gcp import DbConnection\n",
    "from google.api_core.client_options import ClientOptions\n",
    "from googleapiclient import discovery"
   ]
  },
  {
   "cell_type": "code",
   "execution_count": null,
   "id": "67abb367-f18e-4056-89b0-1e7663be0ce2",
   "metadata": {},
   "outputs": [],
   "source": [
    "db = DbConnection()\n",
    "org_data = db.get_data_with_headers(table_name=\"BREASTCANCER_VIEW\", size=1)\n",
    "org_data = pd.DataFrame(org_data[0], columns=org_data[1])\n",
    "org_data = org_data.sample(frac=1).reset_index(drop=True)\n",
    "org_data = org_data[500:]\n",
    "org_data.fillna(0, inplace=True)\n",
    "y = org_data['diagnosis']\n",
    "X = org_data.drop(['diagnosis'], axis=1)"
   ]
  },
  {
   "cell_type": "code",
   "execution_count": null,
   "id": "2850bd07-2b45-442a-bf60-52d8d6afdd9d",
   "metadata": {},
   "outputs": [],
   "source": [
    "os.environ['GOOGLE_APPLICATION_CREDENTIALS'] = \"sap-ti-ci-sce-50a4d6d6d190.json\""
   ]
  },
  {
   "cell_type": "code",
   "execution_count": null,
   "id": "9276a2a9",
   "metadata": {},
   "outputs": [],
   "source": [
    "data = {\n",
    "    'instances': X.astype('float64').values.tolist()\n",
    "}"
   ]
  },
  {
   "cell_type": "code",
   "execution_count": null,
   "id": "6a3eca87-14fc-4c30-829c-bf5fa1a82331",
   "metadata": {},
   "outputs": [],
   "source": [
    "response = dwc.predict(data, 'pca_pipeline_deploy')"
   ]
  },
  {
   "cell_type": "code",
   "execution_count": null,
   "id": "3527c2af-5657-4c77-9e54-776ea1e79315",
   "metadata": {},
   "outputs": [],
   "source": []
  }
 ],
 "metadata": {
  "kernelspec": {
   "display_name": "Python 3 (ipykernel)",
   "language": "python",
   "name": "python3"
  },
  "language_info": {
   "codemirror_mode": {
    "name": "ipython",
    "version": 3
   },
   "file_extension": ".py",
   "mimetype": "text/x-python",
   "name": "python",
   "nbconvert_exporter": "python",
   "pygments_lexer": "ipython3",
   "version": "3.8.2"
  }
 },
 "nbformat": 4,
 "nbformat_minor": 5
}
