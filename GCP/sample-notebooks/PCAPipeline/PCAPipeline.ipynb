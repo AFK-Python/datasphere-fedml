{
 "cells": [
  {
   "cell_type": "markdown",
   "id": "75e90a32-ce74-4048-ba23-bfebc8de76b5",
   "metadata": {},
   "source": [
    "# Scikit-Learn PCA and Logistic Regression Pipeline\n",
    "Using BREASTCANCER_VIEW from SAP Datasphere. This view has 569 records"
   ]
  },
  {
   "cell_type": "markdown",
   "id": "506d6175-b249-4876-960c-a183a7eee1cb",
   "metadata": {},
   "source": [
    "## Install fedml_gcp package"
   ]
  },
  {
   "cell_type": "code",
   "execution_count": null,
   "id": "51a24723-02c5-4c47-8c26-b521a09b09f8",
   "metadata": {},
   "outputs": [],
   "source": [
    "pip install fedml_gcp"
   ]
  },
  {
   "cell_type": "markdown",
   "id": "8eccbf0d-a8c7-48fe-9cbf-e15d871dd14a",
   "metadata": {},
   "source": [
    "## Import libraries"
   ]
  },
  {
   "cell_type": "code",
   "execution_count": null,
   "id": "a61ca769-173f-4b3e-9ec8-24374ca1932c",
   "metadata": {},
   "outputs": [],
   "source": [
    "import os\n",
    "import time\n",
    "from fedml_gcp import dwcgcp"
   ]
  },
  {
   "cell_type": "markdown",
   "id": "b6487897-db0e-43bd-9287-b929231c1092",
   "metadata": {},
   "source": [
    "## Some constant variables to use throughout the notebook"
   ]
  },
  {
   "cell_type": "code",
   "execution_count": null,
   "id": "6d3c570a-f52f-4448-8893-3f5a814e7154",
   "metadata": {},
   "outputs": [],
   "source": [
    "PROJECT_ID = '<project_id>'\n",
    "REGION = '<region>'\n",
    "\n",
    "BUCKET_NAME = '<bucket_name>'\n",
    "BUCKET_URI = \"gs://\"+BUCKET_NAME\n",
    "BUCKET_FOLDER = 'pca'\n",
    "MODEL_OUTPUT_DIR = BUCKET_URI+'/'+BUCKET_FOLDER\n",
    "GCS_PATH_TO_MODEL_ARTIFACTS= MODEL_OUTPUT_DIR+'/model/'\n",
    "\n",
    "TRAINING_PACKAGE_PATH = 'PCAPipeline'\n",
    "\n",
    "JOB_NAME = \"PCA-training\"\n",
    "\n",
    "MODEL_DISPLAY_NAME = \"PCA-model\"\n",
    "DEPLOYED_MODEL_DISPLAY_NAME = 'PCA-deployed-model'\n",
    "\n",
    "TAR_BUNDLE_NAME = 'PCA.tar.gz'\n",
    "\n",
    "CONTAINER_REGISTRY_REPOSITORY = 'pca'\n",
    "IMAGE = 'image-'+str(int(time.time()))"
   ]
  },
  {
   "cell_type": "markdown",
   "id": "73affab6-ee31-4d09-b80b-030dabc2423a",
   "metadata": {},
   "source": [
    "# Create DwcGCP Instance to access class methods and train model\n",
    "\n",
    "It is expected that the bucket name passed here already exists in Cloud Storage.\n",
    "\n",
    "For information on this constructor, please refer to the readme."
   ]
  },
  {
   "cell_type": "code",
   "execution_count": null,
   "id": "8da82005-7686-469d-a0d3-34609c44e7ea",
   "metadata": {},
   "outputs": [],
   "source": [
    "params = {'project':PROJECT_ID,\n",
    "         'location':REGION, \n",
    "         'staging_bucket':BUCKET_URI}"
   ]
  },
  {
   "cell_type": "code",
   "execution_count": null,
   "id": "34423f00-1ece-43b0-94e3-eb8685d6b866",
   "metadata": {},
   "outputs": [],
   "source": [
    "dwc = dwcgcp.DwcGCP(params)\n"
   ]
  },
  {
   "cell_type": "markdown",
   "id": "f708de0a-5797-4568-88ee-75a061c91e12",
   "metadata": {},
   "source": [
    "# Create tar bundle of script folder so GCP can use it for training\n",
    "\n",
    "Please refer to the readme for more information on the dwc.make_tar_bundle() function\n",
    "\n",
    "Before running this cell, please ensure that the script package has all the necessary files for a training job."
   ]
  },
  {
   "cell_type": "code",
   "execution_count": null,
   "id": "b3bf5c33-f414-4946-ac51-5ac7547ca104",
   "metadata": {},
   "outputs": [],
   "source": [
    "dwc.make_tar_bundle(TAR_BUNDLE_NAME, \n",
    "                    TRAINING_PACKAGE_PATH, \n",
    "                    BUCKET_FOLDER+'/train/'+TAR_BUNDLE_NAME)\n"
   ]
  },
  {
   "cell_type": "markdown",
   "id": "f52b19c4-1747-4ee9-9ae3-7337ee32749c",
   "metadata": {},
   "source": [
    "## Determine which training image and deploying image you want to use. \n",
    "\n",
    "Please refer here for the training pre-built containers: https://cloud.google.com/vertex-ai/docs/training/create-python-pre-built-container\n",
    "\n",
    "Please refer here for the deployment pre-built containers: https://cloud.google.com/vertex-ai/docs/predictions/pre-built-containers"
   ]
  },
  {
   "cell_type": "code",
   "execution_count": null,
   "id": "6c9a392a-febf-49c1-862f-fa5bb51eb7cb",
   "metadata": {},
   "outputs": [],
   "source": [
    "TRAIN_VERSION = \"scikit-learn-cpu.0-23\"\n",
    "DEPLOY_VERSION = \"sklearn-cpu.1-0\"\n",
    "\n",
    "TRAIN_IMAGE = \"us-docker.pkg.dev/vertex-ai/training/{}:latest\".format(TRAIN_VERSION)\n",
    "DEPLOY_IMAGE = \"us-docker.pkg.dev/vertex-ai/prediction/{}:latest\".format(DEPLOY_VERSION)"
   ]
  },
  {
   "cell_type": "markdown",
   "id": "733360fc-4b17-44c6-903c-0e185dacc72b",
   "metadata": {},
   "source": [
    "# Training using a custom python package and prebuilt container\n",
    "For information on the dwc.train_model() function, please refer to the readme.\n",
    "\n",
    "In the training inputs, we are using a script. When using a script, we have to pass the required packages needed as well.\n",
    "\n",
    "We are also passing args which hold the table name to get data from and some other arguments we want to access in our training script. Before running the following cell, you should have a config.json uploaded to the bucket name you specified above with the path being /gcs/'+bucket_name+'/config.json'. This is specified in the training script, inside the function called get_dwc_data. This is used as the url parameter to DbConnection() so DbConnection knows where to find your credentials for access to SAP Datasphere.\n",
    "\n",
    "You should also have the follow view BREASTCANCER_VIEW created in your SAP Datasphere. To gather this data, please refer to https://www.kaggle.com/uciml/breast-cancer-wisconsin-data"
   ]
  },
  {
   "cell_type": "code",
   "execution_count": null,
   "id": "5125f869-1b40-4b3c-aa23-481b04dbc3c5",
   "metadata": {},
   "outputs": [],
   "source": [
    "table_name = 'BREASTCANCER_VIEW'\n",
    "job_dir = 'gs://'+BUCKET_NAME\n",
    "\n",
    "cmd_args = [\n",
    "    \"--table_name=\" + str(table_name),\n",
    "    \"--job-dir=\" + str(job_dir),\n",
    "    \"--table_size=\" + '1',\n",
    "    \"--bucket_name=\" + str(BUCKET_NAME),\n",
    "    \"--n_components=\"+ '3',\n",
    "    \"--bucket_folder=\" + str(BUCKET_FOLDER),\n",
    "    \"--package_name=\" + 'trainer'\n",
    "    \n",
    "]"
   ]
  },
  {
   "cell_type": "code",
   "execution_count": null,
   "id": "2d2cbd07-abdd-486e-91bf-ce0072b97ba2",
   "metadata": {},
   "outputs": [],
   "source": [
    "inputs ={\n",
    "    'display_name':JOB_NAME,\n",
    "    'python_package_gcs_uri':BUCKET_URI + '/' + BUCKET_FOLDER+'/train/'+TAR_BUNDLE_NAME,\n",
    "    'python_module_name':'trainer.task',\n",
    "    'container_uri':TRAIN_IMAGE,\n",
    "    'model_serving_container_image_uri':DEPLOY_IMAGE,\n",
    "}"
   ]
  },
  {
   "cell_type": "code",
   "execution_count": null,
   "id": "8976af84-d2aa-4a60-9652-d8b3daae9f68",
   "metadata": {},
   "outputs": [],
   "source": [
    "run_job_params = {'model_display_name':MODEL_DISPLAY_NAME,\n",
    "                  'args':cmd_args,\n",
    "                  'replica_count':1,\n",
    "                  'base_output_dir':MODEL_OUTPUT_DIR,\n",
    "                  'sync':True}"
   ]
  },
  {
   "cell_type": "code",
   "execution_count": null,
   "id": "ab7c22f4-d5be-4e08-8759-28fed0f19a28",
   "metadata": {},
   "outputs": [],
   "source": [
    "job = dwc.train_model(training_inputs=inputs, \n",
    "                      training_type='customPythonPackage',\n",
    "                     params=run_job_params)"
   ]
  },
  {
   "cell_type": "markdown",
   "id": "e6ceb0f7-0bc1-465d-949d-4868c8ca6410",
   "metadata": {},
   "source": [
    "## Deployment\n",
    "\n",
    "For information on the dwc.deploy() function please refer to the readme.\n",
    "\n",
    "Here we are deploying a custom predictor for the model we trained above."
   ]
  },
  {
   "cell_type": "code",
   "execution_count": null,
   "id": "f9b563c3-ff2e-4db4-9538-2629035db232",
   "metadata": {},
   "outputs": [],
   "source": [
    "model_config = {\n",
    "    'deployed_model_display_name': DEPLOYED_MODEL_DISPLAY_NAME,\n",
    "    'traffic_split':{\"0\": 100},\n",
    "    'machine_type':'n1-standard-2',\n",
    "    'min_replica_count':1,\n",
    "    'max_replica_count':1,\n",
    "    'sync':True\n",
    "    \n",
    "}\n",
    "deployed_endpoint = dwc.deploy(model=job, model_config=model_config)"
   ]
  },
  {
   "cell_type": "markdown",
   "id": "68f6f6d2-735e-4b46-82d3-5e39e1432f75",
   "metadata": {},
   "source": [
    "## Prediction\n",
    "\n",
    "Once the model is deployed to an endpoint, we can run predictions on it.\n",
    "\n",
    "For information on the dwc.predict() function please refer to the readme.\n",
    "\n",
    "Since we are using DbConnection here, we will need to have the config.json in this notebook instance as well."
   ]
  },
  {
   "cell_type": "code",
   "execution_count": null,
   "id": "041dbb25-2c88-4331-ab9b-92f18b17747e",
   "metadata": {},
   "outputs": [],
   "source": [
    "import os\n",
    "import pandas as pd\n",
    "import numpy as np\n",
    "from fedml_gcp import DbConnection"
   ]
  },
  {
   "cell_type": "code",
   "execution_count": null,
   "id": "8aa3e4e8-fd50-4789-9cd6-212af9ffc018",
   "metadata": {},
   "outputs": [],
   "source": [
    "db = DbConnection()\n",
    "org_data = db.get_data_with_headers(table_name=\"BREASTCANCER_VIEW\", size=1)\n",
    "org_data = pd.DataFrame(org_data[0], columns=org_data[1])\n",
    "org_data = org_data.sample(frac=1).reset_index(drop=True)\n",
    "org_data = org_data[500:]\n",
    "org_data.fillna(0, inplace=True)\n",
    "y = org_data['diagnosis']\n",
    "X = org_data.drop(['diagnosis'], axis=1)"
   ]
  },
  {
   "cell_type": "code",
   "execution_count": null,
   "id": "566c07fa-b608-4439-ae62-b774fae24fb1",
   "metadata": {},
   "outputs": [],
   "source": [
    "data = {\n",
    "    'instances': X.astype('float64').values.tolist()\n",
    "}"
   ]
  },
  {
   "cell_type": "code",
   "execution_count": null,
   "id": "50367c77-9a06-4ff7-bd49-fedc59269343",
   "metadata": {},
   "outputs": [],
   "source": [
    "response = dwc.predict(predict_params=data, endpoint=deployed_endpoint)"
   ]
  },
  {
   "cell_type": "code",
   "execution_count": null,
   "id": "2e2208a0-0059-4332-aa41-b3dee0588d70",
   "metadata": {},
   "outputs": [],
   "source": [
    "response"
   ]
  },
  {
   "cell_type": "code",
   "execution_count": null,
   "id": "906c5d17-449a-43c0-8221-c8400e4cb5d6",
   "metadata": {},
   "outputs": [],
   "source": []
  }
 ],
 "metadata": {
  "environment": {
   "kernel": "python3",
   "name": "common-cpu.m102",
   "type": "gcloud",
   "uri": "gcr.io/deeplearning-platform-release/base-cpu:m102"
  },
  "kernelspec": {
   "display_name": "Python 3.9.9 64-bit",
   "language": "python",
   "name": "python3"
  },
  "language_info": {
   "codemirror_mode": {
    "name": "ipython",
    "version": 3
   },
   "file_extension": ".py",
   "mimetype": "text/x-python",
   "name": "python",
   "nbconvert_exporter": "python",
   "pygments_lexer": "ipython3",
   "version": "3.9.9"
  }
 },
 "nbformat": 4,
 "nbformat_minor": 5
}
