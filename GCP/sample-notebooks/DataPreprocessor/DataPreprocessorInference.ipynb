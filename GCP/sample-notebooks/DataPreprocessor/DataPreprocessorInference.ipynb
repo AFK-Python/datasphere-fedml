{
 "cells": [
  {
   "cell_type": "code",
   "execution_count": null,
   "id": "19ab9c24-e8f9-49bf-a7ae-ff6325184e4e",
   "metadata": {},
   "outputs": [],
   "source": [
    "pip install fedml_gcp"
   ]
  },
  {
   "cell_type": "code",
   "execution_count": null,
   "id": "468b9b4d-f9b0-48aa-bbc6-d4e0f4610c89",
   "metadata": {},
   "outputs": [],
   "source": [
    "import os\n",
    "import pandas as pd\n",
    "import numpy as np\n",
    "from fedml_gcp import DbConnection\n",
    "from google.api_core.client_options import ClientOptions\n",
    "from googleapiclient import discovery"
   ]
  },
  {
   "cell_type": "code",
   "execution_count": null,
   "id": "67abb367-f18e-4056-89b0-1e7663be0ce2",
   "metadata": {},
   "outputs": [],
   "source": [
    "db = DbConnection()\n",
    "org_data = db.get_data_with_headers(table_name=\"TITANIC_TEST_VIEW\", size=1)\n",
    "org_data = pd.DataFrame(org_data[0], columns=org_data[1])\n",
    "org_data.Age.fillna(value=np.nan, inplace=True)\n",
    "org_data = org_data.drop(['Name', 'Ticket'], axis=1)\n",
    "org_data = org_data.drop(['Cabin'], axis=1)\n",
    "org_data"
   ]
  },
  {
   "cell_type": "code",
   "execution_count": null,
   "id": "1d54f0c1-1b69-4a42-8fd8-baafb1abc1d3",
   "metadata": {},
   "outputs": [],
   "source": [
    "select_dtypes = {\n",
    "    'PassengerId': 'int64',\n",
    "    'Pclass': 'int64',\n",
    "    'Sex': 'object',\n",
    "    'Age': 'float64',\n",
    "    'SibSp': 'int64',\n",
    "    'Parch': 'int64',\n",
    "    'Fare': 'float64',\n",
    "    'Embarked': 'object'\n",
    "}\n",
    "\n",
    "org_data = org_data.astype(select_dtypes)\n",
    "org_data"
   ]
  },
  {
   "cell_type": "code",
   "execution_count": null,
   "id": "1e0d622e-5158-4c1b-b1e1-73573d074099",
   "metadata": {},
   "outputs": [],
   "source": [
    "data = {\n",
    "    'instances': org_data.values.tolist()\n",
    "}\n",
    "\n",
    "response = dwc.predict(data, 'preprocessor_final_deploy1')"
   ]
  },
  {
   "cell_type": "code",
   "execution_count": null,
   "id": "a096248e-b371-40dc-979d-30c44c5587be",
   "metadata": {},
   "outputs": [],
   "source": []
  }
 ],
 "metadata": {
  "kernelspec": {
   "display_name": "Python 3 (ipykernel)",
   "language": "python",
   "name": "python3"
  },
  "language_info": {
   "codemirror_mode": {
    "name": "ipython",
    "version": 3
   },
   "file_extension": ".py",
   "mimetype": "text/x-python",
   "name": "python",
   "nbconvert_exporter": "python",
   "pygments_lexer": "ipython3",
   "version": "3.8.2"
  }
 },
 "nbformat": 4,
 "nbformat_minor": 5
}
