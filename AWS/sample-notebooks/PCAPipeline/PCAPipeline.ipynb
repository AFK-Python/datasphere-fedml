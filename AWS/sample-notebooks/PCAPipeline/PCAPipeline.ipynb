{
 "cells": [
  {
   "cell_type": "markdown",
   "id": "a83a8208",
   "metadata": {},
   "source": [
    "## Scikit-Learn PCA and Logistic Regression Pipeline\n",
    "### Using BREASTCANCER_VIEW from SAP Datasphere. This view has 569 records"
   ]
  },
  {
   "cell_type": "markdown",
   "id": "f4de944e",
   "metadata": {},
   "source": [
    "## Install fedml aws library"
   ]
  },
  {
   "cell_type": "code",
   "execution_count": null,
   "id": "b3fe6c30",
   "metadata": {},
   "outputs": [],
   "source": [
    "pip install fedml-aws --force-reinstall"
   ]
  },
  {
   "cell_type": "markdown",
   "id": "c0e669c2",
   "metadata": {},
   "source": [
    "## Import Libraries "
   ]
  },
  {
   "cell_type": "code",
   "execution_count": null,
   "id": "427fc14c",
   "metadata": {},
   "outputs": [],
   "source": [
    "from fedml_aws import DwcSagemaker\n",
    "from fedml_aws import DbConnection\n",
    "import numpy as np\n",
    "import pandas as pd\n",
    "import json"
   ]
  },
  {
   "cell_type": "markdown",
   "id": "e7ca6c84",
   "metadata": {},
   "source": [
    "## Create DwcSagemaker instance to access libraries functions"
   ]
  },
  {
   "cell_type": "code",
   "execution_count": null,
   "id": "59bf6a06",
   "metadata": {},
   "outputs": [],
   "source": [
    "dwcs = DwcSagemaker(prefix='<prefix>', bucket_name='<bucket_name>')"
   ]
  },
  {
   "cell_type": "markdown",
   "id": "33cbffe9",
   "metadata": {},
   "source": [
    "## Create DbConnection instance to get data from SAP Datasphere"
   ]
  },
  {
   "cell_type": "markdown",
   "id": "6c69bb3b",
   "metadata": {},
   "source": [
    "Before running the following cell, you should have a config.json file in the same directory as this notebook with the specified values to allow you to access to SAP Datasphere.\n",
    "\n",
    "You should also have the follow view `BREASTCANCER_VIEW` created in your SAP Datasphere. To gather this data, please refer to https://www.kaggle.com/uciml/breast-cancer-wisconsin-data"
   ]
  },
  {
   "cell_type": "code",
   "execution_count": null,
   "id": "d0f565d9",
   "metadata": {},
   "outputs": [],
   "source": [
    "%%time\n",
    "db = DbConnection()\n",
    "res, column_headers = db.get_data_with_headers(table_name=\"BREASTCANCER_VIEW\", size=1)\n",
    "data = pd.DataFrame(res, columns=column_headers)\n",
    "data"
   ]
  },
  {
   "cell_type": "code",
   "execution_count": null,
   "id": "7cecba29",
   "metadata": {},
   "outputs": [],
   "source": [
    "data.columns"
   ]
  },
  {
   "cell_type": "markdown",
   "id": "f40e2cc4",
   "metadata": {},
   "source": [
    "## Train SciKit Model¶\n",
    "`train_data` is the data you want to train your model with. \n",
    "\n",
    "In order to deploy a model to AWS using the Scikit-learn Sagemaker SDK, you must have a script that tells Sagemaker how to train and deploy the model. The path to the script is passed to the `train_sklearn_model` function in the `train_script` parameter.\n",
    "\n",
    "`instance_type` specifies how much computing power we want AWS to allocate for our services."
   ]
  },
  {
   "cell_type": "code",
   "execution_count": null,
   "id": "eaa171f0",
   "metadata": {},
   "outputs": [],
   "source": [
    "clf = dwcs.train_sklearn_model(data,\n",
    "                               train_script='pca_pipeline_script.py',\n",
    "                               instance_type='ml.c4.xlarge',\n",
    "                              wait=True,\n",
    "                              download_output=False,\n",
    "                              hyperparameters={'n_components':3})"
   ]
  },
  {
   "cell_type": "markdown",
   "id": "1e19d56f",
   "metadata": {},
   "source": [
    "## Using the fedml_aws deploy to kyma function"
   ]
  },
  {
   "cell_type": "code",
   "execution_count": null,
   "id": "b387ab55",
   "metadata": {},
   "outputs": [],
   "source": [
    "!aws configure set aws_access_key_id '<aws_access_key_id>' --profile 'sample-pr'\n",
    "!aws configure set aws_secret_access_key '<aws_secret_access_key>' --profile 'sample-pr'\n",
    "!aws configure set region '<region>' --profile 'sample-pr'"
   ]
  },
  {
   "cell_type": "code",
   "execution_count": null,
   "id": "e0a2d279",
   "metadata": {},
   "outputs": [],
   "source": [
    "dwcs.deploy_to_kyma(clf, initial_instance_count=1, profile_name='sample-pr')"
   ]
  },
  {
   "cell_type": "markdown",
   "id": "d571bc81",
   "metadata": {},
   "source": [
    "## Using the fedml_aws invoke kyma endpoint function"
   ]
  },
  {
   "cell_type": "code",
   "execution_count": null,
   "id": "2b0e1418",
   "metadata": {},
   "outputs": [],
   "source": [
    "org_data = data.sample(frac=1).reset_index(drop=True)\n",
    "org_data = org_data[500:]\n",
    "org_data.fillna(0, inplace=True)\n",
    "y = org_data['diagnosis']\n",
    "X = org_data.drop(['diagnosis'], axis=1)"
   ]
  },
  {
   "cell_type": "code",
   "execution_count": null,
   "id": "c605ff5e",
   "metadata": {},
   "outputs": [],
   "source": [
    "result = dwcs.invoke_kyma_endpoint(api='<endpoint>', \n",
    "             payload=X.to_json(), \n",
    "             content_type='application/json')"
   ]
  },
  {
   "cell_type": "code",
   "execution_count": null,
   "id": "77ff3325",
   "metadata": {},
   "outputs": [],
   "source": [
    "result = result.content.decode()"
   ]
  },
  {
   "cell_type": "code",
   "execution_count": null,
   "id": "33473deb",
   "metadata": {},
   "outputs": [],
   "source": [
    "result"
   ]
  },
  {
   "cell_type": "markdown",
   "id": "8543301b",
   "metadata": {},
   "source": [
    "## Write back to SAP Datasphere"
   ]
  },
  {
   "cell_type": "code",
   "execution_count": null,
   "id": "d5463f3a",
   "metadata": {},
   "outputs": [],
   "source": [
    "X.columns"
   ]
  },
  {
   "cell_type": "code",
   "execution_count": null,
   "id": "6b6bf0f7",
   "metadata": {},
   "outputs": [],
   "source": [
    "X.dtypes"
   ]
  },
  {
   "cell_type": "code",
   "execution_count": null,
   "id": "7817dbdc",
   "metadata": {},
   "outputs": [],
   "source": [
    "# ['ID', 'Units_Sold', 'Unit_Price', 'Unit_Cost', 'Total_Revenue','Total_Cost', 'totalprofit']\n",
    "\n",
    "db.create_table(\"CREATE TABLE PCA_Pipeline_Table (ID INTEGER PRIMARY KEY, radius_mean FLOAT(2), texture_mean FLOAT(2), perimeter_mean FLOAT(2), area_mean FLOAT(2), smoothness_mean FLOAT(2), compactness_mean FLOAT(2), concavity_mean FLOAT(2), concave_points_mean FLOAT(2), symmetry_mean FLOAT(2), fractal_dimension_mean FLOAT(2), radius_se FLOAT(2), texture_se FLOAT(2), perimeter_se FLOAT(2), area_se FLOAT(2), smoothness_se FLOAT(2), compactness_se FLOAT(2), concavity_se FLOAT(2), concave_points_se FLOAT(2), symmetry_se FLOAT(2), fractal_dimension_se FLOAT(2), radius_worst FLOAT(2), texture_worst FLOAT(2), perimeter_worst FLOAT(2), area_worst FLOAT(2), smoothness_worst FLOAT(2), compactness_worst FLOAT(2), concavity_worst FLOAT(2), concave_points_worst FLOAT(2), symmetry_worst FLOAT(2), fractal_dimension_worst FLOAT(2), column32 INTEGER, diagnosis_predict VARCHAR(100))\")\n"
   ]
  },
  {
   "cell_type": "code",
   "execution_count": null,
   "id": "8f7f6246",
   "metadata": {},
   "outputs": [],
   "source": [
    "res = result.strip('][').split(', ')\n",
    "res"
   ]
  },
  {
   "cell_type": "code",
   "execution_count": null,
   "id": "3c494060",
   "metadata": {},
   "outputs": [],
   "source": [
    "dwc_data = X\n",
    "dwc_data = dwc_data.assign(diagnosis_predict = res)"
   ]
  },
  {
   "cell_type": "code",
   "execution_count": null,
   "id": "4f86cedd",
   "metadata": {},
   "outputs": [],
   "source": [
    "dwc_data.columns = ['id', 'radius_mean', 'texture_mean', 'perimeter_mean', 'area_mean',\n",
    "       'smoothness_mean', 'compactness_mean', 'concavity_mean',\n",
    "       'concave_points_mean', 'symmetry_mean', 'fractal_dimension_mean',\n",
    "       'radius_se', 'texture_se', 'perimeter_se', 'area_se', 'smoothness_se',\n",
    "       'compactness_se', 'concavity_se', 'concave_points_se', 'symmetry_se',\n",
    "       'fractal_dimension_se', 'radius_worst', 'texture_worst',\n",
    "       'perimeter_worst', 'area_worst', 'smoothness_worst',\n",
    "       'compactness_worst', 'concavity_worst', 'concave_points_worst',\n",
    "       'symmetry_worst', 'fractal_dimension_worst', 'column32', 'diagnosis_predict']"
   ]
  },
  {
   "cell_type": "code",
   "execution_count": null,
   "id": "680caf63",
   "metadata": {},
   "outputs": [],
   "source": [
    "for i in dwc_data.columns[1:-1]:\n",
    "    dwc_data[i] = dwc_data[i].astype('float64')"
   ]
  },
  {
   "cell_type": "code",
   "execution_count": null,
   "id": "f0bf1c6b",
   "metadata": {},
   "outputs": [],
   "source": [
    "dwc_data"
   ]
  },
  {
   "cell_type": "code",
   "execution_count": null,
   "id": "567b1148",
   "metadata": {},
   "outputs": [],
   "source": [
    "dwc_data.dtypes"
   ]
  },
  {
   "cell_type": "code",
   "execution_count": null,
   "id": "3074e388",
   "metadata": {},
   "outputs": [],
   "source": [
    "db.insert_into_table('PCA_Pipeline_Table', dwc_data)"
   ]
  },
  {
   "cell_type": "code",
   "execution_count": null,
   "id": "3bca7acb",
   "metadata": {},
   "outputs": [],
   "source": []
  }
 ],
 "metadata": {
  "kernelspec": {
   "display_name": "Python 3.9.9 64-bit",
   "language": "python",
   "name": "python3"
  },
  "language_info": {
   "codemirror_mode": {
    "name": "ipython",
    "version": 3
   },
   "file_extension": ".py",
   "mimetype": "text/x-python",
   "name": "python",
   "nbconvert_exporter": "python",
   "pygments_lexer": "ipython3",
   "version": "3.9.9"
  }
 },
 "nbformat": 4,
 "nbformat_minor": 5
}
