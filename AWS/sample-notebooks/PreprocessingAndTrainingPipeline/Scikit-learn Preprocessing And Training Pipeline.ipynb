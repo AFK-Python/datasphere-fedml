{
 "cells": [
  {
   "cell_type": "markdown",
   "source": [
    "## Scikit-Learn Preprocessing and Training Pipeline\n",
    "##### from sklearn.feature_extraction.text import TfidfVectorizer\n",
    "##### from sklearn.naive_bayes import MultinomialNB\n",
    "### Using data from S3 and DWC"
   ],
   "metadata": {}
  },
  {
   "cell_type": "markdown",
   "source": [
    "## Install fedml_aws library"
   ],
   "metadata": {}
  },
  {
   "cell_type": "code",
   "execution_count": 1,
   "source": [
    "pip install fedml_aws-1.0.0-py3-none-any.whl --force-reinstall"
   ],
   "outputs": [
    {
     "output_type": "stream",
     "name": "stdout",
     "text": [
      "Processing ./fedml_aws-1.0.0-py3-none-any.whl\n",
      "Collecting hdbcli\n",
      "  Using cached hdbcli-2.10.13-cp34-abi3-manylinux1_x86_64.whl (11.7 MB)\n",
      "Installing collected packages: hdbcli, fedml-aws\n",
      "  Attempting uninstall: hdbcli\n",
      "    Found existing installation: hdbcli 2.10.13\n",
      "    Uninstalling hdbcli-2.10.13:\n",
      "      Successfully uninstalled hdbcli-2.10.13\n",
      "  Attempting uninstall: fedml-aws\n",
      "    Found existing installation: fedml-aws 1.0.0\n",
      "    Uninstalling fedml-aws-1.0.0:\n",
      "      Successfully uninstalled fedml-aws-1.0.0\n",
      "Successfully installed fedml-aws-1.0.0 hdbcli-2.10.13\n",
      "Note: you may need to restart the kernel to use updated packages.\n"
     ]
    }
   ],
   "metadata": {}
  },
  {
   "cell_type": "markdown",
   "source": [
    "## Import Libraries "
   ],
   "metadata": {}
  },
  {
   "cell_type": "code",
   "execution_count": 2,
   "source": [
    "from fedml_aws import DwcSagemaker\n",
    "from fedml_aws import DbConnection\n",
    "import numpy as np\n",
    "import pandas as pd\n",
    "import json"
   ],
   "outputs": [],
   "metadata": {}
  },
  {
   "cell_type": "markdown",
   "source": [
    "## Create DwcSagemaker instance to access libraries functions"
   ],
   "metadata": {}
  },
  {
   "cell_type": "code",
   "execution_count": 3,
   "source": [
    "dwcs = DwcSagemaker(prefix='scikit-learn/pipeline', \n",
    "                    bucket_name='fedml-bucket')\n"
   ],
   "outputs": [],
   "metadata": {}
  },
  {
   "cell_type": "markdown",
   "source": [
    "## Create DbConnection instance to get data from DWC"
   ],
   "metadata": {}
  },
  {
   "cell_type": "markdown",
   "source": [
    "Before running the following cell, you should have a config.json file in the same directory as this notebook with the specified values to allow you to access to DWC.\n",
    "\n",
    "You should also have the follow view `IMDB_TEST_VIEW` created in your DWC. To gather this data, please refer to https://www.kaggle.com/mantri7/imdb-movie-reviews-dataset?select=train_data+%281%29.csv and download the test dataset."
   ],
   "metadata": {}
  },
  {
   "cell_type": "code",
   "execution_count": 4,
   "source": [
    "db = DbConnection()\n",
    "res, column_headers = db.get_data_with_headers(table_name='IMDB_TEST_VIEW', size=1)\n",
    "dwc_data = pd.DataFrame(res, columns=['0', '1'])"
   ],
   "outputs": [],
   "metadata": {}
  },
  {
   "cell_type": "markdown",
   "source": [
    "## Now accessing data residing in S3\n",
    "\n",
    "Before running the below cell, please download the train dataset from the link below and upload it to your s3 bucket.\n",
    "https://www.kaggle.com/mantri7/imdb-movie-reviews-dataset?select=train_data+%281%29.csv"
   ],
   "metadata": {}
  },
  {
   "cell_type": "code",
   "execution_count": 5,
   "source": [
    "import boto3\n",
    "downloaded_data_bucket = f\"fedml-bucket\"\n",
    "\n",
    "s3 = boto3.client(\"s3\")\n",
    "s3.download_file(downloaded_data_bucket, \"imdb_train.csv\", \"imdb_train.csv\")"
   ],
   "outputs": [],
   "metadata": {}
  },
  {
   "cell_type": "code",
   "execution_count": 6,
   "source": [
    "df = pd.read_csv('imdb_train.csv')\n",
    "df"
   ],
   "outputs": [
    {
     "output_type": "execute_result",
     "data": {
      "text/html": [
       "<div>\n",
       "<style scoped>\n",
       "    .dataframe tbody tr th:only-of-type {\n",
       "        vertical-align: middle;\n",
       "    }\n",
       "\n",
       "    .dataframe tbody tr th {\n",
       "        vertical-align: top;\n",
       "    }\n",
       "\n",
       "    .dataframe thead th {\n",
       "        text-align: right;\n",
       "    }\n",
       "</style>\n",
       "<table border=\"1\" class=\"dataframe\">\n",
       "  <thead>\n",
       "    <tr style=\"text-align: right;\">\n",
       "      <th></th>\n",
       "      <th>0</th>\n",
       "      <th>1</th>\n",
       "    </tr>\n",
       "  </thead>\n",
       "  <tbody>\n",
       "    <tr>\n",
       "      <th>0</th>\n",
       "      <td>This film is absolutely awful, but nevertheles...</td>\n",
       "      <td>0</td>\n",
       "    </tr>\n",
       "    <tr>\n",
       "      <th>1</th>\n",
       "      <td>Well since seeing part's 1 through 3 I can hon...</td>\n",
       "      <td>0</td>\n",
       "    </tr>\n",
       "    <tr>\n",
       "      <th>2</th>\n",
       "      <td>I got to see this film at a preview and was da...</td>\n",
       "      <td>1</td>\n",
       "    </tr>\n",
       "    <tr>\n",
       "      <th>3</th>\n",
       "      <td>This adaptation positively butchers a classic ...</td>\n",
       "      <td>0</td>\n",
       "    </tr>\n",
       "    <tr>\n",
       "      <th>4</th>\n",
       "      <td>Råzone is an awful movie! It is so simple. It ...</td>\n",
       "      <td>0</td>\n",
       "    </tr>\n",
       "    <tr>\n",
       "      <th>...</th>\n",
       "      <td>...</td>\n",
       "      <td>...</td>\n",
       "    </tr>\n",
       "    <tr>\n",
       "      <th>24995</th>\n",
       "      <td>With this movie being the only Dirty Harry mov...</td>\n",
       "      <td>1</td>\n",
       "    </tr>\n",
       "    <tr>\n",
       "      <th>24996</th>\n",
       "      <td>Any screen adaptation of a John Grisham story ...</td>\n",
       "      <td>1</td>\n",
       "    </tr>\n",
       "    <tr>\n",
       "      <th>24997</th>\n",
       "      <td>This film captured my heart from the very begi...</td>\n",
       "      <td>1</td>\n",
       "    </tr>\n",
       "    <tr>\n",
       "      <th>24998</th>\n",
       "      <td>A deplorable social condition triggers off the...</td>\n",
       "      <td>1</td>\n",
       "    </tr>\n",
       "    <tr>\n",
       "      <th>24999</th>\n",
       "      <td>Always enjoy the great acting of Drew Barrymor...</td>\n",
       "      <td>1</td>\n",
       "    </tr>\n",
       "  </tbody>\n",
       "</table>\n",
       "<p>25000 rows × 2 columns</p>\n",
       "</div>"
      ],
      "text/plain": [
       "                                                       0  1\n",
       "0      This film is absolutely awful, but nevertheles...  0\n",
       "1      Well since seeing part's 1 through 3 I can hon...  0\n",
       "2      I got to see this film at a preview and was da...  1\n",
       "3      This adaptation positively butchers a classic ...  0\n",
       "4      Råzone is an awful movie! It is so simple. It ...  0\n",
       "...                                                  ... ..\n",
       "24995  With this movie being the only Dirty Harry mov...  1\n",
       "24996  Any screen adaptation of a John Grisham story ...  1\n",
       "24997  This film captured my heart from the very begi...  1\n",
       "24998  A deplorable social condition triggers off the...  1\n",
       "24999  Always enjoy the great acting of Drew Barrymor...  1\n",
       "\n",
       "[25000 rows x 2 columns]"
      ]
     },
     "metadata": {},
     "execution_count": 6
    }
   ],
   "metadata": {}
  },
  {
   "cell_type": "markdown",
   "source": [
    "## Combining the data from S3 and DWC to use for training."
   ],
   "metadata": {}
  },
  {
   "cell_type": "code",
   "execution_count": 7,
   "source": [
    "data = pd.concat([df, dwc_data], axis=0)\n",
    "data.shape"
   ],
   "outputs": [
    {
     "output_type": "execute_result",
     "data": {
      "text/plain": [
       "(50000, 2)"
      ]
     },
     "metadata": {},
     "execution_count": 7
    }
   ],
   "metadata": {}
  },
  {
   "cell_type": "code",
   "execution_count": 8,
   "source": [
    "data.head()"
   ],
   "outputs": [
    {
     "output_type": "execute_result",
     "data": {
      "text/html": [
       "<div>\n",
       "<style scoped>\n",
       "    .dataframe tbody tr th:only-of-type {\n",
       "        vertical-align: middle;\n",
       "    }\n",
       "\n",
       "    .dataframe tbody tr th {\n",
       "        vertical-align: top;\n",
       "    }\n",
       "\n",
       "    .dataframe thead th {\n",
       "        text-align: right;\n",
       "    }\n",
       "</style>\n",
       "<table border=\"1\" class=\"dataframe\">\n",
       "  <thead>\n",
       "    <tr style=\"text-align: right;\">\n",
       "      <th></th>\n",
       "      <th>0</th>\n",
       "      <th>1</th>\n",
       "    </tr>\n",
       "  </thead>\n",
       "  <tbody>\n",
       "    <tr>\n",
       "      <th>0</th>\n",
       "      <td>This film is absolutely awful, but nevertheles...</td>\n",
       "      <td>0</td>\n",
       "    </tr>\n",
       "    <tr>\n",
       "      <th>1</th>\n",
       "      <td>Well since seeing part's 1 through 3 I can hon...</td>\n",
       "      <td>0</td>\n",
       "    </tr>\n",
       "    <tr>\n",
       "      <th>2</th>\n",
       "      <td>I got to see this film at a preview and was da...</td>\n",
       "      <td>1</td>\n",
       "    </tr>\n",
       "    <tr>\n",
       "      <th>3</th>\n",
       "      <td>This adaptation positively butchers a classic ...</td>\n",
       "      <td>0</td>\n",
       "    </tr>\n",
       "    <tr>\n",
       "      <th>4</th>\n",
       "      <td>Råzone is an awful movie! It is so simple. It ...</td>\n",
       "      <td>0</td>\n",
       "    </tr>\n",
       "  </tbody>\n",
       "</table>\n",
       "</div>"
      ],
      "text/plain": [
       "                                                   0  1\n",
       "0  This film is absolutely awful, but nevertheles...  0\n",
       "1  Well since seeing part's 1 through 3 I can hon...  0\n",
       "2  I got to see this film at a preview and was da...  1\n",
       "3  This adaptation positively butchers a classic ...  0\n",
       "4  Råzone is an awful movie! It is so simple. It ...  0"
      ]
     },
     "metadata": {},
     "execution_count": 8
    }
   ],
   "metadata": {}
  },
  {
   "cell_type": "markdown",
   "source": [
    "## Train SciKit Model¶\n",
    "`train_data` is the data you want to train your model with. \n",
    "\n",
    "In order to deploy a model to AWS using the Scikit-learn Sagemaker SDK, you must have a script that tells Sagemaker how to train and deploy the model. The path to the script is passed to the `train_sklearn_model` function in the `train_script` parameter.\n",
    "\n",
    "`instance_type` specifies how much computing power we want AWS to allocate for our services."
   ],
   "metadata": {}
  },
  {
   "cell_type": "code",
   "execution_count": 9,
   "source": [
    "clf = dwcs.train_sklearn_model(data,\n",
    "                               train_script='pipeline_script.py',\n",
    "                               instance_type='ml.c4.xlarge',\n",
    "                              wait=True,\n",
    "                              download_output=False)"
   ],
   "outputs": [
    {
     "output_type": "stream",
     "name": "stdout",
     "text": [
      "Training data uploaded\n",
      "2021-10-06 23:36:18 Starting - Starting the training job...\n",
      "2021-10-06 23:36:27 Starting - Launching requested ML instancesProfilerReport-1633563378: InProgress\n",
      "......\n",
      "2021-10-06 23:37:43 Starting - Preparing the instances for training............\n",
      "2021-10-06 23:39:43 Downloading - Downloading input data...\n",
      "2021-10-06 23:40:17 Training - Training image download completed. Training in progress..\u001b[34m2021-10-06 23:40:19,497 sagemaker-containers INFO     Imported framework sagemaker_sklearn_container.training\u001b[0m\n",
      "\u001b[34m2021-10-06 23:40:19,500 sagemaker-training-toolkit INFO     No GPUs detected (normal if no gpus installed)\u001b[0m\n",
      "\u001b[34m2021-10-06 23:40:19,511 sagemaker_sklearn_container.training INFO     Invoking user training script.\u001b[0m\n",
      "\u001b[34m2021-10-06 23:40:19,931 sagemaker-training-toolkit INFO     No GPUs detected (normal if no gpus installed)\u001b[0m\n",
      "\u001b[34m2021-10-06 23:40:19,943 sagemaker-training-toolkit INFO     No GPUs detected (normal if no gpus installed)\u001b[0m\n",
      "\u001b[34m2021-10-06 23:40:19,957 sagemaker-training-toolkit INFO     No GPUs detected (normal if no gpus installed)\u001b[0m\n",
      "\u001b[34m2021-10-06 23:40:19,966 sagemaker-training-toolkit INFO     Invoking user script\n",
      "\u001b[0m\n",
      "\u001b[34mTraining Env:\n",
      "\u001b[0m\n",
      "\u001b[34m{\n",
      "    \"additional_framework_parameters\": {},\n",
      "    \"channel_input_dirs\": {\n",
      "        \"train\": \"/opt/ml/input/data/train\"\n",
      "    },\n",
      "    \"current_host\": \"algo-1\",\n",
      "    \"framework_module\": \"sagemaker_sklearn_container.training:main\",\n",
      "    \"hosts\": [\n",
      "        \"algo-1\"\n",
      "    ],\n",
      "    \"hyperparameters\": {},\n",
      "    \"input_config_dir\": \"/opt/ml/input/config\",\n",
      "    \"input_data_config\": {\n",
      "        \"train\": {\n",
      "            \"TrainingInputMode\": \"File\",\n",
      "            \"S3DistributionType\": \"FullyReplicated\",\n",
      "            \"RecordWrapperType\": \"None\"\n",
      "        }\n",
      "    },\n",
      "    \"input_dir\": \"/opt/ml/input\",\n",
      "    \"is_master\": true,\n",
      "    \"job_name\": \"sagemaker-scikit-learn-2021-10-06-23-36-18-406\",\n",
      "    \"log_level\": 20,\n",
      "    \"master_hostname\": \"algo-1\",\n",
      "    \"model_dir\": \"/opt/ml/model\",\n",
      "    \"module_dir\": \"s3://sagemaker-us-east-1-321880606331/sagemaker-scikit-learn-2021-10-06-23-36-18-406/source/sourcedir.tar.gz\",\n",
      "    \"module_name\": \"pipeline_script\",\n",
      "    \"network_interface_name\": \"eth0\",\n",
      "    \"num_cpus\": 4,\n",
      "    \"num_gpus\": 0,\n",
      "    \"output_data_dir\": \"/opt/ml/output/data\",\n",
      "    \"output_dir\": \"/opt/ml/output\",\n",
      "    \"output_intermediate_dir\": \"/opt/ml/output/intermediate\",\n",
      "    \"resource_config\": {\n",
      "        \"current_host\": \"algo-1\",\n",
      "        \"hosts\": [\n",
      "            \"algo-1\"\n",
      "        ],\n",
      "        \"network_interface_name\": \"eth0\"\n",
      "    },\n",
      "    \"user_entry_point\": \"pipeline_script.py\"\u001b[0m\n",
      "\u001b[34m}\n",
      "\u001b[0m\n",
      "\u001b[34mEnvironment variables:\n",
      "\u001b[0m\n",
      "\u001b[34mSM_HOSTS=[\"algo-1\"]\u001b[0m\n",
      "\u001b[34mSM_NETWORK_INTERFACE_NAME=eth0\u001b[0m\n",
      "\u001b[34mSM_HPS={}\u001b[0m\n",
      "\u001b[34mSM_USER_ENTRY_POINT=pipeline_script.py\u001b[0m\n",
      "\u001b[34mSM_FRAMEWORK_PARAMS={}\u001b[0m\n",
      "\u001b[34mSM_RESOURCE_CONFIG={\"current_host\":\"algo-1\",\"hosts\":[\"algo-1\"],\"network_interface_name\":\"eth0\"}\u001b[0m\n",
      "\u001b[34mSM_INPUT_DATA_CONFIG={\"train\":{\"RecordWrapperType\":\"None\",\"S3DistributionType\":\"FullyReplicated\",\"TrainingInputMode\":\"File\"}}\u001b[0m\n",
      "\u001b[34mSM_OUTPUT_DATA_DIR=/opt/ml/output/data\u001b[0m\n",
      "\u001b[34mSM_CHANNELS=[\"train\"]\u001b[0m\n",
      "\u001b[34mSM_CURRENT_HOST=algo-1\u001b[0m\n",
      "\u001b[34mSM_MODULE_NAME=pipeline_script\u001b[0m\n",
      "\u001b[34mSM_LOG_LEVEL=20\u001b[0m\n",
      "\u001b[34mSM_FRAMEWORK_MODULE=sagemaker_sklearn_container.training:main\u001b[0m\n",
      "\u001b[34mSM_INPUT_DIR=/opt/ml/input\u001b[0m\n",
      "\u001b[34mSM_INPUT_CONFIG_DIR=/opt/ml/input/config\u001b[0m\n",
      "\u001b[34mSM_OUTPUT_DIR=/opt/ml/output\u001b[0m\n",
      "\u001b[34mSM_NUM_CPUS=4\u001b[0m\n",
      "\u001b[34mSM_NUM_GPUS=0\u001b[0m\n",
      "\u001b[34mSM_MODEL_DIR=/opt/ml/model\u001b[0m\n",
      "\u001b[34mSM_MODULE_DIR=s3://sagemaker-us-east-1-321880606331/sagemaker-scikit-learn-2021-10-06-23-36-18-406/source/sourcedir.tar.gz\u001b[0m\n",
      "\u001b[34mSM_TRAINING_ENV={\"additional_framework_parameters\":{},\"channel_input_dirs\":{\"train\":\"/opt/ml/input/data/train\"},\"current_host\":\"algo-1\",\"framework_module\":\"sagemaker_sklearn_container.training:main\",\"hosts\":[\"algo-1\"],\"hyperparameters\":{},\"input_config_dir\":\"/opt/ml/input/config\",\"input_data_config\":{\"train\":{\"RecordWrapperType\":\"None\",\"S3DistributionType\":\"FullyReplicated\",\"TrainingInputMode\":\"File\"}},\"input_dir\":\"/opt/ml/input\",\"is_master\":true,\"job_name\":\"sagemaker-scikit-learn-2021-10-06-23-36-18-406\",\"log_level\":20,\"master_hostname\":\"algo-1\",\"model_dir\":\"/opt/ml/model\",\"module_dir\":\"s3://sagemaker-us-east-1-321880606331/sagemaker-scikit-learn-2021-10-06-23-36-18-406/source/sourcedir.tar.gz\",\"module_name\":\"pipeline_script\",\"network_interface_name\":\"eth0\",\"num_cpus\":4,\"num_gpus\":0,\"output_data_dir\":\"/opt/ml/output/data\",\"output_dir\":\"/opt/ml/output\",\"output_intermediate_dir\":\"/opt/ml/output/intermediate\",\"resource_config\":{\"current_host\":\"algo-1\",\"hosts\":[\"algo-1\"],\"network_interface_name\":\"eth0\"},\"user_entry_point\":\"pipeline_script.py\"}\u001b[0m\n",
      "\u001b[34mSM_USER_ARGS=[]\u001b[0m\n",
      "\u001b[34mSM_OUTPUT_INTERMEDIATE_DIR=/opt/ml/output/intermediate\u001b[0m\n",
      "\u001b[34mSM_CHANNEL_TRAIN=/opt/ml/input/data/train\u001b[0m\n",
      "\u001b[34mPYTHONPATH=/opt/ml/code:/miniconda3/bin:/miniconda3/lib/python37.zip:/miniconda3/lib/python3.7:/miniconda3/lib/python3.7/lib-dynload:/miniconda3/lib/python3.7/site-packages\n",
      "\u001b[0m\n",
      "\u001b[34mInvoking script with the following command:\n",
      "\u001b[0m\n",
      "\u001b[34m/miniconda3/bin/python pipeline_script.py\n",
      "\n",
      "\u001b[0m\n",
      "\u001b[34mThe scikit-learn version is 0.23.2.\n",
      "\n",
      "\u001b[0m\n",
      "\u001b[34m********* Handling Data *********\n",
      "\n",
      "\u001b[0m\n",
      "\u001b[34mtraining data\n",
      "\n",
      "                                                       0  1\u001b[0m\n",
      "\u001b[34m0      This film is absolutely awful, but nevertheles...  0\u001b[0m\n",
      "\u001b[34m1      Well since seeing part's 1 through 3 I can hon...  0\u001b[0m\n",
      "\u001b[34m2      I got to see this film at a preview and was da...  1\u001b[0m\n",
      "\u001b[34m3      This adaptation positively butchers a classic ...  0\u001b[0m\n",
      "\u001b[34m4      Råzone is an awful movie! It is so simple. It ...  0\u001b[0m\n",
      "\u001b[34m...                                                  ... ..\u001b[0m\n",
      "\u001b[34m29995  Because Disney more often than not, ignores th...  0\u001b[0m\n",
      "\u001b[34m29996  I'm a huge fan of both Emily Watson (Breaking ...  0\u001b[0m\n",
      "\u001b[34m29997  Not even Emeril Lagasse cooking can save this ...  0\u001b[0m\n",
      "\u001b[34m29998  What an awful adaptation. The worst part was t...  0\u001b[0m\n",
      "\u001b[34m29999  Preposterous twaddle executed in a bewildering...  0\n",
      "\u001b[0m\n",
      "\u001b[34m[30000 rows x 2 columns]\u001b[0m\n",
      "\u001b[34m0        This film is absolutely awful, but nevertheles...\u001b[0m\n",
      "\u001b[34m1        Well since seeing part's 1 through 3 I can hon...\u001b[0m\n",
      "\u001b[34m2        I got to see this film at a preview and was da...\u001b[0m\n",
      "\u001b[34m3        This adaptation positively butchers a classic ...\u001b[0m\n",
      "\u001b[34m4        Råzone is an awful movie! It is so simple. It ...\n",
      "                               ...                        \u001b[0m\n",
      "\u001b[34m29995    Because Disney more often than not, ignores th...\u001b[0m\n",
      "\u001b[34m29996    I'm a huge fan of both Emily Watson (Breaking ...\u001b[0m\n",
      "\u001b[34m29997    Not even Emeril Lagasse cooking can save this ...\u001b[0m\n",
      "\u001b[34m29998    What an awful adaptation. The worst part was t...\u001b[0m\n",
      "\u001b[34m29999    Preposterous twaddle executed in a bewildering...\u001b[0m\n",
      "\u001b[34mName: 0, Length: 30000, dtype: object\u001b[0m\n",
      "\u001b[34m0        0\u001b[0m\n",
      "\u001b[34m1        0\u001b[0m\n",
      "\u001b[34m2        1\u001b[0m\n",
      "\u001b[34m3        0\u001b[0m\n",
      "\u001b[34m4        0\n",
      "        ..\u001b[0m\n",
      "\u001b[34m29995    0\u001b[0m\n",
      "\u001b[34m29996    0\u001b[0m\n",
      "\u001b[34m29997    0\u001b[0m\n",
      "\u001b[34m29998    0\u001b[0m\n",
      "\u001b[34m29999    0\u001b[0m\n",
      "\u001b[34mName: 1, Length: 30000, dtype: int64\u001b[0m\n",
      "\u001b[34mtrain time:  5.135s\u001b[0m\n",
      "\u001b[34mstoring model....\u001b[0m\n",
      "\u001b[34msaved model!\u001b[0m\n",
      "\u001b[34m2021-10-06 23:40:27,412 sagemaker-containers INFO     Reporting training SUCCESS\u001b[0m\n",
      "\n",
      "2021-10-06 23:40:44 Uploading - Uploading generated training model\n",
      "2021-10-06 23:40:44 Completed - Training job completed\n",
      "Training seconds: 66\n",
      "Billable seconds: 66\n"
     ]
    }
   ],
   "metadata": {}
  }
 ],
 "metadata": {
  "kernelspec": {
   "display_name": "conda_python3",
   "language": "python",
   "name": "conda_python3"
  },
  "language_info": {
   "codemirror_mode": {
    "name": "ipython",
    "version": 3
   },
   "file_extension": ".py",
   "mimetype": "text/x-python",
   "name": "python",
   "nbconvert_exporter": "python",
   "pygments_lexer": "ipython3",
   "version": "3.6.13"
  }
 },
 "nbformat": 4,
 "nbformat_minor": 5
}