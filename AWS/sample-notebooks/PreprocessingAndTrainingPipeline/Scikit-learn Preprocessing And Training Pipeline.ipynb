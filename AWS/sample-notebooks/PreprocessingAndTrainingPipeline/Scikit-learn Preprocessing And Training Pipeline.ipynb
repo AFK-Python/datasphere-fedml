{
 "cells": [
  {
   "cell_type": "markdown",
   "id": "4a0308d3",
   "metadata": {},
   "source": [
    "## Scikit-Learn Preprocessing and Training Pipeline\n",
    "##### from sklearn.feature_extraction.text import TfidfVectorizer\n",
    "##### from sklearn.naive_bayes import MultinomialNB\n",
    "### Using data from S3 and SAP Datasphere"
   ]
  },
  {
   "cell_type": "markdown",
   "id": "9c35feda",
   "metadata": {},
   "source": [
    "## Install fedml aws library"
   ]
  },
  {
   "cell_type": "code",
   "execution_count": 1,
   "id": "c77c8eaa",
   "metadata": {},
   "outputs": [],
   "source": [
    "pip install fedml-aws --force-reinstall"
   ]
  },
  {
   "cell_type": "markdown",
   "id": "84177cbb",
   "metadata": {},
   "source": [
    "## Import Libraries "
   ]
  },
  {
   "cell_type": "code",
   "execution_count": 2,
   "id": "195cf36e",
   "metadata": {},
   "outputs": [],
   "source": [
    "from fedml_aws import DwcSagemaker\n",
    "from fedml_aws import DbConnection\n",
    "import numpy as np\n",
    "import pandas as pd\n",
    "import json"
   ]
  },
  {
   "cell_type": "markdown",
   "id": "d0793271",
   "metadata": {},
   "source": [
    "## Create DwcSagemaker instance to access libraries functions"
   ]
  },
  {
   "cell_type": "code",
   "execution_count": 3,
   "id": "17b79d78",
   "metadata": {},
   "outputs": [
    {
     "name": "stdout",
     "output_type": "stream",
     "text": [
      "Bucket created in  us-east-1\n"
     ]
    }
   ],
   "source": [
    "dwcs = DwcSagemaker(prefix='<prefix>', bucket_name='<bucket_name>')"
   ]
  },
  {
   "cell_type": "markdown",
   "id": "fd655147",
   "metadata": {},
   "source": [
    "## Create DbConnection instance to get data from SAP Datasphere"
   ]
  },
  {
   "cell_type": "markdown",
   "id": "f9e4691d",
   "metadata": {},
   "source": [
    "Before running the following cell, you should have a config.json file in the same directory as this notebook with the specified values to allow you to access to SAP Datasphere.\n",
    "\n",
    "You should also have the follow view `IMDB_TEST_VIEW` created in your SAP Datasphere. To gather this data, please refer to https://www.kaggle.com/mantri7/imdb-movie-reviews-dataset?select=train_data+%281%29.csv and download the test dataset."
   ]
  },
  {
   "cell_type": "code",
   "execution_count": 4,
   "id": "e5ca9cff",
   "metadata": {},
   "outputs": [],
   "source": [
    "db = DbConnection()\n",
    "res, column_headers = db.get_data_with_headers(table_name='IMDB_TEST_VIEW', size=1)\n",
    "dwc_data = pd.DataFrame(res, columns=['0', '1'])"
   ]
  },
  {
   "cell_type": "markdown",
   "id": "be946453",
   "metadata": {},
   "source": [
    "## Now accessing data residing in S3\n",
    "\n",
    "Before running the below cell, please download the train dataset from the link below and upload it to your s3 bucket.\n",
    "https://www.kaggle.com/mantri7/imdb-movie-reviews-dataset?select=train_data+%281%29.csv"
   ]
  },
  {
   "cell_type": "code",
   "execution_count": 7,
   "id": "629a178c",
   "metadata": {},
   "outputs": [],
   "source": [
    "import boto3\n",
    "downloaded_data_bucket = f\"fedml-bucket\"\n",
    "\n",
    "s3 = boto3.client(\"s3\")\n",
    "s3.download_file(downloaded_data_bucket, \"imdb_train.csv\", \"imdb_train.csv\")"
   ]
  },
  {
   "cell_type": "code",
   "execution_count": 8,
   "id": "39733fb0",
   "metadata": {},
   "outputs": [
    {
     "data": {
      "text/html": [
       "<div>\n",
       "<style scoped>\n",
       "    .dataframe tbody tr th:only-of-type {\n",
       "        vertical-align: middle;\n",
       "    }\n",
       "\n",
       "    .dataframe tbody tr th {\n",
       "        vertical-align: top;\n",
       "    }\n",
       "\n",
       "    .dataframe thead th {\n",
       "        text-align: right;\n",
       "    }\n",
       "</style>\n",
       "<table border=\"1\" class=\"dataframe\">\n",
       "  <thead>\n",
       "    <tr style=\"text-align: right;\">\n",
       "      <th></th>\n",
       "      <th>0</th>\n",
       "      <th>1</th>\n",
       "    </tr>\n",
       "  </thead>\n",
       "  <tbody>\n",
       "    <tr>\n",
       "      <th>0</th>\n",
       "      <td>This film is absolutely awful, but nevertheles...</td>\n",
       "      <td>0</td>\n",
       "    </tr>\n",
       "    <tr>\n",
       "      <th>1</th>\n",
       "      <td>Well since seeing part's 1 through 3 I can hon...</td>\n",
       "      <td>0</td>\n",
       "    </tr>\n",
       "    <tr>\n",
       "      <th>2</th>\n",
       "      <td>I got to see this film at a preview and was da...</td>\n",
       "      <td>1</td>\n",
       "    </tr>\n",
       "    <tr>\n",
       "      <th>3</th>\n",
       "      <td>This adaptation positively butchers a classic ...</td>\n",
       "      <td>0</td>\n",
       "    </tr>\n",
       "    <tr>\n",
       "      <th>4</th>\n",
       "      <td>Råzone is an awful movie! It is so simple. It ...</td>\n",
       "      <td>0</td>\n",
       "    </tr>\n",
       "    <tr>\n",
       "      <th>...</th>\n",
       "      <td>...</td>\n",
       "      <td>...</td>\n",
       "    </tr>\n",
       "    <tr>\n",
       "      <th>24995</th>\n",
       "      <td>With this movie being the only Dirty Harry mov...</td>\n",
       "      <td>1</td>\n",
       "    </tr>\n",
       "    <tr>\n",
       "      <th>24996</th>\n",
       "      <td>Any screen adaptation of a John Grisham story ...</td>\n",
       "      <td>1</td>\n",
       "    </tr>\n",
       "    <tr>\n",
       "      <th>24997</th>\n",
       "      <td>This film captured my heart from the very begi...</td>\n",
       "      <td>1</td>\n",
       "    </tr>\n",
       "    <tr>\n",
       "      <th>24998</th>\n",
       "      <td>A deplorable social condition triggers off the...</td>\n",
       "      <td>1</td>\n",
       "    </tr>\n",
       "    <tr>\n",
       "      <th>24999</th>\n",
       "      <td>Always enjoy the great acting of Drew Barrymor...</td>\n",
       "      <td>1</td>\n",
       "    </tr>\n",
       "  </tbody>\n",
       "</table>\n",
       "<p>25000 rows × 2 columns</p>\n",
       "</div>"
      ],
      "text/plain": [
       "                                                       0  1\n",
       "0      This film is absolutely awful, but nevertheles...  0\n",
       "1      Well since seeing part's 1 through 3 I can hon...  0\n",
       "2      I got to see this film at a preview and was da...  1\n",
       "3      This adaptation positively butchers a classic ...  0\n",
       "4      Råzone is an awful movie! It is so simple. It ...  0\n",
       "...                                                  ... ..\n",
       "24995  With this movie being the only Dirty Harry mov...  1\n",
       "24996  Any screen adaptation of a John Grisham story ...  1\n",
       "24997  This film captured my heart from the very begi...  1\n",
       "24998  A deplorable social condition triggers off the...  1\n",
       "24999  Always enjoy the great acting of Drew Barrymor...  1\n",
       "\n",
       "[25000 rows x 2 columns]"
      ]
     },
     "execution_count": 8,
     "metadata": {},
     "output_type": "execute_result"
    }
   ],
   "source": [
    "df = pd.read_csv('imdb_train.csv')\n",
    "df"
   ]
  },
  {
   "cell_type": "markdown",
   "id": "d00f27d9",
   "metadata": {},
   "source": [
    "## Combining the data from S3 and SAP Datasphere to use for training."
   ]
  },
  {
   "cell_type": "code",
   "execution_count": 9,
   "id": "dbe5dddb",
   "metadata": {},
   "outputs": [
    {
     "data": {
      "text/plain": [
       "(50000, 2)"
      ]
     },
     "execution_count": 9,
     "metadata": {},
     "output_type": "execute_result"
    }
   ],
   "source": [
    "data = pd.concat([df, dwc_data], axis=0)\n",
    "data.shape"
   ]
  },
  {
   "cell_type": "code",
   "execution_count": 10,
   "id": "8555109e",
   "metadata": {},
   "outputs": [
    {
     "data": {
      "text/html": [
       "<div>\n",
       "<style scoped>\n",
       "    .dataframe tbody tr th:only-of-type {\n",
       "        vertical-align: middle;\n",
       "    }\n",
       "\n",
       "    .dataframe tbody tr th {\n",
       "        vertical-align: top;\n",
       "    }\n",
       "\n",
       "    .dataframe thead th {\n",
       "        text-align: right;\n",
       "    }\n",
       "</style>\n",
       "<table border=\"1\" class=\"dataframe\">\n",
       "  <thead>\n",
       "    <tr style=\"text-align: right;\">\n",
       "      <th></th>\n",
       "      <th>0</th>\n",
       "      <th>1</th>\n",
       "    </tr>\n",
       "  </thead>\n",
       "  <tbody>\n",
       "    <tr>\n",
       "      <th>0</th>\n",
       "      <td>This film is absolutely awful, but nevertheles...</td>\n",
       "      <td>0</td>\n",
       "    </tr>\n",
       "    <tr>\n",
       "      <th>1</th>\n",
       "      <td>Well since seeing part's 1 through 3 I can hon...</td>\n",
       "      <td>0</td>\n",
       "    </tr>\n",
       "    <tr>\n",
       "      <th>2</th>\n",
       "      <td>I got to see this film at a preview and was da...</td>\n",
       "      <td>1</td>\n",
       "    </tr>\n",
       "    <tr>\n",
       "      <th>3</th>\n",
       "      <td>This adaptation positively butchers a classic ...</td>\n",
       "      <td>0</td>\n",
       "    </tr>\n",
       "    <tr>\n",
       "      <th>4</th>\n",
       "      <td>Råzone is an awful movie! It is so simple. It ...</td>\n",
       "      <td>0</td>\n",
       "    </tr>\n",
       "  </tbody>\n",
       "</table>\n",
       "</div>"
      ],
      "text/plain": [
       "                                                   0  1\n",
       "0  This film is absolutely awful, but nevertheles...  0\n",
       "1  Well since seeing part's 1 through 3 I can hon...  0\n",
       "2  I got to see this film at a preview and was da...  1\n",
       "3  This adaptation positively butchers a classic ...  0\n",
       "4  Råzone is an awful movie! It is so simple. It ...  0"
      ]
     },
     "execution_count": 10,
     "metadata": {},
     "output_type": "execute_result"
    }
   ],
   "source": [
    "data.head()"
   ]
  },
  {
   "cell_type": "markdown",
   "id": "d9bfa7e7",
   "metadata": {},
   "source": [
    "## Train SciKit Model¶\n",
    "`train_data` is the data you want to train your model with. \n",
    "\n",
    "In order to deploy a model to AWS using the Scikit-learn Sagemaker SDK, you must have a script that tells Sagemaker how to train and deploy the model. The path to the script is passed to the `train_sklearn_model` function in the `train_script` parameter.\n",
    "\n",
    "`instance_type` specifies how much computing power we want AWS to allocate for our services."
   ]
  },
  {
   "cell_type": "code",
   "execution_count": 11,
   "id": "db6f0afb",
   "metadata": {},
   "outputs": [
    {
     "name": "stdout",
     "output_type": "stream",
     "text": [
      "Training data uploaded\n",
      "2022-01-26 23:42:10 Starting - Starting the training job...\n",
      "2022-01-26 23:42:34 Starting - Launching requested ML instancesProfilerReport-1643240530: InProgress\n",
      "......\n",
      "2022-01-26 23:43:34 Starting - Preparing the instances for training.........\n",
      "2022-01-26 23:45:02 Downloading - Downloading input data......\n",
      "2022-01-26 23:45:58 Training - Training image download completed. Training in progress.\u001b[34m2022-01-26 23:46:00,175 sagemaker-containers INFO     Imported framework sagemaker_sklearn_container.training\u001b[0m\n",
      "\u001b[34m2022-01-26 23:46:00,178 sagemaker-training-toolkit INFO     No GPUs detected (normal if no gpus installed)\u001b[0m\n",
      "\u001b[34m2022-01-26 23:46:00,190 sagemaker_sklearn_container.training INFO     Invoking user training script.\u001b[0m\n",
      "\u001b[34m2022-01-26 23:46:00,590 sagemaker-training-toolkit INFO     No GPUs detected (normal if no gpus installed)\u001b[0m\n",
      "\u001b[34m2022-01-26 23:46:03,648 sagemaker-training-toolkit INFO     No GPUs detected (normal if no gpus installed)\u001b[0m\n",
      "\u001b[34m2022-01-26 23:46:03,664 sagemaker-training-toolkit INFO     No GPUs detected (normal if no gpus installed)\u001b[0m\n",
      "\u001b[34m2022-01-26 23:46:03,676 sagemaker-training-toolkit INFO     Invoking user script\u001b[0m\n",
      "\u001b[34mTraining Env:\u001b[0m\n",
      "\u001b[34m{\n",
      "    \"additional_framework_parameters\": {},\n",
      "    \"channel_input_dirs\": {\n",
      "        \"train\": \"/opt/ml/input/data/train\"\n",
      "    },\n",
      "    \"current_host\": \"algo-1\",\n",
      "    \"framework_module\": \"sagemaker_sklearn_container.training:main\",\n",
      "    \"hosts\": [\n",
      "        \"algo-1\"\n",
      "    ],\n",
      "    \"hyperparameters\": {},\n",
      "    \"input_config_dir\": \"/opt/ml/input/config\",\n",
      "    \"input_data_config\": {\n",
      "        \"train\": {\n",
      "            \"TrainingInputMode\": \"File\",\n",
      "            \"S3DistributionType\": \"FullyReplicated\",\n",
      "            \"RecordWrapperType\": \"None\"\n",
      "        }\n",
      "    },\n",
      "    \"input_dir\": \"/opt/ml/input\",\n",
      "    \"is_master\": true,\n",
      "    \"job_name\": \"sagemaker-scikit-learn-2022-01-26-23-42-10-176\",\n",
      "    \"log_level\": 20,\n",
      "    \"master_hostname\": \"algo-1\",\n",
      "    \"model_dir\": \"/opt/ml/model\",\n",
      "    \"module_dir\": \"s3://sagemaker-us-east-1-321880606331/sagemaker-scikit-learn-2022-01-26-23-42-10-176/source/sourcedir.tar.gz\",\n",
      "    \"module_name\": \"pipeline_script\",\n",
      "    \"network_interface_name\": \"eth0\",\n",
      "    \"num_cpus\": 4,\n",
      "    \"num_gpus\": 0,\n",
      "    \"output_data_dir\": \"/opt/ml/output/data\",\n",
      "    \"output_dir\": \"/opt/ml/output\",\n",
      "    \"output_intermediate_dir\": \"/opt/ml/output/intermediate\",\n",
      "    \"resource_config\": {\n",
      "        \"current_host\": \"algo-1\",\n",
      "        \"hosts\": [\n",
      "            \"algo-1\"\n",
      "        ],\n",
      "        \"network_interface_name\": \"eth0\"\n",
      "    },\n",
      "    \"user_entry_point\": \"pipeline_script.py\"\u001b[0m\n",
      "\u001b[34m}\u001b[0m\n",
      "\u001b[34mEnvironment variables:\u001b[0m\n",
      "\u001b[34mSM_HOSTS=[\"algo-1\"]\u001b[0m\n",
      "\u001b[34mSM_NETWORK_INTERFACE_NAME=eth0\u001b[0m\n",
      "\u001b[34mSM_HPS={}\u001b[0m\n",
      "\u001b[34mSM_USER_ENTRY_POINT=pipeline_script.py\u001b[0m\n",
      "\u001b[34mSM_FRAMEWORK_PARAMS={}\u001b[0m\n",
      "\u001b[34mSM_RESOURCE_CONFIG={\"current_host\":\"algo-1\",\"hosts\":[\"algo-1\"],\"network_interface_name\":\"eth0\"}\u001b[0m\n",
      "\u001b[34mSM_INPUT_DATA_CONFIG={\"train\":{\"RecordWrapperType\":\"None\",\"S3DistributionType\":\"FullyReplicated\",\"TrainingInputMode\":\"File\"}}\u001b[0m\n",
      "\u001b[34mSM_OUTPUT_DATA_DIR=/opt/ml/output/data\u001b[0m\n",
      "\u001b[34mSM_CHANNELS=[\"train\"]\u001b[0m\n",
      "\u001b[34mSM_CURRENT_HOST=algo-1\u001b[0m\n",
      "\u001b[34mSM_MODULE_NAME=pipeline_script\u001b[0m\n",
      "\u001b[34mSM_LOG_LEVEL=20\u001b[0m\n",
      "\u001b[34mSM_FRAMEWORK_MODULE=sagemaker_sklearn_container.training:main\u001b[0m\n",
      "\u001b[34mSM_INPUT_DIR=/opt/ml/input\u001b[0m\n",
      "\u001b[34mSM_INPUT_CONFIG_DIR=/opt/ml/input/config\u001b[0m\n",
      "\u001b[34mSM_OUTPUT_DIR=/opt/ml/output\u001b[0m\n",
      "\u001b[34mSM_NUM_CPUS=4\u001b[0m\n",
      "\u001b[34mSM_NUM_GPUS=0\u001b[0m\n",
      "\u001b[34mSM_MODEL_DIR=/opt/ml/model\u001b[0m\n",
      "\u001b[34mSM_MODULE_DIR=s3://sagemaker-us-east-1-321880606331/sagemaker-scikit-learn-2022-01-26-23-42-10-176/source/sourcedir.tar.gz\u001b[0m\n",
      "\u001b[34mSM_TRAINING_ENV={\"additional_framework_parameters\":{},\"channel_input_dirs\":{\"train\":\"/opt/ml/input/data/train\"},\"current_host\":\"algo-1\",\"framework_module\":\"sagemaker_sklearn_container.training:main\",\"hosts\":[\"algo-1\"],\"hyperparameters\":{},\"input_config_dir\":\"/opt/ml/input/config\",\"input_data_config\":{\"train\":{\"RecordWrapperType\":\"None\",\"S3DistributionType\":\"FullyReplicated\",\"TrainingInputMode\":\"File\"}},\"input_dir\":\"/opt/ml/input\",\"is_master\":true,\"job_name\":\"sagemaker-scikit-learn-2022-01-26-23-42-10-176\",\"log_level\":20,\"master_hostname\":\"algo-1\",\"model_dir\":\"/opt/ml/model\",\"module_dir\":\"s3://sagemaker-us-east-1-321880606331/sagemaker-scikit-learn-2022-01-26-23-42-10-176/source/sourcedir.tar.gz\",\"module_name\":\"pipeline_script\",\"network_interface_name\":\"eth0\",\"num_cpus\":4,\"num_gpus\":0,\"output_data_dir\":\"/opt/ml/output/data\",\"output_dir\":\"/opt/ml/output\",\"output_intermediate_dir\":\"/opt/ml/output/intermediate\",\"resource_config\":{\"current_host\":\"algo-1\",\"hosts\":[\"algo-1\"],\"network_interface_name\":\"eth0\"},\"user_entry_point\":\"pipeline_script.py\"}\u001b[0m\n",
      "\u001b[34mSM_USER_ARGS=[]\u001b[0m\n",
      "\u001b[34mSM_OUTPUT_INTERMEDIATE_DIR=/opt/ml/output/intermediate\u001b[0m\n",
      "\u001b[34mSM_CHANNEL_TRAIN=/opt/ml/input/data/train\u001b[0m\n",
      "\u001b[34mPYTHONPATH=/opt/ml/code:/miniconda3/bin:/miniconda3/lib/python37.zip:/miniconda3/lib/python3.7:/miniconda3/lib/python3.7/lib-dynload:/miniconda3/lib/python3.7/site-packages\u001b[0m\n",
      "\u001b[34mInvoking script with the following command:\u001b[0m\n",
      "\u001b[34m/miniconda3/bin/python pipeline_script.py\u001b[0m\n",
      "\u001b[34mThe scikit-learn version is 0.23.2.\u001b[0m\n",
      "\u001b[34m********* Handling Data *********\u001b[0m\n",
      "\u001b[34mtraining data\n",
      "                                                       0  1\u001b[0m\n",
      "\u001b[34m0      This film is absolutely awful, but nevertheles...  0\u001b[0m\n",
      "\u001b[34m1      Well since seeing part's 1 through 3 I can hon...  0\u001b[0m\n",
      "\u001b[34m2      I got to see this film at a preview and was da...  1\u001b[0m\n",
      "\u001b[34m3      This adaptation positively butchers a classic ...  0\u001b[0m\n",
      "\u001b[34m4      Råzone is an awful movie! It is so simple. It ...  0\u001b[0m\n",
      "\u001b[34m...                                                  ... ..\u001b[0m\n",
      "\u001b[34m29995  Because Disney more often than not, ignores th...  0\u001b[0m\n",
      "\u001b[34m29996  I'm a huge fan of both Emily Watson (Breaking ...  0\u001b[0m\n",
      "\u001b[34m29997  Not even Emeril Lagasse cooking can save this ...  0\u001b[0m\n",
      "\u001b[34m29998  What an awful adaptation. The worst part was t...  0\u001b[0m\n",
      "\u001b[34m29999  Preposterous twaddle executed in a bewildering...  0\u001b[0m\n",
      "\u001b[34m[30000 rows x 2 columns]\u001b[0m\n",
      "\u001b[34m0        This film is absolutely awful, but nevertheles...\u001b[0m\n",
      "\u001b[34m1        Well since seeing part's 1 through 3 I can hon...\u001b[0m\n",
      "\u001b[34m2        I got to see this film at a preview and was da...\u001b[0m\n",
      "\u001b[34m3        This adaptation positively butchers a classic ...\u001b[0m\n",
      "\u001b[34m4        Råzone is an awful movie! It is so simple. It ...\n",
      "                               ...                        \u001b[0m\n",
      "\u001b[34m29995    Because Disney more often than not, ignores th...\u001b[0m\n",
      "\u001b[34m29996    I'm a huge fan of both Emily Watson (Breaking ...\u001b[0m\n",
      "\u001b[34m29997    Not even Emeril Lagasse cooking can save this ...\u001b[0m\n",
      "\u001b[34m29998    What an awful adaptation. The worst part was t...\u001b[0m\n",
      "\u001b[34m29999    Preposterous twaddle executed in a bewildering...\u001b[0m\n",
      "\u001b[34mName: 0, Length: 30000, dtype: object\u001b[0m\n",
      "\u001b[34m0        0\u001b[0m\n",
      "\u001b[34m1        0\u001b[0m\n",
      "\u001b[34m2        1\u001b[0m\n",
      "\u001b[34m3        0\u001b[0m\n",
      "\u001b[34m4        0\n",
      "        ..\u001b[0m\n",
      "\u001b[34m29995    0\u001b[0m\n",
      "\u001b[34m29996    0\u001b[0m\n",
      "\u001b[34m29997    0\u001b[0m\n",
      "\u001b[34m29998    0\u001b[0m\n",
      "\u001b[34m29999    0\u001b[0m\n",
      "\u001b[34mName: 1, Length: 30000, dtype: int64\u001b[0m\n",
      "\u001b[34mtrain time:  5.375s\u001b[0m\n",
      "\u001b[34mstoring model....\u001b[0m\n",
      "\u001b[34msaved model!\u001b[0m\n",
      "\u001b[34m2022-01-26 23:46:11,534 sagemaker-containers INFO     Reporting training SUCCESS\u001b[0m\n",
      "\n",
      "2022-01-26 23:46:35 Uploading - Uploading generated training model\n",
      "2022-01-26 23:46:35 Completed - Training job completed\n",
      "Training seconds: 80\n",
      "Billable seconds: 80\n"
     ]
    }
   ],
   "source": [
    "clf = dwcs.train_sklearn_model(data,\n",
    "                               train_script='pipeline_script.py',\n",
    "                               instance_type='ml.c4.xlarge',\n",
    "                              wait=True,\n",
    "                              download_output=False)"
   ]
  }
 ],
 "metadata": {
  "kernelspec": {
   "display_name": "conda_python3",
   "language": "python",
   "name": "conda_python3"
  },
  "language_info": {
   "codemirror_mode": {
    "name": "ipython",
    "version": 3
   },
   "file_extension": ".py",
   "mimetype": "text/x-python",
   "name": "python",
   "nbconvert_exporter": "python",
   "pygments_lexer": "ipython3",
   "version": "3.6.13"
  }
 },
 "nbformat": 4,
 "nbformat_minor": 5
}
