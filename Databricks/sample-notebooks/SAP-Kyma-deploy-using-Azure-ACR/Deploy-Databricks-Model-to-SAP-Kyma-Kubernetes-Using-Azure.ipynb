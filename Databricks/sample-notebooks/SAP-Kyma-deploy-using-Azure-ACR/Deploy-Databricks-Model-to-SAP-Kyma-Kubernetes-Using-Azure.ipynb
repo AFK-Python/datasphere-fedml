{
  "cells": [
    {
      "cell_type": "markdown",
      "metadata": {
        "nteract": {
          "transient": {
            "deleting": false
          }
        }
      },
      "source": [
        "## Deploy the Databricks Sales Prediction MLflow Databricks Model to SAP Kyma Kubernetes using Azure Container Registry."
      ]
    },
    {
      "cell_type": "markdown",
      "metadata": {},
      "source": [
        "Please complete the Pre-requisites for SAP Kyma Kubernetes deployment by referring the [link](../../docs/fedml_databricks.md#pre-requisites). Create a Databricks config json file specifying the configurations for SAP Kyma deployment. The 'MODEL_URI' and 'DATABRICKS_URL' can be obtained from the Databricks training notebook and the rest of the configuration values can be obtained by completing the pre-requisite steps. A template databricks config file can be found [here](./databricks_config.json)"
      ]
    },
    {
      "cell_type": "markdown",
      "metadata": {
        "nteract": {
          "transient": {
            "deleting": false
          }
        }
      },
      "source": [
        "### 1.1 Install the FedML Databricks Library"
      ]
    },
    {
      "cell_type": "code",
      "execution_count": null,
      "metadata": {
        "gather": {
          "logged": 1661894079623
        }
      },
      "outputs": [],
      "source": [
        "%pip install fedml-databricks --no-cache-dir --upgrade --force-reinstall"
      ]
    },
    {
      "cell_type": "markdown",
      "metadata": {
        "nteract": {
          "transient": {
            "deleting": false
          }
        }
      },
      "source": [
        "### 1.2 Deploy the Databricks Mlflow model to SAP Kyma Kubernetes"
      ]
    },
    {
      "cell_type": "code",
      "execution_count": null,
      "metadata": {
        "gather": {
          "logged": 1675901685858
        },
        "jupyter": {
          "outputs_hidden": false,
          "source_hidden": false
        },
        "nteract": {
          "transient": {
            "deleting": false
          }
        }
      },
      "outputs": [],
      "source": [
        "from fedml_databricks import deploy_to_kyma\n",
        "endpoint_url=deploy_to_kyma(databricks_config_path='<databricks-config-json-path>')\n",
        "print(\"The kyma endpoint url is '{}'\".format(endpoint_url))"
      ]
    }
  ],
  "metadata": {
    "kernel_info": {
      "name": "python3"
    },
    "kernelspec": {
      "display_name": "Python 3",
      "language": "python",
      "name": "python3"
    },
    "language_info": {
      "codemirror_mode": {
        "name": "ipython",
        "version": 3
      },
      "file_extension": ".py",
      "mimetype": "text/x-python",
      "name": "python",
      "nbconvert_exporter": "python",
      "pygments_lexer": "ipython3",
      "version": "3.8.11"
    },
    "microsoft": {
      "host": {
        "AzureML": {
          "notebookHasBeenCompleted": true
        }
      }
    },
    "nteract": {
      "version": "nteract-front-end@1.0.0"
    },
    "vscode": {
      "interpreter": {
        "hash": "b7f76e95e30fdba57d4abc13ceb61999061460bba7ad6964f813125e33379908"
      }
    }
  },
  "nbformat": 4,
  "nbformat_minor": 2
}
