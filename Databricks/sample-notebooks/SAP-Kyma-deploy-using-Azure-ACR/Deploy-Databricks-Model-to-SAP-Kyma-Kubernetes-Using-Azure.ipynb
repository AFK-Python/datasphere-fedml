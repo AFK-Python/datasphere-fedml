{
  "cells": [
    {
      "cell_type": "markdown",
      "source": [
        "## Deploy the Databricks Sales Prediction MLflow Databricks Model to SAP Kyma Kubernetes using Azure Container Registry."
      ],
      "metadata": {
        "nteract": {
          "transient": {
            "deleting": false
          }
        }
      }
    },
    {
      "cell_type": "markdown",
      "source": [
        "Please complete the Pre-requisites for SAP Kyma Kubernetes deployment by referring the [link](../../docs/fedml_databricks.md#pre-requisites). Create a Databricks config json file specifying the configurations for SAP Kyma deployment. The 'MODEL_URI' and 'DATABRICKS_URL' can be obtained from the Databricks training notebook and the rest of the configuration values can be obtained by completing the pre-requisite steps. A template databricks config file can be found [here](./databricks_config.json)"
      ],
      "metadata": {}
    },
    {
      "cell_type": "markdown",
      "source": [
        "### 1.1 Install the FedML Databricks Library"
      ],
      "metadata": {
        "nteract": {
          "transient": {
            "deleting": false
          }
        }
      }
    },
    {
      "cell_type": "code",
      "execution_count": null,
      "source": [
        "pip install fedml-databricks --no-cache-dir --upgrade --force-reinstall"
      ],
      "outputs": [],
      "metadata": {
        "gather": {
          "logged": 1661894079623
        }
      }
    },
    {
      "cell_type": "markdown",
      "source": [
        "### 1.2 Deploy the Databricks Mlflow model to SAP Kyma Kubernetes"
      ],
      "metadata": {
        "nteract": {
          "transient": {
            "deleting": false
          }
        }
      }
    },
    {
      "cell_type": "code",
      "execution_count": null,
      "source": [
        "from fedml_databricks import deploy_to_kyma\n",
        "endpoint_url=deploy_to_kyma(databricks_config_path='<databricks-config-file-path>')\n",
        "print(\"The kyma endpoint url is '{}'\".format(endpoint_url))"
      ],
      "outputs": [],
      "metadata": {
        "jupyter": {
          "source_hidden": false,
          "outputs_hidden": false
        },
        "nteract": {
          "transient": {
            "deleting": false
          }
        },
        "gather": {
          "logged": 1661894116838
        }
      }
    }
  ],
  "metadata": {
    "kernelspec": {
      "name": "python38-azureml",
      "language": "python",
      "display_name": "Python 3.8 - AzureML"
    },
    "language_info": {
      "name": "python",
      "version": "3.8.5",
      "mimetype": "text/x-python",
      "codemirror_mode": {
        "name": "ipython",
        "version": 3
      },
      "pygments_lexer": "ipython3",
      "nbconvert_exporter": "python",
      "file_extension": ".py"
    },
    "kernel_info": {
      "name": "python38-azureml"
    },
    "microsoft": {
      "host": {
        "AzureML": {
          "notebookHasBeenCompleted": true
        }
      }
    },
    "nteract": {
      "version": "nteract-front-end@1.0.0"
    }
  },
  "nbformat": 4,
  "nbformat_minor": 2
}