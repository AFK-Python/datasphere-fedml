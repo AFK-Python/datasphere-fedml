{
 "cells": [
  {
   "cell_type": "markdown",
   "id": "ee8495b4",
   "metadata": {},
   "source": [
    "## Deploy the Databricks Sales Prediction MLflow Databricks Model to SAP Kyma Kubernetes using AWS Elastic Container Registry."
   ]
  },
  {
   "cell_type": "markdown",
   "id": "1538c9d6",
   "metadata": {},
   "source": [
    "Please complete the Pre-requisites for SAP Kyma Kubernetes deployment by referring the [link](../../docs/fedml_databricks.md#pre-requisites). Create a Databricks config json file specifying the configurations for SAP Kyma deployment. The 'MODEL_URI' and 'DATABRICKS_URL' can be obtained from the Databricks training notebook and the rest of the configuration values can be obtained by completing the pre-requisite steps. A template databricks config file can be found [here](./databricks_config.json)"
   ]
  },
  {
   "cell_type": "markdown",
   "id": "f09642a6",
   "metadata": {},
   "source": [
    "### 1.1 Install the FedML Databricks Library"
   ]
  },
  {
   "cell_type": "code",
   "execution_count": null,
   "id": "07f1521b",
   "metadata": {},
   "outputs": [],
   "source": [
    "%pip install fedml-databricks --no-cache-dir --upgrade --force-reinstall"
   ]
  },
  {
   "cell_type": "code",
   "execution_count": null,
   "id": "3de9ce1e",
   "metadata": {},
   "outputs": [],
   "source": [
    "!aws configure set aws_access_key_id '<access-key-id>' --profile '<profile-name>'\n",
    "!aws configure set aws_secret_access_key '<secret-access-key>' --profile '<profile-name>'\n",
    "!aws configure set region '<region>' --profile '<profile-name>'"
   ]
  },
  {
   "cell_type": "markdown",
   "id": "34571d5c",
   "metadata": {},
   "source": [
    "### 1.2 Deploy the Databricks Mlflow model to SAP Kyma Kubernetes"
   ]
  },
  {
   "cell_type": "code",
   "execution_count": null,
   "id": "421679af",
   "metadata": {},
   "outputs": [],
   "source": [
    "from fedml_databricks import deploy_to_kyma\n",
    "endpoint_url=deploy_to_kyma(databricks_config_path='<databricks-config-json-path>')"
   ]
  }
 ],
 "metadata": {
  "kernelspec": {
   "display_name": "Python 3.8.11 64-bit ('3.8.11')",
   "language": "python",
   "name": "python3"
  },
  "language_info": {
   "codemirror_mode": {
    "name": "ipython",
    "version": 3
   },
   "file_extension": ".py",
   "mimetype": "text/x-python",
   "name": "python",
   "nbconvert_exporter": "python",
   "pygments_lexer": "ipython3",
   "version": "3.8.11"
  },
  "vscode": {
   "interpreter": {
    "hash": "b7f76e95e30fdba57d4abc13ceb61999061460bba7ad6964f813125e33379908"
   }
  }
 },
 "nbformat": 4,
 "nbformat_minor": 5
}
