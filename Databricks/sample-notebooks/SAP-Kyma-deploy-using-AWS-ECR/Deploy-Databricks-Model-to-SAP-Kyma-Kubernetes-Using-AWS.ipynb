{
 "cells": [
  {
   "cell_type": "markdown",
   "source": [
    "## Deploy the Databricks Sales Prediction MLflow Databricks Model to SAP Kyma Kubernetes using AWS Elastic Container Registry."
   ],
   "metadata": {}
  },
  {
   "cell_type": "markdown",
   "source": [
    "Please complete the Pre-requisites for SAP Kyma Kubernetes deployment by referring the [link](../../docs/fedml_databricks.md#pre-requisites). Create a Databricks config json file specifying the configurations for SAP Kyma deployment. The 'MODEL_URI' and 'DATABRICKS_URL' can be obtained from the Databricks training notebook and the rest of the configuration values can be obtained by completing the pre-requisite steps. A template databricks config file can be found [here](./databricks_config.json)"
   ],
   "metadata": {}
  },
  {
   "cell_type": "markdown",
   "source": [
    "### 1.1 Install the FedML Databricks Library"
   ],
   "metadata": {}
  },
  {
   "cell_type": "code",
   "execution_count": null,
   "source": [
    "pip install fedml-databricks --no-cache-dir --upgrade --force-reinstall"
   ],
   "outputs": [],
   "metadata": {}
  },
  {
   "cell_type": "code",
   "execution_count": 1,
   "source": [
    "!aws configure set aws_access_key_id <aws-access-key-id> --profile <profile-name>\n",
    "!aws configure set aws_secret_access_key <aws-secret-access-key> --profile <profile-name>\n",
    "!aws configure set region <region> --profile <profile-name>"
   ],
   "outputs": [],
   "metadata": {}
  },
  {
   "cell_type": "markdown",
   "source": [
    "### 1.2 Deploy the Databricks Mlflow model to SAP Kyma Kubernetes"
   ],
   "metadata": {}
  },
  {
   "cell_type": "code",
   "execution_count": null,
   "source": [
    "from fedml_databricks import deploy_to_kyma\n",
    "endpoint_url=deploy_to_kyma(databricks_config_path=<databricks-config-path>)"
   ],
   "outputs": [],
   "metadata": {}
  }
 ],
 "metadata": {
  "kernelspec": {
   "display_name": "conda_python3",
   "language": "python",
   "name": "conda_python3"
  },
  "language_info": {
   "codemirror_mode": {
    "name": "ipython",
    "version": 3
   },
   "file_extension": ".py",
   "mimetype": "text/x-python",
   "name": "python",
   "nbconvert_exporter": "python",
   "pygments_lexer": "ipython3",
   "version": "3.8.12"
  }
 },
 "nbformat": 4,
 "nbformat_minor": 5
}