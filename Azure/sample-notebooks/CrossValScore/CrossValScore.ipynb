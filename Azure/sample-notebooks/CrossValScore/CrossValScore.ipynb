{
  "cells": [
    {
      "cell_type": "markdown",
      "source": [
        "# Scikit-Learn Cross Val Score on Logistic Regression Model\n",
        "## Using IRIS_VIEW from DWC. This view has 150 records."
      ],
      "metadata": {}
    },
    {
      "cell_type": "markdown",
      "source": [
        "## Install fedml-azure package"
      ],
      "metadata": {
        "nteract": {
          "transient": {
            "deleting": false
          }
        }
      }
    },
    {
      "cell_type": "code",
      "execution_count": 1,
      "source": [
        "pip install fedml-azure --force-reinstall"
      ],
      "outputs": [
        {
          "output_type": "stream",
          "name": "stdout",
          "text": [
            "Processing ./fedml_azure-1.0.0-py3-none-any.whl\n",
            "Collecting hdbcli\n",
            "  Using cached hdbcli-2.10.13-cp34-abi3-manylinux1_x86_64.whl (11.7 MB)\n",
            "Installing collected packages: hdbcli, fedml-azure\n",
            "  Attempting uninstall: hdbcli\n",
            "    Found existing installation: hdbcli 2.10.13\n",
            "    Uninstalling hdbcli-2.10.13:\n",
            "      Successfully uninstalled hdbcli-2.10.13\n",
            "  Attempting uninstall: fedml-azure\n",
            "    Found existing installation: fedml-azure 1.0.0\n",
            "    Uninstalling fedml-azure-1.0.0:\n",
            "      Successfully uninstalled fedml-azure-1.0.0\n",
            "Successfully installed fedml-azure-1.0.0 hdbcli-2.10.13\n",
            "Note: you may need to restart the kernel to use updated packages.\n"
          ]
        }
      ],
      "metadata": {
        "jupyter": {
          "source_hidden": false,
          "outputs_hidden": false
        },
        "nteract": {
          "transient": {
            "deleting": false
          }
        },
        "gather": {
          "logged": 1633631359654
        }
      }
    },
    {
      "cell_type": "markdown",
      "source": [
        "## Import the libraries needed in this notebook"
      ],
      "metadata": {}
    },
    {
      "cell_type": "code",
      "execution_count": 2,
      "source": [
        "from fedml_azure import create_workspace\n",
        "from fedml_azure import create_compute\n",
        "from fedml_azure import create_environment\n",
        "from fedml_azure import DwcAzureTrain"
      ],
      "outputs": [],
      "metadata": {
        "gather": {
          "logged": 1633631360544
        }
      }
    },
    {
      "cell_type": "markdown",
      "source": [
        "## Set up\n",
        "### Creating a workspace. This takes a dictionary as input for parameter workspace_args.\n",
        "\n",
        "Before running the below cell, ensure that you have a workspace and replace the subscription_id, \n",
        "resource_group, and workspace_name with your information.\n",
        "https://docs.microsoft.com/en-us/azure/machine-learning/how-to-manage-workspace?tabs=python\n"
      ],
      "metadata": {}
    },
    {
      "cell_type": "code",
      "execution_count": 3,
      "source": [
        "#creation of workspace\n",
        "workspace=create_workspace(workspace_args={\n",
        "                                            \"subscription_id\": '<subscription-id>',\n",
        "                                            \"resource_group\": '<resource-group>',\n",
        "                                            \"workspace_name\": '<workspace_name>'\n",
        "                                            }\n",
        ")\n",
        "\n"
      ],
      "outputs": [
        {
          "output_type": "stream",
          "name": "stdout",
          "text": [
            "Getting existing Workspace\n"
          ]
        }
      ],
      "metadata": {
        "gather": {
          "logged": 1633631360654
        }
      }
    },
    {
      "cell_type": "markdown",
      "source": [
        "### Creating a Compute Cluster. This takes the workspace, a compute_type, and compute_args.\n",
        "https://docs.microsoft.com/en-us/azure/machine-learning/how-to-create-attach-compute-cluster?tabs=python\n",
        "\n",
        "https://docs.microsoft.com/en-us/python/api/azureml-core/azureml.core.compute.amlcompute.amlcompute?view=azure-ml-py"
      ],
      "metadata": {}
    },
    {
      "cell_type": "code",
      "execution_count": 4,
      "source": [
        "#creation of compute target\n",
        "compute=create_compute(workspace=workspace,\n",
        "                   compute_type='AmlComputeCluster',\n",
        "                   compute_args={'vm_size':'Standard_D12_v2',\n",
        "                                'vm_priority':'lowpriority',\n",
        "                                'compute_name':'cpu-clu-cross',\n",
        "                                'min_nodes':0,\n",
        "                                'max_nodes':4,\n",
        "                                'idle_seconds_before_scaledown':1700\n",
        "                                }\n",
        "                )"
      ],
      "outputs": [
        {
          "output_type": "stream",
          "name": "stdout",
          "text": [
            "Creating Compute_target\n",
            "Found compute target. just use it. cpu-clu-cross\n"
          ]
        }
      ],
      "metadata": {
        "gather": {
          "logged": 1633631361515
        }
      }
    },
    {
      "cell_type": "markdown",
      "source": [
        "### Creating an Environment. This takes the workspace, environment_type, and environment_args.\n",
        "\n",
        "The fedml-azure pip package must be passed to the pip_packages key in the environment_args and \n",
        "to use scikit-learn, you must pass the name to conda_packages as well.\n",
        "\n",
        "https://docs.microsoft.com/en-us/python/api/azureml-core/azureml.core.environment(class)?view=azure-ml-py\n",
        "\n",
        "https://docs.microsoft.com/en-us/azure/machine-learning/how-to-use-environments"
      ],
      "metadata": {}
    },
    {
      "cell_type": "code",
      "execution_count": 5,
      "source": [
        "#creation of environment\n",
        "environment=create_environment(workspace=workspace, \n",
        "                            environment_type='CondaPackageEnvironment',\n",
        "                           environment_args={'name':'test-env-cross',\n",
        "                                            'conda_packages':['scikit-learn'],\n",
        "                                            'pip_packages':['fedml-azure']})"
      ],
      "outputs": [
        {
          "output_type": "stream",
          "name": "stdout",
          "text": [
            "Creating Environment\n"
          ]
        }
      ],
      "metadata": {
        "gather": {
          "logged": 1633631362560
        }
      }
    },
    {
      "cell_type": "markdown",
      "source": [
        "## Now, let's train the model\n",
        "### First, we need to instantiate the training class - this will assign the workspace, compute, and environment"
      ],
      "metadata": {}
    },
    {
      "cell_type": "code",
      "execution_count": 6,
      "source": [
        "train=DwcAzureTrain(workspace=workspace, experiment_args={'name':'test-2'}, compute=compute, environment=environment)"
      ],
      "outputs": [
        {
          "output_type": "stream",
          "name": "stdout",
          "text": [
            "Assigning Workspace\n",
            "Creating Experiment\n",
            "Assigning compute\n",
            "Assigning Environment\n"
          ]
        }
      ],
      "metadata": {
        "gather": {
          "logged": 1633631362678
        }
      }
    },
    {
      "cell_type": "markdown",
      "source": [
        "## Here we are updating our compute from a compute cluster to a compute instance. This is optional to run."
      ],
      "metadata": {
        "nteract": {
          "transient": {
            "deleting": false
          }
        }
      }
    },
    {
      "cell_type": "code",
      "execution_count": 7,
      "source": [
        "train.update_compute(compute_type='AmlComputeInstance',compute_args={'vm_size':\"Standard_D3_v2\",'compute_name':'cpu-fedml'})"
      ],
      "outputs": [
        {
          "output_type": "stream",
          "name": "stdout",
          "text": [
            "Updating compute\n",
            "Creating Compute_target\n",
            "\n",
            "Creating........................................\n",
            "Running\n"
          ]
        }
      ],
      "metadata": {
        "jupyter": {
          "source_hidden": false,
          "outputs_hidden": false
        },
        "nteract": {
          "transient": {
            "deleting": false
          }
        },
        "gather": {
          "logged": 1633631577587
        }
      }
    },
    {
      "cell_type": "markdown",
      "source": [
        "### Then, we need to generate the run config. This is needed to package the configuration specified so we can submit a job for training. \n",
        "\n",
        "\n",
        "Before running the following cell, you should have a config.json file with the specified values to allow you to access to DWC. Provide this file path to config_file_path in the below cell.\n",
        "\n",
        "You should also have the follow view IRIS_VIEW created in your DWC. To gather this data, please refer to https://www.kaggle.com/uciml/iris\n",
        "\n",
        "https://docs.microsoft.com/en-us/python/api/azureml-core/azureml.core.scriptrunconfig?view=azure-ml-py"
      ],
      "metadata": {}
    },
    {
      "cell_type": "code",
      "execution_count": 8,
      "source": [
        "#generating the run config\n",
        "src=train.generate_run_config(config_file_path='dwc_configs/config.json',\n",
        "                          config_args={\n",
        "                                          'source_directory':'Scikit-Learn-CrossValScore',\n",
        "                                          'script':'iris_train.py',\n",
        "                                          'arguments':[\n",
        "                                                        '--model_file_name','regression.pkl',\n",
        "                                                        '--table_name', 'IRIS_VIEW',\n",
        "                                                        '--table_size', '1']\n",
        "                                          }\n",
        "                            )"
      ],
      "outputs": [
        {
          "output_type": "stream",
          "name": "stdout",
          "text": [
            "Generating script run config\n",
            "Config file already exists in the script_directory Scikit-Learn-CrossValScore\n"
          ]
        }
      ],
      "metadata": {
        "gather": {
          "logged": 1633631577691
        }
      }
    },
    {
      "cell_type": "markdown",
      "source": [
        "### Submitting the job for training"
      ],
      "metadata": {}
    },
    {
      "cell_type": "code",
      "execution_count": null,
      "source": [
        "#submitting the training run\n",
        "run=train.submit_run(src)"
      ],
      "outputs": [],
      "metadata": {
        "gather": {
          "logged": 1633631748571
        }
      }
    },
    {
      "cell_type": "markdown",
      "source": [
        "## Register the model for deployment"
      ],
      "metadata": {}
    },
    {
      "cell_type": "code",
      "execution_count": 10,
      "source": [
        "# register the best model with the input dataset\n",
        "model = train.register_model(run=run,\n",
        "                           model_args={'model_name':'sklearn_crossval_model', \n",
        "                           'model_path':'outputs/regression.pkl'},\n",
        "                           resource_config_args={'cpu':1, 'memory_in_gb':0.5},\n",
        "                           is_sklearn_model=True\n",
        "                            )\n",
        "\n",
        "print('Name:', model.name)\n",
        "print('Version:', model.version)"
      ],
      "outputs": [
        {
          "output_type": "stream",
          "name": "stdout",
          "text": [
            "Registering the model\n",
            "Configuring parameters for sklearn model\n",
            "Name: sklearn_crossval_model\n",
            "Version: 6\n"
          ]
        }
      ],
      "metadata": {
        "gather": {
          "logged": 1633631749510
        }
      }
    }
  ],
  "metadata": {
    "kernelspec": {
      "name": "python3-azureml",
      "language": "python",
      "display_name": "Python 3.6 - AzureML"
    },
    "kernel_info": {
      "name": "python3-azureml"
    },
    "nteract": {
      "version": "nteract-front-end@1.0.0"
    },
    "language_info": {
      "name": "python",
      "version": "3.6.9",
      "mimetype": "text/x-python",
      "codemirror_mode": {
        "name": "ipython",
        "version": 3
      },
      "pygments_lexer": "ipython3",
      "nbconvert_exporter": "python",
      "file_extension": ".py"
    },
    "microsoft": {
      "host": {
        "AzureML": {
          "notebookHasBeenCompleted": true
        }
      }
    }
  },
  "nbformat": 4,
  "nbformat_minor": 2
}