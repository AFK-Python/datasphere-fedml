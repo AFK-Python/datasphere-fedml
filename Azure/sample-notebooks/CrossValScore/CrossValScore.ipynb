{
  "cells": [
    {
      "cell_type": "markdown",
      "source": [
        "# Scikit-Learn Cross Val Score on Logistic Regression Model\n",
        "## Using IRIS_VIEW from DWC. This view has 150 records."
      ],
      "metadata": {}
    },
    {
      "cell_type": "markdown",
      "source": [
        "## Install fedml-azure package"
      ],
      "metadata": {
        "nteract": {
          "transient": {
            "deleting": false
          }
        }
      }
    },
    {
      "cell_type": "code",
      "execution_count": 1,
      "source": [
        "pip install fedml-azure --force-reinstall"
      ],
      "outputs": [
        {
          "output_type": "stream",
          "name": "stdout",
          "text": [
            "Processing ./fedml_azure-1.0.0-py3-none-any.whl\n",
            "Collecting hdbcli\n",
            "  Using cached hdbcli-2.10.13-cp34-abi3-manylinux1_x86_64.whl (11.7 MB)\n",
            "Installing collected packages: hdbcli, fedml-azure\n",
            "  Attempting uninstall: hdbcli\n",
            "    Found existing installation: hdbcli 2.10.13\n",
            "    Uninstalling hdbcli-2.10.13:\n",
            "      Successfully uninstalled hdbcli-2.10.13\n",
            "  Attempting uninstall: fedml-azure\n",
            "    Found existing installation: fedml-azure 1.0.0\n",
            "    Uninstalling fedml-azure-1.0.0:\n",
            "      Successfully uninstalled fedml-azure-1.0.0\n",
            "Successfully installed fedml-azure-1.0.0 hdbcli-2.10.13\n",
            "Note: you may need to restart the kernel to use updated packages.\n"
          ]
        }
      ],
      "metadata": {
        "jupyter": {
          "source_hidden": false,
          "outputs_hidden": false
        },
        "nteract": {
          "transient": {
            "deleting": false
          }
        },
        "gather": {
          "logged": 1633631359654
        }
      }
    },
    {
      "cell_type": "markdown",
      "source": [
        "## Import the libraries needed in this notebook"
      ],
      "metadata": {}
    },
    {
      "cell_type": "code",
      "execution_count": 2,
      "source": [
        "from fedml_azure import create_workspace\n",
        "from fedml_azure import create_compute\n",
        "from fedml_azure import create_environment\n",
        "from fedml_azure import DwcAzureTrain"
      ],
      "outputs": [],
      "metadata": {
        "gather": {
          "logged": 1633631360544
        }
      }
    },
    {
      "cell_type": "markdown",
      "source": [
        "## Set up\n",
        "### Creating a workspace. This takes a dictionary as input for parameter workspace_args.\n",
        "\n",
        "Before running the below cell, ensure that you have a workspace and replace the subscription_id, \n",
        "resource_group, and workspace_name with your information.\n",
        "https://docs.microsoft.com/en-us/azure/machine-learning/how-to-manage-workspace?tabs=python\n"
      ],
      "metadata": {}
    },
    {
      "cell_type": "code",
      "execution_count": 3,
      "source": [
        "#creation of workspace\n",
        "workspace=create_workspace(workspace_args={\n",
        "                                            \"subscription_id\": '<subscription-id>',\n",
        "                                            \"resource_group\": '<resource-group>',\n",
        "                                            \"workspace_name\": '<workspace_name>'\n",
        "                                            }\n",
        ")\n",
        "\n"
      ],
      "outputs": [
        {
          "output_type": "stream",
          "name": "stdout",
          "text": [
            "Getting existing Workspace\n"
          ]
        }
      ],
      "metadata": {
        "gather": {
          "logged": 1633631360654
        }
      }
    },
    {
      "cell_type": "markdown",
      "source": [
        "### Creating a Compute Cluster. This takes the workspace, a compute_type, and compute_args.\n",
        "https://docs.microsoft.com/en-us/azure/machine-learning/how-to-create-attach-compute-cluster?tabs=python\n",
        "\n",
        "https://docs.microsoft.com/en-us/python/api/azureml-core/azureml.core.compute.amlcompute.amlcompute?view=azure-ml-py"
      ],
      "metadata": {}
    },
    {
      "cell_type": "code",
      "execution_count": 4,
      "source": [
        "#creation of compute target\n",
        "compute=create_compute(workspace=workspace,\n",
        "                   compute_type='AmlComputeCluster',\n",
        "                   compute_args={'vm_size':'Standard_D12_v2',\n",
        "                                'vm_priority':'lowpriority',\n",
        "                                'compute_name':'cpu-clu-cross',\n",
        "                                'min_nodes':0,\n",
        "                                'max_nodes':4,\n",
        "                                'idle_seconds_before_scaledown':1700\n",
        "                                }\n",
        "                )"
      ],
      "outputs": [
        {
          "output_type": "stream",
          "name": "stdout",
          "text": [
            "Creating Compute_target\n",
            "Found compute target. just use it. cpu-clu-cross\n"
          ]
        }
      ],
      "metadata": {
        "gather": {
          "logged": 1633631361515
        }
      }
    },
    {
      "cell_type": "markdown",
      "source": [
        "### Creating an Environment. This takes the workspace, environment_type, and environment_args.\n",
        "\n",
        "The fedml-azure pip package must be passed to the pip_packages key in the environment_args and \n",
        "to use scikit-learn, you must pass the name to conda_packages as well.\n",
        "\n",
        "https://docs.microsoft.com/en-us/python/api/azureml-core/azureml.core.environment(class)?view=azure-ml-py\n",
        "\n",
        "https://docs.microsoft.com/en-us/azure/machine-learning/how-to-use-environments"
      ],
      "metadata": {}
    },
    {
      "cell_type": "code",
      "execution_count": 5,
      "source": [
        "#creation of environment\n",
        "environment=create_environment(workspace=workspace, \n",
        "                            environment_type='CondaPackageEnvironment',\n",
        "                           environment_args={'name':'test-env-cross',\n",
        "                                            'conda_packages':['scikit-learn'],\n",
        "                                            'pip_packages':['fedml-azure']})"
      ],
      "outputs": [
        {
          "output_type": "stream",
          "name": "stdout",
          "text": [
            "Creating Environment\n"
          ]
        }
      ],
      "metadata": {
        "gather": {
          "logged": 1633631362560
        }
      }
    },
    {
      "cell_type": "markdown",
      "source": [
        "## Now, let's train the model\n",
        "### First, we need to instantiate the training class - this will assign the workspace, compute, and environment"
      ],
      "metadata": {}
    },
    {
      "cell_type": "code",
      "execution_count": 6,
      "source": [
        "train=DwcAzureTrain(workspace=workspace, experiment_args={'name':'test-2'}, compute=compute, environment=environment)"
      ],
      "outputs": [
        {
          "output_type": "stream",
          "name": "stdout",
          "text": [
            "Assigning Workspace\n",
            "Creating Experiment\n",
            "Assigning compute\n",
            "Assigning Environment\n"
          ]
        }
      ],
      "metadata": {
        "gather": {
          "logged": 1633631362678
        }
      }
    },
    {
      "cell_type": "markdown",
      "source": [
        "## Here we are updating our compute from a compute cluster to a compute instance. This is optional to run."
      ],
      "metadata": {
        "nteract": {
          "transient": {
            "deleting": false
          }
        }
      }
    },
    {
      "cell_type": "code",
      "execution_count": 7,
      "source": [
        "train.update_compute(compute_type='AmlComputeInstance',compute_args={'vm_size':\"Standard_D3_v2\",'compute_name':'cpu-fedml'})"
      ],
      "outputs": [
        {
          "output_type": "stream",
          "name": "stdout",
          "text": [
            "Updating compute\n",
            "Creating Compute_target\n",
            "\n",
            "Creating........................................\n",
            "Running\n"
          ]
        }
      ],
      "metadata": {
        "jupyter": {
          "source_hidden": false,
          "outputs_hidden": false
        },
        "nteract": {
          "transient": {
            "deleting": false
          }
        },
        "gather": {
          "logged": 1633631577587
        }
      }
    },
    {
      "cell_type": "markdown",
      "source": [
        "### Then, we need to generate the run config. This is needed to package the configuration specified so we can submit a job for training. \n",
        "\n",
        "\n",
        "Before running the following cell, you should have a config.json file with the specified values to allow you to access to DWC. Provide this file path to config_file_path in the below cell.\n",
        "\n",
        "You should also have the follow view IRIS_VIEW created in your DWC. To gather this data, please refer to https://www.kaggle.com/uciml/iris\n",
        "\n",
        "https://docs.microsoft.com/en-us/python/api/azureml-core/azureml.core.scriptrunconfig?view=azure-ml-py"
      ],
      "metadata": {}
    },
    {
      "cell_type": "code",
      "execution_count": 8,
      "source": [
        "#generating the run config\n",
        "src=train.generate_run_config(config_file_path='dwc_configs/config.json',\n",
        "                          config_args={\n",
        "                                          'source_directory':'Scikit-Learn-CrossValScore',\n",
        "                                          'script':'iris_train.py',\n",
        "                                          'arguments':[\n",
        "                                                        '--model_file_name','regression.pkl',\n",
        "                                                        '--table_name', 'IRIS_VIEW',\n",
        "                                                        '--table_size', '1']\n",
        "                                          }\n",
        "                            )"
      ],
      "outputs": [
        {
          "output_type": "stream",
          "name": "stdout",
          "text": [
            "Generating script run config\n",
            "Config file already exists in the script_directory Scikit-Learn-CrossValScore\n"
          ]
        }
      ],
      "metadata": {
        "gather": {
          "logged": 1633631577691
        }
      }
    },
    {
      "cell_type": "markdown",
      "source": [
        "### Submitting the job for training"
      ],
      "metadata": {}
    },
    {
      "cell_type": "code",
      "execution_count": 9,
      "source": [
        "#submitting the training run\n",
        "run=train.submit_run(src)"
      ],
      "outputs": [
        {
          "output_type": "stream",
          "name": "stdout",
          "text": [
            "Submitting training run\n",
            "RunId: test-2_1633631577_4a4fbb73\n",
            "Web View: https://ml.azure.com/runs/test-2_1633631577_4a4fbb73?wsid=/subscriptions/cb97564e-cea8-45a4-9c5c-a3357e8f7ee4/resourcegroups/Sample2_AzureML_Resource/workspaces/Sample2_AzureML_Worskpace&tid=42f7676c-f455-423c-82f6-dc2d99791af7\n",
            "\n",
            "Streaming azureml-logs/55_azureml-execution-tvmps_1afe99b5a2cc83b393f3735fe9660c4edc4b55114e22a21f9a1eda2a5559fd9e_d.txt\n",
            "========================================================================================================================\n",
            "\n",
            "2021-10-07T18:33:04Z Running following command: /bin/bash -c sudo blobfuse /mnt/batch/tasks/shared/LS_root/jobs/sample2_azureml_worskpace/azureml/test-2_1633631577_4a4fbb73/mounts/workspaceblobstore --tmp-path=/mnt/batch/tasks/shared/LS_root/jobs/sample2_azureml_worskpace/azureml/test-2_1633631577_4a4fbb73/caches/workspaceblobstore -o ro --file-cache-timeout-in-seconds=1000000 --cache-size-mb=171371 -o nonempty -o allow_other --config-file=/mnt/batch/tasks/shared/LS_root/jobs/sample2_azureml_worskpace/azureml/test-2_1633631577_4a4fbb73/configs/workspaceblobstore.cfg --log-level=LOG_WARNING\n",
            "2021-10-07T18:33:04Z Successfully mounted a/an Blobfuse File System at /mnt/batch/tasks/shared/LS_root/jobs/sample2_azureml_worskpace/azureml/test-2_1633631577_4a4fbb73/mounts/workspaceblobstore\n",
            "2021-10-07T18:33:04Z The vmsize standard_d3_v2 is not a GPU VM, skipping get GPU count by running nvidia-smi command.\n",
            "2021-10-07T18:33:04Z Starting output-watcher...\n",
            "2021-10-07T18:33:04Z IsDedicatedCompute == True, won't poll for Low Pri Preemption\n",
            "2021-10-07T18:33:04Z Executing 'Copy ACR Details file' on 10.0.0.4\n",
            "2021-10-07T18:33:04Z Copy ACR Details file succeeded on 10.0.0.4. Output: \n",
            ">>>   \n",
            ">>>   \n",
            "Login Succeeded\n",
            "Using default tag: latest\n",
            "latest: Pulling from azureml/azureml_ee172d1faf306a9c7a629ce24fc10a95\n",
            "feac53061382: Pulling fs layer\n",
            "7dce5c8175d6: Pulling fs layer\n",
            "0a1b9502ed8f: Pulling fs layer\n",
            "d187f505e8b8: Pulling fs layer\n",
            "c7a3c00b133d: Pulling fs layer\n",
            "31b816123763: Pulling fs layer\n",
            "37b899c2505c: Pulling fs layer\n",
            "abda0175e0e2: Pulling fs layer\n",
            "19d6148ce542: Pulling fs layer\n",
            "3bd14375935b: Pulling fs layer\n",
            "da8e7c6a5f30: Pulling fs layer\n",
            "f9572935a97b: Pulling fs layer\n",
            "f7cc29db5edd: Pulling fs layer\n",
            "3104f54f5dcf: Pulling fs layer\n",
            "4df6d6c07f32: Pulling fs layer\n",
            "fdc571b0fe86: Pulling fs layer\n",
            "1b9ddf054d3d: Pulling fs layer\n",
            "f8995d9ccf23: Pulling fs layer\n",
            "37b899c2505c: Waiting\n",
            "abda0175e0e2: Waiting\n",
            "19d6148ce542: Waiting\n",
            "da8e7c6a5f30: Waiting\n",
            "f9572935a97b: Waiting\n",
            "f7cc29db5edd: Waiting\n",
            "3104f54f5dcf: Waiting\n",
            "4df6d6c07f32: Waiting\n",
            "d187f505e8b8: Waiting\n",
            "c7a3c00b133d: Waiting\n",
            "fdc571b0fe86: Waiting\n",
            "1b9ddf054d3d: Waiting\n",
            "31b816123763: Waiting\n",
            "f8995d9ccf23: Waiting\n",
            "3bd14375935b: Waiting\n",
            "0a1b9502ed8f: Verifying Checksum\n",
            "0a1b9502ed8f: Download complete\n",
            "feac53061382: Download complete\n",
            "d187f505e8b8: Download complete\n",
            "31b816123763: Verifying Checksum\n",
            "31b816123763: Download complete\n",
            "37b899c2505c: Verifying Checksum\n",
            "37b899c2505c: Download complete\n",
            "c7a3c00b133d: Verifying Checksum\n",
            "c7a3c00b133d: Download complete\n",
            "19d6148ce542: Verifying Checksum\n",
            "19d6148ce542: Download complete\n",
            "abda0175e0e2: Verifying Checksum\n",
            "abda0175e0e2: Download complete\n",
            "3bd14375935b: Verifying Checksum\n",
            "3bd14375935b: Download complete\n",
            "da8e7c6a5f30: Verifying Checksum\n",
            "da8e7c6a5f30: Download complete\n",
            "f7cc29db5edd: Verifying Checksum\n",
            "f7cc29db5edd: Download complete\n",
            "feac53061382: Pull complete\n",
            "f9572935a97b: Verifying Checksum\n",
            "f9572935a97b: Download complete\n",
            "4df6d6c07f32: Download complete\n",
            "fdc571b0fe86: Verifying Checksum\n",
            "fdc571b0fe86: Download complete\n",
            "7dce5c8175d6: Verifying Checksum\n",
            "7dce5c8175d6: Download complete\n",
            "f8995d9ccf23: Verifying Checksum\n",
            "f8995d9ccf23: Download complete\n",
            "1b9ddf054d3d: Verifying Checksum\n",
            "1b9ddf054d3d: Download complete\n",
            "3104f54f5dcf: Download complete\n",
            "7dce5c8175d6: Pull complete\n",
            "0a1b9502ed8f: Pull complete\n",
            "d187f505e8b8: Pull complete\n",
            "c7a3c00b133d: Pull complete\n",
            "31b816123763: Pull complete\n",
            "37b899c2505c: Pull complete\n",
            "abda0175e0e2: Pull complete\n",
            "19d6148ce542: Pull complete\n",
            "3bd14375935b: Pull complete\n",
            "da8e7c6a5f30: Pull complete\n",
            "f9572935a97b: Pull complete\n",
            "f7cc29db5edd: Pull complete\n",
            "\n",
            "Streaming azureml-logs/65_job_prep-tvmps_1afe99b5a2cc83b393f3735fe9660c4edc4b55114e22a21f9a1eda2a5559fd9e_d.txt\n",
            "===============================================================================================================\n",
            "\n",
            "[2021-10-07T18:34:31.883809] Entering job preparation.\n",
            "[2021-10-07T18:34:32.836807] Starting job preparation.\n",
            "[2021-10-07T18:34:32.836846] Extracting the control code.\n",
            "[2021-10-07T18:34:32.837221] Starting extract_project.\n",
            "[2021-10-07T18:34:32.837272] Starting to extract zip file.\n",
            "[2021-10-07T18:34:32.860021] Finished extracting zip file.\n",
            "[2021-10-07T18:34:32.863347] Using urllib.request Python 3.0 or later\n",
            "[2021-10-07T18:34:32.863428] Start fetching snapshots.\n",
            "[2021-10-07T18:34:32.863473] Start fetching snapshot.\n",
            "[2021-10-07T18:34:32.863508] Retrieving project from snapshot: d67f2d6d-f6c2-4fe2-addf-61cfb1047825\n",
            "Starting the daemon thread to refresh tokens in background for process with pid = 39\n",
            "[2021-10-07T18:34:33.216258] Finished fetching snapshot.\n",
            "[2021-10-07T18:34:33.216301] Finished fetching snapshots.\n",
            "[2021-10-07T18:34:33.216320] Finished extract_project.\n",
            "[2021-10-07T18:34:33.216410] Finished fetching and extracting the control code.\n",
            "[2021-10-07T18:34:33.220826] downloadDataStore - Download from datastores if requested.\n",
            "[2021-10-07T18:34:33.222037] Start run_history_prep.\n",
            "[2021-10-07T18:34:33.227052] Entering context manager injector.\n",
            "[2021-10-07T18:34:33.231814] downloadDataStore completed\n",
            "[2021-10-07T18:34:33.233304] Job preparation is complete.\n",
            "\n",
            "Streaming azureml-logs/75_job_post-tvmps_1afe99b5a2cc83b393f3735fe9660c4edc4b55114e22a21f9a1eda2a5559fd9e_d.txt\n",
            "===============================================================================================================\n",
            "\n",
            "[2021-10-07T18:35:05.975183] Entering job release\n",
            "[2021-10-07T18:35:06.900362] Starting job release\n",
            "[2021-10-07T18:35:06.900913] Logging experiment finalizing status in history service.\n",
            "[2021-10-07T18:35:06.901174] job release stage : upload_datastore starting...\n",
            "Starting the daemon thread to refresh tokens in background for process with pid = 154\n",
            "[2021-10-07T18:35:06.901962] job release stage : start importing azureml.history._tracking in run_history_release.\n",
            "[2021-10-07T18:35:06.904224] job release stage : execute_job_release starting...\n",
            "[2021-10-07T18:35:06.910648] job release stage : copy_batchai_cached_logs starting...\n",
            "[2021-10-07T18:35:06.910991] Entering context manager injector.\n",
            "[2021-10-07T18:35:06.911585] job release stage : copy_batchai_cached_logs completed...\n",
            "[2021-10-07T18:35:06.914618] job release stage : upload_datastore completed...\n",
            "[2021-10-07T18:35:07.084595] job release stage : send_run_telemetry starting...\n",
            "[2021-10-07T18:35:07.097494] get vm size and vm region successfully.\n",
            "[2021-10-07T18:35:07.104596] get compute meta data successfully.\n",
            "[2021-10-07T18:35:07.219772] job release stage : execute_job_release completed...\n",
            "[2021-10-07T18:35:07.509353] post artifact meta request successfully.\n",
            "[2021-10-07T18:35:07.567362] upload compute record artifact successfully.\n",
            "[2021-10-07T18:35:07.567446] job release stage : send_run_telemetry completed...\n",
            "[2021-10-07T18:35:07.567754] Job release is complete\n",
            "\n",
            "Execution Summary\n",
            "=================\n",
            "RunId: test-2_1633631577_4a4fbb73\n",
            "Web View: https://ml.azure.com/runs/test-2_1633631577_4a4fbb73?wsid=/subscriptions/cb97564e-cea8-45a4-9c5c-a3357e8f7ee4/resourcegroups/Sample2_AzureML_Resource/workspaces/Sample2_AzureML_Worskpace&tid=42f7676c-f455-423c-82f6-dc2d99791af7\n",
            "\n"
          ]
        }
      ],
      "metadata": {
        "gather": {
          "logged": 1633631748571
        }
      }
    },
    {
      "cell_type": "markdown",
      "source": [
        "## Register the model for deployment"
      ],
      "metadata": {}
    },
    {
      "cell_type": "code",
      "execution_count": 10,
      "source": [
        "# register the best model with the input dataset\n",
        "model = train.register_model(run=run,\n",
        "                           model_args={'model_name':'sklearn_crossval_model', \n",
        "                           'model_path':'outputs/regression.pkl'},\n",
        "                           resource_config_args={'cpu':1, 'memory_in_gb':0.5},\n",
        "                           is_sklearn_model=True\n",
        "                            )\n",
        "\n",
        "print('Name:', model.name)\n",
        "print('Version:', model.version)"
      ],
      "outputs": [
        {
          "output_type": "stream",
          "name": "stdout",
          "text": [
            "Registering the model\n",
            "Configuring parameters for sklearn model\n",
            "Name: sklearn_crossval_model\n",
            "Version: 6\n"
          ]
        }
      ],
      "metadata": {
        "gather": {
          "logged": 1633631749510
        }
      }
    }
  ],
  "metadata": {
    "kernelspec": {
      "name": "python3-azureml",
      "language": "python",
      "display_name": "Python 3.6 - AzureML"
    },
    "kernel_info": {
      "name": "python3-azureml"
    },
    "nteract": {
      "version": "nteract-front-end@1.0.0"
    },
    "language_info": {
      "name": "python",
      "version": "3.6.9",
      "mimetype": "text/x-python",
      "codemirror_mode": {
        "name": "ipython",
        "version": 3
      },
      "pygments_lexer": "ipython3",
      "nbconvert_exporter": "python",
      "file_extension": ".py"
    },
    "microsoft": {
      "host": {
        "AzureML": {
          "notebookHasBeenCompleted": true
        }
      }
    }
  },
  "nbformat": 4,
  "nbformat_minor": 2
}