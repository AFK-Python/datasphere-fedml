{
 "cells": [
  {
   "cell_type": "markdown",
   "source": [
    "# Notebook to build a Scikit-Learn Linear Regression Machine learning model on Azure by federating the training data from Amazon Athena and Google BigQuery via SAP Data Warehouse Cloud\n"
   ],
   "metadata": {}
  },
  {
   "cell_type": "markdown",
   "source": [
    "## Install fedml_azure package\n",
    "\n",
    "Provide the path of the fedml_azure library file uploaded earlier to pip."
   ],
   "metadata": {
    "nteract": {
     "transient": {
      "deleting": false
     }
    }
   }
  },
  {
   "cell_type": "code",
   "execution_count": 1,
   "source": [
    "pip install fedml_azure --force-reinstall"
   ],
   "outputs": [
    {
     "output_type": "stream",
     "name": "stdout",
     "text": [
      "Processing ./fedml_azure-1.0.0-py3-none-any.whl\n",
      "Collecting hdbcli\n",
      "  Using cached hdbcli-2.10.20-cp34-abi3-manylinux1_x86_64.whl (11.7 MB)\n",
      "Installing collected packages: hdbcli, fedml-azure\n",
      "  Attempting uninstall: hdbcli\n",
      "    Found existing installation: hdbcli 2.10.20\n",
      "    Uninstalling hdbcli-2.10.20:\n",
      "      Successfully uninstalled hdbcli-2.10.20\n",
      "  Attempting uninstall: fedml-azure\n",
      "    Found existing installation: fedml-azure 1.0.0\n",
      "    Uninstalling fedml-azure-1.0.0:\n",
      "      Successfully uninstalled fedml-azure-1.0.0\n",
      "Successfully installed fedml-azure-1.0.0 hdbcli-2.10.20\n",
      "Note: you may need to restart the kernel to use updated packages.\n"
     ]
    }
   ],
   "metadata": {
    "gather": {
     "logged": 1637366163882
    },
    "jupyter": {
     "outputs_hidden": false,
     "source_hidden": false
    },
    "nteract": {
     "transient": {
      "deleting": false
     }
    }
   }
  },
  {
   "cell_type": "markdown",
   "source": [
    "## Initialization of AzureML resources required for training\n",
    "\n",
    "The following steps provide a simple way to create the resources required for training:"
   ],
   "metadata": {
    "nteract": {
     "transient": {
      "deleting": false
     }
    }
   }
  },
  {
   "cell_type": "markdown",
   "source": [
    "### Initialize the workspace\n",
    "\n",
    "The create_workspace method takes a dictionary as input for parameter workspace_args.\n",
    "\n",
    "The values for ‘subscription_id’, ‘resource_group’ and ‘workspace_name’ keys of workspace_args in the below cell must be replaced with the configurations in ‘config.json’ downloaded in step 2 of the \"Pre-requisites for the Federated ML Library for Azure ML\" ([link](https://github.com/SAP-samples/data-warehouse-cloud-fedml/blob/main/Azure/sample-notebooks/FedML-With-Federated-Data-From-Athena-BigQuery/docs/prerequisites.md)).\n",
    "\n",
    "Refer the documentation on the ‘create_workspace’ method and parameters ([link](https://github.com/SAP-samples/data-warehouse-cloud-fedml/blob/main/Azure/docs/fedml_azure.md#create_workspace)).\n"
   ],
   "metadata": {}
  },
  {
   "cell_type": "code",
   "execution_count": 2,
   "source": [
    "from fedml_azure import create_workspace\n",
    "workspace=create_workspace(workspace_args={\n",
    "                        \"subscription_id\": \"<subscription_id>\",\n",
    "                        \"resource_group\": \"<resource_group>\",\n",
    "                        \"workspace_name\": \"<workspace_name>\"\n",
    "                          })"
   ],
   "outputs": [
    {
     "output_type": "stream",
     "name": "stdout",
     "text": [
      "Getting existing Workspace\n"
     ]
    }
   ],
   "metadata": {
    "collapsed": true,
    "gather": {
     "logged": 1637366171965
    }
   }
  },
  {
   "cell_type": "markdown",
   "source": [
    "### Create a Compute target\n",
    "\n",
    "The create_compute method takes the workspace, a compute_type, and compute_args as parameters.The following code creates a Compute Cluster with the name 'cpu-cluster' for training.\n",
    "\n",
    "Refer the documentation on the ‘create_compute’ method and parameters ([link](https://github.com/SAP-samples/data-warehouse-cloud-fedml/blob/main/Azure/docs/fedml_azure.md#create_compute)).\n"
   ],
   "metadata": {}
  },
  {
   "cell_type": "code",
   "execution_count": 3,
   "source": [
    "from fedml_azure import create_compute\n",
    "compute=create_compute(workspace=workspace,\n",
    "                   compute_type='AmlComputeCluster',\n",
    "                   compute_args={'vm_size':'Standard_D12_v2',\n",
    "                                'vm_priority':'lowpriority',\n",
    "                                'compute_name':'cpu-cluster',\n",
    "                                'min_nodes':0,\n",
    "                                'max_nodes':4,\n",
    "                                'idle_seconds_before_scaledown':1700\n",
    "                                }\n",
    "                )"
   ],
   "outputs": [
    {
     "output_type": "stream",
     "name": "stdout",
     "text": [
      "Creating Compute_target\n",
      "Creating a new compute target...\n",
      "InProgress......\n",
      "SucceededProvisioning operation finished, operation \"Succeeded\"\n",
      "Succeeded\n",
      "AmlCompute wait for completion finished\n",
      "\n",
      "Minimum number of nodes requested have been provisioned\n",
      "{'currentNodeCount': 0, 'targetNodeCount': 0, 'nodeStateCounts': {'preparingNodeCount': 0, 'runningNodeCount': 0, 'idleNodeCount': 0, 'unusableNodeCount': 0, 'leavingNodeCount': 0, 'preemptedNodeCount': 0}, 'allocationState': 'Steady', 'allocationStateTransitionTime': '2021-11-19T23:56:45.630000+00:00', 'errors': None, 'creationTime': '2021-11-19T23:56:25.535399+00:00', 'modifiedTime': '2021-11-19T23:56:51.499094+00:00', 'provisioningState': 'Succeeded', 'provisioningStateTransitionTime': None, 'scaleSettings': {'minNodeCount': 0, 'maxNodeCount': 4, 'nodeIdleTimeBeforeScaleDown': 'PT1700S'}, 'vmPriority': 'LowPriority', 'vmSize': 'STANDARD_D12_V2'}\n"
     ]
    }
   ],
   "metadata": {
    "collapsed": true,
    "gather": {
     "logged": 1637366218386
    },
    "jupyter": {
     "outputs_hidden": false,
     "source_hidden": false
    },
    "nteract": {
     "transient": {
      "deleting": false
     }
    }
   }
  },
  {
   "cell_type": "markdown",
   "source": [
    "### Create an Environment\n",
    "\n",
    "The create_environment method takes the workspace, environment_type, and environment_args as parameters.\n",
    "\n",
    "The path of the fedml_azure library must be passed to the 'pip_wheel_files' key in environment_args and to use scikit-learn package, you must pass the name to 'conda_packages' as well.\n",
    "\n",
    "Refer the documentation on the ‘create_environment’ method and parameters ([link](https://github.com/SAP-samples/data-warehouse-cloud-fedml/blob/main/Azure/docs/fedml_azure.md#create_environment)).\n"
   ],
   "metadata": {}
  },
  {
   "cell_type": "code",
   "execution_count": 4,
   "source": [
    "from fedml_azure import create_environment\n",
    "environment=create_environment(workspace=workspace,\n",
    "                           environment_type='CondaPackageEnvironment',\n",
    "                           environment_args={'name':'sklearn-env',\n",
    "                                             'conda_packages':['scikit-learn'],\n",
    "                                             'pip_packages':['fedml_azure']})"
   ],
   "outputs": [
    {
     "output_type": "stream",
     "name": "stdout",
     "text": [
      "Creating Environment\n"
     ]
    }
   ],
   "metadata": {
    "gather": {
     "logged": 1637366223151
    }
   }
  },
  {
   "cell_type": "markdown",
   "source": [
    "## Training the model"
   ],
   "metadata": {
    "nteract": {
     "transient": {
      "deleting": false
     }
    }
   }
  },
  {
   "cell_type": "markdown",
   "source": [
    "### Instantiate the training class which assigns the resources required for training\n",
    "\n",
    "The name of the experiment to be created must be passed to the 'name' key of experiment_args. Refer the documentation on the ‘DwcAzureTrain’ class ([link](https://github.com/SAP-samples/dwc-fedml/blob/main/Azure/docs/fedml_azure.md#dwcazuretrain-class))."
   ],
   "metadata": {}
  },
  {
   "cell_type": "code",
   "execution_count": 5,
   "source": [
    "from fedml_azure import DwcAzureTrain\n",
    "train=DwcAzureTrain(workspace=workspace,\n",
    "                    environment=environment,\n",
    "                    experiment_args={'name':'federated-experiment'},\n",
    "                    compute=compute)"
   ],
   "outputs": [
    {
     "output_type": "stream",
     "name": "stdout",
     "text": [
      "Assigning Workspace\n",
      "Creating Experiment\n",
      "Assigning compute\n",
      "Assigning Environment\n"
     ]
    }
   ],
   "metadata": {
    "gather": {
     "logged": 1637366226232
    }
   }
  },
  {
   "cell_type": "markdown",
   "source": [
    "### Read the federated data from Amazon Athena and Google BigQuery via SAP Data Warehouse Cloud in the training script.\n",
    "\n",
    "Refer the 'db.execute_query()' method in the get_data(table_name)' function of the training script which reads the data from the 'SALES_VIEW' view in SAP Data Warehouse Cloud. \n",
    "\n",
    "By querying 'SALES_VIEW', we get the federated data from Amazon Athena and Google BigQuery without replicating the data from the original data storages.\n",
    "\n",
    "Refer the documentation for more details on the DbConnection class ([link](https://github.com/SAP-samples/data-warehouse-cloud-fedml/blob/main/dbconnection.md))."
   ],
   "metadata": {
    "nteract": {
     "transient": {
      "deleting": false
     }
    }
   }
  },
  {
   "cell_type": "markdown",
   "source": [
    "### Generate the run config which packages together the configuration information needed to submit a run in Azure ML\n",
    "\n",
    "The file path of ‘config.json’ created in step 4 of the \"Pre-requisites for the Federated ML Library for Azure ML\" ([link](https://github.com/SAP-samples/data-warehouse-cloud-fedml/blob/main/Azure/sample-notebooks/FedML-With-Federated-Data-From-Athena-BigQuery/docs/prerequisites.md)), must be passed to ‘config_file_path’ in the below cell.\n",
    "\n",
    "The path of the training folder  created in step 3 of \"Steps to build a Machine Learning Model on Azure using Federated ML Library for Azure ML\" ([link](https://github.com/SAP-samples/data-warehouse-cloud-fedml/blob/main/Azure/sample-notebooks/FedML-With-Federated-Data-From-Athena-BigQuery/docs/model_build_steps.md)) must be passed to ‘source_directory’ key and name of the training script  must be passed to ‘script’ key of config_args in the below cell. \n",
    "\n",
    "The name of the model file to be created must be passed to ‘model_file_name’ argument, name of the table/view to be queried must be passed to 'table_name' argument in the below cell. These arguments are passed to the training script.\n",
    "\n",
    "Refer the documentation on the ‘generate_run_config’ method and parameters ([link](https://github.com/SAP-samples/dwc-fedml/blob/main/Azure/docs/fedml_azure.md#generate_run_config)). "
   ],
   "metadata": {}
  },
  {
   "cell_type": "code",
   "execution_count": 17,
   "source": [
    "#generating the run config\n",
    "src=train.generate_run_config(config_file_path='dwc_configs/config.json',\n",
    "                              config_args={\n",
    "                                          'source_directory':'Scikit-Learn-Linear-Regression',\n",
    "                                          'script':'train_script.py',\n",
    "                                          'arguments':['--model_file_name','regression.pkl',\n",
    "                                                      '--table_name', 'SALES_VIEW']\n",
    "                                          }\n",
    "                            )"
   ],
   "outputs": [
    {
     "output_type": "stream",
     "name": "stdout",
     "text": [
      "Generating script run config\n",
      "Copying config file for db connection to script_directory Scikit-Learn-Linear-Regression\n"
     ]
    }
   ],
   "metadata": {
    "gather": {
     "logged": 1637367451110
    }
   }
  },
  {
   "cell_type": "markdown",
   "source": [
    "### Submit the training job with the option to download the model outputs\n",
    "\n",
    "Refer the documentation on ‘submit_run’ method and parameters ([link](https://github.com/SAP-samples/dwc-fedml/blob/main/Azure/docs/fedml_azure.md#submit_run))"
   ],
   "metadata": {}
  },
  {
   "cell_type": "code",
   "execution_count": 18,
   "source": [
    "run=train.submit_run(src)"
   ],
   "outputs": [
    {
     "output_type": "stream",
     "name": "stdout",
     "text": [
      "Submitting training run\n",
      "RunId: federated-experiment_1637367641_cc3f802a\n",
      "Web View: https://ml.azure.com/runs/federated-experiment_1637367641_cc3f802a?wsid=/subscriptions/cb97564e-cea8-45a4-9c5c-a3357e8f7ee4/resourcegroups/AI_Strategy_AzureML_Resource/workspaces/AIStrategy_AzureML_Worskpace&tid=42f7676c-f455-423c-82f6-dc2d99791af7\n",
      "\n",
      "Execution Summary\n",
      "=================\n",
      "RunId: federated-experiment_1637367641_cc3f802a\n",
      "Web View: https://ml.azure.com/runs/federated-experiment_1637367641_cc3f802a?wsid=/subscriptions/cb97564e-cea8-45a4-9c5c-a3357e8f7ee4/resourcegroups/AI_Strategy_AzureML_Resource/workspaces/AIStrategy_AzureML_Worskpace&tid=42f7676c-f455-423c-82f6-dc2d99791af7\n",
      "\n",
      "Warnings:\n",
      "This run might be using a new job runtime with improved performance and error reporting. The logs from your script are in user_logs/std_log.txt. Please let us know if you run into any issues, and if you would like to opt-out, please add the environment variable AZUREML_COMPUTE_USE_COMMON_RUNTIME to the environment variables section of the job and set its value to the string \"false\"\n",
      "\n",
      "\n"
     ]
    }
   ],
   "metadata": {
    "gather": {
     "logged": 1637367667391
    },
    "scrolled": true
   }
  },
  {
   "cell_type": "markdown",
   "source": [
    "### Register the model\n",
    "\n",
    "Pass the path of the .pkl model file specified earlier to 'model_path' key of model_args. The model file will be created in the outputs directory of the run.\n",
    "\n",
    "Provide the desired model name to ‘model_name’ key of model_args in the below cell.\n",
    "\n",
    "The 'is_sklearn_model' flag specifies if a scikit learn model is being registered. If set to True, then 'model_framework' of model_args is set to Model.Framework.SCIKITLEARN and 'model_framework_version' of model_args is set to (sklearn.\\_version\\_) by default.\n",
    "\n",
    "Refer the documentation on ‘register_model’ method and parameters ([link](https://github.com/SAP-samples/dwc-fedml/blob/main/Azure/docs/fedml_azure.md#register_model))"
   ],
   "metadata": {}
  },
  {
   "cell_type": "code",
   "execution_count": 16,
   "source": [
    "model=train.register_model(run=run,\n",
    "                           model_args={'model_name':'sklearn_linReg_model',\n",
    "                                       'model_path':'outputs/regression.pkl'},\n",
    "                            resource_config_args={'cpu':1, 'memory_in_gb':0.5},\n",
    "                            is_sklearn_model=True\n",
    "                           )"
   ],
   "outputs": [
    {
     "output_type": "stream",
     "name": "stdout",
     "text": [
      "Registering the model\n",
      "Configuring parameters for sklearn model\n"
     ]
    }
   ],
   "metadata": {
    "gather": {
     "logged": 1637367418487
    }
   }
  },
  {
   "cell_type": "markdown",
   "source": [
    " ### Success!"
   ],
   "metadata": {
    "nteract": {
     "transient": {
      "deleting": false
     }
    }
   }
  }
 ],
 "metadata": {
  "kernel_info": {
   "name": "python3-azureml"
  },
  "kernelspec": {
   "display_name": "Python 3",
   "language": "python",
   "name": "python3"
  },
  "language_info": {
   "codemirror_mode": {
    "name": "ipython",
    "version": 3
   },
   "file_extension": ".py",
   "mimetype": "text/x-python",
   "name": "python",
   "nbconvert_exporter": "python",
   "pygments_lexer": "ipython3",
   "version": "3.8.8"
  },
  "microsoft": {
   "host": {
    "AzureML": {
     "notebookHasBeenCompleted": true
    }
   }
  },
  "nteract": {
   "version": "nteract-front-end@1.0.0"
  }
 },
 "nbformat": 4,
 "nbformat_minor": 2
}