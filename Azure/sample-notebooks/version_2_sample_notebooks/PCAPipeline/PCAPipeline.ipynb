{
 "cells": [
  {
   "cell_type": "markdown",
   "source": [
    "## Scikit-Learn PCA and Logistic Regression Pipeline\n",
    "### Using BREASTCANCER_VIEW from DWC. This view has 569 records"
   ],
   "metadata": {}
  },
  {
   "cell_type": "markdown",
   "source": [
    "## Install fedml_azure package"
   ],
   "metadata": {
    "nteract": {
     "transient": {
      "deleting": false
     }
    }
   }
  },
  {
   "cell_type": "code",
   "execution_count": 1,
   "source": [
    "pip install fedml_azure --force-reinstall"
   ],
   "outputs": [
    {
     "output_type": "stream",
     "name": "stdout",
     "text": [
      "Processing ./fedml_azure_test-2.0.0-py3-none-any.whl\n",
      "Collecting ruamel.yaml\n",
      "  Using cached ruamel.yaml-0.17.21-py3-none-any.whl (109 kB)\n",
      "Collecting hdbcli\n",
      "  Using cached hdbcli-2.12.20-cp34-abi3-manylinux1_x86_64.whl (11.7 MB)\n",
      "Collecting ruamel.yaml.clib>=0.2.6; platform_python_implementation == \"CPython\" and python_version < \"3.11\"\n",
      "  Using cached ruamel.yaml.clib-0.2.6-cp36-cp36m-manylinux1_x86_64.whl (552 kB)\n",
      "Installing collected packages: ruamel.yaml.clib, ruamel.yaml, hdbcli, fedml-azure-test\n",
      "  Attempting uninstall: ruamel.yaml.clib\n",
      "    Found existing installation: ruamel.yaml.clib 0.2.6\n",
      "    Uninstalling ruamel.yaml.clib-0.2.6:\n",
      "      Successfully uninstalled ruamel.yaml.clib-0.2.6\n",
      "  Attempting uninstall: ruamel.yaml\n",
      "    Found existing installation: ruamel.yaml 0.17.21\n",
      "    Uninstalling ruamel.yaml-0.17.21:\n",
      "      Successfully uninstalled ruamel.yaml-0.17.21\n",
      "  Attempting uninstall: hdbcli\n",
      "    Found existing installation: hdbcli 2.12.20\n",
      "    Uninstalling hdbcli-2.12.20:\n",
      "      Successfully uninstalled hdbcli-2.12.20\n",
      "  Attempting uninstall: fedml-azure-test\n",
      "    Found existing installation: fedml-azure-test 2.0.0\n",
      "    Uninstalling fedml-azure-test-2.0.0:\n",
      "      Successfully uninstalled fedml-azure-test-2.0.0\n",
      "Successfully installed fedml-azure-test-2.0.0 hdbcli-2.12.20 ruamel.yaml-0.17.21 ruamel.yaml.clib-0.2.6\n",
      "Note: you may need to restart the kernel to use updated packages.\n"
     ]
    }
   ],
   "metadata": {
    "gather": {
     "logged": 1648858007709
    },
    "jupyter": {
     "outputs_hidden": false,
     "source_hidden": false
    },
    "nteract": {
     "transient": {
      "deleting": false
     }
    }
   }
  },
  {
   "cell_type": "markdown",
   "source": [
    "## Import the libraries needed in this notebook"
   ],
   "metadata": {}
  },
  {
   "cell_type": "code",
   "execution_count": 2,
   "source": [
    "from fedml_azure import create_workspace\n",
    "from fedml_azure import DbConnection\n",
    "from fedml_azure import create_compute\n",
    "from fedml_azure import create_environment\n",
    "from fedml_azure import DwcAzureTrain\n",
    "from fedml_azure import deploy\n",
    "from fedml_azure import predict"
   ],
   "outputs": [],
   "metadata": {
    "gather": {
     "logged": 1648858012549
    }
   }
  },
  {
   "cell_type": "markdown",
   "source": [
    "## Set up\n",
    "\n",
    "### Initialize the workspace\n",
    "\n",
    "The create_workspace method takes a dictionary as input for parameter workspace_args.\n",
    "\n",
    "The ‘subscription_id’, ‘resource_group’ and ‘workspace_name’ in the below cell must be replaced with the contents of 'config.json' file. This file can be obtained by referring step 2 of the link (https://github.com/SAP-samples/data-warehouse-cloud-fedml/blob/main/Azure/sample-notebooks/FedML-With-Federated-Data-From-Athena-BigQuery/docs/prerequisites.md)\n",
    "\n",
    "Refer the documentation on the ‘create_workspace’ method and parameters (https://github.com/SAP-samples/data-warehouse-cloud-fedml/blob/main/Azure/docs/fedml_azure.md#create_workspace).\n"
   ],
   "metadata": {
    "nteract": {
     "transient": {
      "deleting": false
     }
    }
   }
  },
  {
   "cell_type": "code",
   "execution_count": 3,
   "source": [
    "workspace=create_workspace(workspace_args={\n",
    "                                            \"subscription_id\": '<subscription-id>',\n",
    "                                            \"resource_group\": '<resource-group>',\n",
    "                                            \"workspace_name\": '<workspace_name>'\n",
    "                                            }\n",
    ")"
   ],
   "outputs": [
    {
     "output_type": "stream",
     "name": "stdout",
     "text": [
      "2022-04-02 00:06:54,013: fedml_azure.logger INFO: Getting existing Workspace\n"
     ]
    }
   ],
   "metadata": {
    "gather": {
     "logged": 1648858015294
    },
    "jupyter": {
     "outputs_hidden": false,
     "source_hidden": false
    },
    "nteract": {
     "transient": {
      "deleting": false
     }
    }
   }
  },
  {
   "cell_type": "markdown",
   "source": [
    "### Create a Compute target\n",
    "\n",
    "The create_compute method takes the workspace, a compute_type, and compute_args as parameters.The following code creates a Compute Cluster with the name 'cpu-cluster' for training.\n",
    "\n",
    "Refer the documentation on the ‘create_compute’ method and parameters (https://github.com/SAP-samples/data-warehouse-cloud-fedml/blob/main/Azure/docs/fedml_azure.md#create_compute).\n"
   ],
   "metadata": {
    "nteract": {
     "transient": {
      "deleting": false
     }
    }
   }
  },
  {
   "cell_type": "code",
   "execution_count": 5,
   "source": [
    "compute=create_compute(workspace=workspace,\n",
    "                   compute_type='AmlComputeCluster',\n",
    "                   compute_args={'vm_size':'Standard_D2',\n",
    "                                'compute_name':'fedml-test1',\n",
    "                                'max_nodes':6,\n",
    "                                }\n",
    "                )"
   ],
   "outputs": [
    {
     "output_type": "stream",
     "name": "stdout",
     "text": [
      "2022-04-02 00:07:07,549: fedml_azure.logger INFO: Creating Compute_target.\n",
      "2022-04-02 00:07:07,859: fedml_azure.logger INFO: Found compute target. just use it. fedml-test1\n"
     ]
    }
   ],
   "metadata": {
    "gather": {
     "logged": 1648858027908
    },
    "jupyter": {
     "outputs_hidden": false,
     "source_hidden": false
    },
    "nteract": {
     "transient": {
      "deleting": false
     }
    }
   }
  },
  {
   "cell_type": "markdown",
   "source": [
    "### Create an Environment\n",
    "\n",
    "The create_environment method takes the workspace, environment_type, and environment_args as parameters.\n",
    "\n",
    "Pass 'fedml_azure' as a pip package and to use scikit-learn, you must pass the name to conda_packages as well.\n",
    "\n",
    "Refer the documentation on the ‘create_environment’ method and parameters (https://github.com/SAP-samples/data-warehouse-cloud-fedml/blob/main/Azure/docs/fedml_azure.md#create_environment).\n",
    "`"
   ],
   "metadata": {
    "nteract": {
     "transient": {
      "deleting": false
     }
    }
   }
  },
  {
   "cell_type": "code",
   "execution_count": 6,
   "source": [
    "environment=create_environment(workspace=workspace,\n",
    "                           environment_type='CondaPackageEnvironment',\n",
    "                           environment_args={'name':'pca-sklearn',\n",
    "                                             'pip_packages':['joblib','fedml_azure'],\n",
    "                                             'conda_packages':['scikit-learn']})\n"
   ],
   "outputs": [
    {
     "output_type": "stream",
     "name": "stdout",
     "text": [
      "2022-04-02 00:07:11,748: fedml_azure.logger INFO: Creating Environment.\n"
     ]
    }
   ],
   "metadata": {
    "gather": {
     "logged": 1648858032691
    },
    "jupyter": {
     "outputs_hidden": false,
     "source_hidden": false
    },
    "nteract": {
     "transient": {
      "deleting": false
     }
    }
   }
  },
  {
   "cell_type": "markdown",
   "source": [
    "## Now, lets train the model\n",
    "\n",
    "### Creating a Training object and setting the workspace, compute target, and environment.\n",
    "\n",
    "Before running the below cell, ensure that you have a workspace and replace the subscription_id, resource_group, and workspace_name with your information.\n",
    "\n",
    "The whl file for the fedml_azure library must be passed to the pip_wheel_files key in the environment_args and to use scikit-learn, you must pass the name to conda_packages as well.\n",
    "\n",
    "Refer the documentation on the ‘DwcAzureTrain’ class (https://github.com/SAP-samples/dwc-fedml/blob/main/Azure/docs/fedml_azure.md#dwcazuretrain-class)."
   ],
   "metadata": {}
  },
  {
   "cell_type": "code",
   "execution_count": 7,
   "source": [
    "train=DwcAzureTrain(workspace=workspace,\n",
    "                    environment=environment,\n",
    "                    experiment_args={'name':'federated-experiment'},\n",
    "                    compute=compute)"
   ],
   "outputs": [
    {
     "output_type": "stream",
     "name": "stdout",
     "text": [
      "2022-04-02 00:07:15,748: fedml_azure.logger INFO: Assigning Workspace.\n",
      "2022-04-02 00:07:15,749: fedml_azure.logger INFO: Creating Experiment\n",
      "2022-04-02 00:07:15,898: fedml_azure.logger INFO: Assigning compute.\n",
      "2022-04-02 00:07:15,899: fedml_azure.logger INFO: Assigning Environment.\n"
     ]
    }
   ],
   "metadata": {
    "gather": {
     "logged": 1648858035974
    },
    "jupyter": {
     "outputs_hidden": false,
     "source_hidden": false
    },
    "nteract": {
     "transient": {
      "deleting": false
     }
    }
   }
  },
  {
   "cell_type": "markdown",
   "source": [
    "### Then, we need to generate the run config. This is needed to package the configuration specified so we can submit a job for training. \n",
    "\n",
    "Before running the following cell, you should have a config.json file with the specified values to allow you to access to DWC. Provide this file path to config_file_path in the below cell.\n",
    "\n",
    "You should also have the follow view BREASTCANCER_VIEW created in your DWC. To gather this data, please refer to https://www.kaggle.com/uciml/breast-cancer-wisconsin-data\n",
    "\n",
    "Refer the documentation on the ‘generate_run_config’ method and parameters (https://github.com/SAP-samples/data-warehouse-cloud-fedml/blob/main/Azure/docs/fedml_azure.md#generate_run_config). "
   ],
   "metadata": {}
  },
  {
   "cell_type": "code",
   "execution_count": 8,
   "source": [
    "src=train.generate_run_config(config_file_path='dwc_configs/config.json',\n",
    "                          config_args={\n",
    "                                          'source_directory':'Scikit-Learn-PCAPipeline',\n",
    "                                          'script':'pca_script.py',\n",
    "                                          'arguments':['--model_file_name','regression.pkl', '--table_name', 'BREASTCANCER_VIEW', '--n_components', '3']\n",
    "                                          }\n",
    "                            )"
   ],
   "outputs": [
    {
     "output_type": "stream",
     "name": "stdout",
     "text": [
      "2022-04-02 00:07:21,301: fedml_azure.logger INFO: Generating script run config.\n",
      "2022-04-02 00:07:21,302: fedml_azure.logger INFO: Copying config file for db connection to script_directory Scikit-Learn-PCAPipeline\n"
     ]
    }
   ],
   "metadata": {
    "gather": {
     "logged": 1648858041442
    }
   }
  },
  {
   "cell_type": "markdown",
   "source": [
    "### Submit the training job with the option to download the model outputs\n",
    "\n",
    "Refer the documentation on ‘submit_run’ method and parameters (https://github.com/SAP-samples/data-warehouse-cloud-fedml/blob/main/Azure/docs/fedml_azure.md#submit_run)"
   ],
   "metadata": {}
  },
  {
   "cell_type": "code",
   "execution_count": 9,
   "source": [
    "run=train.submit_run(src)"
   ],
   "outputs": [
    {
     "output_type": "stream",
     "name": "stdout",
     "text": [
      "2022-04-02 00:07:28,645: fedml_azure.logger INFO: Submitting training run.\n",
      "RunId: federated-experiment_1648858048_c54e5388\n",
      "Web View: https://ml.azure.com/runs/federated-experiment_1648858048_c54e5388?wsid=/subscriptions/2a9092f3-f89d-4589-b9aa-8a1f9ff8b776/resourcegroups/fedml_rg/workspaces/fedml_ws&tid=997ff79a-373b-416b-8f24-a97cb0225c59\n",
      "\n",
      "Execution Summary\n",
      "=================\n",
      "RunId: federated-experiment_1648858048_c54e5388\n",
      "Web View: https://ml.azure.com/runs/federated-experiment_1648858048_c54e5388?wsid=/subscriptions/2a9092f3-f89d-4589-b9aa-8a1f9ff8b776/resourcegroups/fedml_rg/workspaces/fedml_ws&tid=997ff79a-373b-416b-8f24-a97cb0225c59\n",
      "\n"
     ]
    }
   ],
   "metadata": {
    "gather": {
     "logged": 1648858326546
    }
   }
  },
  {
   "cell_type": "markdown",
   "source": [
    "### Register the model\n",
    "\n",
    "Pass ‘outputs/model_file_name.pkl’ to 'model_path' key of model_args ,where ‘model_file_name’ is the name of the .pkl model file specified in the previous step. \n",
    "\n",
    "Provide the desired model name to ‘model_name’ key of model_args in the below cell. The 'is_sklearn_model' flag specifies if a scikit learn model is being registered.\n",
    "\n",
    "Refer the documentation on ‘register_model’ method and parameters (https://github.com/SAP-samples/data-warehouse-cloud-fedml/blob/main/Azure/docs/fedml_azure.md#register_model)"
   ],
   "metadata": {}
  },
  {
   "cell_type": "code",
   "execution_count": 12,
   "source": [
    "model=train.register_model(run=run,\n",
    "                           model_args={'model_name':'sklearn_pcapipeline_model',\n",
    "                                       'model_path':'outputs/regression.pkl'},\n",
    "                            resource_config_args={'cpu':1, 'memory_in_gb':0.5},\n",
    "                            is_sklearn_model=True\n",
    "                           )"
   ],
   "outputs": [
    {
     "output_type": "stream",
     "name": "stdout",
     "text": [
      "2022-04-02 00:13:17,569: fedml_azure.logger INFO: Registering the model.\n",
      "2022-04-02 00:13:17,570: fedml_azure.logger INFO: Configuring parameters for sklearn model.\n"
     ]
    }
   ],
   "metadata": {
    "gather": {
     "logged": 1648858398326
    }
   }
  },
  {
   "cell_type": "markdown",
   "source": [
    "### Read test data from SAP DWC"
   ],
   "metadata": {
    "nteract": {
     "transient": {
      "deleting": false
     }
    }
   }
  },
  {
   "cell_type": "code",
   "execution_count": 13,
   "source": [
    "import pandas as pd\n",
    "import numpy as np\n",
    "from fedml_azure import DbConnection"
   ],
   "outputs": [],
   "metadata": {
    "gather": {
     "logged": 1648858399752
    },
    "jupyter": {
     "outputs_hidden": false,
     "source_hidden": false
    },
    "nteract": {
     "transient": {
      "deleting": false
     }
    }
   }
  },
  {
   "cell_type": "code",
   "execution_count": 14,
   "source": [
    "db = DbConnection(url='Scikit-Learn-PCAPipeline/config.json')\n",
    "res, column_headers = db.get_data_with_headers(table_name=\"BREASTCANCER_VIEW\", size=1)\n",
    "data = pd.DataFrame(res, columns=column_headers)\n",
    "org_data = data.sample(frac=1).reset_index(drop=True)\n",
    "org_data = org_data[500:]\n",
    "org_data.fillna(0, inplace=True)\n",
    "y = org_data['diagnosis']\n",
    "X = org_data.drop(['diagnosis'], axis=1)"
   ],
   "outputs": [],
   "metadata": {
    "gather": {
     "logged": 1648858401644
    },
    "jupyter": {
     "outputs_hidden": false,
     "source_hidden": false
    },
    "nteract": {
     "transient": {
      "deleting": false
     }
    }
   }
  },
  {
   "cell_type": "markdown",
   "source": [
    "#### Change the decimal datatype in the dataframe to float for serialization"
   ],
   "metadata": {
    "nteract": {
     "transient": {
      "deleting": false
     }
    }
   }
  },
  {
   "cell_type": "code",
   "execution_count": 15,
   "source": [
    "X = X.apply(pd.to_numeric, downcast='float')"
   ],
   "outputs": [],
   "metadata": {
    "gather": {
     "logged": 1648858403385
    },
    "jupyter": {
     "outputs_hidden": false,
     "source_hidden": false
    },
    "nteract": {
     "transient": {
      "deleting": false
     }
    }
   }
  },
  {
   "cell_type": "code",
   "execution_count": 16,
   "source": [
    "import json\n",
    "test_data = json.dumps(X.values.tolist())"
   ],
   "outputs": [],
   "metadata": {
    "gather": {
     "logged": 1648858405376
    },
    "jupyter": {
     "outputs_hidden": false,
     "source_hidden": false
    },
    "nteract": {
     "transient": {
      "deleting": false
     }
    }
   }
  },
  {
   "cell_type": "markdown",
   "source": [
    "### Deploy the model as a webservice to Kyma Kubernetes"
   ],
   "metadata": {
    "nteract": {
     "transient": {
      "deleting": false
     }
    }
   }
  },
  {
   "cell_type": "markdown",
   "source": [
    "Before running this cell,\n",
    "\n",
    "1. Ensure a service principal is created and the specify the config file path containing the service principal credentials to 'sp_config_path' key of deploy_args in the below cell.\n",
    "\n",
    "2. Pass the path of the kubeconfig.yaml file to connect to Kyma Kuberentes to 'kubeconfig_path' key of deploy_args in the below cell.\n",
    "\n",
    "Refer the documentation on 'deploy' for more details (https://github.com/SAP-samples/data-warehouse-cloud-fedml/blob/main/Azure/docs/fedml_azure.md#deploy)"
   ],
   "metadata": {
    "nteract": {
     "transient": {
      "deleting": false
     }
    }
   }
  },
  {
   "cell_type": "code",
   "execution_count": 20,
   "source": [
    "kyma_endpoint=deploy(compute_type='Kyma',\n",
    "                    inference_config_args={'entry_script':'Scikit-Learn-PCAPipeline/predict.py', 'environment':environment},\n",
    "                    deploy_args={'workspace':workspace,\n",
    "                                'name':'pcawebservice',\n",
    "                                'models':[model],\n",
    "                                'kubeconfig_path':'Scikit-Learn-PCAPipeline/kubeconfig.yaml',\n",
    "                                'sp_config_path':'Scikit-Learn-PCAPipeline/sp_config.json'\n",
    "                                })"
   ],
   "outputs": [
    {
     "output_type": "stream",
     "name": "stdout",
     "text": [
      "2022-04-02 00:14:52,474: fedml_azure.logger INFO: Installing Kubectl\n",
      "\n",
      "2022-04-02 00:14:54,395: fedml_azure.logger INFO: kubectl: OK\n",
      "\n",
      "2022-04-02 00:14:55,165: fedml_azure.logger INFO: Client Version: version.Info{Major:\"1\", Minor:\"23\", GitVersion:\"v1.23.5\", GitCommit:\"c285e781331a3785a7f436042c65c5641ce8a9e9\", GitTreeState:\"clean\", BuildDate:\"2022-03-16T15:58:47Z\", GoVersion:\"go1.17.8\", Compiler:\"gc\", Platform:\"linux/amd64\"}\n",
      "\n",
      "2022-04-02 00:14:55,167: fedml_azure.logger INFO: Installing jq\n",
      "\n",
      "2022-04-02 00:14:55,240: fedml_azure.logger INFO: Reading package lists...\n",
      "\n",
      "2022-04-02 00:14:55,408: fedml_azure.logger INFO: Building dependency tree...\n",
      "\n",
      "2022-04-02 00:14:55,409: fedml_azure.logger INFO: Reading state information...\n",
      "\n",
      "2022-04-02 00:14:55,548: fedml_azure.logger INFO: jq is already the newest version (1.5+dfsg-2).\n",
      "\n",
      "2022-04-02 00:14:55,549: fedml_azure.logger INFO: The following packages were automatically installed and are no longer required:\n",
      "\n",
      "2022-04-02 00:14:55,550: fedml_azure.logger INFO:   ca-certificates-java cmake-data cuda-command-line-tools-11-2\n",
      "\n",
      "2022-04-02 00:14:55,551: fedml_azure.logger INFO:   cuda-compiler-11-2 cuda-cudart-11-2 cuda-cudart-dev-11-2 cuda-cuobjdump-11-2\n",
      "\n",
      "2022-04-02 00:14:55,552: fedml_azure.logger INFO:   cuda-cupti-11-2 cuda-cupti-dev-11-2 cuda-cuxxfilt-11-2\n",
      "\n",
      "2022-04-02 00:14:55,552: fedml_azure.logger INFO:   cuda-documentation-11-2 cuda-driver-dev-11-2 cuda-gdb-11-2\n",
      "\n",
      "2022-04-02 00:14:55,553: fedml_azure.logger INFO:   cuda-libraries-11-2 cuda-libraries-dev-11-2 cuda-memcheck-11-2\n",
      "\n",
      "2022-04-02 00:14:55,554: fedml_azure.logger INFO:   cuda-nsight-11-2 cuda-nsight-compute-11-2 cuda-nsight-systems-11-2\n",
      "\n",
      "2022-04-02 00:14:55,554: fedml_azure.logger INFO:   cuda-nvcc-11-2 cuda-nvdisasm-11-2 cuda-nvml-dev-11-2 cuda-nvprof-11-2\n",
      "\n",
      "2022-04-02 00:14:55,555: fedml_azure.logger INFO:   cuda-nvprune-11-2 cuda-nvrtc-11-2 cuda-nvrtc-dev-11-2 cuda-nvtx-11-2\n",
      "\n",
      "2022-04-02 00:14:55,556: fedml_azure.logger INFO:   cuda-nvvp-11-2 cuda-samples-11-2 cuda-sanitizer-11-2 cuda-toolkit-11-2\n",
      "\n",
      "2022-04-02 00:14:55,556: fedml_azure.logger INFO:   cuda-tools-11-2 cuda-visual-tools-11-2 default-jre default-jre-headless\n",
      "\n",
      "2022-04-02 00:14:55,557: fedml_azure.logger INFO:   fonts-dejavu-extra gyp java-common javascript-common libarchive13 libasound2\n",
      "\n",
      "2022-04-02 00:14:55,558: fedml_azure.logger INFO:   libasound2-data libatk-wrapper-java libatk-wrapper-java-jni libc-ares2\n",
      "\n",
      "2022-04-02 00:14:55,558: fedml_azure.logger INFO:   libcublas-11-2 libcublas-dev-11-2 libcufft-11-2 libcufft-dev-11-2\n",
      "\n",
      "2022-04-02 00:14:55,559: fedml_azure.logger INFO:   libcurand-11-2 libcurand-dev-11-2 libcusolver-11-2 libcusolver-dev-11-2\n",
      "\n",
      "2022-04-02 00:14:55,560: fedml_azure.logger INFO:   libcusparse-11-2 libcusparse-dev-11-2 libjs-async libjs-inherits\n",
      "\n",
      "2022-04-02 00:14:55,560: fedml_azure.logger INFO:   libjs-jquery libjs-node-uuid libjs-underscore libjsoncpp1 libnpp-11-2\n",
      "\n",
      "2022-04-02 00:14:55,561: fedml_azure.logger INFO:   libnpp-dev-11-2 libnspr4 libnss3 libnvidia-common-510 libnvjpeg-11-2\n",
      "\n",
      "2022-04-02 00:14:55,563: fedml_azure.logger INFO:   libnvjpeg-dev-11-2 libpcsclite1 librhash0 libuv1-dev\n",
      "\n",
      "2022-04-02 00:14:55,564: fedml_azure.logger INFO:   linux-headers-4.15.0-166 node-abbrev node-ansi node-ansi-color-table\n",
      "\n",
      "2022-04-02 00:14:55,565: fedml_azure.logger INFO:   node-archy node-async node-balanced-match node-block-stream\n",
      "\n",
      "2022-04-02 00:14:55,565: fedml_azure.logger INFO:   node-brace-expansion node-builtin-modules node-combined-stream\n",
      "\n",
      "2022-04-02 00:14:55,567: fedml_azure.logger INFO:   node-concat-map node-cookie-jar node-delayed-stream node-forever-agent\n",
      "\n",
      "2022-04-02 00:14:55,567: fedml_azure.logger INFO:   node-form-data node-fs.realpath node-fstream node-fstream-ignore\n",
      "\n",
      "2022-04-02 00:14:55,568: fedml_azure.logger INFO:   node-github-url-from-git node-glob node-graceful-fs node-hosted-git-info\n",
      "\n",
      "2022-04-02 00:14:55,568: fedml_azure.logger INFO:   node-inflight node-inherits node-ini node-is-builtin-module node-isexe\n",
      "\n",
      "2022-04-02 00:14:55,569: fedml_azure.logger INFO:   node-json-stringify-safe node-lockfile node-lru-cache node-mime\n",
      "\n",
      "2022-04-02 00:14:55,575: fedml_azure.logger INFO:   node-minimatch node-mkdirp node-mute-stream node-node-uuid node-nopt\n",
      "\n",
      "2022-04-02 00:14:55,575: fedml_azure.logger INFO:   node-normalize-package-data node-npmlog node-once node-osenv\n",
      "\n",
      "2022-04-02 00:14:55,576: fedml_azure.logger INFO:   node-path-is-absolute node-pseudomap node-qs node-read\n",
      "\n",
      "2022-04-02 00:14:55,577: fedml_azure.logger INFO:   node-read-package-json node-request node-retry node-rimraf node-semver\n",
      "\n",
      "2022-04-02 00:14:55,577: fedml_azure.logger INFO:   node-sha node-slide node-spdx-correct node-spdx-expression-parse\n",
      "\n",
      "2022-04-02 00:14:55,578: fedml_azure.logger INFO:   node-spdx-license-ids node-tar node-tunnel-agent node-underscore\n",
      "\n",
      "2022-04-02 00:14:55,578: fedml_azure.logger INFO:   node-validate-npm-package-license node-which node-wrappy node-yallist\n",
      "\n",
      "2022-04-02 00:14:55,579: fedml_azure.logger INFO:   nsight-compute-2020.3.1 nsight-systems-2020.4.3 openjdk-11-jre\n",
      "\n",
      "2022-04-02 00:14:55,579: fedml_azure.logger INFO:   openjdk-11-jre-headless python-pkg-resources\n",
      "\n",
      "2022-04-02 00:14:55,580: fedml_azure.logger INFO: Use 'sudo apt autoremove' to remove them.\n",
      "\n",
      "2022-04-02 00:14:55,629: fedml_azure.logger INFO: 0 upgraded, 0 newly installed, 0 to remove and 81 not upgraded.\n",
      "\n",
      "2022-04-02 00:14:55,737: fedml_azure.logger INFO: The deploy namespace is fedmlazure.\n",
      "\n",
      "2022-04-02 00:14:56,389: fedml_azure.logger INFO: Creating deployment folder deployments/pcawebservice.\n",
      "2022-04-02 00:14:57,668: fedml_azure.logger INFO: Successfully created deployment folder deployments/pcawebservice.\n",
      "2022-04-02 00:14:57,670: fedml_azure.logger INFO: Creating docker file for deployment.\n",
      "2022-04-02 00:14:58,105: fedml_azure.logger INFO: Successfully created docker file for kyma deployment.\n",
      "2022-04-02 00:14:58,544: fedml_azure.logger INFO: Building and pushing the docker image to acr.\n",
      "\n",
      "2022-04-02 00:15:03,695: fedml_azure.logger INFO: 2022/04/02 00:15:00 Downloading source code...\n",
      "\n",
      "2022-04-02 00:15:03,697: fedml_azure.logger INFO: 2022/04/02 00:15:01 Finished downloading source code\n",
      "\n",
      "2022-04-02 00:15:03,697: fedml_azure.logger INFO: 2022/04/02 00:15:01 Using acb_vol_e67a3844-02fb-4147-96f6-5f7de11ff7a4 as the home volume\n",
      "\n",
      "2022-04-02 00:15:03,698: fedml_azure.logger INFO: 2022/04/02 00:15:01 Setting up Docker configuration...\n",
      "\n",
      "2022-04-02 00:15:03,699: fedml_azure.logger INFO: 2022/04/02 00:15:02 Successfully set up Docker configuration\n",
      "\n",
      "2022-04-02 00:15:03,700: fedml_azure.logger INFO: 2022/04/02 00:15:02 Logging in to registry: 47d9cca0ebf744709229545e38c5d604.azurecr.io\n",
      "\n",
      "2022-04-02 00:15:03,700: fedml_azure.logger INFO: 2022/04/02 00:15:03 Successfully logged into 47d9cca0ebf744709229545e38c5d604.azurecr.io\n",
      "\n",
      "2022-04-02 00:15:03,701: fedml_azure.logger INFO: 2022/04/02 00:15:03 Executing step ID: build. Timeout(sec): 28800, Working directory: '', Network: ''\n",
      "\n",
      "2022-04-02 00:15:03,701: fedml_azure.logger INFO: 2022/04/02 00:15:03 Scanning for dependencies...\n",
      "\n",
      "2022-04-02 00:15:03,702: fedml_azure.logger INFO: 2022/04/02 00:15:03 Successfully scanned dependencies\n",
      "\n",
      "2022-04-02 00:15:03,703: fedml_azure.logger INFO: 2022/04/02 00:15:03 Launching container with name: build\n",
      "\n",
      "2022-04-02 00:15:06,487: fedml_azure.logger INFO: Sending build context to Docker daemon  18.94kB\n",
      "\n",
      "2022-04-02 00:15:06,489: fedml_azure.logger INFO: \n",
      "\n",
      "2022-04-02 00:15:06,489: fedml_azure.logger INFO: Step 1/6 : FROM 47d9cca0ebf744709229545e38c5d604.azurecr.io/azureml/azureml_95dbd2e5c8c7ff6f6a439de2ed3ffea3\n",
      "\n",
      "2022-04-02 00:15:06,490: fedml_azure.logger INFO: latest: Pulling from azureml/azureml_95dbd2e5c8c7ff6f6a439de2ed3ffea3\n",
      "\n",
      "2022-04-02 00:15:06,490: fedml_azure.logger INFO: 2f94e549220a: Already exists\n",
      "\n",
      "2022-04-02 00:15:06,491: fedml_azure.logger INFO: 2b2d92136c10: Pulling fs layer\n",
      "\n",
      "2022-04-02 00:15:06,491: fedml_azure.logger INFO: 0b412d2669ed: Pulling fs layer\n",
      "\n",
      "2022-04-02 00:15:06,492: fedml_azure.logger INFO: 805003cfcee6: Pulling fs layer\n",
      "\n",
      "2022-04-02 00:15:06,492: fedml_azure.logger INFO: ad877dc53455: Pulling fs layer\n",
      "\n",
      "2022-04-02 00:15:06,493: fedml_azure.logger INFO: afa783568628: Pulling fs layer\n",
      "\n",
      "2022-04-02 00:15:06,493: fedml_azure.logger INFO: d67cf86adb17: Pulling fs layer\n",
      "\n",
      "2022-04-02 00:15:06,494: fedml_azure.logger INFO: 82770c3b2808: Pulling fs layer\n",
      "\n",
      "2022-04-02 00:15:06,494: fedml_azure.logger INFO: c991e53ceb53: Pulling fs layer\n",
      "\n",
      "2022-04-02 00:15:06,494: fedml_azure.logger INFO: b4d909325af1: Pulling fs layer\n",
      "\n",
      "2022-04-02 00:15:06,495: fedml_azure.logger INFO: 3e92059be36d: Pulling fs layer\n",
      "\n",
      "2022-04-02 00:15:06,495: fedml_azure.logger INFO: 09cf0a21c8c5: Pulling fs layer\n",
      "\n",
      "2022-04-02 00:15:06,496: fedml_azure.logger INFO: f72d361ab594: Pulling fs layer\n",
      "\n",
      "2022-04-02 00:15:06,496: fedml_azure.logger INFO: 9f6813c73203: Pulling fs layer\n",
      "\n",
      "2022-04-02 00:15:06,497: fedml_azure.logger INFO: 71ebf26a4106: Pulling fs layer\n",
      "\n",
      "2022-04-02 00:15:06,498: fedml_azure.logger INFO: 2b080f75b9ee: Pulling fs layer\n",
      "\n",
      "2022-04-02 00:15:06,498: fedml_azure.logger INFO: 015001c8d9b0: Pulling fs layer\n",
      "\n",
      "2022-04-02 00:15:06,498: fedml_azure.logger INFO: 4918afd2eff9: Pulling fs layer\n",
      "\n",
      "2022-04-02 00:15:06,508: fedml_azure.logger INFO: 8b0bac3d3654: Pulling fs layer\n",
      "\n",
      "2022-04-02 00:15:06,508: fedml_azure.logger INFO: ad877dc53455: Waiting\n",
      "\n",
      "2022-04-02 00:15:06,509: fedml_azure.logger INFO: afa783568628: Waiting\n",
      "\n",
      "2022-04-02 00:15:06,510: fedml_azure.logger INFO: d67cf86adb17: Waiting\n",
      "\n",
      "2022-04-02 00:15:06,510: fedml_azure.logger INFO: 82770c3b2808: Waiting\n",
      "\n",
      "2022-04-02 00:15:06,511: fedml_azure.logger INFO: c991e53ceb53: Waiting\n",
      "\n",
      "2022-04-02 00:15:06,511: fedml_azure.logger INFO: b4d909325af1: Waiting\n",
      "\n",
      "2022-04-02 00:15:06,512: fedml_azure.logger INFO: 3e92059be36d: Waiting\n",
      "\n",
      "2022-04-02 00:15:06,512: fedml_azure.logger INFO: 09cf0a21c8c5: Waiting\n",
      "\n",
      "2022-04-02 00:15:06,513: fedml_azure.logger INFO: f72d361ab594: Waiting\n",
      "\n",
      "2022-04-02 00:15:06,513: fedml_azure.logger INFO: 9f6813c73203: Waiting\n",
      "\n",
      "2022-04-02 00:15:06,514: fedml_azure.logger INFO: 71ebf26a4106: Waiting\n",
      "\n",
      "2022-04-02 00:15:06,514: fedml_azure.logger INFO: 2b080f75b9ee: Waiting\n",
      "\n",
      "2022-04-02 00:15:06,515: fedml_azure.logger INFO: 015001c8d9b0: Waiting\n",
      "\n",
      "2022-04-02 00:15:06,515: fedml_azure.logger INFO: 4918afd2eff9: Waiting\n",
      "\n",
      "2022-04-02 00:15:06,516: fedml_azure.logger INFO: 8b0bac3d3654: Waiting\n",
      "\n",
      "2022-04-02 00:15:06,516: fedml_azure.logger INFO: 0b412d2669ed: Verifying Checksum\n",
      "\n",
      "2022-04-02 00:15:06,517: fedml_azure.logger INFO: 0b412d2669ed: Download complete\n",
      "\n",
      "2022-04-02 00:15:06,520: fedml_azure.logger INFO: 805003cfcee6: Verifying Checksum\n",
      "\n",
      "2022-04-02 00:15:06,521: fedml_azure.logger INFO: 805003cfcee6: Download complete\n",
      "\n",
      "2022-04-02 00:15:06,521: fedml_azure.logger INFO: afa783568628: Verifying Checksum\n",
      "\n",
      "2022-04-02 00:15:06,522: fedml_azure.logger INFO: afa783568628: Download complete\n",
      "\n",
      "2022-04-02 00:15:06,522: fedml_azure.logger INFO: 2b2d92136c10: Verifying Checksum\n",
      "\n",
      "2022-04-02 00:15:06,523: fedml_azure.logger INFO: 2b2d92136c10: Download complete\n",
      "\n",
      "2022-04-02 00:15:06,523: fedml_azure.logger INFO: 82770c3b2808: Verifying Checksum\n",
      "\n",
      "2022-04-02 00:15:06,524: fedml_azure.logger INFO: 82770c3b2808: Download complete\n",
      "\n",
      "2022-04-02 00:15:12,497: fedml_azure.logger INFO: d67cf86adb17: Verifying Checksum\n",
      "\n",
      "2022-04-02 00:15:12,498: fedml_azure.logger INFO: d67cf86adb17: Download complete\n",
      "\n",
      "2022-04-02 00:15:12,499: fedml_azure.logger INFO: c991e53ceb53: Verifying Checksum\n",
      "\n",
      "2022-04-02 00:15:12,499: fedml_azure.logger INFO: c991e53ceb53: Download complete\n",
      "\n",
      "2022-04-02 00:15:12,500: fedml_azure.logger INFO: b4d909325af1: Verifying Checksum\n",
      "\n",
      "2022-04-02 00:15:12,500: fedml_azure.logger INFO: b4d909325af1: Download complete\n",
      "\n",
      "2022-04-02 00:15:12,501: fedml_azure.logger INFO: 3e92059be36d: Verifying Checksum\n",
      "\n",
      "2022-04-02 00:15:12,501: fedml_azure.logger INFO: 3e92059be36d: Download complete\n",
      "\n",
      "2022-04-02 00:15:12,502: fedml_azure.logger INFO: ad877dc53455: Verifying Checksum\n",
      "\n",
      "2022-04-02 00:15:12,502: fedml_azure.logger INFO: ad877dc53455: Download complete\n",
      "\n",
      "2022-04-02 00:15:12,503: fedml_azure.logger INFO: 09cf0a21c8c5: Verifying Checksum\n",
      "\n",
      "2022-04-02 00:15:12,503: fedml_azure.logger INFO: 09cf0a21c8c5: Download complete\n",
      "\n",
      "2022-04-02 00:15:12,504: fedml_azure.logger INFO: f72d361ab594: Verifying Checksum\n",
      "\n",
      "2022-04-02 00:15:12,506: fedml_azure.logger INFO: f72d361ab594: Download complete\n",
      "\n",
      "2022-04-02 00:15:12,506: fedml_azure.logger INFO: 2b080f75b9ee: Verifying Checksum\n",
      "\n",
      "2022-04-02 00:15:12,507: fedml_azure.logger INFO: 2b080f75b9ee: Download complete\n",
      "\n",
      "2022-04-02 00:15:12,508: fedml_azure.logger INFO: 71ebf26a4106: Verifying Checksum\n",
      "\n",
      "2022-04-02 00:15:12,508: fedml_azure.logger INFO: 71ebf26a4106: Download complete\n",
      "\n",
      "2022-04-02 00:15:12,509: fedml_azure.logger INFO: 4918afd2eff9: Verifying Checksum\n",
      "\n",
      "2022-04-02 00:15:12,509: fedml_azure.logger INFO: 4918afd2eff9: Download complete\n",
      "\n",
      "2022-04-02 00:15:12,510: fedml_azure.logger INFO: 015001c8d9b0: Verifying Checksum\n",
      "\n",
      "2022-04-02 00:15:12,510: fedml_azure.logger INFO: 015001c8d9b0: Download complete\n",
      "\n",
      "2022-04-02 00:15:12,511: fedml_azure.logger INFO: 8b0bac3d3654: Verifying Checksum\n",
      "\n",
      "2022-04-02 00:15:12,511: fedml_azure.logger INFO: 8b0bac3d3654: Download complete\n",
      "\n",
      "2022-04-02 00:15:12,512: fedml_azure.logger INFO: 9f6813c73203: Verifying Checksum\n",
      "\n",
      "2022-04-02 00:15:12,512: fedml_azure.logger INFO: 9f6813c73203: Download complete\n",
      "\n",
      "2022-04-02 00:15:15,439: fedml_azure.logger INFO: 2b2d92136c10: Pull complete\n",
      "\n",
      "2022-04-02 00:15:15,440: fedml_azure.logger INFO: 0b412d2669ed: Pull complete\n",
      "\n",
      "2022-04-02 00:15:21,323: fedml_azure.logger INFO: 805003cfcee6: Pull complete\n",
      "\n",
      "2022-04-02 00:15:21,324: fedml_azure.logger INFO: ad877dc53455: Pull complete\n",
      "\n",
      "2022-04-02 00:15:34,234: fedml_azure.logger INFO: afa783568628: Pull complete\n",
      "\n",
      "2022-04-02 00:15:34,235: fedml_azure.logger INFO: d67cf86adb17: Pull complete\n",
      "\n",
      "2022-04-02 00:15:34,236: fedml_azure.logger INFO: 82770c3b2808: Pull complete\n",
      "\n",
      "2022-04-02 00:15:34,237: fedml_azure.logger INFO: c991e53ceb53: Pull complete\n",
      "\n",
      "2022-04-02 00:15:34,238: fedml_azure.logger INFO: b4d909325af1: Pull complete\n",
      "\n",
      "2022-04-02 00:15:34,238: fedml_azure.logger INFO: 3e92059be36d: Pull complete\n",
      "\n",
      "2022-04-02 00:15:34,239: fedml_azure.logger INFO: 09cf0a21c8c5: Pull complete\n",
      "\n",
      "2022-04-02 00:15:34,239: fedml_azure.logger INFO: f72d361ab594: Pull complete\n",
      "\n",
      "2022-04-02 00:15:34,240: fedml_azure.logger INFO: \n",
      "\n",
      "2022-04-02 00:15:42,222: fedml_azure.logger INFO: 9f6813c73203: Pull complete\n",
      "\n",
      "2022-04-02 00:15:44,952: fedml_azure.logger INFO: 71ebf26a4106: Pull complete\n",
      "\n",
      "2022-04-02 00:15:44,953: fedml_azure.logger INFO: 2b080f75b9ee: Pull complete\n",
      "\n",
      "2022-04-02 00:15:44,954: fedml_azure.logger INFO: 015001c8d9b0: Pull complete\n",
      "\n",
      "2022-04-02 00:15:44,955: fedml_azure.logger INFO: 4918afd2eff9: Pull complete\n",
      "\n",
      "2022-04-02 00:15:44,956: fedml_azure.logger INFO: 8b0bac3d3654: Pull complete\n",
      "\n",
      "2022-04-02 00:15:44,957: fedml_azure.logger INFO: Digest: sha256:25f9be1ebdd2c6debf074a76a8d003fdf41d17523c8004b1b09ecfac99536034\n",
      "\n",
      "2022-04-02 00:15:44,957: fedml_azure.logger INFO: Status: Downloaded newer image for 47d9cca0ebf744709229545e38c5d604.azurecr.io/azureml/azureml_95dbd2e5c8c7ff6f6a439de2ed3ffea3:latest\n",
      "\n",
      "2022-04-02 00:15:44,958: fedml_azure.logger INFO:  ---> c90326876119\n",
      "\n",
      "2022-04-02 00:15:44,958: fedml_azure.logger INFO: Step 2/6 : COPY azureml-app /var/azureml-app\n",
      "\n",
      "2022-04-02 00:15:44,959: fedml_azure.logger INFO:  ---> 26dcb4da28fa\n",
      "\n",
      "2022-04-02 00:15:44,960: fedml_azure.logger INFO: Step 3/6 : ENV AZUREML_ENTRY_SCRIPT=/var/azureml-app/predict.py\n",
      "\n",
      "2022-04-02 00:15:49,642: fedml_azure.logger INFO:  ---> Running in 31cd389f35b6\n",
      "\n",
      "2022-04-02 00:15:49,643: fedml_azure.logger INFO: Removing intermediate container 31cd389f35b6\n",
      "\n",
      "2022-04-02 00:15:49,643: fedml_azure.logger INFO:  ---> 7cdce764c5af\n",
      "\n",
      "2022-04-02 00:15:49,644: fedml_azure.logger INFO: Step 4/6 : ENV AZUREML_MODEL_DIR=/var/azureml-app/azureml-models/sklearn_pcapipeline_model/11\n",
      "\n",
      "2022-04-02 00:15:49,645: fedml_azure.logger INFO:  ---> Running in 6de629a5bcb8\n",
      "\n",
      "2022-04-02 00:15:49,645: fedml_azure.logger INFO: Removing intermediate container 6de629a5bcb8\n",
      "\n",
      "2022-04-02 00:15:49,646: fedml_azure.logger INFO:  ---> 1c7026f8abc6\n",
      "\n",
      "2022-04-02 00:15:49,646: fedml_azure.logger INFO: Step 5/6 : EXPOSE 5001\n",
      "\n",
      "2022-04-02 00:15:52,591: fedml_azure.logger INFO:  ---> Running in d57e697fe5ab\n",
      "\n",
      "2022-04-02 00:15:52,592: fedml_azure.logger INFO: Removing intermediate container d57e697fe5ab\n",
      "\n",
      "2022-04-02 00:15:52,593: fedml_azure.logger INFO:  ---> 202dc68959b7\n",
      "\n",
      "2022-04-02 00:15:52,593: fedml_azure.logger INFO: Step 6/6 : CMD [\"runsvdir\",\"/var/runit\"]\n",
      "\n",
      "2022-04-02 00:15:52,594: fedml_azure.logger INFO:  ---> Running in 7fd98771e676\n",
      "\n",
      "2022-04-02 00:15:52,594: fedml_azure.logger INFO: Removing intermediate container 7fd98771e676\n",
      "\n",
      "2022-04-02 00:15:52,595: fedml_azure.logger INFO:  ---> 2cf5da32a269\n",
      "\n",
      "2022-04-02 00:15:57,922: fedml_azure.logger INFO: Successfully built 2cf5da32a269\n",
      "\n",
      "2022-04-02 00:15:57,923: fedml_azure.logger INFO: Successfully tagged 47d9cca0ebf744709229545e38c5d604.azurecr.io/fedml/fedml_1648858498545:latest\n",
      "\n",
      "2022-04-02 00:15:57,924: fedml_azure.logger INFO: 2022/04/02 00:15:51 Successfully executed container: build\n",
      "\n",
      "2022-04-02 00:15:57,925: fedml_azure.logger INFO: 2022/04/02 00:15:51 Executing step ID: push. Timeout(sec): 3600, Working directory: '', Network: ''\n",
      "\n",
      "2022-04-02 00:15:57,925: fedml_azure.logger INFO: 2022/04/02 00:15:51 Pushing image: 47d9cca0ebf744709229545e38c5d604.azurecr.io/fedml/fedml_1648858498545:latest, attempt 1\n",
      "\n",
      "2022-04-02 00:15:57,926: fedml_azure.logger INFO: The push refers to repository [47d9cca0ebf744709229545e38c5d604.azurecr.io/fedml/fedml_1648858498545]\n",
      "\n",
      "2022-04-02 00:15:57,927: fedml_azure.logger INFO: 3fd2746f3989: Preparing\n",
      "\n",
      "2022-04-02 00:15:57,927: fedml_azure.logger INFO: 8c4bc8acb5f4: Preparing\n",
      "\n",
      "2022-04-02 00:15:57,928: fedml_azure.logger INFO: 553ee80b60d1: Preparing\n",
      "\n",
      "2022-04-02 00:15:57,928: fedml_azure.logger INFO: 4b1af102f838: Preparing\n",
      "\n",
      "2022-04-02 00:15:57,929: fedml_azure.logger INFO: 37249542cada: Preparing\n",
      "\n",
      "2022-04-02 00:15:57,929: fedml_azure.logger INFO: 0a55546872ce: Preparing\n",
      "\n",
      "2022-04-02 00:15:57,930: fedml_azure.logger INFO: 4cfedfee7188: Preparing\n",
      "\n",
      "2022-04-02 00:15:57,931: fedml_azure.logger INFO: 92397f0e0bea: Preparing\n",
      "\n",
      "2022-04-02 00:15:57,931: fedml_azure.logger INFO: 7985c6263769: Preparing\n",
      "\n",
      "2022-04-02 00:15:57,932: fedml_azure.logger INFO: bdfeb3e060e1: Preparing\n",
      "\n",
      "2022-04-02 00:15:57,932: fedml_azure.logger INFO: 2070f1a6cba5: Preparing\n",
      "\n",
      "2022-04-02 00:15:57,933: fedml_azure.logger INFO: 5a63f0a64b99: Preparing\n",
      "\n",
      "2022-04-02 00:15:57,934: fedml_azure.logger INFO: cfd97667b73b: Preparing\n",
      "\n",
      "2022-04-02 00:15:57,934: fedml_azure.logger INFO: dda643f89a6b: Preparing\n",
      "\n",
      "2022-04-02 00:15:57,935: fedml_azure.logger INFO: 06f4d263b25f: Preparing\n",
      "\n",
      "2022-04-02 00:15:57,935: fedml_azure.logger INFO: 5ecae586bbba: Preparing\n",
      "\n",
      "2022-04-02 00:15:57,936: fedml_azure.logger INFO: eb66e810a3df: Preparing\n",
      "\n",
      "2022-04-02 00:15:57,936: fedml_azure.logger INFO: 081c0f822cac: Preparing\n",
      "\n",
      "2022-04-02 00:15:57,937: fedml_azure.logger INFO: 0be4c2d28ad7: Preparing\n",
      "\n",
      "2022-04-02 00:15:57,938: fedml_azure.logger INFO: 40a154bd3352: Preparing\n",
      "\n",
      "2022-04-02 00:15:57,938: fedml_azure.logger INFO: 0a55546872ce: Waiting\n",
      "\n",
      "2022-04-02 00:15:57,939: fedml_azure.logger INFO: 4cfedfee7188: Waiting\n",
      "\n",
      "2022-04-02 00:15:57,939: fedml_azure.logger INFO: 92397f0e0bea: Waiting\n",
      "\n",
      "2022-04-02 00:15:57,940: fedml_azure.logger INFO: 7985c6263769: Waiting\n",
      "\n",
      "2022-04-02 00:15:57,940: fedml_azure.logger INFO: bdfeb3e060e1: Waiting\n",
      "\n",
      "2022-04-02 00:15:57,941: fedml_azure.logger INFO: 2070f1a6cba5: Waiting\n",
      "\n",
      "2022-04-02 00:15:57,942: fedml_azure.logger INFO: 5a63f0a64b99: Waiting\n",
      "\n",
      "2022-04-02 00:15:57,942: fedml_azure.logger INFO: cfd97667b73b: Waiting\n",
      "\n",
      "2022-04-02 00:15:57,943: fedml_azure.logger INFO: dda643f89a6b: Waiting\n",
      "\n",
      "2022-04-02 00:15:57,943: fedml_azure.logger INFO: 06f4d263b25f: Waiting\n",
      "\n",
      "2022-04-02 00:15:57,944: fedml_azure.logger INFO: 5ecae586bbba: Waiting\n",
      "\n",
      "2022-04-02 00:15:57,945: fedml_azure.logger INFO: eb66e810a3df: Waiting\n",
      "\n",
      "2022-04-02 00:15:57,945: fedml_azure.logger INFO: 081c0f822cac: Waiting\n",
      "\n",
      "2022-04-02 00:15:57,946: fedml_azure.logger INFO: 0be4c2d28ad7: Waiting\n",
      "\n",
      "2022-04-02 00:15:57,946: fedml_azure.logger INFO: 40a154bd3352: Waiting\n",
      "\n",
      "2022-04-02 00:15:57,947: fedml_azure.logger INFO: 4b1af102f838: Mounted from azureml/azureml_95dbd2e5c8c7ff6f6a439de2ed3ffea3\n",
      "\n",
      "2022-04-02 00:15:57,947: fedml_azure.logger INFO: 553ee80b60d1: Mounted from azureml/azureml_95dbd2e5c8c7ff6f6a439de2ed3ffea3\n",
      "\n",
      "2022-04-02 00:15:57,948: fedml_azure.logger INFO: 8c4bc8acb5f4: Mounted from azureml/azureml_95dbd2e5c8c7ff6f6a439de2ed3ffea3\n",
      "\n",
      "2022-04-02 00:15:57,949: fedml_azure.logger INFO: 37249542cada: Mounted from azureml/azureml_95dbd2e5c8c7ff6f6a439de2ed3ffea3\n",
      "\n",
      "2022-04-02 00:15:57,949: fedml_azure.logger INFO: 0a55546872ce: Mounted from azureml/azureml_95dbd2e5c8c7ff6f6a439de2ed3ffea3\n",
      "\n",
      "2022-04-02 00:15:57,950: fedml_azure.logger INFO: 4cfedfee7188: Mounted from azureml/azureml_95dbd2e5c8c7ff6f6a439de2ed3ffea3\n",
      "\n",
      "2022-04-02 00:15:57,950: fedml_azure.logger INFO: 92397f0e0bea: Mounted from azureml/azureml_95dbd2e5c8c7ff6f6a439de2ed3ffea3\n",
      "\n",
      "2022-04-02 00:15:57,951: fedml_azure.logger INFO: 7985c6263769: Mounted from azureml/azureml_95dbd2e5c8c7ff6f6a439de2ed3ffea3\n",
      "\n",
      "2022-04-02 00:15:57,951: fedml_azure.logger INFO: 3fd2746f3989: Pushed\n",
      "\n",
      "2022-04-02 00:15:57,952: fedml_azure.logger INFO: 2070f1a6cba5: Mounted from azureml/azureml_95dbd2e5c8c7ff6f6a439de2ed3ffea3\n",
      "\n",
      "2022-04-02 00:15:57,952: fedml_azure.logger INFO: bdfeb3e060e1: Mounted from azureml/azureml_95dbd2e5c8c7ff6f6a439de2ed3ffea3\n",
      "\n",
      "2022-04-02 00:15:57,953: fedml_azure.logger INFO: 5a63f0a64b99: Mounted from azureml/azureml_95dbd2e5c8c7ff6f6a439de2ed3ffea3\n",
      "\n",
      "2022-04-02 00:15:57,953: fedml_azure.logger INFO: dda643f89a6b: Mounted from azureml/azureml_95dbd2e5c8c7ff6f6a439de2ed3ffea3\n",
      "\n",
      "2022-04-02 00:15:57,954: fedml_azure.logger INFO: cfd97667b73b: Mounted from azureml/azureml_95dbd2e5c8c7ff6f6a439de2ed3ffea3\n",
      "\n",
      "2022-04-02 00:16:02,156: fedml_azure.logger INFO: 06f4d263b25f: Mounted from azureml/azureml_95dbd2e5c8c7ff6f6a439de2ed3ffea3\n",
      "\n",
      "2022-04-02 00:16:02,157: fedml_azure.logger INFO: 081c0f822cac: Mounted from azureml/azureml_95dbd2e5c8c7ff6f6a439de2ed3ffea3\n",
      "\n",
      "2022-04-02 00:16:02,158: fedml_azure.logger INFO: 5ecae586bbba: Mounted from azureml/azureml_95dbd2e5c8c7ff6f6a439de2ed3ffea3\n",
      "\n",
      "2022-04-02 00:16:02,158: fedml_azure.logger INFO: eb66e810a3df: Mounted from azureml/azureml_95dbd2e5c8c7ff6f6a439de2ed3ffea3\n",
      "\n",
      "2022-04-02 00:16:02,159: fedml_azure.logger INFO: 0be4c2d28ad7: Mounted from azureml/azureml_95dbd2e5c8c7ff6f6a439de2ed3ffea3\n",
      "\n",
      "2022-04-02 00:16:02,159: fedml_azure.logger INFO: 40a154bd3352: Mounted from azureml/azureml_95dbd2e5c8c7ff6f6a439de2ed3ffea3\n",
      "\n",
      "2022-04-02 00:16:02,160: fedml_azure.logger INFO: latest: digest: sha256:41e26df5b2d5cc6537d6b5e1f63306a57713c71983c1243796b133673ed47d67 size: 4515\n",
      "\n",
      "2022-04-02 00:16:02,160: fedml_azure.logger INFO: 2022/04/02 00:15:59 Successfully pushed image: 47d9cca0ebf744709229545e38c5d604.azurecr.io/fedml/fedml_1648858498545:latest\n",
      "\n",
      "2022-04-02 00:16:02,161: fedml_azure.logger INFO: 2022/04/02 00:15:59 Step ID: build marked as successful (elapsed time in seconds: 47.945969)\n",
      "\n",
      "2022-04-02 00:16:02,162: fedml_azure.logger INFO: 2022/04/02 00:15:59 Populating digests for step ID: build...\n",
      "\n",
      "2022-04-02 00:16:02,162: fedml_azure.logger INFO: 2022/04/02 00:16:00 Successfully populated digests for step ID: build\n",
      "\n",
      "2022-04-02 00:16:02,163: fedml_azure.logger INFO: 2022/04/02 00:16:00 Step ID: push marked as successful (elapsed time in seconds: 8.028282)\n",
      "\n",
      "2022-04-02 00:16:02,163: fedml_azure.logger INFO: 2022/04/02 00:16:00 The following dependencies were found:\n",
      "\n",
      "2022-04-02 00:16:02,164: fedml_azure.logger INFO: 2022/04/02 00:16:00 \n",
      "\n",
      "2022-04-02 00:16:02,164: fedml_azure.logger INFO: - image:\n",
      "\n",
      "2022-04-02 00:16:02,165: fedml_azure.logger INFO:     registry: 47d9cca0ebf744709229545e38c5d604.azurecr.io\n",
      "\n",
      "2022-04-02 00:16:02,165: fedml_azure.logger INFO:     repository: fedml/fedml_1648858498545\n",
      "\n",
      "2022-04-02 00:16:02,166: fedml_azure.logger INFO:     tag: latest\n",
      "\n",
      "2022-04-02 00:16:02,166: fedml_azure.logger INFO:     digest: sha256:41e26df5b2d5cc6537d6b5e1f63306a57713c71983c1243796b133673ed47d67\n",
      "\n",
      "2022-04-02 00:16:02,167: fedml_azure.logger INFO:   runtime-dependency:\n",
      "\n",
      "2022-04-02 00:16:02,167: fedml_azure.logger INFO:     registry: 47d9cca0ebf744709229545e38c5d604.azurecr.io\n",
      "\n",
      "2022-04-02 00:16:02,168: fedml_azure.logger INFO:     repository: azureml/azureml_95dbd2e5c8c7ff6f6a439de2ed3ffea3\n",
      "\n",
      "2022-04-02 00:16:02,168: fedml_azure.logger INFO:     tag: latest\n",
      "\n",
      "2022-04-02 00:16:02,169: fedml_azure.logger INFO:     digest: sha256:25f9be1ebdd2c6debf074a76a8d003fdf41d17523c8004b1b09ecfac99536034\n",
      "\n",
      "2022-04-02 00:16:02,169: fedml_azure.logger INFO:   git: {}\n",
      "\n",
      "2022-04-02 00:16:02,170: fedml_azure.logger INFO: \n",
      "\n",
      "2022-04-02 00:16:02,170: fedml_azure.logger INFO: Run ID: cah was successful after 1m0s\n",
      "\n",
      "2022-04-02 00:16:02,338: fedml_azure.logger INFO: Checking if the deploy namespace fedmlazure exists.\n",
      "\n",
      "2022-04-02 00:16:02,709: fedml_azure.logger INFO: Using existing deploy namespace fedmlazure.\n",
      "\n",
      "2022-04-02 00:16:04,734: fedml_azure.logger INFO: The 'acrpull' role to the service principal 4ca05934-4197-446e-9f31-bb17b0a04528 to access the registry /subscriptions/2a9092f3-f89d-4589-b9aa-8a1f9ff8b776/resourceGroups/fedml_rg/providers/Microsoft.ContainerRegistry/registries/47d9cca0ebf744709229545e38c5d604 already exists.\n",
      "\n",
      "2022-04-02 00:16:04,735: fedml_azure.logger INFO: Searching if the secret 47d9cca0ebf744709229545e38c5d604.azurecr.io-4ca05934-4197-446e-9f31-bb17b0a04528-secret exists in namespace fedmlazure.\n",
      "\n",
      "2022-04-02 00:16:05,528: fedml_azure.logger INFO: Using the same secret 47d9cca0ebf744709229545e38c5d604.azurecr.io-4ca05934-4197-446e-9f31-bb17b0a04528-secret for the deployment.\n",
      "\n",
      "2022-04-02 00:16:06,546: fedml_azure.logger INFO: service/pcawebservice created\n",
      "\n",
      "2022-04-02 00:16:06,759: fedml_azure.logger INFO: apirule.gateway.kyma-project.io/pcawebservice-api-rule created\n",
      "\n",
      "2022-04-02 00:16:06,963: fedml_azure.logger INFO: deployment.apps/pcawebservice created\n",
      "\n",
      "2022-04-02 00:16:07,341: fedml_azure.logger INFO: Waiting for deployment \"pcawebservice\" rollout to finish: 0 out of 1 new replicas have been updated...\n",
      "\n",
      "2022-04-02 00:16:09,739: fedml_azure.logger INFO: Waiting for deployment \"pcawebservice\" rollout to finish: 0 of 1 updated replicas are available...\n",
      "\n",
      "2022-04-02 00:16:17,721: fedml_azure.logger INFO: deployment \"pcawebservice\" successfully rolled out\n",
      "\n",
      "2022-04-02 00:16:17,723: fedml_azure.logger INFO: The scoring uri is https://pcawebservice.c-9da877f.kyma.shoot.live.k8s-hana.ondemand.com/score\n",
      "\n",
      "2022-04-02 00:16:17,724: fedml_azure.logger INFO: Deleting the deploy folder 'deployments/pcawebservice'.\n"
     ]
    }
   ],
   "metadata": {
    "gather": {
     "logged": 1648858578407
    },
    "jupyter": {
     "outputs_hidden": false,
     "source_hidden": false
    },
    "nteract": {
     "transient": {
      "deleting": false
     }
    }
   }
  },
  {
   "cell_type": "markdown",
   "source": [
    "### Inferencing the kyma_endpoint by passing the testing data"
   ],
   "metadata": {
    "nteract": {
     "transient": {
      "deleting": false
     }
    }
   }
  },
  {
   "cell_type": "markdown",
   "source": [
    "Refer the documentation on 'predict' for more details (https://github.com/SAP-samples/data-warehouse-cloud-fedml/blob/main/Azure/docs/fedml_azure.md#predict)"
   ],
   "metadata": {
    "nteract": {
     "transient": {
      "deleting": false
     }
    }
   }
  },
  {
   "cell_type": "code",
   "execution_count": 22,
   "source": [
    "result=predict(endpoint_url=kyma_endpoint,compute_type='kyma',data=test_data)\n",
    "result"
   ],
   "outputs": [
    {
     "output_type": "stream",
     "name": "stdout",
     "text": [
      "2022-04-02 00:16:27,904: fedml_azure.logger INFO: Using the parameters 'endpoint_url' and 'compute_type' for inferencing.\n"
     ]
    },
    {
     "output_type": "execute_result",
     "data": {
      "text/plain": [
       "{'result': ['B',\n",
       "  'B',\n",
       "  'M',\n",
       "  'B',\n",
       "  'B',\n",
       "  'B',\n",
       "  'B',\n",
       "  'M',\n",
       "  'B',\n",
       "  'B',\n",
       "  'B',\n",
       "  'M',\n",
       "  'B',\n",
       "  'M',\n",
       "  'B',\n",
       "  'B',\n",
       "  'B',\n",
       "  'B',\n",
       "  'B',\n",
       "  'B',\n",
       "  'B',\n",
       "  'B',\n",
       "  'M',\n",
       "  'B',\n",
       "  'B',\n",
       "  'B',\n",
       "  'B',\n",
       "  'B',\n",
       "  'B',\n",
       "  'B',\n",
       "  'M',\n",
       "  'B',\n",
       "  'B',\n",
       "  'B',\n",
       "  'B',\n",
       "  'B',\n",
       "  'M',\n",
       "  'M',\n",
       "  'B',\n",
       "  'B',\n",
       "  'B',\n",
       "  'B',\n",
       "  'B',\n",
       "  'M',\n",
       "  'B',\n",
       "  'B',\n",
       "  'M',\n",
       "  'B',\n",
       "  'M',\n",
       "  'B',\n",
       "  'B',\n",
       "  'B',\n",
       "  'B',\n",
       "  'B',\n",
       "  'B',\n",
       "  'B',\n",
       "  'M',\n",
       "  'B',\n",
       "  'M',\n",
       "  'M',\n",
       "  'B',\n",
       "  'M',\n",
       "  'B',\n",
       "  'B',\n",
       "  'B',\n",
       "  'M',\n",
       "  'B',\n",
       "  'B',\n",
       "  'B']}"
      ]
     },
     "metadata": {},
     "execution_count": 22
    }
   ],
   "metadata": {
    "gather": {
     "logged": 1648858588746
    },
    "jupyter": {
     "outputs_hidden": false,
     "source_hidden": false
    },
    "nteract": {
     "transient": {
      "deleting": false
     }
    }
   }
  },
  {
   "cell_type": "markdown",
   "source": [
    "### Write the result back to SAP DWC"
   ],
   "metadata": {
    "nteract": {
     "transient": {
      "deleting": false
     }
    }
   }
  },
  {
   "cell_type": "markdown",
   "source": [
    "#### Create table in SAP DWC"
   ],
   "metadata": {
    "nteract": {
     "transient": {
      "deleting": false
     }
    }
   }
  },
  {
   "cell_type": "code",
   "execution_count": 23,
   "source": [
    "from fedml_azure import DbConnection\n",
    "db = DbConnection(url='Scikit-Learn-PCAPipeline/config.json')"
   ],
   "outputs": [],
   "metadata": {
    "gather": {
     "logged": 1648858592392
    },
    "jupyter": {
     "outputs_hidden": false,
     "source_hidden": false
    },
    "nteract": {
     "transient": {
      "deleting": false
     }
    }
   }
  },
  {
   "cell_type": "code",
   "execution_count": 25,
   "source": [
    "db.create_table(\"CREATE TABLE PCA_BREASTCANCER_VIEW (ID INTEGER PRIMARY KEY, radius_mean FLOAT(2), texture_mean FLOAT(2), perimeter_mean FLOAT(2), area_mean FLOAT(2), smoothness_mean FLOAT(2), compactness_mean FLOAT(2), concavity_mean FLOAT(2), concave_points_mean FLOAT(2), symmetry_mean FLOAT(2), fractal_dimension_mean FLOAT(2), radius_se FLOAT(2), texture_se FLOAT(2), perimeter_se FLOAT(2), area_se FLOAT(2), smoothness_se FLOAT(2), compactness_se FLOAT(2), concavity_se FLOAT(2), concave_points_se FLOAT(2), symmetry_se FLOAT(2), fractal_dimension_se FLOAT(2), radius_worst FLOAT(2), texture_worst FLOAT(2), perimeter_worst FLOAT(2), area_worst FLOAT(2), smoothness_worst FLOAT(2), compactness_worst FLOAT(2), concavity_worst FLOAT(2), concave_points_worst FLOAT(2), symmetry_worst FLOAT(2), fractal_dimension_worst FLOAT(2), column32 INTEGER, result VARCHAR(100))\")"
   ],
   "outputs": [
    {
     "output_type": "stream",
     "name": "stdout",
     "text": [
      "2022-04-02 00:16:38,750: fedml_azure.logger INFO: creating table...\n",
      "2022-04-02 00:16:38,751: fedml_azure.logger INFO: CREATE TABLE PCA_BREASTCANCER_VIEW (ID INTEGER PRIMARY KEY, radius_mean FLOAT(2), texture_mean FLOAT(2), perimeter_mean FLOAT(2), area_mean FLOAT(2), smoothness_mean FLOAT(2), compactness_mean FLOAT(2), concavity_mean FLOAT(2), concave_points_mean FLOAT(2), symmetry_mean FLOAT(2), fractal_dimension_mean FLOAT(2), radius_se FLOAT(2), texture_se FLOAT(2), perimeter_se FLOAT(2), area_se FLOAT(2), smoothness_se FLOAT(2), compactness_se FLOAT(2), concavity_se FLOAT(2), concave_points_se FLOAT(2), symmetry_se FLOAT(2), fractal_dimension_se FLOAT(2), radius_worst FLOAT(2), texture_worst FLOAT(2), perimeter_worst FLOAT(2), area_worst FLOAT(2), smoothness_worst FLOAT(2), compactness_worst FLOAT(2), concavity_worst FLOAT(2), concave_points_worst FLOAT(2), symmetry_worst FLOAT(2), fractal_dimension_worst FLOAT(2), column32 INTEGER, result VARCHAR(100), INSERTED_AT TIMESTAMP NOT NULL)\n"
     ]
    }
   ],
   "metadata": {
    "gather": {
     "logged": 1648858598880
    },
    "jupyter": {
     "outputs_hidden": false,
     "source_hidden": false
    },
    "nteract": {
     "transient": {
      "deleting": false
     }
    }
   }
  },
  {
   "cell_type": "markdown",
   "source": [
    "#### Storing the result in the dataframe"
   ],
   "metadata": {
    "nteract": {
     "transient": {
      "deleting": false
     }
    }
   }
  },
  {
   "cell_type": "code",
   "execution_count": 26,
   "source": [
    "import pandas as pd\n",
    "result_df=pd.DataFrame(result['result'])\n",
    "result_df.rename( columns={0:'result'}, inplace=True )"
   ],
   "outputs": [],
   "metadata": {
    "gather": {
     "logged": 1648858603636
    },
    "jupyter": {
     "outputs_hidden": false,
     "source_hidden": false
    },
    "nteract": {
     "transient": {
      "deleting": false
     }
    }
   }
  },
  {
   "cell_type": "code",
   "execution_count": 28,
   "source": [
    "X['result']=result_df['result'].values\n",
    "X"
   ],
   "outputs": [
    {
     "output_type": "execute_result",
     "data": {
      "text/plain": [
       "             id  radius_mean  texture_mean  perimeter_mean   area_mean  \\\n",
       "500    903011.0    11.270000     15.500000       73.379997  392.000000   \n",
       "501    917897.0     9.847000     15.680000       63.000000  293.200012   \n",
       "502  91376704.0    17.850000     13.230000      114.599998  992.099976   \n",
       "503    874662.0    11.810000     17.389999       75.269997  428.899994   \n",
       "504    906539.0    11.570000     19.040001       74.199997  409.700012   \n",
       "..          ...          ...           ...             ...         ...   \n",
       "564    914580.0    12.470000     17.309999       80.449997  480.100006   \n",
       "565    877989.0    17.540001     19.320000      115.099998  951.599976   \n",
       "566    854941.0    13.030000     18.420000       82.610001  523.799988   \n",
       "567    911654.0    14.200000     20.530001       92.410004  618.400024   \n",
       "568    891670.0    12.950000     16.020000       83.139999  513.700012   \n",
       "\n",
       "     smoothness_mean  compactness_mean  concavity_mean  concave points_mean  \\\n",
       "500          0.08365           0.11140         0.10070              0.02757   \n",
       "501          0.09492           0.08419         0.02330              0.02416   \n",
       "502          0.07838           0.06217         0.04445              0.04178   \n",
       "503          0.10070           0.05562         0.02353              0.01553   \n",
       "504          0.08546           0.07722         0.05485              0.01428   \n",
       "..               ...               ...             ...                  ...   \n",
       "564          0.08928           0.07630         0.03609              0.02369   \n",
       "565          0.08968           0.11980         0.10360              0.07488   \n",
       "566          0.08983           0.03766         0.02562              0.02923   \n",
       "567          0.08931           0.11080         0.05063              0.03058   \n",
       "568          0.10050           0.07943         0.06155              0.03370   \n",
       "\n",
       "     symmetry_mean  ...  perimeter_worst   area_worst  smoothness_worst  \\\n",
       "500         0.1810  ...        79.730003   450.000000           0.11020   \n",
       "501         0.1387  ...        74.320000   376.500000           0.14190   \n",
       "502         0.1220  ...       127.099998  1210.000000           0.09862   \n",
       "503         0.1718  ...        79.570000   489.500000           0.13560   \n",
       "504         0.2031  ...        86.430000   520.500000           0.12490   \n",
       "..             ...  ...              ...          ...               ...   \n",
       "564         0.1526  ...        92.820000   607.299988           0.12760   \n",
       "565         0.1506  ...       139.500000  1239.000000           0.13810   \n",
       "566         0.1467  ...        84.459999   545.900024           0.09701   \n",
       "567         0.1506  ...       112.099998   828.500000           0.11530   \n",
       "568         0.1730  ...        88.809998   585.400024           0.14830   \n",
       "\n",
       "     compactness_worst  concavity_worst  concave points_worst  symmetry_worst  \\\n",
       "500            0.28090          0.30210               0.08272          0.2157   \n",
       "501            0.22430          0.08434               0.06528          0.2502   \n",
       "502            0.09976          0.10480               0.08341          0.1783   \n",
       "503            0.10000          0.08803               0.04306          0.3200   \n",
       "504            0.19370          0.25600               0.06664          0.3035   \n",
       "..                 ...              ...                   ...             ...   \n",
       "564            0.25060          0.20280               0.10530          0.3035   \n",
       "565            0.34200          0.35080               0.19390          0.2928   \n",
       "566            0.04619          0.04833               0.05013          0.1987   \n",
       "567            0.34290          0.25120               0.13390          0.2534   \n",
       "568            0.20680          0.22410               0.10560          0.3380   \n",
       "\n",
       "     fractal_dimension_worst  column32  result  \n",
       "500                  0.10430       0.0       B  \n",
       "501                  0.09209       0.0       B  \n",
       "502                  0.05871       0.0       M  \n",
       "503                  0.06576       0.0       B  \n",
       "504                  0.08284       0.0       B  \n",
       "..                       ...       ...     ...  \n",
       "564                  0.07661       0.0       B  \n",
       "565                  0.07867       0.0       M  \n",
       "566                  0.06169       0.0       B  \n",
       "567                  0.07858       0.0       B  \n",
       "568                  0.09584       0.0       B  \n",
       "\n",
       "[69 rows x 33 columns]"
      ],
      "text/html": [
       "<div>\n",
       "<style scoped>\n",
       "    .dataframe tbody tr th:only-of-type {\n",
       "        vertical-align: middle;\n",
       "    }\n",
       "\n",
       "    .dataframe tbody tr th {\n",
       "        vertical-align: top;\n",
       "    }\n",
       "\n",
       "    .dataframe thead th {\n",
       "        text-align: right;\n",
       "    }\n",
       "</style>\n",
       "<table border=\"1\" class=\"dataframe\">\n",
       "  <thead>\n",
       "    <tr style=\"text-align: right;\">\n",
       "      <th></th>\n",
       "      <th>id</th>\n",
       "      <th>radius_mean</th>\n",
       "      <th>texture_mean</th>\n",
       "      <th>perimeter_mean</th>\n",
       "      <th>area_mean</th>\n",
       "      <th>smoothness_mean</th>\n",
       "      <th>compactness_mean</th>\n",
       "      <th>concavity_mean</th>\n",
       "      <th>concave points_mean</th>\n",
       "      <th>symmetry_mean</th>\n",
       "      <th>...</th>\n",
       "      <th>perimeter_worst</th>\n",
       "      <th>area_worst</th>\n",
       "      <th>smoothness_worst</th>\n",
       "      <th>compactness_worst</th>\n",
       "      <th>concavity_worst</th>\n",
       "      <th>concave points_worst</th>\n",
       "      <th>symmetry_worst</th>\n",
       "      <th>fractal_dimension_worst</th>\n",
       "      <th>column32</th>\n",
       "      <th>result</th>\n",
       "    </tr>\n",
       "  </thead>\n",
       "  <tbody>\n",
       "    <tr>\n",
       "      <th>500</th>\n",
       "      <td>903011.0</td>\n",
       "      <td>11.270000</td>\n",
       "      <td>15.500000</td>\n",
       "      <td>73.379997</td>\n",
       "      <td>392.000000</td>\n",
       "      <td>0.08365</td>\n",
       "      <td>0.11140</td>\n",
       "      <td>0.10070</td>\n",
       "      <td>0.02757</td>\n",
       "      <td>0.1810</td>\n",
       "      <td>...</td>\n",
       "      <td>79.730003</td>\n",
       "      <td>450.000000</td>\n",
       "      <td>0.11020</td>\n",
       "      <td>0.28090</td>\n",
       "      <td>0.30210</td>\n",
       "      <td>0.08272</td>\n",
       "      <td>0.2157</td>\n",
       "      <td>0.10430</td>\n",
       "      <td>0.0</td>\n",
       "      <td>B</td>\n",
       "    </tr>\n",
       "    <tr>\n",
       "      <th>501</th>\n",
       "      <td>917897.0</td>\n",
       "      <td>9.847000</td>\n",
       "      <td>15.680000</td>\n",
       "      <td>63.000000</td>\n",
       "      <td>293.200012</td>\n",
       "      <td>0.09492</td>\n",
       "      <td>0.08419</td>\n",
       "      <td>0.02330</td>\n",
       "      <td>0.02416</td>\n",
       "      <td>0.1387</td>\n",
       "      <td>...</td>\n",
       "      <td>74.320000</td>\n",
       "      <td>376.500000</td>\n",
       "      <td>0.14190</td>\n",
       "      <td>0.22430</td>\n",
       "      <td>0.08434</td>\n",
       "      <td>0.06528</td>\n",
       "      <td>0.2502</td>\n",
       "      <td>0.09209</td>\n",
       "      <td>0.0</td>\n",
       "      <td>B</td>\n",
       "    </tr>\n",
       "    <tr>\n",
       "      <th>502</th>\n",
       "      <td>91376704.0</td>\n",
       "      <td>17.850000</td>\n",
       "      <td>13.230000</td>\n",
       "      <td>114.599998</td>\n",
       "      <td>992.099976</td>\n",
       "      <td>0.07838</td>\n",
       "      <td>0.06217</td>\n",
       "      <td>0.04445</td>\n",
       "      <td>0.04178</td>\n",
       "      <td>0.1220</td>\n",
       "      <td>...</td>\n",
       "      <td>127.099998</td>\n",
       "      <td>1210.000000</td>\n",
       "      <td>0.09862</td>\n",
       "      <td>0.09976</td>\n",
       "      <td>0.10480</td>\n",
       "      <td>0.08341</td>\n",
       "      <td>0.1783</td>\n",
       "      <td>0.05871</td>\n",
       "      <td>0.0</td>\n",
       "      <td>M</td>\n",
       "    </tr>\n",
       "    <tr>\n",
       "      <th>503</th>\n",
       "      <td>874662.0</td>\n",
       "      <td>11.810000</td>\n",
       "      <td>17.389999</td>\n",
       "      <td>75.269997</td>\n",
       "      <td>428.899994</td>\n",
       "      <td>0.10070</td>\n",
       "      <td>0.05562</td>\n",
       "      <td>0.02353</td>\n",
       "      <td>0.01553</td>\n",
       "      <td>0.1718</td>\n",
       "      <td>...</td>\n",
       "      <td>79.570000</td>\n",
       "      <td>489.500000</td>\n",
       "      <td>0.13560</td>\n",
       "      <td>0.10000</td>\n",
       "      <td>0.08803</td>\n",
       "      <td>0.04306</td>\n",
       "      <td>0.3200</td>\n",
       "      <td>0.06576</td>\n",
       "      <td>0.0</td>\n",
       "      <td>B</td>\n",
       "    </tr>\n",
       "    <tr>\n",
       "      <th>504</th>\n",
       "      <td>906539.0</td>\n",
       "      <td>11.570000</td>\n",
       "      <td>19.040001</td>\n",
       "      <td>74.199997</td>\n",
       "      <td>409.700012</td>\n",
       "      <td>0.08546</td>\n",
       "      <td>0.07722</td>\n",
       "      <td>0.05485</td>\n",
       "      <td>0.01428</td>\n",
       "      <td>0.2031</td>\n",
       "      <td>...</td>\n",
       "      <td>86.430000</td>\n",
       "      <td>520.500000</td>\n",
       "      <td>0.12490</td>\n",
       "      <td>0.19370</td>\n",
       "      <td>0.25600</td>\n",
       "      <td>0.06664</td>\n",
       "      <td>0.3035</td>\n",
       "      <td>0.08284</td>\n",
       "      <td>0.0</td>\n",
       "      <td>B</td>\n",
       "    </tr>\n",
       "    <tr>\n",
       "      <th>...</th>\n",
       "      <td>...</td>\n",
       "      <td>...</td>\n",
       "      <td>...</td>\n",
       "      <td>...</td>\n",
       "      <td>...</td>\n",
       "      <td>...</td>\n",
       "      <td>...</td>\n",
       "      <td>...</td>\n",
       "      <td>...</td>\n",
       "      <td>...</td>\n",
       "      <td>...</td>\n",
       "      <td>...</td>\n",
       "      <td>...</td>\n",
       "      <td>...</td>\n",
       "      <td>...</td>\n",
       "      <td>...</td>\n",
       "      <td>...</td>\n",
       "      <td>...</td>\n",
       "      <td>...</td>\n",
       "      <td>...</td>\n",
       "      <td>...</td>\n",
       "    </tr>\n",
       "    <tr>\n",
       "      <th>564</th>\n",
       "      <td>914580.0</td>\n",
       "      <td>12.470000</td>\n",
       "      <td>17.309999</td>\n",
       "      <td>80.449997</td>\n",
       "      <td>480.100006</td>\n",
       "      <td>0.08928</td>\n",
       "      <td>0.07630</td>\n",
       "      <td>0.03609</td>\n",
       "      <td>0.02369</td>\n",
       "      <td>0.1526</td>\n",
       "      <td>...</td>\n",
       "      <td>92.820000</td>\n",
       "      <td>607.299988</td>\n",
       "      <td>0.12760</td>\n",
       "      <td>0.25060</td>\n",
       "      <td>0.20280</td>\n",
       "      <td>0.10530</td>\n",
       "      <td>0.3035</td>\n",
       "      <td>0.07661</td>\n",
       "      <td>0.0</td>\n",
       "      <td>B</td>\n",
       "    </tr>\n",
       "    <tr>\n",
       "      <th>565</th>\n",
       "      <td>877989.0</td>\n",
       "      <td>17.540001</td>\n",
       "      <td>19.320000</td>\n",
       "      <td>115.099998</td>\n",
       "      <td>951.599976</td>\n",
       "      <td>0.08968</td>\n",
       "      <td>0.11980</td>\n",
       "      <td>0.10360</td>\n",
       "      <td>0.07488</td>\n",
       "      <td>0.1506</td>\n",
       "      <td>...</td>\n",
       "      <td>139.500000</td>\n",
       "      <td>1239.000000</td>\n",
       "      <td>0.13810</td>\n",
       "      <td>0.34200</td>\n",
       "      <td>0.35080</td>\n",
       "      <td>0.19390</td>\n",
       "      <td>0.2928</td>\n",
       "      <td>0.07867</td>\n",
       "      <td>0.0</td>\n",
       "      <td>M</td>\n",
       "    </tr>\n",
       "    <tr>\n",
       "      <th>566</th>\n",
       "      <td>854941.0</td>\n",
       "      <td>13.030000</td>\n",
       "      <td>18.420000</td>\n",
       "      <td>82.610001</td>\n",
       "      <td>523.799988</td>\n",
       "      <td>0.08983</td>\n",
       "      <td>0.03766</td>\n",
       "      <td>0.02562</td>\n",
       "      <td>0.02923</td>\n",
       "      <td>0.1467</td>\n",
       "      <td>...</td>\n",
       "      <td>84.459999</td>\n",
       "      <td>545.900024</td>\n",
       "      <td>0.09701</td>\n",
       "      <td>0.04619</td>\n",
       "      <td>0.04833</td>\n",
       "      <td>0.05013</td>\n",
       "      <td>0.1987</td>\n",
       "      <td>0.06169</td>\n",
       "      <td>0.0</td>\n",
       "      <td>B</td>\n",
       "    </tr>\n",
       "    <tr>\n",
       "      <th>567</th>\n",
       "      <td>911654.0</td>\n",
       "      <td>14.200000</td>\n",
       "      <td>20.530001</td>\n",
       "      <td>92.410004</td>\n",
       "      <td>618.400024</td>\n",
       "      <td>0.08931</td>\n",
       "      <td>0.11080</td>\n",
       "      <td>0.05063</td>\n",
       "      <td>0.03058</td>\n",
       "      <td>0.1506</td>\n",
       "      <td>...</td>\n",
       "      <td>112.099998</td>\n",
       "      <td>828.500000</td>\n",
       "      <td>0.11530</td>\n",
       "      <td>0.34290</td>\n",
       "      <td>0.25120</td>\n",
       "      <td>0.13390</td>\n",
       "      <td>0.2534</td>\n",
       "      <td>0.07858</td>\n",
       "      <td>0.0</td>\n",
       "      <td>B</td>\n",
       "    </tr>\n",
       "    <tr>\n",
       "      <th>568</th>\n",
       "      <td>891670.0</td>\n",
       "      <td>12.950000</td>\n",
       "      <td>16.020000</td>\n",
       "      <td>83.139999</td>\n",
       "      <td>513.700012</td>\n",
       "      <td>0.10050</td>\n",
       "      <td>0.07943</td>\n",
       "      <td>0.06155</td>\n",
       "      <td>0.03370</td>\n",
       "      <td>0.1730</td>\n",
       "      <td>...</td>\n",
       "      <td>88.809998</td>\n",
       "      <td>585.400024</td>\n",
       "      <td>0.14830</td>\n",
       "      <td>0.20680</td>\n",
       "      <td>0.22410</td>\n",
       "      <td>0.10560</td>\n",
       "      <td>0.3380</td>\n",
       "      <td>0.09584</td>\n",
       "      <td>0.0</td>\n",
       "      <td>B</td>\n",
       "    </tr>\n",
       "  </tbody>\n",
       "</table>\n",
       "<p>69 rows × 33 columns</p>\n",
       "</div>"
      ]
     },
     "metadata": {},
     "execution_count": 28
    }
   ],
   "metadata": {
    "gather": {
     "logged": 1648858615015
    },
    "jupyter": {
     "outputs_hidden": false,
     "source_hidden": false
    },
    "nteract": {
     "transient": {
      "deleting": false
     }
    }
   }
  },
  {
   "cell_type": "markdown",
   "source": [
    "#### Renaming the columns"
   ],
   "metadata": {
    "nteract": {
     "transient": {
      "deleting": false
     }
    }
   }
  },
  {
   "cell_type": "code",
   "execution_count": 29,
   "source": [
    "X = X.rename(columns={'concave points_mean': 'concave_points_mean', 'concave points_se': 'concave_points_se', 'concave points_worst':'concave_points_worst'})"
   ],
   "outputs": [],
   "metadata": {
    "gather": {
     "logged": 1648858622523
    },
    "jupyter": {
     "outputs_hidden": false,
     "source_hidden": false
    },
    "nteract": {
     "transient": {
      "deleting": false
     }
    }
   }
  },
  {
   "cell_type": "code",
   "execution_count": 30,
   "source": [
    "X"
   ],
   "outputs": [
    {
     "output_type": "execute_result",
     "data": {
      "text/plain": [
       "             id  radius_mean  texture_mean  perimeter_mean   area_mean  \\\n",
       "500    903011.0    11.270000     15.500000       73.379997  392.000000   \n",
       "501    917897.0     9.847000     15.680000       63.000000  293.200012   \n",
       "502  91376704.0    17.850000     13.230000      114.599998  992.099976   \n",
       "503    874662.0    11.810000     17.389999       75.269997  428.899994   \n",
       "504    906539.0    11.570000     19.040001       74.199997  409.700012   \n",
       "..          ...          ...           ...             ...         ...   \n",
       "564    914580.0    12.470000     17.309999       80.449997  480.100006   \n",
       "565    877989.0    17.540001     19.320000      115.099998  951.599976   \n",
       "566    854941.0    13.030000     18.420000       82.610001  523.799988   \n",
       "567    911654.0    14.200000     20.530001       92.410004  618.400024   \n",
       "568    891670.0    12.950000     16.020000       83.139999  513.700012   \n",
       "\n",
       "     smoothness_mean  compactness_mean  concavity_mean  concave_points_mean  \\\n",
       "500          0.08365           0.11140         0.10070              0.02757   \n",
       "501          0.09492           0.08419         0.02330              0.02416   \n",
       "502          0.07838           0.06217         0.04445              0.04178   \n",
       "503          0.10070           0.05562         0.02353              0.01553   \n",
       "504          0.08546           0.07722         0.05485              0.01428   \n",
       "..               ...               ...             ...                  ...   \n",
       "564          0.08928           0.07630         0.03609              0.02369   \n",
       "565          0.08968           0.11980         0.10360              0.07488   \n",
       "566          0.08983           0.03766         0.02562              0.02923   \n",
       "567          0.08931           0.11080         0.05063              0.03058   \n",
       "568          0.10050           0.07943         0.06155              0.03370   \n",
       "\n",
       "     symmetry_mean  ...  perimeter_worst   area_worst  smoothness_worst  \\\n",
       "500         0.1810  ...        79.730003   450.000000           0.11020   \n",
       "501         0.1387  ...        74.320000   376.500000           0.14190   \n",
       "502         0.1220  ...       127.099998  1210.000000           0.09862   \n",
       "503         0.1718  ...        79.570000   489.500000           0.13560   \n",
       "504         0.2031  ...        86.430000   520.500000           0.12490   \n",
       "..             ...  ...              ...          ...               ...   \n",
       "564         0.1526  ...        92.820000   607.299988           0.12760   \n",
       "565         0.1506  ...       139.500000  1239.000000           0.13810   \n",
       "566         0.1467  ...        84.459999   545.900024           0.09701   \n",
       "567         0.1506  ...       112.099998   828.500000           0.11530   \n",
       "568         0.1730  ...        88.809998   585.400024           0.14830   \n",
       "\n",
       "     compactness_worst  concavity_worst  concave_points_worst  symmetry_worst  \\\n",
       "500            0.28090          0.30210               0.08272          0.2157   \n",
       "501            0.22430          0.08434               0.06528          0.2502   \n",
       "502            0.09976          0.10480               0.08341          0.1783   \n",
       "503            0.10000          0.08803               0.04306          0.3200   \n",
       "504            0.19370          0.25600               0.06664          0.3035   \n",
       "..                 ...              ...                   ...             ...   \n",
       "564            0.25060          0.20280               0.10530          0.3035   \n",
       "565            0.34200          0.35080               0.19390          0.2928   \n",
       "566            0.04619          0.04833               0.05013          0.1987   \n",
       "567            0.34290          0.25120               0.13390          0.2534   \n",
       "568            0.20680          0.22410               0.10560          0.3380   \n",
       "\n",
       "     fractal_dimension_worst  column32  result  \n",
       "500                  0.10430       0.0       B  \n",
       "501                  0.09209       0.0       B  \n",
       "502                  0.05871       0.0       M  \n",
       "503                  0.06576       0.0       B  \n",
       "504                  0.08284       0.0       B  \n",
       "..                       ...       ...     ...  \n",
       "564                  0.07661       0.0       B  \n",
       "565                  0.07867       0.0       M  \n",
       "566                  0.06169       0.0       B  \n",
       "567                  0.07858       0.0       B  \n",
       "568                  0.09584       0.0       B  \n",
       "\n",
       "[69 rows x 33 columns]"
      ],
      "text/html": [
       "<div>\n",
       "<style scoped>\n",
       "    .dataframe tbody tr th:only-of-type {\n",
       "        vertical-align: middle;\n",
       "    }\n",
       "\n",
       "    .dataframe tbody tr th {\n",
       "        vertical-align: top;\n",
       "    }\n",
       "\n",
       "    .dataframe thead th {\n",
       "        text-align: right;\n",
       "    }\n",
       "</style>\n",
       "<table border=\"1\" class=\"dataframe\">\n",
       "  <thead>\n",
       "    <tr style=\"text-align: right;\">\n",
       "      <th></th>\n",
       "      <th>id</th>\n",
       "      <th>radius_mean</th>\n",
       "      <th>texture_mean</th>\n",
       "      <th>perimeter_mean</th>\n",
       "      <th>area_mean</th>\n",
       "      <th>smoothness_mean</th>\n",
       "      <th>compactness_mean</th>\n",
       "      <th>concavity_mean</th>\n",
       "      <th>concave_points_mean</th>\n",
       "      <th>symmetry_mean</th>\n",
       "      <th>...</th>\n",
       "      <th>perimeter_worst</th>\n",
       "      <th>area_worst</th>\n",
       "      <th>smoothness_worst</th>\n",
       "      <th>compactness_worst</th>\n",
       "      <th>concavity_worst</th>\n",
       "      <th>concave_points_worst</th>\n",
       "      <th>symmetry_worst</th>\n",
       "      <th>fractal_dimension_worst</th>\n",
       "      <th>column32</th>\n",
       "      <th>result</th>\n",
       "    </tr>\n",
       "  </thead>\n",
       "  <tbody>\n",
       "    <tr>\n",
       "      <th>500</th>\n",
       "      <td>903011.0</td>\n",
       "      <td>11.270000</td>\n",
       "      <td>15.500000</td>\n",
       "      <td>73.379997</td>\n",
       "      <td>392.000000</td>\n",
       "      <td>0.08365</td>\n",
       "      <td>0.11140</td>\n",
       "      <td>0.10070</td>\n",
       "      <td>0.02757</td>\n",
       "      <td>0.1810</td>\n",
       "      <td>...</td>\n",
       "      <td>79.730003</td>\n",
       "      <td>450.000000</td>\n",
       "      <td>0.11020</td>\n",
       "      <td>0.28090</td>\n",
       "      <td>0.30210</td>\n",
       "      <td>0.08272</td>\n",
       "      <td>0.2157</td>\n",
       "      <td>0.10430</td>\n",
       "      <td>0.0</td>\n",
       "      <td>B</td>\n",
       "    </tr>\n",
       "    <tr>\n",
       "      <th>501</th>\n",
       "      <td>917897.0</td>\n",
       "      <td>9.847000</td>\n",
       "      <td>15.680000</td>\n",
       "      <td>63.000000</td>\n",
       "      <td>293.200012</td>\n",
       "      <td>0.09492</td>\n",
       "      <td>0.08419</td>\n",
       "      <td>0.02330</td>\n",
       "      <td>0.02416</td>\n",
       "      <td>0.1387</td>\n",
       "      <td>...</td>\n",
       "      <td>74.320000</td>\n",
       "      <td>376.500000</td>\n",
       "      <td>0.14190</td>\n",
       "      <td>0.22430</td>\n",
       "      <td>0.08434</td>\n",
       "      <td>0.06528</td>\n",
       "      <td>0.2502</td>\n",
       "      <td>0.09209</td>\n",
       "      <td>0.0</td>\n",
       "      <td>B</td>\n",
       "    </tr>\n",
       "    <tr>\n",
       "      <th>502</th>\n",
       "      <td>91376704.0</td>\n",
       "      <td>17.850000</td>\n",
       "      <td>13.230000</td>\n",
       "      <td>114.599998</td>\n",
       "      <td>992.099976</td>\n",
       "      <td>0.07838</td>\n",
       "      <td>0.06217</td>\n",
       "      <td>0.04445</td>\n",
       "      <td>0.04178</td>\n",
       "      <td>0.1220</td>\n",
       "      <td>...</td>\n",
       "      <td>127.099998</td>\n",
       "      <td>1210.000000</td>\n",
       "      <td>0.09862</td>\n",
       "      <td>0.09976</td>\n",
       "      <td>0.10480</td>\n",
       "      <td>0.08341</td>\n",
       "      <td>0.1783</td>\n",
       "      <td>0.05871</td>\n",
       "      <td>0.0</td>\n",
       "      <td>M</td>\n",
       "    </tr>\n",
       "    <tr>\n",
       "      <th>503</th>\n",
       "      <td>874662.0</td>\n",
       "      <td>11.810000</td>\n",
       "      <td>17.389999</td>\n",
       "      <td>75.269997</td>\n",
       "      <td>428.899994</td>\n",
       "      <td>0.10070</td>\n",
       "      <td>0.05562</td>\n",
       "      <td>0.02353</td>\n",
       "      <td>0.01553</td>\n",
       "      <td>0.1718</td>\n",
       "      <td>...</td>\n",
       "      <td>79.570000</td>\n",
       "      <td>489.500000</td>\n",
       "      <td>0.13560</td>\n",
       "      <td>0.10000</td>\n",
       "      <td>0.08803</td>\n",
       "      <td>0.04306</td>\n",
       "      <td>0.3200</td>\n",
       "      <td>0.06576</td>\n",
       "      <td>0.0</td>\n",
       "      <td>B</td>\n",
       "    </tr>\n",
       "    <tr>\n",
       "      <th>504</th>\n",
       "      <td>906539.0</td>\n",
       "      <td>11.570000</td>\n",
       "      <td>19.040001</td>\n",
       "      <td>74.199997</td>\n",
       "      <td>409.700012</td>\n",
       "      <td>0.08546</td>\n",
       "      <td>0.07722</td>\n",
       "      <td>0.05485</td>\n",
       "      <td>0.01428</td>\n",
       "      <td>0.2031</td>\n",
       "      <td>...</td>\n",
       "      <td>86.430000</td>\n",
       "      <td>520.500000</td>\n",
       "      <td>0.12490</td>\n",
       "      <td>0.19370</td>\n",
       "      <td>0.25600</td>\n",
       "      <td>0.06664</td>\n",
       "      <td>0.3035</td>\n",
       "      <td>0.08284</td>\n",
       "      <td>0.0</td>\n",
       "      <td>B</td>\n",
       "    </tr>\n",
       "    <tr>\n",
       "      <th>...</th>\n",
       "      <td>...</td>\n",
       "      <td>...</td>\n",
       "      <td>...</td>\n",
       "      <td>...</td>\n",
       "      <td>...</td>\n",
       "      <td>...</td>\n",
       "      <td>...</td>\n",
       "      <td>...</td>\n",
       "      <td>...</td>\n",
       "      <td>...</td>\n",
       "      <td>...</td>\n",
       "      <td>...</td>\n",
       "      <td>...</td>\n",
       "      <td>...</td>\n",
       "      <td>...</td>\n",
       "      <td>...</td>\n",
       "      <td>...</td>\n",
       "      <td>...</td>\n",
       "      <td>...</td>\n",
       "      <td>...</td>\n",
       "      <td>...</td>\n",
       "    </tr>\n",
       "    <tr>\n",
       "      <th>564</th>\n",
       "      <td>914580.0</td>\n",
       "      <td>12.470000</td>\n",
       "      <td>17.309999</td>\n",
       "      <td>80.449997</td>\n",
       "      <td>480.100006</td>\n",
       "      <td>0.08928</td>\n",
       "      <td>0.07630</td>\n",
       "      <td>0.03609</td>\n",
       "      <td>0.02369</td>\n",
       "      <td>0.1526</td>\n",
       "      <td>...</td>\n",
       "      <td>92.820000</td>\n",
       "      <td>607.299988</td>\n",
       "      <td>0.12760</td>\n",
       "      <td>0.25060</td>\n",
       "      <td>0.20280</td>\n",
       "      <td>0.10530</td>\n",
       "      <td>0.3035</td>\n",
       "      <td>0.07661</td>\n",
       "      <td>0.0</td>\n",
       "      <td>B</td>\n",
       "    </tr>\n",
       "    <tr>\n",
       "      <th>565</th>\n",
       "      <td>877989.0</td>\n",
       "      <td>17.540001</td>\n",
       "      <td>19.320000</td>\n",
       "      <td>115.099998</td>\n",
       "      <td>951.599976</td>\n",
       "      <td>0.08968</td>\n",
       "      <td>0.11980</td>\n",
       "      <td>0.10360</td>\n",
       "      <td>0.07488</td>\n",
       "      <td>0.1506</td>\n",
       "      <td>...</td>\n",
       "      <td>139.500000</td>\n",
       "      <td>1239.000000</td>\n",
       "      <td>0.13810</td>\n",
       "      <td>0.34200</td>\n",
       "      <td>0.35080</td>\n",
       "      <td>0.19390</td>\n",
       "      <td>0.2928</td>\n",
       "      <td>0.07867</td>\n",
       "      <td>0.0</td>\n",
       "      <td>M</td>\n",
       "    </tr>\n",
       "    <tr>\n",
       "      <th>566</th>\n",
       "      <td>854941.0</td>\n",
       "      <td>13.030000</td>\n",
       "      <td>18.420000</td>\n",
       "      <td>82.610001</td>\n",
       "      <td>523.799988</td>\n",
       "      <td>0.08983</td>\n",
       "      <td>0.03766</td>\n",
       "      <td>0.02562</td>\n",
       "      <td>0.02923</td>\n",
       "      <td>0.1467</td>\n",
       "      <td>...</td>\n",
       "      <td>84.459999</td>\n",
       "      <td>545.900024</td>\n",
       "      <td>0.09701</td>\n",
       "      <td>0.04619</td>\n",
       "      <td>0.04833</td>\n",
       "      <td>0.05013</td>\n",
       "      <td>0.1987</td>\n",
       "      <td>0.06169</td>\n",
       "      <td>0.0</td>\n",
       "      <td>B</td>\n",
       "    </tr>\n",
       "    <tr>\n",
       "      <th>567</th>\n",
       "      <td>911654.0</td>\n",
       "      <td>14.200000</td>\n",
       "      <td>20.530001</td>\n",
       "      <td>92.410004</td>\n",
       "      <td>618.400024</td>\n",
       "      <td>0.08931</td>\n",
       "      <td>0.11080</td>\n",
       "      <td>0.05063</td>\n",
       "      <td>0.03058</td>\n",
       "      <td>0.1506</td>\n",
       "      <td>...</td>\n",
       "      <td>112.099998</td>\n",
       "      <td>828.500000</td>\n",
       "      <td>0.11530</td>\n",
       "      <td>0.34290</td>\n",
       "      <td>0.25120</td>\n",
       "      <td>0.13390</td>\n",
       "      <td>0.2534</td>\n",
       "      <td>0.07858</td>\n",
       "      <td>0.0</td>\n",
       "      <td>B</td>\n",
       "    </tr>\n",
       "    <tr>\n",
       "      <th>568</th>\n",
       "      <td>891670.0</td>\n",
       "      <td>12.950000</td>\n",
       "      <td>16.020000</td>\n",
       "      <td>83.139999</td>\n",
       "      <td>513.700012</td>\n",
       "      <td>0.10050</td>\n",
       "      <td>0.07943</td>\n",
       "      <td>0.06155</td>\n",
       "      <td>0.03370</td>\n",
       "      <td>0.1730</td>\n",
       "      <td>...</td>\n",
       "      <td>88.809998</td>\n",
       "      <td>585.400024</td>\n",
       "      <td>0.14830</td>\n",
       "      <td>0.20680</td>\n",
       "      <td>0.22410</td>\n",
       "      <td>0.10560</td>\n",
       "      <td>0.3380</td>\n",
       "      <td>0.09584</td>\n",
       "      <td>0.0</td>\n",
       "      <td>B</td>\n",
       "    </tr>\n",
       "  </tbody>\n",
       "</table>\n",
       "<p>69 rows × 33 columns</p>\n",
       "</div>"
      ]
     },
     "metadata": {},
     "execution_count": 30
    }
   ],
   "metadata": {
    "gather": {
     "logged": 1648858629710
    },
    "jupyter": {
     "outputs_hidden": false,
     "source_hidden": false
    },
    "nteract": {
     "transient": {
      "deleting": false
     }
    }
   }
  },
  {
   "cell_type": "markdown",
   "source": [
    " #### Inserting the data into table"
   ],
   "metadata": {
    "nteract": {
     "transient": {
      "deleting": false
     }
    }
   }
  },
  {
   "cell_type": "code",
   "execution_count": 31,
   "source": [
    "db.insert_into_table('PCA_BREASTCANCER_VIEW',X)"
   ],
   "outputs": [
    {
     "output_type": "stream",
     "name": "stdout",
     "text": [
      "2022-04-02 00:17:13,458: fedml_azure.logger INFO: inserting into table...\n",
      "2022-04-02 00:17:13,459: fedml_azure.logger INFO: INSERT INTO PCA_BREASTCANCER_VIEW (id, radius_mean, texture_mean, perimeter_mean, area_mean, smoothness_mean, compactness_mean, concavity_mean, concave_points_mean, symmetry_mean, fractal_dimension_mean, radius_se, texture_se, perimeter_se, area_se, smoothness_se, compactness_se, concavity_se, concave_points_se, symmetry_se, fractal_dimension_se, radius_worst, texture_worst, perimeter_worst, area_worst, smoothness_worst, compactness_worst, concavity_worst, concave_points_worst, symmetry_worst, fractal_dimension_worst, column32, result, INSERTED_AT) VALUES (:id, :radius_mean, :texture_mean, :perimeter_mean, :area_mean, :smoothness_mean, :compactness_mean, :concavity_mean, :concave_points_mean, :symmetry_mean, :fractal_dimension_mean, :radius_se, :texture_se, :perimeter_se, :area_se, :smoothness_se, :compactness_se, :concavity_se, :concave_points_se, :symmetry_se, :fractal_dimension_se, :radius_worst, :texture_worst, :perimeter_worst, :area_worst, :smoothness_worst, :compactness_worst, :concavity_worst, :concave_points_worst, :symmetry_worst, :fractal_dimension_worst, :column32, :result, :INSERTED_AT)\n"
     ]
    }
   ],
   "metadata": {
    "gather": {
     "logged": 1648858633950
    },
    "jupyter": {
     "outputs_hidden": false,
     "source_hidden": false
    },
    "nteract": {
     "transient": {
      "deleting": false
     }
    }
   }
  }
 ],
 "metadata": {
  "kernel_info": {
   "name": "python3-azureml"
  },
  "kernelspec": {
   "display_name": "Python 3",
   "language": "python",
   "name": "python3"
  },
  "language_info": {
   "codemirror_mode": {
    "name": "ipython",
    "version": 3
   },
   "file_extension": ".py",
   "mimetype": "text/x-python",
   "name": "python",
   "nbconvert_exporter": "python",
   "pygments_lexer": "ipython3",
   "version": "3.8.8"
  },
  "microsoft": {
   "host": {
    "AzureML": {
     "notebookHasBeenCompleted": true
    }
   }
  },
  "nteract": {
   "version": "nteract-front-end@1.0.0"
  }
 },
 "nbformat": 4,
 "nbformat_minor": 2
}