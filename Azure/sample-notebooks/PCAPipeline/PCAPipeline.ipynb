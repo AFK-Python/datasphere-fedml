{
 "cells": [
  {
   "cell_type": "markdown",
   "source": [
    "## Scikit-Learn PCA and Logistic Regression Pipeline\n",
    "### Using BREASTCANCER_VIEW from DWC. This view has 569 records"
   ],
   "metadata": {}
  },
  {
   "cell_type": "markdown",
   "source": [
    "## Install fedml-azure package"
   ],
   "metadata": {
    "nteract": {
     "transient": {
      "deleting": false
     }
    }
   }
  },
  {
   "cell_type": "code",
   "execution_count": 1,
   "source": [
    "pip install fedml-azure --force-reinstall"
   ],
   "outputs": [
    {
     "output_type": "stream",
     "name": "stdout",
     "text": [
      "Processing ./fedml_azure_test-2.0.0-py3-none-any.whl\n",
      "Collecting ruamel.yaml\n",
      "  Using cached ruamel.yaml-0.17.21-py3-none-any.whl (109 kB)\n",
      "Collecting hdbcli\n",
      "  Using cached hdbcli-2.12.20-cp34-abi3-manylinux1_x86_64.whl (11.7 MB)\n",
      "Collecting ruamel.yaml.clib>=0.2.6; platform_python_implementation == \"CPython\" and python_version < \"3.11\"\n",
      "  Using cached ruamel.yaml.clib-0.2.6-cp36-cp36m-manylinux1_x86_64.whl (552 kB)\n",
      "Installing collected packages: ruamel.yaml.clib, ruamel.yaml, hdbcli, fedml-azure-test\n",
      "  Attempting uninstall: ruamel.yaml.clib\n",
      "    Found existing installation: ruamel.yaml.clib 0.2.6\n",
      "    Uninstalling ruamel.yaml.clib-0.2.6:\n",
      "      Successfully uninstalled ruamel.yaml.clib-0.2.6\n",
      "  Attempting uninstall: ruamel.yaml\n",
      "    Found existing installation: ruamel.yaml 0.17.21\n",
      "    Uninstalling ruamel.yaml-0.17.21:\n",
      "      Successfully uninstalled ruamel.yaml-0.17.21\n",
      "  Attempting uninstall: hdbcli\n",
      "    Found existing installation: hdbcli 2.12.20\n",
      "    Uninstalling hdbcli-2.12.20:\n",
      "      Successfully uninstalled hdbcli-2.12.20\n",
      "  Attempting uninstall: fedml-azure-test\n",
      "    Found existing installation: fedml-azure-test 2.0.0\n",
      "    Uninstalling fedml-azure-test-2.0.0:\n",
      "      Successfully uninstalled fedml-azure-test-2.0.0\n",
      "Successfully installed fedml-azure-test-2.0.0 hdbcli-2.12.20 ruamel.yaml-0.17.21 ruamel.yaml.clib-0.2.6\n",
      "Note: you may need to restart the kernel to use updated packages.\n"
     ]
    }
   ],
   "metadata": {
    "gather": {
     "logged": 1648858007709
    },
    "jupyter": {
     "outputs_hidden": false,
     "source_hidden": false
    },
    "nteract": {
     "transient": {
      "deleting": false
     }
    }
   }
  },
  {
   "cell_type": "markdown",
   "source": [
    "## Import the libraries needed in this notebook"
   ],
   "metadata": {}
  },
  {
   "cell_type": "code",
   "execution_count": 2,
   "source": [
    "from fedml_azure import create_workspace\n",
    "from fedml_azure import DbConnection\n",
    "from fedml_azure import create_compute\n",
    "from fedml_azure import create_environment\n",
    "from fedml_azure import DwcAzureTrain\n",
    "from fedml_azure import deploy\n",
    "from fedml_azure import predict"
   ],
   "outputs": [],
   "metadata": {
    "gather": {
     "logged": 1648858012549
    }
   }
  },
  {
   "cell_type": "markdown",
   "source": [
    "## Set up\n",
    "\n",
    "### Initialize the workspace\n",
    "\n",
    "The create_workspace method takes a dictionary as input for parameter workspace_args.\n",
    "\n",
    "Before running the below cell, ensure that you have a workspace and replace the subscription_id, \n",
    "resource_group, and workspace_name with your information.\n",
    "https://docs.microsoft.com/en-us/azure/machine-learning/how-to-manage-workspace?tabs=python \n",
    "\n",
    "Refer the documentation on the ‘create_workspace’ method and parameters (https://github.com/SAP-samples/data-warehouse-cloud-fedml/blob/main/Azure/docs/fedml_azure.md#create_workspace).\n"
   ],
   "metadata": {
    "nteract": {
     "transient": {
      "deleting": false
     }
    }
   }
  },
  {
   "cell_type": "code",
   "execution_count": 3,
   "source": [
    "workspace=create_workspace(workspace_args={\n",
    "                                            \"subscription_id\": '<subscription-id>',\n",
    "                                            \"resource_group\": '<resource-group>',\n",
    "                                            \"workspace_name\": '<workspace_name>'\n",
    "                                            }\n",
    ")"
   ],
   "outputs": [
    {
     "output_type": "stream",
     "name": "stdout",
     "text": [
      "2022-04-02 00:06:54,013: fedml_azure.logger INFO: Getting existing Workspace\n"
     ]
    }
   ],
   "metadata": {
    "gather": {
     "logged": 1648858015294
    },
    "jupyter": {
     "outputs_hidden": false,
     "source_hidden": false
    },
    "nteract": {
     "transient": {
      "deleting": false
     }
    }
   }
  },
  {
   "cell_type": "markdown",
   "source": [
    "### Create a Compute target\n",
    "\n",
    "The create_compute method takes the workspace, a compute_type, and compute_args as parameters.The following code creates a Compute Cluster with the name 'cpu-cluster' for training.\n",
    "\n",
    "Refer the documentation on the ‘create_compute’ method and parameters (https://github.com/SAP-samples/data-warehouse-cloud-fedml/blob/main/Azure/docs/fedml_azure.md#create_compute).\n"
   ],
   "metadata": {
    "nteract": {
     "transient": {
      "deleting": false
     }
    }
   }
  },
  {
   "cell_type": "code",
   "execution_count": 5,
   "source": [
    "compute=create_compute(workspace=workspace,\n",
    "                   compute_type='AmlComputeCluster',\n",
    "                   compute_args={'vm_size':'Standard_D2',\n",
    "                                'compute_name':'fedml-test1',\n",
    "                                'max_nodes':6,\n",
    "                                }\n",
    "                )"
   ],
   "outputs": [
    {
     "output_type": "stream",
     "name": "stdout",
     "text": [
      "2022-04-02 00:07:07,549: fedml_azure.logger INFO: Creating Compute_target.\n",
      "2022-04-02 00:07:07,859: fedml_azure.logger INFO: Found compute target. just use it. fedml-test1\n"
     ]
    }
   ],
   "metadata": {
    "gather": {
     "logged": 1648858027908
    },
    "jupyter": {
     "outputs_hidden": false,
     "source_hidden": false
    },
    "nteract": {
     "transient": {
      "deleting": false
     }
    }
   }
  },
  {
   "cell_type": "markdown",
   "source": [
    "### Create an Environment\n",
    "\n",
    "The create_environment method takes the workspace, environment_type, and environment_args as parameters.\n",
    "\n",
    "Pass 'fedml-azure' as a pip package and to use scikit-learn, you must pass the name to conda_packages as well.\n",
    "\n",
    "Refer the documentation on the ‘create_environment’ method and parameters (https://github.com/SAP-samples/data-warehouse-cloud-fedml/blob/main/Azure/docs/fedml_azure.md#create_environment).\n",
    "`"
   ],
   "metadata": {
    "nteract": {
     "transient": {
      "deleting": false
     }
    }
   }
  },
  {
   "cell_type": "code",
   "execution_count": 6,
   "source": [
    "environment=create_environment(workspace=workspace,\n",
    "                           environment_type='CondaPackageEnvironment',\n",
    "                           environment_args={'name':'pca-sklearn',\n",
    "                                             'pip_packages':['joblib','fedml-azure'],\n",
    "                                             'conda_packages':['scikit-learn']})\n"
   ],
   "outputs": [
    {
     "output_type": "stream",
     "name": "stdout",
     "text": [
      "2022-04-02 00:07:11,748: fedml_azure.logger INFO: Creating Environment.\n"
     ]
    }
   ],
   "metadata": {
    "gather": {
     "logged": 1648858032691
    },
    "jupyter": {
     "outputs_hidden": false,
     "source_hidden": false
    },
    "nteract": {
     "transient": {
      "deleting": false
     }
    }
   }
  },
  {
   "cell_type": "markdown",
   "source": [
    "## Now, lets train the model\n",
    "\n",
    "### Creating a Training object and setting the workspace, compute target, and environment.\n",
    "\n",
    "Before running the below cell, ensure that you have a workspace and replace the subscription_id, resource_group, and workspace_name with your information.\n",
    "\n",
    "The whl file for the fedml_azure library must be passed to the pip_wheel_files key in the environment_args and to use scikit-learn, you must pass the name to conda_packages as well.\n",
    "\n",
    "Refer the documentation on the ‘DwcAzureTrain’ class (https://github.com/SAP-samples/data-warehouse-cloud-fedml/blob/main/Azure/docs/fedml_azure.md#dwcazuretrain-class)."
   ],
   "metadata": {}
  },
  {
   "cell_type": "code",
   "execution_count": 7,
   "source": [
    "train=DwcAzureTrain(workspace=workspace,\n",
    "                    environment=environment,\n",
    "                    experiment_args={'name':'federated-experiment'},\n",
    "                    compute=compute)"
   ],
   "outputs": [
    {
     "output_type": "stream",
     "name": "stdout",
     "text": [
      "2022-04-02 00:07:15,748: fedml_azure.logger INFO: Assigning Workspace.\n",
      "2022-04-02 00:07:15,749: fedml_azure.logger INFO: Creating Experiment\n",
      "2022-04-02 00:07:15,898: fedml_azure.logger INFO: Assigning compute.\n",
      "2022-04-02 00:07:15,899: fedml_azure.logger INFO: Assigning Environment.\n"
     ]
    }
   ],
   "metadata": {
    "gather": {
     "logged": 1648858035974
    },
    "jupyter": {
     "outputs_hidden": false,
     "source_hidden": false
    },
    "nteract": {
     "transient": {
      "deleting": false
     }
    }
   }
  },
  {
   "cell_type": "markdown",
   "source": [
    "### Then, we need to generate the run config. This is needed to package the configuration specified so we can submit a job for training. \n",
    "\n",
    "Before running the following cell, you should have a config.json file with the specified values to allow you to access to DWC. Provide this file path to config_file_path in the below cell.\n",
    "\n",
    "You should also have the follow view BREASTCANCER_VIEW created in your DWC. To gather this data, please refer to https://www.kaggle.com/uciml/breast-cancer-wisconsin-data\n",
    "\n",
    "Refer the documentation on the ‘generate_run_config’ method and parameters (https://github.com/SAP-samples/data-warehouse-cloud-fedml/blob/main/Azure/docs/fedml_azure.md#generate_run_config). "
   ],
   "metadata": {}
  },
  {
   "cell_type": "code",
   "execution_count": 8,
   "source": [
    "src=train.generate_run_config(config_file_path='dwc_configs/config.json',\n",
    "                          config_args={\n",
    "                                          'source_directory':'Scikit-Learn-PCAPipeline',\n",
    "                                          'script':'pca_script.py',\n",
    "                                          'arguments':['--model_file_name','regression.pkl', '--table_name', 'BREASTCANCER_VIEW', '--n_components', '3']\n",
    "                                          }\n",
    "                            )"
   ],
   "outputs": [
    {
     "output_type": "stream",
     "name": "stdout",
     "text": [
      "2022-04-02 00:07:21,301: fedml_azure.logger INFO: Generating script run config.\n",
      "2022-04-02 00:07:21,302: fedml_azure.logger INFO: Copying config file for db connection to script_directory Scikit-Learn-PCAPipeline\n"
     ]
    }
   ],
   "metadata": {
    "gather": {
     "logged": 1648858041442
    }
   }
  },
  {
   "cell_type": "markdown",
   "source": [
    "### Submit the training job with the option to download the model outputs\n",
    "\n",
    "Refer the documentation on ‘submit_run’ method and parameters (https://github.com/SAP-samples/data-warehouse-cloud-fedml/blob/main/Azure/docs/fedml_azure.md#submit_run)"
   ],
   "metadata": {}
  },
  {
   "cell_type": "code",
   "execution_count": null,
   "source": [
    "run=train.submit_run(src)"
   ],
   "outputs": [],
   "metadata": {
    "gather": {
     "logged": 1648858326546
    }
   }
  },
  {
   "cell_type": "markdown",
   "source": [
    "### Register the model\n",
    "\n",
    "Pass ‘outputs/model_file_name.pkl’ to 'model_path' key of model_args ,where ‘model_file_name’ is the name of the .pkl model file specified in the previous step. \n",
    "\n",
    "Provide the desired model name to ‘model_name’ key of model_args in the below cell. The 'is_sklearn_model' flag specifies if a scikit learn model is being registered.\n",
    "\n",
    "Refer the documentation on ‘register_model’ method and parameters (https://github.com/SAP-samples/data-warehouse-cloud-fedml/blob/main/Azure/docs/fedml_azure.md#register_model)"
   ],
   "metadata": {}
  },
  {
   "cell_type": "code",
   "execution_count": 12,
   "source": [
    "model=train.register_model(run=run,\n",
    "                           model_args={'model_name':'sklearn_pcapipeline_model',\n",
    "                                       'model_path':'outputs/regression.pkl'},\n",
    "                            resource_config_args={'cpu':1, 'memory_in_gb':0.5},\n",
    "                            is_sklearn_model=True\n",
    "                           )"
   ],
   "outputs": [
    {
     "output_type": "stream",
     "name": "stdout",
     "text": [
      "2022-04-02 00:13:17,569: fedml_azure.logger INFO: Registering the model.\n",
      "2022-04-02 00:13:17,570: fedml_azure.logger INFO: Configuring parameters for sklearn model.\n"
     ]
    }
   ],
   "metadata": {
    "gather": {
     "logged": 1648858398326
    }
   }
  },
  {
   "cell_type": "markdown",
   "source": [
    "### Read test data from SAP DWC"
   ],
   "metadata": {
    "nteract": {
     "transient": {
      "deleting": false
     }
    }
   }
  },
  {
   "cell_type": "code",
   "execution_count": 13,
   "source": [
    "import pandas as pd\n",
    "import numpy as np\n",
    "from fedml_azure import DbConnection"
   ],
   "outputs": [],
   "metadata": {
    "gather": {
     "logged": 1648858399752
    },
    "jupyter": {
     "outputs_hidden": false,
     "source_hidden": false
    },
    "nteract": {
     "transient": {
      "deleting": false
     }
    }
   }
  },
  {
   "cell_type": "code",
   "execution_count": 14,
   "source": [
    "dwc = DbConnection(url='Scikit-Learn-PCAPipeline/config.json')\n",
    "res, column_headers = dwc.get_data_with_headers(table_name=\"BREASTCANCER_VIEW\", size=1)\n",
    "data = pd.DataFrame(res, columns=column_headers)\n",
    "org_data = data.sample(frac=1).reset_index(drop=True)\n",
    "org_data = org_data[500:]\n",
    "org_data.fillna(0, inplace=True)\n",
    "y = org_data['diagnosis']\n",
    "X = org_data.drop(['diagnosis'], axis=1)"
   ],
   "outputs": [],
   "metadata": {
    "gather": {
     "logged": 1648858401644
    },
    "jupyter": {
     "outputs_hidden": false,
     "source_hidden": false
    },
    "nteract": {
     "transient": {
      "deleting": false
     }
    }
   }
  },
  {
   "cell_type": "markdown",
   "source": [
    "#### Change the decimal datatype in the dataframe to float for serialization"
   ],
   "metadata": {
    "nteract": {
     "transient": {
      "deleting": false
     }
    }
   }
  },
  {
   "cell_type": "code",
   "execution_count": 15,
   "source": [
    "X = X.apply(pd.to_numeric, downcast='float')"
   ],
   "outputs": [],
   "metadata": {
    "gather": {
     "logged": 1648858403385
    },
    "jupyter": {
     "outputs_hidden": false,
     "source_hidden": false
    },
    "nteract": {
     "transient": {
      "deleting": false
     }
    }
   }
  },
  {
   "cell_type": "code",
   "execution_count": 16,
   "source": [
    "import json\n",
    "test_data = json.dumps(X.values.tolist())"
   ],
   "outputs": [],
   "metadata": {
    "gather": {
     "logged": 1648858405376
    },
    "jupyter": {
     "outputs_hidden": false,
     "source_hidden": false
    },
    "nteract": {
     "transient": {
      "deleting": false
     }
    }
   }
  },
  {
   "cell_type": "markdown",
   "source": [
    "### Deploy the model as a webservice to Kyma Kubernetes"
   ],
   "metadata": {
    "nteract": {
     "transient": {
      "deleting": false
     }
    }
   }
  },
  {
   "cell_type": "markdown",
   "source": [
    "Before running this cell,\n",
    "\n",
    "1. Ensure a service principal is created and the specify the config file path containing the service principal credentials to 'sp_config_path' key of deploy_args in the below cell.\n",
    "\n",
    "2. Pass the path of the kubeconfig.yaml file to connect to Kyma Kuberentes to 'kubeconfig_path' key of deploy_args in the below cell.\n",
    "\n",
    "Refer the documentation on 'deploy' for more details (https://github.com/SAP-samples/data-warehouse-cloud-fedml/blob/main/Azure/docs/fedml_azure.md#deploy)"
   ],
   "metadata": {
    "nteract": {
     "transient": {
      "deleting": false
     }
    }
   }
  },
  {
   "cell_type": "code",
   "execution_count": null,
   "source": [
    "kyma_endpoint=deploy(compute_type='Kyma',\n",
    "                    inference_config_args={'entry_script':'Scikit-Learn-PCAPipeline/predict.py', 'environment':environment},\n",
    "                    deploy_args={'workspace':workspace,\n",
    "                                'name':'pcawebservice',\n",
    "                                'models':[model],\n",
    "                                'kubeconfig_path':'Scikit-Learn-PCAPipeline/kubeconfig.yaml',\n",
    "                                'sp_config_path':'Scikit-Learn-PCAPipeline/sp_config.json'\n",
    "                                })"
   ],
   "outputs": [],
   "metadata": {
    "gather": {
     "logged": 1648858578407
    },
    "jupyter": {
     "outputs_hidden": false,
     "source_hidden": false
    },
    "nteract": {
     "transient": {
      "deleting": false
     }
    }
   }
  },
  {
   "cell_type": "markdown",
   "source": [
    "### Inferencing the kyma_endpoint by passing the testing data"
   ],
   "metadata": {
    "nteract": {
     "transient": {
      "deleting": false
     }
    }
   }
  },
  {
   "cell_type": "markdown",
   "source": [
    "Refer the documentation on 'predict' for more details (https://github.com/SAP-samples/data-warehouse-cloud-fedml/blob/main/Azure/docs/fedml_azure.md#predict)"
   ],
   "metadata": {
    "nteract": {
     "transient": {
      "deleting": false
     }
    }
   }
  },
  {
   "cell_type": "code",
   "execution_count": 22,
   "source": [
    "result=predict(endpoint_url=kyma_endpoint,compute_type='kyma',data=test_data)\n",
    "result"
   ],
   "outputs": [
    {
     "output_type": "stream",
     "name": "stdout",
     "text": [
      "2022-04-02 00:16:27,904: fedml_azure.logger INFO: Using the parameters 'endpoint_url' and 'compute_type' for inferencing.\n"
     ]
    },
    {
     "output_type": "execute_result",
     "data": {
      "text/plain": [
       "{'result': ['B',\n",
       "  'B',\n",
       "  'M',\n",
       "  'B',\n",
       "  'B',\n",
       "  'B',\n",
       "  'B',\n",
       "  'M',\n",
       "  'B',\n",
       "  'B',\n",
       "  'B',\n",
       "  'M',\n",
       "  'B',\n",
       "  'M',\n",
       "  'B',\n",
       "  'B',\n",
       "  'B',\n",
       "  'B',\n",
       "  'B',\n",
       "  'B',\n",
       "  'B',\n",
       "  'B',\n",
       "  'M',\n",
       "  'B',\n",
       "  'B',\n",
       "  'B',\n",
       "  'B',\n",
       "  'B',\n",
       "  'B',\n",
       "  'B',\n",
       "  'M',\n",
       "  'B',\n",
       "  'B',\n",
       "  'B',\n",
       "  'B',\n",
       "  'B',\n",
       "  'M',\n",
       "  'M',\n",
       "  'B',\n",
       "  'B',\n",
       "  'B',\n",
       "  'B',\n",
       "  'B',\n",
       "  'M',\n",
       "  'B',\n",
       "  'B',\n",
       "  'M',\n",
       "  'B',\n",
       "  'M',\n",
       "  'B',\n",
       "  'B',\n",
       "  'B',\n",
       "  'B',\n",
       "  'B',\n",
       "  'B',\n",
       "  'B',\n",
       "  'M',\n",
       "  'B',\n",
       "  'M',\n",
       "  'M',\n",
       "  'B',\n",
       "  'M',\n",
       "  'B',\n",
       "  'B',\n",
       "  'B',\n",
       "  'M',\n",
       "  'B',\n",
       "  'B',\n",
       "  'B']}"
      ]
     },
     "metadata": {},
     "execution_count": 22
    }
   ],
   "metadata": {
    "gather": {
     "logged": 1648858588746
    },
    "jupyter": {
     "outputs_hidden": false,
     "source_hidden": false
    },
    "nteract": {
     "transient": {
      "deleting": false
     }
    }
   }
  },
  {
   "cell_type": "markdown",
   "source": [
    "### Write the result back to SAP DWC"
   ],
   "metadata": {
    "nteract": {
     "transient": {
      "deleting": false
     }
    }
   }
  },
  {
   "cell_type": "markdown",
   "source": [
    "#### Create table in SAP DWC"
   ],
   "metadata": {
    "nteract": {
     "transient": {
      "deleting": false
     }
    }
   }
  },
  {
   "cell_type": "code",
   "execution_count": 25,
   "source": [
    "dwc.create_table(\"CREATE TABLE PCA_BREASTCANCER_VIEW (ID INTEGER PRIMARY KEY, radius_mean FLOAT(2), texture_mean FLOAT(2), perimeter_mean FLOAT(2), area_mean FLOAT(2), smoothness_mean FLOAT(2), compactness_mean FLOAT(2), concavity_mean FLOAT(2), concave_points_mean FLOAT(2), symmetry_mean FLOAT(2), fractal_dimension_mean FLOAT(2), radius_se FLOAT(2), texture_se FLOAT(2), perimeter_se FLOAT(2), area_se FLOAT(2), smoothness_se FLOAT(2), compactness_se FLOAT(2), concavity_se FLOAT(2), concave_points_se FLOAT(2), symmetry_se FLOAT(2), fractal_dimension_se FLOAT(2), radius_worst FLOAT(2), texture_worst FLOAT(2), perimeter_worst FLOAT(2), area_worst FLOAT(2), smoothness_worst FLOAT(2), compactness_worst FLOAT(2), concavity_worst FLOAT(2), concave_points_worst FLOAT(2), symmetry_worst FLOAT(2), fractal_dimension_worst FLOAT(2), column32 INTEGER, result VARCHAR(100))\")"
   ],
   "outputs": [
    {
     "output_type": "stream",
     "name": "stdout",
     "text": [
      "2022-04-02 00:16:38,750: fedml_azure.logger INFO: creating table...\n",
      "2022-04-02 00:16:38,751: fedml_azure.logger INFO: CREATE TABLE PCA_BREASTCANCER_VIEW (ID INTEGER PRIMARY KEY, radius_mean FLOAT(2), texture_mean FLOAT(2), perimeter_mean FLOAT(2), area_mean FLOAT(2), smoothness_mean FLOAT(2), compactness_mean FLOAT(2), concavity_mean FLOAT(2), concave_points_mean FLOAT(2), symmetry_mean FLOAT(2), fractal_dimension_mean FLOAT(2), radius_se FLOAT(2), texture_se FLOAT(2), perimeter_se FLOAT(2), area_se FLOAT(2), smoothness_se FLOAT(2), compactness_se FLOAT(2), concavity_se FLOAT(2), concave_points_se FLOAT(2), symmetry_se FLOAT(2), fractal_dimension_se FLOAT(2), radius_worst FLOAT(2), texture_worst FLOAT(2), perimeter_worst FLOAT(2), area_worst FLOAT(2), smoothness_worst FLOAT(2), compactness_worst FLOAT(2), concavity_worst FLOAT(2), concave_points_worst FLOAT(2), symmetry_worst FLOAT(2), fractal_dimension_worst FLOAT(2), column32 INTEGER, result VARCHAR(100), INSERTED_AT TIMESTAMP NOT NULL)\n"
     ]
    }
   ],
   "metadata": {
    "gather": {
     "logged": 1648858598880
    },
    "jupyter": {
     "outputs_hidden": false,
     "source_hidden": false
    },
    "nteract": {
     "transient": {
      "deleting": false
     }
    }
   }
  },
  {
   "cell_type": "markdown",
   "source": [
    "#### Storing the result in the dataframe"
   ],
   "metadata": {
    "nteract": {
     "transient": {
      "deleting": false
     }
    }
   }
  },
  {
   "cell_type": "code",
   "execution_count": 26,
   "source": [
    "import pandas as pd\n",
    "result_df=pd.DataFrame(result['result'])\n",
    "result_df.rename( columns={0:'result'}, inplace=True )"
   ],
   "outputs": [],
   "metadata": {
    "gather": {
     "logged": 1648858603636
    },
    "jupyter": {
     "outputs_hidden": false,
     "source_hidden": false
    },
    "nteract": {
     "transient": {
      "deleting": false
     }
    }
   }
  },
  {
   "cell_type": "code",
   "execution_count": 28,
   "source": [
    "X['result']=result_df['result'].values\n",
    "X"
   ],
   "outputs": [
    {
     "output_type": "execute_result",
     "data": {
      "text/plain": [
       "             id  radius_mean  texture_mean  perimeter_mean   area_mean  \\\n",
       "500    903011.0    11.270000     15.500000       73.379997  392.000000   \n",
       "501    917897.0     9.847000     15.680000       63.000000  293.200012   \n",
       "502  91376704.0    17.850000     13.230000      114.599998  992.099976   \n",
       "503    874662.0    11.810000     17.389999       75.269997  428.899994   \n",
       "504    906539.0    11.570000     19.040001       74.199997  409.700012   \n",
       "..          ...          ...           ...             ...         ...   \n",
       "564    914580.0    12.470000     17.309999       80.449997  480.100006   \n",
       "565    877989.0    17.540001     19.320000      115.099998  951.599976   \n",
       "566    854941.0    13.030000     18.420000       82.610001  523.799988   \n",
       "567    911654.0    14.200000     20.530001       92.410004  618.400024   \n",
       "568    891670.0    12.950000     16.020000       83.139999  513.700012   \n",
       "\n",
       "     smoothness_mean  compactness_mean  concavity_mean  concave points_mean  \\\n",
       "500          0.08365           0.11140         0.10070              0.02757   \n",
       "501          0.09492           0.08419         0.02330              0.02416   \n",
       "502          0.07838           0.06217         0.04445              0.04178   \n",
       "503          0.10070           0.05562         0.02353              0.01553   \n",
       "504          0.08546           0.07722         0.05485              0.01428   \n",
       "..               ...               ...             ...                  ...   \n",
       "564          0.08928           0.07630         0.03609              0.02369   \n",
       "565          0.08968           0.11980         0.10360              0.07488   \n",
       "566          0.08983           0.03766         0.02562              0.02923   \n",
       "567          0.08931           0.11080         0.05063              0.03058   \n",
       "568          0.10050           0.07943         0.06155              0.03370   \n",
       "\n",
       "     symmetry_mean  ...  perimeter_worst   area_worst  smoothness_worst  \\\n",
       "500         0.1810  ...        79.730003   450.000000           0.11020   \n",
       "501         0.1387  ...        74.320000   376.500000           0.14190   \n",
       "502         0.1220  ...       127.099998  1210.000000           0.09862   \n",
       "503         0.1718  ...        79.570000   489.500000           0.13560   \n",
       "504         0.2031  ...        86.430000   520.500000           0.12490   \n",
       "..             ...  ...              ...          ...               ...   \n",
       "564         0.1526  ...        92.820000   607.299988           0.12760   \n",
       "565         0.1506  ...       139.500000  1239.000000           0.13810   \n",
       "566         0.1467  ...        84.459999   545.900024           0.09701   \n",
       "567         0.1506  ...       112.099998   828.500000           0.11530   \n",
       "568         0.1730  ...        88.809998   585.400024           0.14830   \n",
       "\n",
       "     compactness_worst  concavity_worst  concave points_worst  symmetry_worst  \\\n",
       "500            0.28090          0.30210               0.08272          0.2157   \n",
       "501            0.22430          0.08434               0.06528          0.2502   \n",
       "502            0.09976          0.10480               0.08341          0.1783   \n",
       "503            0.10000          0.08803               0.04306          0.3200   \n",
       "504            0.19370          0.25600               0.06664          0.3035   \n",
       "..                 ...              ...                   ...             ...   \n",
       "564            0.25060          0.20280               0.10530          0.3035   \n",
       "565            0.34200          0.35080               0.19390          0.2928   \n",
       "566            0.04619          0.04833               0.05013          0.1987   \n",
       "567            0.34290          0.25120               0.13390          0.2534   \n",
       "568            0.20680          0.22410               0.10560          0.3380   \n",
       "\n",
       "     fractal_dimension_worst  column32  result  \n",
       "500                  0.10430       0.0       B  \n",
       "501                  0.09209       0.0       B  \n",
       "502                  0.05871       0.0       M  \n",
       "503                  0.06576       0.0       B  \n",
       "504                  0.08284       0.0       B  \n",
       "..                       ...       ...     ...  \n",
       "564                  0.07661       0.0       B  \n",
       "565                  0.07867       0.0       M  \n",
       "566                  0.06169       0.0       B  \n",
       "567                  0.07858       0.0       B  \n",
       "568                  0.09584       0.0       B  \n",
       "\n",
       "[69 rows x 33 columns]"
      ],
      "text/html": [
       "<div>\n",
       "<style scoped>\n",
       "    .dataframe tbody tr th:only-of-type {\n",
       "        vertical-align: middle;\n",
       "    }\n",
       "\n",
       "    .dataframe tbody tr th {\n",
       "        vertical-align: top;\n",
       "    }\n",
       "\n",
       "    .dataframe thead th {\n",
       "        text-align: right;\n",
       "    }\n",
       "</style>\n",
       "<table border=\"1\" class=\"dataframe\">\n",
       "  <thead>\n",
       "    <tr style=\"text-align: right;\">\n",
       "      <th></th>\n",
       "      <th>id</th>\n",
       "      <th>radius_mean</th>\n",
       "      <th>texture_mean</th>\n",
       "      <th>perimeter_mean</th>\n",
       "      <th>area_mean</th>\n",
       "      <th>smoothness_mean</th>\n",
       "      <th>compactness_mean</th>\n",
       "      <th>concavity_mean</th>\n",
       "      <th>concave points_mean</th>\n",
       "      <th>symmetry_mean</th>\n",
       "      <th>...</th>\n",
       "      <th>perimeter_worst</th>\n",
       "      <th>area_worst</th>\n",
       "      <th>smoothness_worst</th>\n",
       "      <th>compactness_worst</th>\n",
       "      <th>concavity_worst</th>\n",
       "      <th>concave points_worst</th>\n",
       "      <th>symmetry_worst</th>\n",
       "      <th>fractal_dimension_worst</th>\n",
       "      <th>column32</th>\n",
       "      <th>result</th>\n",
       "    </tr>\n",
       "  </thead>\n",
       "  <tbody>\n",
       "    <tr>\n",
       "      <th>500</th>\n",
       "      <td>903011.0</td>\n",
       "      <td>11.270000</td>\n",
       "      <td>15.500000</td>\n",
       "      <td>73.379997</td>\n",
       "      <td>392.000000</td>\n",
       "      <td>0.08365</td>\n",
       "      <td>0.11140</td>\n",
       "      <td>0.10070</td>\n",
       "      <td>0.02757</td>\n",
       "      <td>0.1810</td>\n",
       "      <td>...</td>\n",
       "      <td>79.730003</td>\n",
       "      <td>450.000000</td>\n",
       "      <td>0.11020</td>\n",
       "      <td>0.28090</td>\n",
       "      <td>0.30210</td>\n",
       "      <td>0.08272</td>\n",
       "      <td>0.2157</td>\n",
       "      <td>0.10430</td>\n",
       "      <td>0.0</td>\n",
       "      <td>B</td>\n",
       "    </tr>\n",
       "    <tr>\n",
       "      <th>501</th>\n",
       "      <td>917897.0</td>\n",
       "      <td>9.847000</td>\n",
       "      <td>15.680000</td>\n",
       "      <td>63.000000</td>\n",
       "      <td>293.200012</td>\n",
       "      <td>0.09492</td>\n",
       "      <td>0.08419</td>\n",
       "      <td>0.02330</td>\n",
       "      <td>0.02416</td>\n",
       "      <td>0.1387</td>\n",
       "      <td>...</td>\n",
       "      <td>74.320000</td>\n",
       "      <td>376.500000</td>\n",
       "      <td>0.14190</td>\n",
       "      <td>0.22430</td>\n",
       "      <td>0.08434</td>\n",
       "      <td>0.06528</td>\n",
       "      <td>0.2502</td>\n",
       "      <td>0.09209</td>\n",
       "      <td>0.0</td>\n",
       "      <td>B</td>\n",
       "    </tr>\n",
       "    <tr>\n",
       "      <th>502</th>\n",
       "      <td>91376704.0</td>\n",
       "      <td>17.850000</td>\n",
       "      <td>13.230000</td>\n",
       "      <td>114.599998</td>\n",
       "      <td>992.099976</td>\n",
       "      <td>0.07838</td>\n",
       "      <td>0.06217</td>\n",
       "      <td>0.04445</td>\n",
       "      <td>0.04178</td>\n",
       "      <td>0.1220</td>\n",
       "      <td>...</td>\n",
       "      <td>127.099998</td>\n",
       "      <td>1210.000000</td>\n",
       "      <td>0.09862</td>\n",
       "      <td>0.09976</td>\n",
       "      <td>0.10480</td>\n",
       "      <td>0.08341</td>\n",
       "      <td>0.1783</td>\n",
       "      <td>0.05871</td>\n",
       "      <td>0.0</td>\n",
       "      <td>M</td>\n",
       "    </tr>\n",
       "    <tr>\n",
       "      <th>503</th>\n",
       "      <td>874662.0</td>\n",
       "      <td>11.810000</td>\n",
       "      <td>17.389999</td>\n",
       "      <td>75.269997</td>\n",
       "      <td>428.899994</td>\n",
       "      <td>0.10070</td>\n",
       "      <td>0.05562</td>\n",
       "      <td>0.02353</td>\n",
       "      <td>0.01553</td>\n",
       "      <td>0.1718</td>\n",
       "      <td>...</td>\n",
       "      <td>79.570000</td>\n",
       "      <td>489.500000</td>\n",
       "      <td>0.13560</td>\n",
       "      <td>0.10000</td>\n",
       "      <td>0.08803</td>\n",
       "      <td>0.04306</td>\n",
       "      <td>0.3200</td>\n",
       "      <td>0.06576</td>\n",
       "      <td>0.0</td>\n",
       "      <td>B</td>\n",
       "    </tr>\n",
       "    <tr>\n",
       "      <th>504</th>\n",
       "      <td>906539.0</td>\n",
       "      <td>11.570000</td>\n",
       "      <td>19.040001</td>\n",
       "      <td>74.199997</td>\n",
       "      <td>409.700012</td>\n",
       "      <td>0.08546</td>\n",
       "      <td>0.07722</td>\n",
       "      <td>0.05485</td>\n",
       "      <td>0.01428</td>\n",
       "      <td>0.2031</td>\n",
       "      <td>...</td>\n",
       "      <td>86.430000</td>\n",
       "      <td>520.500000</td>\n",
       "      <td>0.12490</td>\n",
       "      <td>0.19370</td>\n",
       "      <td>0.25600</td>\n",
       "      <td>0.06664</td>\n",
       "      <td>0.3035</td>\n",
       "      <td>0.08284</td>\n",
       "      <td>0.0</td>\n",
       "      <td>B</td>\n",
       "    </tr>\n",
       "    <tr>\n",
       "      <th>...</th>\n",
       "      <td>...</td>\n",
       "      <td>...</td>\n",
       "      <td>...</td>\n",
       "      <td>...</td>\n",
       "      <td>...</td>\n",
       "      <td>...</td>\n",
       "      <td>...</td>\n",
       "      <td>...</td>\n",
       "      <td>...</td>\n",
       "      <td>...</td>\n",
       "      <td>...</td>\n",
       "      <td>...</td>\n",
       "      <td>...</td>\n",
       "      <td>...</td>\n",
       "      <td>...</td>\n",
       "      <td>...</td>\n",
       "      <td>...</td>\n",
       "      <td>...</td>\n",
       "      <td>...</td>\n",
       "      <td>...</td>\n",
       "      <td>...</td>\n",
       "    </tr>\n",
       "    <tr>\n",
       "      <th>564</th>\n",
       "      <td>914580.0</td>\n",
       "      <td>12.470000</td>\n",
       "      <td>17.309999</td>\n",
       "      <td>80.449997</td>\n",
       "      <td>480.100006</td>\n",
       "      <td>0.08928</td>\n",
       "      <td>0.07630</td>\n",
       "      <td>0.03609</td>\n",
       "      <td>0.02369</td>\n",
       "      <td>0.1526</td>\n",
       "      <td>...</td>\n",
       "      <td>92.820000</td>\n",
       "      <td>607.299988</td>\n",
       "      <td>0.12760</td>\n",
       "      <td>0.25060</td>\n",
       "      <td>0.20280</td>\n",
       "      <td>0.10530</td>\n",
       "      <td>0.3035</td>\n",
       "      <td>0.07661</td>\n",
       "      <td>0.0</td>\n",
       "      <td>B</td>\n",
       "    </tr>\n",
       "    <tr>\n",
       "      <th>565</th>\n",
       "      <td>877989.0</td>\n",
       "      <td>17.540001</td>\n",
       "      <td>19.320000</td>\n",
       "      <td>115.099998</td>\n",
       "      <td>951.599976</td>\n",
       "      <td>0.08968</td>\n",
       "      <td>0.11980</td>\n",
       "      <td>0.10360</td>\n",
       "      <td>0.07488</td>\n",
       "      <td>0.1506</td>\n",
       "      <td>...</td>\n",
       "      <td>139.500000</td>\n",
       "      <td>1239.000000</td>\n",
       "      <td>0.13810</td>\n",
       "      <td>0.34200</td>\n",
       "      <td>0.35080</td>\n",
       "      <td>0.19390</td>\n",
       "      <td>0.2928</td>\n",
       "      <td>0.07867</td>\n",
       "      <td>0.0</td>\n",
       "      <td>M</td>\n",
       "    </tr>\n",
       "    <tr>\n",
       "      <th>566</th>\n",
       "      <td>854941.0</td>\n",
       "      <td>13.030000</td>\n",
       "      <td>18.420000</td>\n",
       "      <td>82.610001</td>\n",
       "      <td>523.799988</td>\n",
       "      <td>0.08983</td>\n",
       "      <td>0.03766</td>\n",
       "      <td>0.02562</td>\n",
       "      <td>0.02923</td>\n",
       "      <td>0.1467</td>\n",
       "      <td>...</td>\n",
       "      <td>84.459999</td>\n",
       "      <td>545.900024</td>\n",
       "      <td>0.09701</td>\n",
       "      <td>0.04619</td>\n",
       "      <td>0.04833</td>\n",
       "      <td>0.05013</td>\n",
       "      <td>0.1987</td>\n",
       "      <td>0.06169</td>\n",
       "      <td>0.0</td>\n",
       "      <td>B</td>\n",
       "    </tr>\n",
       "    <tr>\n",
       "      <th>567</th>\n",
       "      <td>911654.0</td>\n",
       "      <td>14.200000</td>\n",
       "      <td>20.530001</td>\n",
       "      <td>92.410004</td>\n",
       "      <td>618.400024</td>\n",
       "      <td>0.08931</td>\n",
       "      <td>0.11080</td>\n",
       "      <td>0.05063</td>\n",
       "      <td>0.03058</td>\n",
       "      <td>0.1506</td>\n",
       "      <td>...</td>\n",
       "      <td>112.099998</td>\n",
       "      <td>828.500000</td>\n",
       "      <td>0.11530</td>\n",
       "      <td>0.34290</td>\n",
       "      <td>0.25120</td>\n",
       "      <td>0.13390</td>\n",
       "      <td>0.2534</td>\n",
       "      <td>0.07858</td>\n",
       "      <td>0.0</td>\n",
       "      <td>B</td>\n",
       "    </tr>\n",
       "    <tr>\n",
       "      <th>568</th>\n",
       "      <td>891670.0</td>\n",
       "      <td>12.950000</td>\n",
       "      <td>16.020000</td>\n",
       "      <td>83.139999</td>\n",
       "      <td>513.700012</td>\n",
       "      <td>0.10050</td>\n",
       "      <td>0.07943</td>\n",
       "      <td>0.06155</td>\n",
       "      <td>0.03370</td>\n",
       "      <td>0.1730</td>\n",
       "      <td>...</td>\n",
       "      <td>88.809998</td>\n",
       "      <td>585.400024</td>\n",
       "      <td>0.14830</td>\n",
       "      <td>0.20680</td>\n",
       "      <td>0.22410</td>\n",
       "      <td>0.10560</td>\n",
       "      <td>0.3380</td>\n",
       "      <td>0.09584</td>\n",
       "      <td>0.0</td>\n",
       "      <td>B</td>\n",
       "    </tr>\n",
       "  </tbody>\n",
       "</table>\n",
       "<p>69 rows × 33 columns</p>\n",
       "</div>"
      ]
     },
     "metadata": {},
     "execution_count": 28
    }
   ],
   "metadata": {
    "gather": {
     "logged": 1648858615015
    },
    "jupyter": {
     "outputs_hidden": false,
     "source_hidden": false
    },
    "nteract": {
     "transient": {
      "deleting": false
     }
    }
   }
  },
  {
   "cell_type": "markdown",
   "source": [
    "#### Renaming the columns"
   ],
   "metadata": {
    "nteract": {
     "transient": {
      "deleting": false
     }
    }
   }
  },
  {
   "cell_type": "code",
   "execution_count": 29,
   "source": [
    "X = X.rename(columns={'concave points_mean': 'concave_points_mean', 'concave points_se': 'concave_points_se', 'concave points_worst':'concave_points_worst'})"
   ],
   "outputs": [],
   "metadata": {
    "gather": {
     "logged": 1648858622523
    },
    "jupyter": {
     "outputs_hidden": false,
     "source_hidden": false
    },
    "nteract": {
     "transient": {
      "deleting": false
     }
    }
   }
  },
  {
   "cell_type": "code",
   "execution_count": 30,
   "source": [
    "X"
   ],
   "outputs": [
    {
     "output_type": "execute_result",
     "data": {
      "text/plain": [
       "             id  radius_mean  texture_mean  perimeter_mean   area_mean  \\\n",
       "500    903011.0    11.270000     15.500000       73.379997  392.000000   \n",
       "501    917897.0     9.847000     15.680000       63.000000  293.200012   \n",
       "502  91376704.0    17.850000     13.230000      114.599998  992.099976   \n",
       "503    874662.0    11.810000     17.389999       75.269997  428.899994   \n",
       "504    906539.0    11.570000     19.040001       74.199997  409.700012   \n",
       "..          ...          ...           ...             ...         ...   \n",
       "564    914580.0    12.470000     17.309999       80.449997  480.100006   \n",
       "565    877989.0    17.540001     19.320000      115.099998  951.599976   \n",
       "566    854941.0    13.030000     18.420000       82.610001  523.799988   \n",
       "567    911654.0    14.200000     20.530001       92.410004  618.400024   \n",
       "568    891670.0    12.950000     16.020000       83.139999  513.700012   \n",
       "\n",
       "     smoothness_mean  compactness_mean  concavity_mean  concave_points_mean  \\\n",
       "500          0.08365           0.11140         0.10070              0.02757   \n",
       "501          0.09492           0.08419         0.02330              0.02416   \n",
       "502          0.07838           0.06217         0.04445              0.04178   \n",
       "503          0.10070           0.05562         0.02353              0.01553   \n",
       "504          0.08546           0.07722         0.05485              0.01428   \n",
       "..               ...               ...             ...                  ...   \n",
       "564          0.08928           0.07630         0.03609              0.02369   \n",
       "565          0.08968           0.11980         0.10360              0.07488   \n",
       "566          0.08983           0.03766         0.02562              0.02923   \n",
       "567          0.08931           0.11080         0.05063              0.03058   \n",
       "568          0.10050           0.07943         0.06155              0.03370   \n",
       "\n",
       "     symmetry_mean  ...  perimeter_worst   area_worst  smoothness_worst  \\\n",
       "500         0.1810  ...        79.730003   450.000000           0.11020   \n",
       "501         0.1387  ...        74.320000   376.500000           0.14190   \n",
       "502         0.1220  ...       127.099998  1210.000000           0.09862   \n",
       "503         0.1718  ...        79.570000   489.500000           0.13560   \n",
       "504         0.2031  ...        86.430000   520.500000           0.12490   \n",
       "..             ...  ...              ...          ...               ...   \n",
       "564         0.1526  ...        92.820000   607.299988           0.12760   \n",
       "565         0.1506  ...       139.500000  1239.000000           0.13810   \n",
       "566         0.1467  ...        84.459999   545.900024           0.09701   \n",
       "567         0.1506  ...       112.099998   828.500000           0.11530   \n",
       "568         0.1730  ...        88.809998   585.400024           0.14830   \n",
       "\n",
       "     compactness_worst  concavity_worst  concave_points_worst  symmetry_worst  \\\n",
       "500            0.28090          0.30210               0.08272          0.2157   \n",
       "501            0.22430          0.08434               0.06528          0.2502   \n",
       "502            0.09976          0.10480               0.08341          0.1783   \n",
       "503            0.10000          0.08803               0.04306          0.3200   \n",
       "504            0.19370          0.25600               0.06664          0.3035   \n",
       "..                 ...              ...                   ...             ...   \n",
       "564            0.25060          0.20280               0.10530          0.3035   \n",
       "565            0.34200          0.35080               0.19390          0.2928   \n",
       "566            0.04619          0.04833               0.05013          0.1987   \n",
       "567            0.34290          0.25120               0.13390          0.2534   \n",
       "568            0.20680          0.22410               0.10560          0.3380   \n",
       "\n",
       "     fractal_dimension_worst  column32  result  \n",
       "500                  0.10430       0.0       B  \n",
       "501                  0.09209       0.0       B  \n",
       "502                  0.05871       0.0       M  \n",
       "503                  0.06576       0.0       B  \n",
       "504                  0.08284       0.0       B  \n",
       "..                       ...       ...     ...  \n",
       "564                  0.07661       0.0       B  \n",
       "565                  0.07867       0.0       M  \n",
       "566                  0.06169       0.0       B  \n",
       "567                  0.07858       0.0       B  \n",
       "568                  0.09584       0.0       B  \n",
       "\n",
       "[69 rows x 33 columns]"
      ],
      "text/html": [
       "<div>\n",
       "<style scoped>\n",
       "    .dataframe tbody tr th:only-of-type {\n",
       "        vertical-align: middle;\n",
       "    }\n",
       "\n",
       "    .dataframe tbody tr th {\n",
       "        vertical-align: top;\n",
       "    }\n",
       "\n",
       "    .dataframe thead th {\n",
       "        text-align: right;\n",
       "    }\n",
       "</style>\n",
       "<table border=\"1\" class=\"dataframe\">\n",
       "  <thead>\n",
       "    <tr style=\"text-align: right;\">\n",
       "      <th></th>\n",
       "      <th>id</th>\n",
       "      <th>radius_mean</th>\n",
       "      <th>texture_mean</th>\n",
       "      <th>perimeter_mean</th>\n",
       "      <th>area_mean</th>\n",
       "      <th>smoothness_mean</th>\n",
       "      <th>compactness_mean</th>\n",
       "      <th>concavity_mean</th>\n",
       "      <th>concave_points_mean</th>\n",
       "      <th>symmetry_mean</th>\n",
       "      <th>...</th>\n",
       "      <th>perimeter_worst</th>\n",
       "      <th>area_worst</th>\n",
       "      <th>smoothness_worst</th>\n",
       "      <th>compactness_worst</th>\n",
       "      <th>concavity_worst</th>\n",
       "      <th>concave_points_worst</th>\n",
       "      <th>symmetry_worst</th>\n",
       "      <th>fractal_dimension_worst</th>\n",
       "      <th>column32</th>\n",
       "      <th>result</th>\n",
       "    </tr>\n",
       "  </thead>\n",
       "  <tbody>\n",
       "    <tr>\n",
       "      <th>500</th>\n",
       "      <td>903011.0</td>\n",
       "      <td>11.270000</td>\n",
       "      <td>15.500000</td>\n",
       "      <td>73.379997</td>\n",
       "      <td>392.000000</td>\n",
       "      <td>0.08365</td>\n",
       "      <td>0.11140</td>\n",
       "      <td>0.10070</td>\n",
       "      <td>0.02757</td>\n",
       "      <td>0.1810</td>\n",
       "      <td>...</td>\n",
       "      <td>79.730003</td>\n",
       "      <td>450.000000</td>\n",
       "      <td>0.11020</td>\n",
       "      <td>0.28090</td>\n",
       "      <td>0.30210</td>\n",
       "      <td>0.08272</td>\n",
       "      <td>0.2157</td>\n",
       "      <td>0.10430</td>\n",
       "      <td>0.0</td>\n",
       "      <td>B</td>\n",
       "    </tr>\n",
       "    <tr>\n",
       "      <th>501</th>\n",
       "      <td>917897.0</td>\n",
       "      <td>9.847000</td>\n",
       "      <td>15.680000</td>\n",
       "      <td>63.000000</td>\n",
       "      <td>293.200012</td>\n",
       "      <td>0.09492</td>\n",
       "      <td>0.08419</td>\n",
       "      <td>0.02330</td>\n",
       "      <td>0.02416</td>\n",
       "      <td>0.1387</td>\n",
       "      <td>...</td>\n",
       "      <td>74.320000</td>\n",
       "      <td>376.500000</td>\n",
       "      <td>0.14190</td>\n",
       "      <td>0.22430</td>\n",
       "      <td>0.08434</td>\n",
       "      <td>0.06528</td>\n",
       "      <td>0.2502</td>\n",
       "      <td>0.09209</td>\n",
       "      <td>0.0</td>\n",
       "      <td>B</td>\n",
       "    </tr>\n",
       "    <tr>\n",
       "      <th>502</th>\n",
       "      <td>91376704.0</td>\n",
       "      <td>17.850000</td>\n",
       "      <td>13.230000</td>\n",
       "      <td>114.599998</td>\n",
       "      <td>992.099976</td>\n",
       "      <td>0.07838</td>\n",
       "      <td>0.06217</td>\n",
       "      <td>0.04445</td>\n",
       "      <td>0.04178</td>\n",
       "      <td>0.1220</td>\n",
       "      <td>...</td>\n",
       "      <td>127.099998</td>\n",
       "      <td>1210.000000</td>\n",
       "      <td>0.09862</td>\n",
       "      <td>0.09976</td>\n",
       "      <td>0.10480</td>\n",
       "      <td>0.08341</td>\n",
       "      <td>0.1783</td>\n",
       "      <td>0.05871</td>\n",
       "      <td>0.0</td>\n",
       "      <td>M</td>\n",
       "    </tr>\n",
       "    <tr>\n",
       "      <th>503</th>\n",
       "      <td>874662.0</td>\n",
       "      <td>11.810000</td>\n",
       "      <td>17.389999</td>\n",
       "      <td>75.269997</td>\n",
       "      <td>428.899994</td>\n",
       "      <td>0.10070</td>\n",
       "      <td>0.05562</td>\n",
       "      <td>0.02353</td>\n",
       "      <td>0.01553</td>\n",
       "      <td>0.1718</td>\n",
       "      <td>...</td>\n",
       "      <td>79.570000</td>\n",
       "      <td>489.500000</td>\n",
       "      <td>0.13560</td>\n",
       "      <td>0.10000</td>\n",
       "      <td>0.08803</td>\n",
       "      <td>0.04306</td>\n",
       "      <td>0.3200</td>\n",
       "      <td>0.06576</td>\n",
       "      <td>0.0</td>\n",
       "      <td>B</td>\n",
       "    </tr>\n",
       "    <tr>\n",
       "      <th>504</th>\n",
       "      <td>906539.0</td>\n",
       "      <td>11.570000</td>\n",
       "      <td>19.040001</td>\n",
       "      <td>74.199997</td>\n",
       "      <td>409.700012</td>\n",
       "      <td>0.08546</td>\n",
       "      <td>0.07722</td>\n",
       "      <td>0.05485</td>\n",
       "      <td>0.01428</td>\n",
       "      <td>0.2031</td>\n",
       "      <td>...</td>\n",
       "      <td>86.430000</td>\n",
       "      <td>520.500000</td>\n",
       "      <td>0.12490</td>\n",
       "      <td>0.19370</td>\n",
       "      <td>0.25600</td>\n",
       "      <td>0.06664</td>\n",
       "      <td>0.3035</td>\n",
       "      <td>0.08284</td>\n",
       "      <td>0.0</td>\n",
       "      <td>B</td>\n",
       "    </tr>\n",
       "    <tr>\n",
       "      <th>...</th>\n",
       "      <td>...</td>\n",
       "      <td>...</td>\n",
       "      <td>...</td>\n",
       "      <td>...</td>\n",
       "      <td>...</td>\n",
       "      <td>...</td>\n",
       "      <td>...</td>\n",
       "      <td>...</td>\n",
       "      <td>...</td>\n",
       "      <td>...</td>\n",
       "      <td>...</td>\n",
       "      <td>...</td>\n",
       "      <td>...</td>\n",
       "      <td>...</td>\n",
       "      <td>...</td>\n",
       "      <td>...</td>\n",
       "      <td>...</td>\n",
       "      <td>...</td>\n",
       "      <td>...</td>\n",
       "      <td>...</td>\n",
       "      <td>...</td>\n",
       "    </tr>\n",
       "    <tr>\n",
       "      <th>564</th>\n",
       "      <td>914580.0</td>\n",
       "      <td>12.470000</td>\n",
       "      <td>17.309999</td>\n",
       "      <td>80.449997</td>\n",
       "      <td>480.100006</td>\n",
       "      <td>0.08928</td>\n",
       "      <td>0.07630</td>\n",
       "      <td>0.03609</td>\n",
       "      <td>0.02369</td>\n",
       "      <td>0.1526</td>\n",
       "      <td>...</td>\n",
       "      <td>92.820000</td>\n",
       "      <td>607.299988</td>\n",
       "      <td>0.12760</td>\n",
       "      <td>0.25060</td>\n",
       "      <td>0.20280</td>\n",
       "      <td>0.10530</td>\n",
       "      <td>0.3035</td>\n",
       "      <td>0.07661</td>\n",
       "      <td>0.0</td>\n",
       "      <td>B</td>\n",
       "    </tr>\n",
       "    <tr>\n",
       "      <th>565</th>\n",
       "      <td>877989.0</td>\n",
       "      <td>17.540001</td>\n",
       "      <td>19.320000</td>\n",
       "      <td>115.099998</td>\n",
       "      <td>951.599976</td>\n",
       "      <td>0.08968</td>\n",
       "      <td>0.11980</td>\n",
       "      <td>0.10360</td>\n",
       "      <td>0.07488</td>\n",
       "      <td>0.1506</td>\n",
       "      <td>...</td>\n",
       "      <td>139.500000</td>\n",
       "      <td>1239.000000</td>\n",
       "      <td>0.13810</td>\n",
       "      <td>0.34200</td>\n",
       "      <td>0.35080</td>\n",
       "      <td>0.19390</td>\n",
       "      <td>0.2928</td>\n",
       "      <td>0.07867</td>\n",
       "      <td>0.0</td>\n",
       "      <td>M</td>\n",
       "    </tr>\n",
       "    <tr>\n",
       "      <th>566</th>\n",
       "      <td>854941.0</td>\n",
       "      <td>13.030000</td>\n",
       "      <td>18.420000</td>\n",
       "      <td>82.610001</td>\n",
       "      <td>523.799988</td>\n",
       "      <td>0.08983</td>\n",
       "      <td>0.03766</td>\n",
       "      <td>0.02562</td>\n",
       "      <td>0.02923</td>\n",
       "      <td>0.1467</td>\n",
       "      <td>...</td>\n",
       "      <td>84.459999</td>\n",
       "      <td>545.900024</td>\n",
       "      <td>0.09701</td>\n",
       "      <td>0.04619</td>\n",
       "      <td>0.04833</td>\n",
       "      <td>0.05013</td>\n",
       "      <td>0.1987</td>\n",
       "      <td>0.06169</td>\n",
       "      <td>0.0</td>\n",
       "      <td>B</td>\n",
       "    </tr>\n",
       "    <tr>\n",
       "      <th>567</th>\n",
       "      <td>911654.0</td>\n",
       "      <td>14.200000</td>\n",
       "      <td>20.530001</td>\n",
       "      <td>92.410004</td>\n",
       "      <td>618.400024</td>\n",
       "      <td>0.08931</td>\n",
       "      <td>0.11080</td>\n",
       "      <td>0.05063</td>\n",
       "      <td>0.03058</td>\n",
       "      <td>0.1506</td>\n",
       "      <td>...</td>\n",
       "      <td>112.099998</td>\n",
       "      <td>828.500000</td>\n",
       "      <td>0.11530</td>\n",
       "      <td>0.34290</td>\n",
       "      <td>0.25120</td>\n",
       "      <td>0.13390</td>\n",
       "      <td>0.2534</td>\n",
       "      <td>0.07858</td>\n",
       "      <td>0.0</td>\n",
       "      <td>B</td>\n",
       "    </tr>\n",
       "    <tr>\n",
       "      <th>568</th>\n",
       "      <td>891670.0</td>\n",
       "      <td>12.950000</td>\n",
       "      <td>16.020000</td>\n",
       "      <td>83.139999</td>\n",
       "      <td>513.700012</td>\n",
       "      <td>0.10050</td>\n",
       "      <td>0.07943</td>\n",
       "      <td>0.06155</td>\n",
       "      <td>0.03370</td>\n",
       "      <td>0.1730</td>\n",
       "      <td>...</td>\n",
       "      <td>88.809998</td>\n",
       "      <td>585.400024</td>\n",
       "      <td>0.14830</td>\n",
       "      <td>0.20680</td>\n",
       "      <td>0.22410</td>\n",
       "      <td>0.10560</td>\n",
       "      <td>0.3380</td>\n",
       "      <td>0.09584</td>\n",
       "      <td>0.0</td>\n",
       "      <td>B</td>\n",
       "    </tr>\n",
       "  </tbody>\n",
       "</table>\n",
       "<p>69 rows × 33 columns</p>\n",
       "</div>"
      ]
     },
     "metadata": {},
     "execution_count": 30
    }
   ],
   "metadata": {
    "gather": {
     "logged": 1648858629710
    },
    "jupyter": {
     "outputs_hidden": false,
     "source_hidden": false
    },
    "nteract": {
     "transient": {
      "deleting": false
     }
    }
   }
  },
  {
   "cell_type": "markdown",
   "source": [
    " #### Inserting the data into table"
   ],
   "metadata": {
    "nteract": {
     "transient": {
      "deleting": false
     }
    }
   }
  },
  {
   "cell_type": "code",
   "execution_count": 31,
   "source": [
    "dwc.insert_into_table('PCA_BREASTCANCER_VIEW',X)"
   ],
   "outputs": [
    {
     "output_type": "stream",
     "name": "stdout",
     "text": [
      "2022-04-02 00:17:13,458: fedml_azure.logger INFO: inserting into table...\n",
      "2022-04-02 00:17:13,459: fedml_azure.logger INFO: INSERT INTO PCA_BREASTCANCER_VIEW (id, radius_mean, texture_mean, perimeter_mean, area_mean, smoothness_mean, compactness_mean, concavity_mean, concave_points_mean, symmetry_mean, fractal_dimension_mean, radius_se, texture_se, perimeter_se, area_se, smoothness_se, compactness_se, concavity_se, concave_points_se, symmetry_se, fractal_dimension_se, radius_worst, texture_worst, perimeter_worst, area_worst, smoothness_worst, compactness_worst, concavity_worst, concave_points_worst, symmetry_worst, fractal_dimension_worst, column32, result, INSERTED_AT) VALUES (:id, :radius_mean, :texture_mean, :perimeter_mean, :area_mean, :smoothness_mean, :compactness_mean, :concavity_mean, :concave_points_mean, :symmetry_mean, :fractal_dimension_mean, :radius_se, :texture_se, :perimeter_se, :area_se, :smoothness_se, :compactness_se, :concavity_se, :concave_points_se, :symmetry_se, :fractal_dimension_se, :radius_worst, :texture_worst, :perimeter_worst, :area_worst, :smoothness_worst, :compactness_worst, :concavity_worst, :concave_points_worst, :symmetry_worst, :fractal_dimension_worst, :column32, :result, :INSERTED_AT)\n"
     ]
    }
   ],
   "metadata": {
    "gather": {
     "logged": 1648858633950
    },
    "jupyter": {
     "outputs_hidden": false,
     "source_hidden": false
    },
    "nteract": {
     "transient": {
      "deleting": false
     }
    }
   }
  }
 ],
 "metadata": {
  "kernel_info": {
   "name": "python3-azureml"
  },
  "kernelspec": {
   "display_name": "Python 3",
   "language": "python",
   "name": "python3"
  },
  "language_info": {
   "codemirror_mode": {
    "name": "ipython",
    "version": 3
   },
   "file_extension": ".py",
   "mimetype": "text/x-python",
   "name": "python",
   "nbconvert_exporter": "python",
   "pygments_lexer": "ipython3",
   "version": "3.8.8"
  },
  "microsoft": {
   "host": {
    "AzureML": {
     "notebookHasBeenCompleted": true
    }
   }
  },
  "nteract": {
   "version": "nteract-front-end@1.0.0"
  }
 },
 "nbformat": 4,
 "nbformat_minor": 2
}