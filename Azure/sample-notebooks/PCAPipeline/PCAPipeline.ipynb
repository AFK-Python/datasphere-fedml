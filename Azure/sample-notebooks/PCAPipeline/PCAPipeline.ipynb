{
  "cells": [
    {
      "cell_type": "markdown",
      "source": [
        "## Scikit-Learn PCA and Logistic Regression Pipeline\n",
        "### Using BREASTCANCER_VIEW from DWC. This view has 569 records"
      ],
      "metadata": {}
    },
    {
      "cell_type": "markdown",
      "source": [
        "## Install fedml_azure package"
      ],
      "metadata": {
        "nteract": {
          "transient": {
            "deleting": false
          }
        }
      }
    },
    {
      "cell_type": "code",
      "execution_count": 1,
      "source": [
        "pip install fedml_azure-1.0.0-py3-none-any.whl --force-reinstall"
      ],
      "outputs": [
        {
          "output_type": "stream",
          "name": "stdout",
          "text": [
            "Processing ./fedml_azure-1.0.0-py3-none-any.whl\n",
            "Collecting hdbcli\n",
            "  Using cached hdbcli-2.10.13-cp34-abi3-manylinux1_x86_64.whl (11.7 MB)\n",
            "Installing collected packages: hdbcli, fedml-azure\n",
            "  Attempting uninstall: hdbcli\n",
            "    Found existing installation: hdbcli 2.10.13\n",
            "    Uninstalling hdbcli-2.10.13:\n",
            "      Successfully uninstalled hdbcli-2.10.13\n",
            "  Attempting uninstall: fedml-azure\n",
            "    Found existing installation: fedml-azure 1.0.0\n",
            "    Uninstalling fedml-azure-1.0.0:\n",
            "      Successfully uninstalled fedml-azure-1.0.0\n",
            "Successfully installed fedml-azure-1.0.0 hdbcli-2.10.13\n",
            "Note: you may need to restart the kernel to use updated packages.\n"
          ]
        }
      ],
      "metadata": {
        "jupyter": {
          "source_hidden": false,
          "outputs_hidden": false
        },
        "nteract": {
          "transient": {
            "deleting": false
          }
        },
        "gather": {
          "logged": 1633631600500
        }
      }
    },
    {
      "cell_type": "markdown",
      "source": [
        "## Import the libraries needed in this notebook"
      ],
      "metadata": {}
    },
    {
      "cell_type": "code",
      "execution_count": 2,
      "source": [
        "from fedml_azure import DwcAzureTrain"
      ],
      "outputs": [],
      "metadata": {
        "gather": {
          "logged": 1633631600621
        }
      }
    },
    {
      "cell_type": "markdown",
      "source": [
        "## Set up\n",
        "### Creating a Training object and setting the workspace, compute target, and environment.\n",
        "\n",
        "Before running the below cell, ensure that you have a workspace and replace the subscription_id, resource_group, and workspace_name with your information.\n",
        "\n",
        "The whl file for the fedml_azure library must be passed to the pip_wheel_files key in the environment_args and to use scikit-learn, you must pass the name to conda_packages as well."
      ],
      "metadata": {}
    },
    {
      "cell_type": "code",
      "execution_count": 3,
      "source": [
        "#creation of training object and creating workspace in constructor.\n",
        "\n",
        "training = DwcAzureTrain(workspace_args={\"subscription_id\": \"cb97564e-cea8-45a4-9c5c-a3357e8f7ee4\",\n",
        "                                        \"resource_group\": \"Sample2_AzureML_Resource\",\n",
        "                                        \"workspace_name\": \"Sample2_AzureML_Worskpace\"\n",
        "                                        },\n",
        "                          experiment_args={'name':'test-2'},\n",
        "                          environment_type='CondaPackageEnvironment',\n",
        "                          environment_args={'name':'test-env-2','conda_packages':['scikit-learn'],'pip_wheel_files':['fedml_azure-1.0.0-py3-none-any.whl']},\n",
        "                          compute_type='AmlComputeCluster',\n",
        "                          compute_args={'vm_size':'Standard_D12_v2',\n",
        "                                'vm_priority':'lowpriority',\n",
        "                                'compute_name':'cpu-clu-pcap',\n",
        "                                'min_nodes':0,\n",
        "                                'max_nodes':1,\n",
        "                                'idle_seconds_before_scaledown':1700\n",
        "                                })\n"
      ],
      "outputs": [
        {
          "output_type": "stream",
          "name": "stdout",
          "text": [
            "Getting existing Workspace\n",
            "Creating Experiment\n",
            "Creating Compute_target\n",
            "Found compute target. just use it. cpu-clu-pcap\n",
            "Creating Environment\n"
          ]
        }
      ],
      "metadata": {
        "jupyter": {
          "source_hidden": false,
          "outputs_hidden": false
        },
        "nteract": {
          "transient": {
            "deleting": false
          }
        },
        "gather": {
          "logged": 1633631602533
        }
      }
    },
    {
      "cell_type": "markdown",
      "source": [
        "### Then, we need to generate the run config. This is needed to package the configuration specified so we can submit a job for training. \n",
        "\n",
        "Before running the following cell, you should have a config.json file with the specified values to allow you to access to DWC. Provide this file path to config_file_path in the below cell.\n",
        "\n",
        "You should also have the follow view BREASTCANCER_VIEW created in your DWC. To gather this data, please refer to https://www.kaggle.com/uciml/breast-cancer-wisconsin-data\n",
        "\n",
        "https://docs.microsoft.com/en-us/python/api/azureml-core/azureml.core.scriptrunconfig?view=azure-ml-py"
      ],
      "metadata": {}
    },
    {
      "cell_type": "code",
      "execution_count": 4,
      "source": [
        "#generating the run config\n",
        "src=training.generate_run_config(config_file_path='dwc_configs/config.json',\n",
        "                          config_args={\n",
        "                                          'source_directory':'Scikit-Learn-PCAPipeline',\n",
        "                                          'script':'pca_script.py',\n",
        "                                          'arguments':['--model_file_name','regression.pkl', '--table_name', 'BREASTCANCER_VIEW', '--n_components', '3']\n",
        "                                          }\n",
        "                            )"
      ],
      "outputs": [
        {
          "output_type": "stream",
          "name": "stdout",
          "text": [
            "Generating script run config\n",
            "Config file already exists in the script_directory Scikit-Learn-PCAPipeline\n"
          ]
        }
      ],
      "metadata": {
        "gather": {
          "logged": 1633631602619
        }
      }
    },
    {
      "cell_type": "markdown",
      "source": [
        "### Submitting the job for training"
      ],
      "metadata": {}
    },
    {
      "cell_type": "code",
      "execution_count": 5,
      "source": [
        "#submitting the training run\n",
        "run=training.submit_run(src)"
      ],
      "outputs": [
        {
          "output_type": "stream",
          "name": "stdout",
          "text": [
            "Submitting training run\n",
            "RunId: test-2_1633631602_e6f40d7f\n",
            "Web View: https://ml.azure.com/runs/test-2_1633631602_e6f40d7f?wsid=/subscriptions/cb97564e-cea8-45a4-9c5c-a3357e8f7ee4/resourcegroups/Sample2_AzureML_Resource/workspaces/Sample2_AzureML_Worskpace&tid=42f7676c-f455-423c-82f6-dc2d99791af7\n",
            "\n",
            "Streaming azureml-logs/55_azureml-execution-tvmps_d5e0b89c818c57034db183db9d2f3ab8b86ea23b2750ef49f9bab0350a8e59be_p.txt\n",
            "========================================================================================================================\n",
            "\n",
            "2021-10-07T18:35:14Z Running following command: /bin/bash -c sudo blobfuse /mnt/batch/tasks/shared/LS_root/jobs/sample2_azureml_worskpace/azureml/test-2_1633631602_e6f40d7f/mounts/workspaceblobstore --tmp-path=/mnt/batch/tasks/shared/LS_root/jobs/sample2_azureml_worskpace/azureml/test-2_1633631602_e6f40d7f/caches/workspaceblobstore -o ro --file-cache-timeout-in-seconds=1000000 --cache-size-mb=185369 -o nonempty -o allow_other --config-file=/mnt/batch/tasks/shared/LS_root/jobs/sample2_azureml_worskpace/azureml/test-2_1633631602_e6f40d7f/configs/workspaceblobstore.cfg --log-level=LOG_WARNING\n",
            "2021-10-07T18:35:14Z Successfully mounted a/an Blobfuse File System at /mnt/batch/tasks/shared/LS_root/jobs/sample2_azureml_worskpace/azureml/test-2_1633631602_e6f40d7f/mounts/workspaceblobstore\n",
            "2021-10-07T18:35:14Z The vmsize standard_d12_v2 is not a GPU VM, skipping get GPU count by running nvidia-smi command.\n",
            "2021-10-07T18:35:14Z Starting output-watcher...\n",
            "2021-10-07T18:35:14Z IsDedicatedCompute == False, starting polling for Low-Pri Preemption\n",
            "2021-10-07T18:35:15Z Executing 'Copy ACR Details file' on 10.0.0.5\n",
            "2021-10-07T18:35:15Z Copy ACR Details file succeeded on 10.0.0.5. Output: \n",
            ">>>   \n",
            ">>>   \n",
            "Login Succeeded\n",
            "Using default tag: latest\n",
            "latest: Pulling from azureml/azureml_9eb5993dddb49925d4b16ba9889219bc\n",
            "feac53061382: Pulling fs layer\n",
            "7dce5c8175d6: Pulling fs layer\n",
            "0a1b9502ed8f: Pulling fs layer\n",
            "d187f505e8b8: Pulling fs layer\n",
            "c7a3c00b133d: Pulling fs layer\n",
            "31b816123763: Pulling fs layer\n",
            "37b899c2505c: Pulling fs layer\n",
            "abda0175e0e2: Pulling fs layer\n",
            "19d6148ce542: Pulling fs layer\n",
            "7c88c7d66987: Pulling fs layer\n",
            "82cf9bde277a: Pulling fs layer\n",
            "c441c4ccc349: Pulling fs layer\n",
            "953b39adb6a9: Pulling fs layer\n",
            "1b287d8a5962: Pulling fs layer\n",
            "d20c162ce101: Pulling fs layer\n",
            "d75446b79e84: Pulling fs layer\n",
            "6e842c6b7ead: Pulling fs layer\n",
            "8ce33a3fa734: Pulling fs layer\n",
            "82cf9bde277a: Waiting\n",
            "c441c4ccc349: Waiting\n",
            "953b39adb6a9: Waiting\n",
            "1b287d8a5962: Waiting\n",
            "d20c162ce101: Waiting\n",
            "d75446b79e84: Waiting\n",
            "6e842c6b7ead: Waiting\n",
            "8ce33a3fa734: Waiting\n",
            "d187f505e8b8: Waiting\n",
            "c7a3c00b133d: Waiting\n",
            "31b816123763: Waiting\n",
            "37b899c2505c: Waiting\n",
            "19d6148ce542: Waiting\n",
            "abda0175e0e2: Waiting\n",
            "7c88c7d66987: Waiting\n",
            "feac53061382: Verifying Checksum\n",
            "feac53061382: Download complete\n",
            "0a1b9502ed8f: Verifying Checksum\n",
            "0a1b9502ed8f: Download complete\n",
            "d187f505e8b8: Verifying Checksum\n",
            "d187f505e8b8: Download complete\n",
            "31b816123763: Verifying Checksum\n",
            "31b816123763: Download complete\n",
            "feac53061382: Pull complete\n",
            "37b899c2505c: Verifying Checksum\n",
            "37b899c2505c: Download complete\n",
            "abda0175e0e2: Verifying Checksum\n",
            "abda0175e0e2: Download complete\n",
            "c7a3c00b133d: Verifying Checksum\n",
            "c7a3c00b133d: Download complete\n",
            "19d6148ce542: Download complete\n",
            "7dce5c8175d6: Verifying Checksum\n",
            "7dce5c8175d6: Download complete\n",
            "82cf9bde277a: Verifying Checksum\n",
            "82cf9bde277a: Download complete\n",
            "c441c4ccc349: Download complete\n",
            "953b39adb6a9: Download complete\n",
            "d20c162ce101: Download complete\n",
            "d75446b79e84: Download complete\n",
            "8ce33a3fa734: Verifying Checksum\n",
            "8ce33a3fa734: Download complete\n",
            "6e842c6b7ead: Verifying Checksum\n",
            "6e842c6b7ead: Download complete\n",
            "7dce5c8175d6: Pull complete\n",
            "0a1b9502ed8f: Pull complete\n",
            "d187f505e8b8: Pull complete\n",
            "1b287d8a5962: Verifying Checksum\n",
            "1b287d8a5962: Download complete\n",
            "c7a3c00b133d: Pull complete\n",
            "31b816123763: Pull complete\n",
            "37b899c2505c: Pull complete\n",
            "abda0175e0e2: Pull complete\n",
            "19d6148ce542: Pull complete\n",
            "7c88c7d66987: Pull complete\n",
            "82cf9bde277a: Pull complete\n",
            "c441c4ccc349: Pull complete\n",
            "953b39adb6a9: Pull complete\n",
            "\n",
            "Streaming azureml-logs/75_job_post-tvmps_d5e0b89c818c57034db183db9d2f3ab8b86ea23b2750ef49f9bab0350a8e59be_p.txt\n",
            "===============================================================================================================\n",
            "\n",
            "[2021-10-07T18:35:52.996003] Entering job release\n",
            "[2021-10-07T18:35:53.759290] Starting job release\n",
            "[2021-10-07T18:35:53.759746] Logging experiment finalizing status in history service.\n",
            "Starting the daemon thread to refresh tokens in background for process with pid = 125\n",
            "[2021-10-07T18:35:53.762425] job release stage : upload_datastore starting...\n",
            "[2021-10-07T18:35:53.762619] job release stage : start importing azureml.history._tracking in run_history_release.\n",
            "[2021-10-07T18:35:53.762656] job release stage : execute_job_release starting...\n",
            "[2021-10-07T18:35:53.769300] job release stage : copy_batchai_cached_logs starting...\n",
            "[2021-10-07T18:35:53.769552] job release stage : copy_batchai_cached_logs completed...\n",
            "[2021-10-07T18:35:53.770519] Entering context manager injector.\n",
            "[2021-10-07T18:35:53.773652] job release stage : upload_datastore completed...\n",
            "[2021-10-07T18:35:53.893424] job release stage : send_run_telemetry starting...\n",
            "[2021-10-07T18:35:53.914151] get vm size and vm region successfully.\n",
            "[2021-10-07T18:35:53.919990] get compute meta data successfully.\n",
            "[2021-10-07T18:35:53.954617] job release stage : execute_job_release completed...\n",
            "[2021-10-07T18:35:54.182772] post artifact meta request successfully.\n",
            "[2021-10-07T18:35:54.229438] upload compute record artifact successfully.\n",
            "[2021-10-07T18:35:54.229508] job release stage : send_run_telemetry completed...\n",
            "[2021-10-07T18:35:54.229838] Job release is complete\n",
            "\n",
            "Execution Summary\n",
            "=================\n",
            "RunId: test-2_1633631602_e6f40d7f\n",
            "Web View: https://ml.azure.com/runs/test-2_1633631602_e6f40d7f?wsid=/subscriptions/cb97564e-cea8-45a4-9c5c-a3357e8f7ee4/resourcegroups/Sample2_AzureML_Resource/workspaces/Sample2_AzureML_Worskpace&tid=42f7676c-f455-423c-82f6-dc2d99791af7\n",
            "\n"
          ]
        }
      ],
      "metadata": {
        "gather": {
          "logged": 1633631788538
        }
      }
    },
    {
      "cell_type": "markdown",
      "source": [
        "## Register the model for deployment"
      ],
      "metadata": {}
    },
    {
      "cell_type": "code",
      "execution_count": 6,
      "source": [
        "model=training.register_model(run=run,\n",
        "                           model_args={'model_name':'sklearn_pcapipeline_model',\n",
        "                                       'model_path':'outputs/regression.pkl'},\n",
        "                            resource_config_args={'cpu':1, 'memory_in_gb':0.5},\n",
        "                            is_sklearn_model=True\n",
        "                           )\n",
        "print('Name:', model.name)\n",
        "print('Version:', model.version)"
      ],
      "outputs": [
        {
          "output_type": "stream",
          "name": "stdout",
          "text": [
            "Registering the model\n",
            "Configuring parameters for sklearn model\n",
            "Name: sklearn_pcapipeline_model\n",
            "Version: 3\n"
          ]
        }
      ],
      "metadata": {
        "gather": {
          "logged": 1633390457180
        }
      }
    }
  ],
  "metadata": {
    "kernelspec": {
      "name": "python3-azureml",
      "language": "python",
      "display_name": "Python 3.6 - AzureML"
    },
    "kernel_info": {
      "name": "python3-azureml"
    },
    "nteract": {
      "version": "nteract-front-end@1.0.0"
    },
    "language_info": {
      "name": "python",
      "version": "3.6.9",
      "mimetype": "text/x-python",
      "codemirror_mode": {
        "name": "ipython",
        "version": 3
      },
      "pygments_lexer": "ipython3",
      "nbconvert_exporter": "python",
      "file_extension": ".py"
    },
    "microsoft": {
      "host": {
        "AzureML": {
          "notebookHasBeenCompleted": true
        }
      }
    }
  },
  "nbformat": 4,
  "nbformat_minor": 2
}