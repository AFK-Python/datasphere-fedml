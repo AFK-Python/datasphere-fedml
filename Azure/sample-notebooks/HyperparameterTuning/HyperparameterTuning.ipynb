{
  "cells": [
    {
      "cell_type": "markdown",
      "source": [
        "## Scikit-Learn Hyperparameter Tuning\n",
        "### Using local data (data was created from preprocessor script)"
      ],
      "metadata": {}
    },
    {
      "cell_type": "markdown",
      "source": [
        "## Install fedml-azure package"
      ],
      "metadata": {
        "nteract": {
          "transient": {
            "deleting": false
          }
        }
      }
    },
    {
      "cell_type": "code",
      "execution_count": 1,
      "source": [
        "pip install fedml-azure --force-reinstall"
      ],
      "outputs": [
        {
          "output_type": "stream",
          "name": "stdout",
          "text": [
            "Processing ./fedml_azure-1.0.0-py3-none-any.whl\n",
            "Collecting hdbcli\n",
            "  Using cached hdbcli-2.10.13-cp34-abi3-manylinux1_x86_64.whl (11.7 MB)\n",
            "Installing collected packages: hdbcli, fedml-azure\n",
            "  Attempting uninstall: hdbcli\n",
            "    Found existing installation: hdbcli 2.10.13\n",
            "    Uninstalling hdbcli-2.10.13:\n",
            "      Successfully uninstalled hdbcli-2.10.13\n",
            "  Attempting uninstall: fedml-azure\n",
            "    Found existing installation: fedml-azure 1.0.0\n",
            "    Uninstalling fedml-azure-1.0.0:\n",
            "      Successfully uninstalled fedml-azure-1.0.0\n",
            "Successfully installed fedml-azure-1.0.0 hdbcli-2.10.13\n",
            "Note: you may need to restart the kernel to use updated packages.\n"
          ]
        }
      ],
      "metadata": {
        "jupyter": {
          "source_hidden": false,
          "outputs_hidden": false
        },
        "nteract": {
          "transient": {
            "deleting": false
          }
        },
        "gather": {
          "logged": 1633630449536
        }
      }
    },
    {
      "cell_type": "markdown",
      "source": [
        "## Import the libraries needed in this notebook"
      ],
      "metadata": {}
    },
    {
      "cell_type": "code",
      "execution_count": 2,
      "source": [
        "from fedml_azure import DwcAzureTrain"
      ],
      "outputs": [],
      "metadata": {
        "gather": {
          "logged": 1633630452472
        }
      }
    },
    {
      "cell_type": "markdown",
      "source": [
        "## Set up\n",
        "### Creating a Training object and setting the workspace, compute target, and environment.\n",
        "\n",
        "Before running the below cell, ensure that you have a workspace and replace the subscription_id, \n",
        "resource_group, and workspace_name with your information.\n",
        "\n",
        "The fedml-azure pip package must be passed to the pip_packages key in the environment_args and \n",
        "to use scikit-learn, you must pass the name to conda_packages as well."
      ],
      "metadata": {}
    },
    {
      "cell_type": "code",
      "execution_count": 3,
      "source": [
        "#creation of training object and creating workspace in constructor.\n",
        "\n",
        "training = DwcAzureTrain(\n",
        "                        workspace_args={\"subscription_id\": '<subscription_id>',\n",
        "                                        \"resource_group\": '<resource_group>',\n",
        "                                        \"workspace_name\": '<workspace_name>'\n",
        "                                        },\n",
        "                        experiment_args={'name':'test-2'},\n",
        "                        environment_type='CondaPackageEnvironment',\n",
        "                        environment_args={'name':'test-env-hyper','conda_packages':['scikit-learn'],'pip_packages':['fedml-azure']},\n",
        "                        compute_type='AmlComputeCluster',\n",
        "                        compute_args={'vm_size':'Standard_D12_v2',\n",
        "                            'vm_priority':'lowpriority',\n",
        "                            'compute_name':'cpu-clu-hyper',\n",
        "                            'min_nodes':0,\n",
        "                            'max_nodes':1,\n",
        "                            'idle_seconds_before_scaledown':1700\n",
        "                            })\n"
      ],
      "outputs": [
        {
          "output_type": "stream",
          "name": "stdout",
          "text": [
            "Getting existing Workspace\n",
            "Creating Experiment\n",
            "Creating Compute_target\n",
            "Found compute target. just use it. cpu-clu-hyper\n",
            "Creating Environment\n"
          ]
        }
      ],
      "metadata": {
        "jupyter": {
          "source_hidden": false,
          "outputs_hidden": false
        },
        "nteract": {
          "transient": {
            "deleting": false
          }
        },
        "gather": {
          "logged": 1633630459474
        }
      }
    },
    {
      "cell_type": "markdown",
      "source": [
        "### Then, we need to generate the run config. This is needed to package the configuration specified so we can submit a job for training. \n",
        "\n",
        "Before running the following cell, you should have a config.json file with the specified values to allow you to access to DWC. Provide this file path to config_file_path in the below cell.\n",
        "\n",
        "In this example, we are using local data for training.\n",
        "Before running this cell, please make sure to have run the Data Preprocessor model example. That model will download an output directory containing the preprocessed_data.csv and labels.csv files used for this model.\n",
        "\n",
        "Make sure to specify the correct output directory in the next cell before running it for the preprocessed_file_name and labels_file_name arguments.\n",
        "\n",
        "https://docs.microsoft.com/en-us/python/api/azureml-core/azureml.core.scriptrunconfig?view=azure-ml-py"
      ],
      "metadata": {}
    },
    {
      "cell_type": "code",
      "execution_count": 4,
      "source": [
        "#generating the run config\n",
        "import json\n",
        "hyperparameters = {\n",
        "    'max_depth': [2, 4, 6],\n",
        "    'n_estimators': [100, 250, 300],\n",
        "    'max_features': [4, 5, 6, 'sqrt'],\n",
        "    'min_samples_leaf': [25, 30]\n",
        "    }\n",
        "hyperparameters = json.dumps(hyperparameters)\n",
        "src=training.generate_run_config(is_dwc_connection_required=False,\n",
        "                          config_args={\n",
        "                                          'source_directory':'Scikit-Learn-Hyperparameter-Tuning',\n",
        "                                          'script':'tuning_script.py',\n",
        "                                          'arguments':[\n",
        "                                              '--model_file_name','tuning.pkl',\n",
        "                                              '--preprocessed_file_name', 'preprocessed_data.csv',\n",
        "                                              '--labels_file_name', 'labels.csv',\n",
        "                                              '--hyperparameters', hyperparameters,\n",
        "                                              '--n_jobs', 24]\n",
        "                                          }\n",
        "                            )"
      ],
      "outputs": [
        {
          "output_type": "stream",
          "name": "stdout",
          "text": [
            "Generating script run config\n",
            "Skipping the copy of db connection config 'config.json' to 'source_directory'\n"
          ]
        }
      ],
      "metadata": {
        "gather": {
          "logged": 1633630462671
        }
      }
    },
    {
      "cell_type": "markdown",
      "source": [
        "### Submitting the job for training"
      ],
      "metadata": {}
    },
    {
      "cell_type": "code",
      "execution_count": null,
      "source": [
        "#submitting the training run\n",
        "run=training.submit_run(src)"
      ],
      "outputs": [],
      "metadata": {
        "gather": {
          "logged": 1633630774490
        }
      }
    },
    {
      "cell_type": "markdown",
      "source": [
        "## Register the model for deployment"
      ],
      "metadata": {}
    },
    {
      "cell_type": "code",
      "execution_count": 6,
      "source": [
        "model=training.register_model(run=run,\n",
        "                           model_args={'model_name':'sklearn_tuning_model',\n",
        "                                       'model_path':'outputs/tuning.pkl'},\n",
        "                            resource_config_args={'cpu':1, 'memory_in_gb':0.5},\n",
        "                            is_sklearn_model=True\n",
        "                           )\n",
        "\n",
        "print('Name:', model.name)\n",
        "print('Version:', model.version)"
      ],
      "outputs": [
        {
          "output_type": "stream",
          "name": "stdout",
          "text": [
            "Registering the model\n",
            "Configuring parameters for sklearn model\n",
            "Name: sklearn_tuning_model\n",
            "Version: 4\n"
          ]
        }
      ],
      "metadata": {
        "gather": {
          "logged": 1633388086711
        }
      }
    }
  ],
  "metadata": {
    "kernelspec": {
      "name": "python3-azureml",
      "language": "python",
      "display_name": "Python 3.6 - AzureML"
    },
    "kernel_info": {
      "name": "python3-azureml"
    },
    "nteract": {
      "version": "nteract-front-end@1.0.0"
    },
    "language_info": {
      "name": "python",
      "version": "3.6.9",
      "mimetype": "text/x-python",
      "codemirror_mode": {
        "name": "ipython",
        "version": 3
      },
      "pygments_lexer": "ipython3",
      "nbconvert_exporter": "python",
      "file_extension": ".py"
    },
    "microsoft": {
      "host": {
        "AzureML": {
          "notebookHasBeenCompleted": true
        }
      }
    }
  },
  "nbformat": 4,
  "nbformat_minor": 2
}