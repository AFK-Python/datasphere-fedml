{
  "cells": [
    {
      "cell_type": "markdown",
      "metadata": {},
      "source": [
        "## Scikit-Learn Hyperparameter Tuning\n",
        "### Using local data (data was created from preprocessor script)"
      ]
    },
    {
      "cell_type": "markdown",
      "metadata": {
        "nteract": {
          "transient": {
            "deleting": false
          }
        }
      },
      "source": [
        "## Install fedml_azure package"
      ]
    },
    {
      "cell_type": "code",
      "execution_count": null,
      "metadata": {
        "gather": {
          "logged": 1633630449536
        },
        "jupyter": {
          "outputs_hidden": false,
          "source_hidden": false
        },
        "nteract": {
          "transient": {
            "deleting": false
          }
        }
      },
      "outputs": [],
      "source": [
        "pip install fedml_azure --force-reinstall"
      ]
    },
    {
      "cell_type": "markdown",
      "metadata": {},
      "source": [
        "## Import the libraries needed in this notebook"
      ]
    },
    {
      "cell_type": "code",
      "execution_count": null,
      "metadata": {
        "gather": {
          "logged": 1633630452472
        }
      },
      "outputs": [],
      "source": [
        "from fedml_azure import DwcAzureTrain"
      ]
    },
    {
      "cell_type": "markdown",
      "metadata": {},
      "source": [
        "## Set up\n",
        "### Creating a Training object and setting the workspace, compute target, and environment.\n",
        "\n",
        "Before running the below cell, ensure that you have a workspace and replace the subscription_id, \n",
        "resource_group, and workspace_name with your information.\n",
        "\n",
        "The whl file for the fedml_azure library must be passed to the pip_wheel_files key in the environment_args and \n",
        "to use scikit-learn, you must pass the name to conda_packages as well."
      ]
    },
    {
      "cell_type": "code",
      "execution_count": null,
      "metadata": {
        "gather": {
          "logged": 1633630459474
        },
        "jupyter": {
          "outputs_hidden": false,
          "source_hidden": false
        },
        "nteract": {
          "transient": {
            "deleting": false
          }
        }
      },
      "outputs": [],
      "source": [
        "#creation of training object and creating workspace in constructor.\n",
        "\n",
        "training = DwcAzureTrain(\n",
        "                        workspace_args={\"subscription_id\": '<subscription_id>',\n",
        "                                        \"resource_group\": '<resource_group>',\n",
        "                                        \"workspace_name\": '<workspace_name>'\n",
        "                                        },\n",
        "                        experiment_args={'name':'test-2'},\n",
        "                        environment_type='CondaPackageEnvironment',\n",
        "                        environment_args={'name':'test-env-hyper','conda_packages':['scikit-learn'],'pip_packages':['fedml_azure']},\n",
        "                        compute_type='AmlComputeCluster',\n",
        "                        compute_args={'vm_size':'Standard_D12_v2',\n",
        "                            'vm_priority':'lowpriority',\n",
        "                            'compute_name':'cpu-clu-hyper',\n",
        "                            'min_nodes':0,\n",
        "                            'max_nodes':1,\n",
        "                            'idle_seconds_before_scaledown':1700\n",
        "                            })\n"
      ]
    },
    {
      "cell_type": "markdown",
      "metadata": {},
      "source": [
        "### Then, we need to generate the run config. This is needed to package the configuration specified so we can submit a job for training. \n",
        "\n",
        "Before running the following cell, you should have a config.json file with the specified values to allow you to access to SAP Datasphere. Provide this file path to config_file_path in the below cell.\n",
        "\n",
        "In this example, we are using local data for training.\n",
        "Before running this cell, please make sure to have run the Data Preprocessor model example. That model will download an output directory containing the preprocessed_data.csv and labels.csv files used for this model.\n",
        "\n",
        "Make sure to specify the correct output directory in the next cell before running it for the preprocessed_file_name and labels_file_name arguments.\n",
        "\n",
        "https://docs.microsoft.com/en-us/python/api/azureml-core/azureml.core.scriptrunconfig?view=azure-ml-py"
      ]
    },
    {
      "cell_type": "code",
      "execution_count": null,
      "metadata": {
        "gather": {
          "logged": 1633630462671
        }
      },
      "outputs": [],
      "source": [
        "#generating the run config\n",
        "import json\n",
        "hyperparameters = {\n",
        "    'max_depth': [2, 4, 6],\n",
        "    'n_estimators': [100, 250, 300],\n",
        "    'max_features': [4, 5, 6, 'sqrt'],\n",
        "    'min_samples_leaf': [25, 30]\n",
        "    }\n",
        "hyperparameters = json.dumps(hyperparameters)\n",
        "src=training.generate_run_config(is_dwc_connection_required=False,\n",
        "                          config_args={\n",
        "                                          'source_directory':'Scikit-Learn-Hyperparameter-Tuning',\n",
        "                                          'script':'tuning_script.py',\n",
        "                                          'arguments':[\n",
        "                                              '--model_file_name','tuning.pkl',\n",
        "                                              '--preprocessed_file_name', 'preprocessed_data.csv',\n",
        "                                              '--labels_file_name', 'labels.csv',\n",
        "                                              '--hyperparameters', hyperparameters,\n",
        "                                              '--n_jobs', 24]\n",
        "                                          }\n",
        "                            )"
      ]
    },
    {
      "cell_type": "markdown",
      "metadata": {},
      "source": [
        "### Submitting the job for training"
      ]
    },
    {
      "cell_type": "code",
      "execution_count": null,
      "metadata": {
        "gather": {
          "logged": 1633630774490
        }
      },
      "outputs": [],
      "source": [
        "#submitting the training run\n",
        "run=training.submit_run(src)"
      ]
    },
    {
      "cell_type": "markdown",
      "metadata": {},
      "source": [
        "## Register the model for deployment"
      ]
    },
    {
      "cell_type": "code",
      "execution_count": null,
      "metadata": {
        "gather": {
          "logged": 1633388086711
        }
      },
      "outputs": [],
      "source": [
        "model=training.register_model(run=run,\n",
        "                           model_args={'model_name':'sklearn_tuning_model',\n",
        "                                       'model_path':'outputs/tuning.pkl'},\n",
        "                            resource_config_args={'cpu':1, 'memory_in_gb':0.5},\n",
        "                            is_sklearn_model=True\n",
        "                           )\n",
        "\n",
        "print('Name:', model.name)\n",
        "print('Version:', model.version)"
      ]
    }
  ],
  "metadata": {
    "kernel_info": {
      "name": "python3-azureml"
    },
    "kernelspec": {
      "display_name": "Python 3.6 - AzureML",
      "language": "python",
      "name": "python3-azureml"
    },
    "language_info": {
      "codemirror_mode": {
        "name": "ipython",
        "version": 3
      },
      "file_extension": ".py",
      "mimetype": "text/x-python",
      "name": "python",
      "nbconvert_exporter": "python",
      "pygments_lexer": "ipython3",
      "version": "3.6.9"
    },
    "microsoft": {
      "host": {
        "AzureML": {
          "notebookHasBeenCompleted": true
        }
      }
    },
    "nteract": {
      "version": "nteract-front-end@1.0.0"
    }
  },
  "nbformat": 4,
  "nbformat_minor": 2
}
