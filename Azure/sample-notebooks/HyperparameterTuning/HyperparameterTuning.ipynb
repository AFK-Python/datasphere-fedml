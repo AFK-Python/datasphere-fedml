{
  "cells": [
    {
      "cell_type": "markdown",
      "source": [
        "## Scikit-Learn Hyperparameter Tuning\n",
        "### Using local data (data was created from preprocessor script)"
      ],
      "metadata": {}
    },
    {
      "cell_type": "markdown",
      "source": [
        "## Install fedml_azure package"
      ],
      "metadata": {
        "nteract": {
          "transient": {
            "deleting": false
          }
        }
      }
    },
    {
      "cell_type": "code",
      "execution_count": 1,
      "source": [
        "pip install fedml_azure-1.0.0-py3-none-any.whl --force-reinstall"
      ],
      "outputs": [
        {
          "output_type": "stream",
          "name": "stdout",
          "text": [
            "Processing ./fedml_azure-1.0.0-py3-none-any.whl\n",
            "Collecting hdbcli\n",
            "  Using cached hdbcli-2.10.13-cp34-abi3-manylinux1_x86_64.whl (11.7 MB)\n",
            "Installing collected packages: hdbcli, fedml-azure\n",
            "  Attempting uninstall: hdbcli\n",
            "    Found existing installation: hdbcli 2.10.13\n",
            "    Uninstalling hdbcli-2.10.13:\n",
            "      Successfully uninstalled hdbcli-2.10.13\n",
            "  Attempting uninstall: fedml-azure\n",
            "    Found existing installation: fedml-azure 1.0.0\n",
            "    Uninstalling fedml-azure-1.0.0:\n",
            "      Successfully uninstalled fedml-azure-1.0.0\n",
            "Successfully installed fedml-azure-1.0.0 hdbcli-2.10.13\n",
            "Note: you may need to restart the kernel to use updated packages.\n"
          ]
        }
      ],
      "metadata": {
        "jupyter": {
          "source_hidden": false,
          "outputs_hidden": false
        },
        "nteract": {
          "transient": {
            "deleting": false
          }
        },
        "gather": {
          "logged": 1633630449536
        }
      }
    },
    {
      "cell_type": "markdown",
      "source": [
        "## Import the libraries needed in this notebook"
      ],
      "metadata": {}
    },
    {
      "cell_type": "code",
      "execution_count": 2,
      "source": [
        "from fedml_azure import DwcAzureTrain"
      ],
      "outputs": [],
      "metadata": {
        "gather": {
          "logged": 1633630452472
        }
      }
    },
    {
      "cell_type": "markdown",
      "source": [
        "## Set up\n",
        "### Creating a Training object and setting the workspace, compute target, and environment.\n",
        "\n",
        "Before running the below cell, ensure that you have a workspace and replace the subscription_id, \n",
        "resource_group, and workspace_name with your information.\n",
        "\n",
        "The whl file for the fedml_azure library must be passed to the pip_wheel_files key in the environment_args and \n",
        "to use scikit-learn, you must pass the name to conda_packages as well."
      ],
      "metadata": {}
    },
    {
      "cell_type": "code",
      "execution_count": 3,
      "source": [
        "#creation of training object and creating workspace in constructor.\n",
        "\n",
        "training = DwcAzureTrain(\n",
        "                        workspace_args={\"subscription_id\": \"cb97564e-cea8-45a4-9c5c-a3357e8f7ee4\",\n",
        "                                        \"resource_group\": \"Sample2_AzureML_Resource\",\n",
        "                                        \"workspace_name\": \"Sample2_AzureML_Worskpace\"\n",
        "                                        },\n",
        "                        experiment_args={'name':'test-2'},\n",
        "                        environment_type='CondaPackageEnvironment',\n",
        "                        environment_args={'name':'test-env-hyper','conda_packages':['scikit-learn'],'pip_wheel_files':['fedml_azure-1.0.0-py3-none-any.whl']},\n",
        "                        compute_type='AmlComputeCluster',\n",
        "                        compute_args={'vm_size':'Standard_D12_v2',\n",
        "                            'vm_priority':'lowpriority',\n",
        "                            'compute_name':'cpu-clu-hyper',\n",
        "                            'min_nodes':0,\n",
        "                            'max_nodes':1,\n",
        "                            'idle_seconds_before_scaledown':1700\n",
        "                            })\n"
      ],
      "outputs": [
        {
          "output_type": "stream",
          "name": "stdout",
          "text": [
            "Getting existing Workspace\n",
            "Creating Experiment\n",
            "Creating Compute_target\n",
            "Found compute target. just use it. cpu-clu-hyper\n",
            "Creating Environment\n"
          ]
        }
      ],
      "metadata": {
        "jupyter": {
          "source_hidden": false,
          "outputs_hidden": false
        },
        "nteract": {
          "transient": {
            "deleting": false
          }
        },
        "gather": {
          "logged": 1633630459474
        }
      }
    },
    {
      "cell_type": "markdown",
      "source": [
        "### Then, we need to generate the run config. This is needed to package the configuration specified so we can submit a job for training. \n",
        "\n",
        "Before running the following cell, you should have a config.json file with the specified values to allow you to access to DWC. Provide this file path to config_file_path in the below cell.\n",
        "\n",
        "In this example, we are using local data for training.\n",
        "Before running this cell, please make sure to have run the Data Preprocessor model example. That model will download an output directory containing the preprocessed_data.csv and labels.csv files used for this model.\n",
        "\n",
        "Make sure to specify the correct output directory in the next cell before running it for the preprocessed_file_name and labels_file_name arguments.\n",
        "\n",
        "https://docs.microsoft.com/en-us/python/api/azureml-core/azureml.core.scriptrunconfig?view=azure-ml-py"
      ],
      "metadata": {}
    },
    {
      "cell_type": "code",
      "execution_count": 4,
      "source": [
        "#generating the run config\n",
        "import json\n",
        "hyperparameters = {\n",
        "    'max_depth': [2, 4, 6],\n",
        "    'n_estimators': [100, 250, 300],\n",
        "    'max_features': [4, 5, 6, 'sqrt'],\n",
        "    'min_samples_leaf': [25, 30]\n",
        "    }\n",
        "hyperparameters = json.dumps(hyperparameters)\n",
        "src=training.generate_run_config(is_dwc_connection_required=False,\n",
        "                          config_args={\n",
        "                                          'source_directory':'Scikit-Learn-Hyperparameter-Tuning',\n",
        "                                          'script':'tuning_script.py',\n",
        "                                          'arguments':[\n",
        "                                              '--model_file_name','tuning.pkl',\n",
        "                                              '--preprocessed_file_name', 'preprocessed_data.csv',\n",
        "                                              '--labels_file_name', 'labels.csv',\n",
        "                                              '--hyperparameters', hyperparameters,\n",
        "                                              '--n_jobs', 24]\n",
        "                                          }\n",
        "                            )"
      ],
      "outputs": [
        {
          "output_type": "stream",
          "name": "stdout",
          "text": [
            "Generating script run config\n",
            "Skipping the copy of db connection config 'config.json' to 'source_directory'\n"
          ]
        }
      ],
      "metadata": {
        "gather": {
          "logged": 1633630462671
        }
      }
    },
    {
      "cell_type": "markdown",
      "source": [
        "### Submitting the job for training"
      ],
      "metadata": {}
    },
    {
      "cell_type": "code",
      "execution_count": 5,
      "source": [
        "#submitting the training run\n",
        "run=training.submit_run(src)"
      ],
      "outputs": [
        {
          "output_type": "stream",
          "name": "stdout",
          "text": [
            "Submitting training run\n",
            "RunId: test-2_1633630468_9b733a6c\n",
            "Web View: https://ml.azure.com/runs/test-2_1633630468_9b733a6c?wsid=/subscriptions/cb97564e-cea8-45a4-9c5c-a3357e8f7ee4/resourcegroups/Sample2_AzureML_Resource/workspaces/Sample2_AzureML_Worskpace&tid=42f7676c-f455-423c-82f6-dc2d99791af7\n",
            "\n",
            "Streaming azureml-logs/55_azureml-execution-tvmps_a1fa81fcde9b78a8074d874bb817fad51e4485274718397f30426a72cc8f9ebc_p.txt\n",
            "========================================================================================================================\n",
            "\n",
            "2021-10-07T18:16:32Z Running following command: /bin/bash -c sudo blobfuse /mnt/batch/tasks/shared/LS_root/jobs/sample2_azureml_worskpace/azureml/test-2_1633630468_9b733a6c/mounts/workspaceblobstore --tmp-path=/mnt/batch/tasks/shared/LS_root/jobs/sample2_azureml_worskpace/azureml/test-2_1633630468_9b733a6c/caches/workspaceblobstore -o ro --file-cache-timeout-in-seconds=1000000 --cache-size-mb=185369 -o nonempty -o allow_other --config-file=/mnt/batch/tasks/shared/LS_root/jobs/sample2_azureml_worskpace/azureml/test-2_1633630468_9b733a6c/configs/workspaceblobstore.cfg --log-level=LOG_WARNING\n",
            "2021-10-07T18:16:32Z Successfully mounted a/an Blobfuse File System at /mnt/batch/tasks/shared/LS_root/jobs/sample2_azureml_worskpace/azureml/test-2_1633630468_9b733a6c/mounts/workspaceblobstore\n",
            "2021-10-07T18:16:33Z The vmsize standard_d12_v2 is not a GPU VM, skipping get GPU count by running nvidia-smi command.\n",
            "2021-10-07T18:16:33Z Starting output-watcher...\n",
            "2021-10-07T18:16:33Z IsDedicatedCompute == False, starting polling for Low-Pri Preemption\n",
            "2021-10-07T18:16:33Z Executing 'Copy ACR Details file' on 10.0.0.5\n",
            "2021-10-07T18:16:33Z Copy ACR Details file succeeded on 10.0.0.5. Output: \n",
            ">>>   \n",
            ">>>   \n",
            "Login Succeeded\n",
            "Using default tag: latest\n",
            "latest: Pulling from azureml/azureml_ee172d1faf306a9c7a629ce24fc10a95\n",
            "feac53061382: Pulling fs layer\n",
            "7dce5c8175d6: Pulling fs layer\n",
            "0a1b9502ed8f: Pulling fs layer\n",
            "d187f505e8b8: Pulling fs layer\n",
            "c7a3c00b133d: Pulling fs layer\n",
            "31b816123763: Pulling fs layer\n",
            "37b899c2505c: Pulling fs layer\n",
            "abda0175e0e2: Pulling fs layer\n",
            "19d6148ce542: Pulling fs layer\n",
            "3bd14375935b: Pulling fs layer\n",
            "da8e7c6a5f30: Pulling fs layer\n",
            "f9572935a97b: Pulling fs layer\n",
            "f7cc29db5edd: Pulling fs layer\n",
            "3104f54f5dcf: Pulling fs layer\n",
            "4df6d6c07f32: Pulling fs layer\n",
            "fdc571b0fe86: Pulling fs layer\n",
            "1b9ddf054d3d: Pulling fs layer\n",
            "f8995d9ccf23: Pulling fs layer\n",
            "31b816123763: Waiting\n",
            "37b899c2505c: Waiting\n",
            "abda0175e0e2: Waiting\n",
            "19d6148ce542: Waiting\n",
            "3bd14375935b: Waiting\n",
            "da8e7c6a5f30: Waiting\n",
            "d187f505e8b8: Waiting\n",
            "c7a3c00b133d: Waiting\n",
            "f9572935a97b: Waiting\n",
            "f7cc29db5edd: Waiting\n",
            "3104f54f5dcf: Waiting\n",
            "4df6d6c07f32: Waiting\n",
            "fdc571b0fe86: Waiting\n",
            "1b9ddf054d3d: Waiting\n",
            "f8995d9ccf23: Waiting\n",
            "feac53061382: Verifying Checksum\n",
            "feac53061382: Download complete\n",
            "0a1b9502ed8f: Verifying Checksum\n",
            "0a1b9502ed8f: Download complete\n",
            "d187f505e8b8: Verifying Checksum\n",
            "d187f505e8b8: Download complete\n",
            "31b816123763: Verifying Checksum\n",
            "31b816123763: Download complete\n",
            "c7a3c00b133d: Verifying Checksum\n",
            "c7a3c00b133d: Download complete\n",
            "37b899c2505c: Verifying Checksum\n",
            "37b899c2505c: Download complete\n",
            "abda0175e0e2: Verifying Checksum\n",
            "abda0175e0e2: Download complete\n",
            "feac53061382: Pull complete\n",
            "19d6148ce542: Download complete\n",
            "3bd14375935b: Download complete\n",
            "7dce5c8175d6: Verifying Checksum\n",
            "7dce5c8175d6: Download complete\n",
            "da8e7c6a5f30: Verifying Checksum\n",
            "da8e7c6a5f30: Download complete\n",
            "f9572935a97b: Verifying Checksum\n",
            "f9572935a97b: Download complete\n",
            "f7cc29db5edd: Verifying Checksum\n",
            "f7cc29db5edd: Download complete\n",
            "4df6d6c07f32: Verifying Checksum\n",
            "4df6d6c07f32: Download complete\n",
            "fdc571b0fe86: Verifying Checksum\n",
            "fdc571b0fe86: Download complete\n",
            "f8995d9ccf23: Verifying Checksum\n",
            "f8995d9ccf23: Download complete\n",
            "1b9ddf054d3d: Verifying Checksum\n",
            "1b9ddf054d3d: Download complete\n",
            "7dce5c8175d6: Pull complete\n",
            "0a1b9502ed8f: Pull complete\n",
            "d187f505e8b8: Pull complete\n",
            "3104f54f5dcf: Download complete\n",
            "c7a3c00b133d: Pull complete\n",
            "31b816123763: Pull complete\n",
            "37b899c2505c: Pull complete\n",
            "abda0175e0e2: Pull complete\n",
            "19d6148ce542: Pull complete\n",
            "3bd14375935b: Pull complete\n",
            "da8e7c6a5f30: Pull complete\n",
            "f9572935a97b: Pull complete\n",
            "f7cc29db5edd: Pull complete\n",
            "3104f54f5dcf: Pull complete\n",
            "4df6d6c07f32: Pull complete\n",
            "fdc571b0fe86: Pull complete\n",
            "1b9ddf054d3d: Pull complete\n",
            "f8995d9ccf23: Pull complete\n",
            "Digest: sha256:d89e49b99e39aca57981e123f3cf2c4f7124f3223e193e63df0752150b5a80f9\n",
            "Status: Downloaded newer image for f29b6b92835b480fb06a79cd942c7451.azurecr.io/azureml/azureml_ee172d1faf306a9c7a629ce24fc10a95:latest\n",
            "f29b6b92835b480fb06a79cd942c7451.azurecr.io/azureml/azureml_ee172d1faf306a9c7a629ce24fc10a95:latest\n",
            "2021-10-07T18:16:58Z The vmsize standard_d12_v2 is not a GPU VM, skipping get GPU count by running nvidia-smi command.\n",
            "2021-10-07T18:16:58Z Check if container test-2_1633630468_9b733a6c already exist exited with 0, \n",
            "\n",
            "\n",
            "Streaming azureml-logs/75_job_post-tvmps_a1fa81fcde9b78a8074d874bb817fad51e4485274718397f30426a72cc8f9ebc_p.txt\n",
            "===============================================================================================================\n",
            "\n",
            "[2021-10-07T18:18:27.717455] Entering job release\n",
            "[2021-10-07T18:18:28.700052] Starting job release\n",
            "[2021-10-07T18:18:28.700592] Logging experiment finalizing status in history service.\n",
            "Starting the daemon thread to refresh tokens in background for process with pid = 178\n",
            "[2021-10-07T18:18:28.701211] job release stage : upload_datastore starting...\n",
            "[2021-10-07T18:18:28.701680] job release stage : start importing azureml.history._tracking in run_history_release.\n",
            "[2021-10-07T18:18:28.704200] job release stage : copy_batchai_cached_logs starting...\n",
            "[2021-10-07T18:18:28.710546] job release stage : execute_job_release starting...\n",
            "[2021-10-07T18:18:28.711260] Entering context manager injector.\n",
            "[2021-10-07T18:18:28.711445] job release stage : copy_batchai_cached_logs completed...\n",
            "[2021-10-07T18:18:28.717766] job release stage : upload_datastore completed...\n",
            "[2021-10-07T18:18:28.791153] job release stage : send_run_telemetry starting...\n",
            "[2021-10-07T18:18:28.819352] get vm size and vm region successfully.\n",
            "[2021-10-07T18:18:28.827671] get compute meta data successfully.\n",
            "[2021-10-07T18:18:28.949940] job release stage : execute_job_release completed...\n",
            "[2021-10-07T18:18:29.748315] post artifact meta request successfully.\n",
            "[2021-10-07T18:18:29.797555] upload compute record artifact successfully.\n",
            "[2021-10-07T18:18:29.797650] job release stage : send_run_telemetry completed...\n",
            "[2021-10-07T18:18:29.797854] Job release is complete\n",
            "\n",
            "Execution Summary\n",
            "=================\n",
            "RunId: test-2_1633630468_9b733a6c\n",
            "Web View: https://ml.azure.com/runs/test-2_1633630468_9b733a6c?wsid=/subscriptions/cb97564e-cea8-45a4-9c5c-a3357e8f7ee4/resourcegroups/Sample2_AzureML_Resource/workspaces/Sample2_AzureML_Worskpace&tid=42f7676c-f455-423c-82f6-dc2d99791af7\n",
            "\n"
          ]
        }
      ],
      "metadata": {
        "gather": {
          "logged": 1633630774490
        }
      }
    },
    {
      "cell_type": "markdown",
      "source": [
        "## Register the model for deployment"
      ],
      "metadata": {}
    },
    {
      "cell_type": "code",
      "execution_count": 6,
      "source": [
        "model=training.register_model(run=run,\n",
        "                           model_args={'model_name':'sklearn_tuning_model',\n",
        "                                       'model_path':'outputs/tuning.pkl'},\n",
        "                            resource_config_args={'cpu':1, 'memory_in_gb':0.5},\n",
        "                            is_sklearn_model=True\n",
        "                           )\n",
        "\n",
        "print('Name:', model.name)\n",
        "print('Version:', model.version)"
      ],
      "outputs": [
        {
          "output_type": "stream",
          "name": "stdout",
          "text": [
            "Registering the model\n",
            "Configuring parameters for sklearn model\n",
            "Name: sklearn_tuning_model\n",
            "Version: 4\n"
          ]
        }
      ],
      "metadata": {
        "gather": {
          "logged": 1633388086711
        }
      }
    }
  ],
  "metadata": {
    "kernelspec": {
      "name": "python3-azureml",
      "language": "python",
      "display_name": "Python 3.6 - AzureML"
    },
    "kernel_info": {
      "name": "python3-azureml"
    },
    "nteract": {
      "version": "nteract-front-end@1.0.0"
    },
    "language_info": {
      "name": "python",
      "version": "3.6.9",
      "mimetype": "text/x-python",
      "codemirror_mode": {
        "name": "ipython",
        "version": 3
      },
      "pygments_lexer": "ipython3",
      "nbconvert_exporter": "python",
      "file_extension": ".py"
    },
    "microsoft": {
      "host": {
        "AzureML": {
          "notebookHasBeenCompleted": true
        }
      }
    }
  },
  "nbformat": 4,
  "nbformat_minor": 2
}