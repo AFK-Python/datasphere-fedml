{
  "cells": [
    {
      "cell_type": "markdown",
      "source": [
        "## Scikit-Learn PCA\n",
        "### Using BREASTCANCER_VIEW from DWC. This view has 569 records"
      ],
      "metadata": {}
    },
    {
      "cell_type": "markdown",
      "source": [
        "## Install fedml-azure package"
      ],
      "metadata": {
        "nteract": {
          "transient": {
            "deleting": false
          }
        }
      }
    },
    {
      "cell_type": "code",
      "execution_count": 1,
      "source": [
        "pip install fedml-azure --force-reinstall"
      ],
      "outputs": [
        {
          "output_type": "stream",
          "name": "stdout",
          "text": [
            "Processing ./fedml_azure-1.0.0-py3-none-any.whl\n",
            "Collecting hdbcli\n",
            "  Using cached hdbcli-2.10.13-cp34-abi3-manylinux1_x86_64.whl (11.7 MB)\n",
            "Installing collected packages: hdbcli, fedml-azure\n",
            "  Attempting uninstall: hdbcli\n",
            "    Found existing installation: hdbcli 2.10.13\n",
            "    Uninstalling hdbcli-2.10.13:\n",
            "      Successfully uninstalled hdbcli-2.10.13\n",
            "  Attempting uninstall: fedml-azure\n",
            "    Found existing installation: fedml-azure 1.0.0\n",
            "    Uninstalling fedml-azure-1.0.0:\n",
            "      Successfully uninstalled fedml-azure-1.0.0\n",
            "Successfully installed fedml-azure-1.0.0 hdbcli-2.10.13\n",
            "Note: you may need to restart the kernel to use updated packages.\n"
          ]
        }
      ],
      "metadata": {
        "collapsed": false,
        "gather": {
          "logged": 1633631268533
        },
        "jupyter": {
          "outputs_hidden": false,
          "source_hidden": false
        },
        "nteract": {
          "transient": {
            "deleting": false
          }
        }
      }
    },
    {
      "cell_type": "markdown",
      "source": [
        "## Import the libraries needed in this notebook"
      ],
      "metadata": {}
    },
    {
      "cell_type": "code",
      "execution_count": 2,
      "source": [
        "from fedml_azure import DwcAzureTrain"
      ],
      "outputs": [],
      "metadata": {
        "gather": {
          "logged": 1633631268931
        }
      }
    },
    {
      "cell_type": "markdown",
      "source": [
        "## Set up\n",
        "### Creating a Training object and setting the workspace, compute target, and environment.\n",
        "\n",
        "Before running the below cell, ensure that you have a workspace and replace the subscription_id, resource_group, and workspace_name with your information.\n",
        "\n",
        "The fedml-azure pip package must be passed to the pip_packages key in the environment_args and \n",
        "to use scikit-learn, you must pass the name to conda_packages as well."
      ],
      "metadata": {}
    },
    {
      "cell_type": "code",
      "execution_count": 3,
      "source": [
        "#creation of training object and creating workspace in constructor.\n",
        "\n",
        "training = DwcAzureTrain(workspace_args={\"subscription_id\": '<subscription_id>',\n",
        "                                        \"resource_group\": '<resource_group>',\n",
        "                                        \"workspace_name\": '<workspace_name>'\n",
        "                },\n",
        "                        environment_type='CondaPackageEnvironment',\n",
        "                        environment_args={'name':'test-env-pca', 'conda_packages':['scikit-learn'],'pip_packages':['fedml-azure']},\n",
        "                        experiment_args={'name':'test-2'},\n",
        "                        compute_type='AmlComputeCluster',\n",
        "                        compute_args={'vm_size':'Standard_D12_v2',\n",
        "                                'vm_priority':'lowpriority',\n",
        "                                'compute_name':'cpu-clu-pca',\n",
        "                                'min_nodes':0,\n",
        "                                'max_nodes':1,\n",
        "                                'idle_seconds_before_scaledown':1700\n",
        "                                })"
      ],
      "outputs": [
        {
          "output_type": "stream",
          "name": "stdout",
          "text": [
            "Getting existing Workspace\n",
            "Creating Experiment\n",
            "Creating Compute_target\n",
            "Found compute target. just use it. cpu-clu-pca\n",
            "Creating Environment\n"
          ]
        }
      ],
      "metadata": {
        "collapsed": false,
        "gather": {
          "logged": 1633631271595
        },
        "jupyter": {
          "outputs_hidden": false,
          "source_hidden": false
        },
        "nteract": {
          "transient": {
            "deleting": false
          }
        }
      }
    },
    {
      "cell_type": "markdown",
      "source": [
        "### Here we are updating the experiment for this training job. This is optional."
      ],
      "metadata": {}
    },
    {
      "cell_type": "code",
      "execution_count": 4,
      "source": [
        "#self,script_directory,experiment=None,experiment_args=None,compute_type=None,compute=None,compute_args=None,environment=None,environment_type=None,environment_args=None,is_compute_create_required=False\n",
        "training.update_experiment(experiment_args={'name': 'test-1'})"
      ],
      "outputs": [
        {
          "output_type": "stream",
          "name": "stdout",
          "text": [
            "Updating experiment\n",
            "Creating Experiment\n"
          ]
        }
      ],
      "metadata": {
        "gather": {
          "logged": 1633631271760
        }
      }
    },
    {
      "cell_type": "markdown",
      "source": [
        "### Then, we need to generate the run config. This is needed to package the configuration specified so we can submit a job for training. \n",
        "\n",
        "Before running the following cell, you should have a config.json file with the specified values to allow you to access to DWC. Provide this file path to config_file_path in the below cell.\n",
        "\n",
        "You should also have the follow view BREASTCANCER_VIEW created in your DWC. To gather this data, please refer to https://www.kaggle.com/uciml/breast-cancer-wisconsin-data\n",
        "\n",
        "https://docs.microsoft.com/en-us/python/api/azureml-core/azureml.core.scriptrunconfig?view=azure-ml-py"
      ],
      "metadata": {}
    },
    {
      "cell_type": "code",
      "execution_count": 5,
      "source": [
        "#generating the run config\n",
        "src=training.generate_run_config(config_file_path='dwc_configs/config.json',\n",
        "                          config_args={\n",
        "                                          'source_directory':'Scikit-Learn-Dimensionality-Reduction',\n",
        "                                          'script':'pca_script.py',\n",
        "                                          'arguments':['--model_file_name','regression.pkl', '--table_name', 'BREASTCANCER_VIEW', '--num_components', '3']\n",
        "                                          }\n",
        "                            )"
      ],
      "outputs": [
        {
          "output_type": "stream",
          "name": "stdout",
          "text": [
            "Generating script run config\n",
            "Config file already exists in the script_directory Scikit-Learn-Dimensionality-Reduction\n"
          ]
        }
      ],
      "metadata": {
        "gather": {
          "logged": 1633631271878
        }
      }
    },
    {
      "cell_type": "markdown",
      "source": [
        "### Submitting the job for training"
      ],
      "metadata": {}
    },
    {
      "cell_type": "code",
      "execution_count": null,
      "source": [
        "#submitting the training run\n",
        "run=training.submit_run(src)"
      ],
      "outputs": [],
      "metadata": {
        "gather": {
          "logged": 1633631608500
        }
      }
    },
    {
      "cell_type": "markdown",
      "source": [
        "## Register the model for deployment"
      ],
      "metadata": {}
    },
    {
      "cell_type": "code",
      "execution_count": 7,
      "source": [
        "model = training.register_model(run=run,\n",
        "                           model_args={'model_name':'sklearn_pca_model', \n",
        "                           \"model_path\":'outputs/regression.pkl'},\n",
        "                           resource_config_args={\"cpu\":1, \"memory_in_gb\":0.5},\n",
        "                           is_sklearn_model=True\n",
        "                            )\n",
        "\n",
        "print('Name:', model.name)\n",
        "print('Version:', model.version)"
      ],
      "outputs": [
        {
          "output_type": "stream",
          "name": "stdout",
          "text": [
            "Registering the model\n",
            "Configuring parameters for sklearn model\n",
            "Name: sklearn_pca_model\n",
            "Version: 8\n"
          ]
        }
      ],
      "metadata": {
        "gather": {
          "logged": 1633541164478
        }
      }
    }
  ],
  "metadata": {
    "kernel_info": {
      "name": "python3-azureml"
    },
    "kernelspec": {
      "name": "python3-azureml",
      "language": "python",
      "display_name": "Python 3.6 - AzureML"
    },
    "language_info": {
      "name": "python",
      "version": "3.6.9",
      "mimetype": "text/x-python",
      "codemirror_mode": {
        "name": "ipython",
        "version": 3
      },
      "pygments_lexer": "ipython3",
      "nbconvert_exporter": "python",
      "file_extension": ".py"
    },
    "microsoft": {
      "host": {
        "AzureML": {
          "notebookHasBeenCompleted": true
        }
      }
    },
    "nteract": {
      "version": "nteract-front-end@1.0.0"
    }
  },
  "nbformat": 4,
  "nbformat_minor": 4
}