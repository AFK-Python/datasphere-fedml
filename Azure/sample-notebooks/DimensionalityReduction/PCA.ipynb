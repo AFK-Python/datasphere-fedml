{
  "cells": [
    {
      "cell_type": "markdown",
      "source": [
        "## Scikit-Learn PCA\n",
        "### Using BREASTCANCER_VIEW from DWC. This view has 569 records"
      ],
      "metadata": {}
    },
    {
      "cell_type": "markdown",
      "source": [
        "## Install fedml-azure package"
      ],
      "metadata": {
        "nteract": {
          "transient": {
            "deleting": false
          }
        }
      }
    },
    {
      "cell_type": "code",
      "execution_count": 1,
      "source": [
        "pip install fedml-azure --force-reinstall"
      ],
      "outputs": [
        {
          "output_type": "stream",
          "name": "stdout",
          "text": [
            "Processing ./fedml_azure-1.0.0-py3-none-any.whl\n",
            "Collecting hdbcli\n",
            "  Using cached hdbcli-2.10.13-cp34-abi3-manylinux1_x86_64.whl (11.7 MB)\n",
            "Installing collected packages: hdbcli, fedml-azure\n",
            "  Attempting uninstall: hdbcli\n",
            "    Found existing installation: hdbcli 2.10.13\n",
            "    Uninstalling hdbcli-2.10.13:\n",
            "      Successfully uninstalled hdbcli-2.10.13\n",
            "  Attempting uninstall: fedml-azure\n",
            "    Found existing installation: fedml-azure 1.0.0\n",
            "    Uninstalling fedml-azure-1.0.0:\n",
            "      Successfully uninstalled fedml-azure-1.0.0\n",
            "Successfully installed fedml-azure-1.0.0 hdbcli-2.10.13\n",
            "Note: you may need to restart the kernel to use updated packages.\n"
          ]
        }
      ],
      "metadata": {
        "collapsed": false,
        "gather": {
          "logged": 1633631268533
        },
        "jupyter": {
          "outputs_hidden": false,
          "source_hidden": false
        },
        "nteract": {
          "transient": {
            "deleting": false
          }
        }
      }
    },
    {
      "cell_type": "markdown",
      "source": [
        "## Import the libraries needed in this notebook"
      ],
      "metadata": {}
    },
    {
      "cell_type": "code",
      "execution_count": 2,
      "source": [
        "from fedml_azure import DwcAzureTrain"
      ],
      "outputs": [],
      "metadata": {
        "gather": {
          "logged": 1633631268931
        }
      }
    },
    {
      "cell_type": "markdown",
      "source": [
        "## Set up\n",
        "### Creating a Training object and setting the workspace, compute target, and environment.\n",
        "\n",
        "Before running the below cell, ensure that you have a workspace and replace the subscription_id, resource_group, and workspace_name with your information.\n",
        "\n",
        "The fedml-azure pip package must be passed to the pip_packages key in the environment_args and \n",
        "to use scikit-learn, you must pass the name to conda_packages as well."
      ],
      "metadata": {}
    },
    {
      "cell_type": "code",
      "execution_count": 3,
      "source": [
        "#creation of training object and creating workspace in constructor.\n",
        "\n",
        "training = DwcAzureTrain(workspace_args={\"subscription_id\": '<subscription_id>',\n",
        "                                        \"resource_group\": '<resource_group>',\n",
        "                                        \"workspace_name\": '<workspace_name>'\n",
        "                },\n",
        "                        environment_type='CondaPackageEnvironment',\n",
        "                        environment_args={'name':'test-env-pca', 'conda_packages':['scikit-learn'],'pip_packages':['fedml-azure']},\n",
        "                        experiment_args={'name':'test-2'},\n",
        "                        compute_type='AmlComputeCluster',\n",
        "                        compute_args={'vm_size':'Standard_D12_v2',\n",
        "                                'vm_priority':'lowpriority',\n",
        "                                'compute_name':'cpu-clu-pca',\n",
        "                                'min_nodes':0,\n",
        "                                'max_nodes':1,\n",
        "                                'idle_seconds_before_scaledown':1700\n",
        "                                })"
      ],
      "outputs": [
        {
          "output_type": "stream",
          "name": "stdout",
          "text": [
            "Getting existing Workspace\n",
            "Creating Experiment\n",
            "Creating Compute_target\n",
            "Found compute target. just use it. cpu-clu-pca\n",
            "Creating Environment\n"
          ]
        }
      ],
      "metadata": {
        "collapsed": false,
        "gather": {
          "logged": 1633631271595
        },
        "jupyter": {
          "outputs_hidden": false,
          "source_hidden": false
        },
        "nteract": {
          "transient": {
            "deleting": false
          }
        }
      }
    },
    {
      "cell_type": "markdown",
      "source": [
        "### Here we are updating the experiment for this training job. This is optional."
      ],
      "metadata": {}
    },
    {
      "cell_type": "code",
      "execution_count": 4,
      "source": [
        "#self,script_directory,experiment=None,experiment_args=None,compute_type=None,compute=None,compute_args=None,environment=None,environment_type=None,environment_args=None,is_compute_create_required=False\n",
        "training.update_experiment(experiment_args={'name': 'test-1'})"
      ],
      "outputs": [
        {
          "output_type": "stream",
          "name": "stdout",
          "text": [
            "Updating experiment\n",
            "Creating Experiment\n"
          ]
        }
      ],
      "metadata": {
        "gather": {
          "logged": 1633631271760
        }
      }
    },
    {
      "cell_type": "markdown",
      "source": [
        "### Then, we need to generate the run config. This is needed to package the configuration specified so we can submit a job for training. \n",
        "\n",
        "Before running the following cell, you should have a config.json file with the specified values to allow you to access to DWC. Provide this file path to config_file_path in the below cell.\n",
        "\n",
        "You should also have the follow view BREASTCANCER_VIEW created in your DWC. To gather this data, please refer to https://www.kaggle.com/uciml/breast-cancer-wisconsin-data\n",
        "\n",
        "https://docs.microsoft.com/en-us/python/api/azureml-core/azureml.core.scriptrunconfig?view=azure-ml-py"
      ],
      "metadata": {}
    },
    {
      "cell_type": "code",
      "execution_count": 5,
      "source": [
        "#generating the run config\n",
        "src=training.generate_run_config(config_file_path='dwc_configs/config.json',\n",
        "                          config_args={\n",
        "                                          'source_directory':'Scikit-Learn-Dimensionality-Reduction',\n",
        "                                          'script':'pca_script.py',\n",
        "                                          'arguments':['--model_file_name','regression.pkl', '--table_name', 'BREASTCANCER_VIEW', '--num_components', '3']\n",
        "                                          }\n",
        "                            )"
      ],
      "outputs": [
        {
          "output_type": "stream",
          "name": "stdout",
          "text": [
            "Generating script run config\n",
            "Config file already exists in the script_directory Scikit-Learn-Dimensionality-Reduction\n"
          ]
        }
      ],
      "metadata": {
        "gather": {
          "logged": 1633631271878
        }
      }
    },
    {
      "cell_type": "markdown",
      "source": [
        "### Submitting the job for training"
      ],
      "metadata": {}
    },
    {
      "cell_type": "code",
      "execution_count": 6,
      "source": [
        "#submitting the training run\n",
        "run=training.submit_run(src)"
      ],
      "outputs": [
        {
          "output_type": "stream",
          "name": "stdout",
          "text": [
            "Submitting training run\n",
            "RunId: test-1_1633631271_4a7c2f86\n",
            "Web View: https://ml.azure.com/runs/test-1_1633631271_4a7c2f86?wsid=/subscriptions/cb97564e-cea8-45a4-9c5c-a3357e8f7ee4/resourcegroups/Sample2_AzureML_Resource/workspaces/Sample2_AzureML_Worskpace&tid=42f7676c-f455-423c-82f6-dc2d99791af7\n",
            "\n",
            "Streaming azureml-logs/55_azureml-execution-tvmps_550551148d8f7a61950161851309bcd77e5f0231962bee18ba393fc84100f0ae_p.txt\n",
            "========================================================================================================================\n",
            "\n",
            "2021-10-07T18:32:24Z Running following command: /bin/bash -c sudo blobfuse /mnt/batch/tasks/shared/LS_root/jobs/sample2_azureml_worskpace/azureml/test-1_1633631271_4a7c2f86/mounts/workspaceblobstore --tmp-path=/mnt/batch/tasks/shared/LS_root/jobs/sample2_azureml_worskpace/azureml/test-1_1633631271_4a7c2f86/caches/workspaceblobstore -o ro --file-cache-timeout-in-seconds=1000000 --cache-size-mb=185369 -o nonempty -o allow_other --config-file=/mnt/batch/tasks/shared/LS_root/jobs/sample2_azureml_worskpace/azureml/test-1_1633631271_4a7c2f86/configs/workspaceblobstore.cfg --log-level=LOG_WARNING\n",
            "2021-10-07T18:32:24Z Successfully mounted a/an Blobfuse File System at /mnt/batch/tasks/shared/LS_root/jobs/sample2_azureml_worskpace/azureml/test-1_1633631271_4a7c2f86/mounts/workspaceblobstore\n",
            "2021-10-07T18:32:25Z The vmsize standard_d12_v2 is not a GPU VM, skipping get GPU count by running nvidia-smi command.\n",
            "2021-10-07T18:32:25Z Starting output-watcher...\n",
            "2021-10-07T18:32:25Z IsDedicatedCompute == False, starting polling for Low-Pri Preemption\n",
            "2021-10-07T18:32:25Z Executing 'Copy ACR Details file' on 10.0.0.5\n",
            "2021-10-07T18:32:25Z Copy ACR Details file succeeded on 10.0.0.5. Output: \n",
            ">>>   \n",
            ">>>   \n",
            "Login Succeeded\n",
            "Using default tag: latest\n",
            "\n",
            "Streaming azureml-logs/75_job_post-tvmps_550551148d8f7a61950161851309bcd77e5f0231962bee18ba393fc84100f0ae_p.txt\n",
            "===============================================================================================================\n",
            "\n",
            "[2021-10-07T18:33:03.280832] Entering job release\n",
            "[2021-10-07T18:33:04.032729] Starting job release\n",
            "[2021-10-07T18:33:04.033199] Logging experiment finalizing status in history service.\n",
            "Starting the daemon thread to refresh tokens in background for process with pid = 124\n",
            "[2021-10-07T18:33:04.033908] job release stage : upload_datastore starting...\n",
            "[2021-10-07T18:33:04.034411] job release stage : start importing azureml.history._tracking in run_history_release.\n",
            "[2021-10-07T18:33:04.036766] job release stage : copy_batchai_cached_logs starting...\n",
            "[2021-10-07T18:33:04.036833] job release stage : execute_job_release starting...\n",
            "[2021-10-07T18:33:04.042557] job release stage : copy_batchai_cached_logs completed...\n",
            "[2021-10-07T18:33:04.042856] Entering context manager injector.\n",
            "[2021-10-07T18:33:04.045348] job release stage : upload_datastore completed...\n",
            "[2021-10-07T18:33:04.125079] job release stage : send_run_telemetry starting...\n",
            "[2021-10-07T18:33:04.147470] get vm size and vm region successfully.\n",
            "[2021-10-07T18:33:04.163882] get compute meta data successfully.\n",
            "[2021-10-07T18:33:04.240799] job release stage : execute_job_release completed...\n",
            "[2021-10-07T18:33:04.350952] post artifact meta request successfully.\n",
            "[2021-10-07T18:33:04.382902] upload compute record artifact successfully.\n",
            "[2021-10-07T18:33:04.382965] job release stage : send_run_telemetry completed...\n",
            "[2021-10-07T18:33:04.383317] Job release is complete\n",
            "\n",
            "Execution Summary\n",
            "=================\n",
            "RunId: test-1_1633631271_4a7c2f86\n",
            "Web View: https://ml.azure.com/runs/test-1_1633631271_4a7c2f86?wsid=/subscriptions/cb97564e-cea8-45a4-9c5c-a3357e8f7ee4/resourcegroups/Sample2_AzureML_Resource/workspaces/Sample2_AzureML_Worskpace&tid=42f7676c-f455-423c-82f6-dc2d99791af7\n",
            "\n"
          ]
        }
      ],
      "metadata": {
        "gather": {
          "logged": 1633631608500
        }
      }
    },
    {
      "cell_type": "markdown",
      "source": [
        "## Register the model for deployment"
      ],
      "metadata": {}
    },
    {
      "cell_type": "code",
      "execution_count": 7,
      "source": [
        "model = training.register_model(run=run,\n",
        "                           model_args={'model_name':'sklearn_pca_model', \n",
        "                           \"model_path\":'outputs/regression.pkl'},\n",
        "                           resource_config_args={\"cpu\":1, \"memory_in_gb\":0.5},\n",
        "                           is_sklearn_model=True\n",
        "                            )\n",
        "\n",
        "print('Name:', model.name)\n",
        "print('Version:', model.version)"
      ],
      "outputs": [
        {
          "output_type": "stream",
          "name": "stdout",
          "text": [
            "Registering the model\n",
            "Configuring parameters for sklearn model\n",
            "Name: sklearn_pca_model\n",
            "Version: 8\n"
          ]
        }
      ],
      "metadata": {
        "gather": {
          "logged": 1633541164478
        }
      }
    }
  ],
  "metadata": {
    "kernel_info": {
      "name": "python3-azureml"
    },
    "kernelspec": {
      "name": "python3-azureml",
      "language": "python",
      "display_name": "Python 3.6 - AzureML"
    },
    "language_info": {
      "name": "python",
      "version": "3.6.9",
      "mimetype": "text/x-python",
      "codemirror_mode": {
        "name": "ipython",
        "version": 3
      },
      "pygments_lexer": "ipython3",
      "nbconvert_exporter": "python",
      "file_extension": ".py"
    },
    "microsoft": {
      "host": {
        "AzureML": {
          "notebookHasBeenCompleted": true
        }
      }
    },
    "nteract": {
      "version": "nteract-front-end@1.0.0"
    }
  },
  "nbformat": 4,
  "nbformat_minor": 4
}