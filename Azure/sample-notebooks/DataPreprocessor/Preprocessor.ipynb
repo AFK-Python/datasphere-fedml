{
  "cells": [
    {
      "cell_type": "markdown",
      "metadata": {},
      "source": [
        "# Scikit-Learn Data Preprocessor\n",
        "## Using TITANIC_VIEW from SAP Datasphere. This view has 861 records"
      ]
    },
    {
      "cell_type": "markdown",
      "metadata": {
        "nteract": {
          "transient": {
            "deleting": false
          }
        }
      },
      "source": [
        "## Install fedml_azure package"
      ]
    },
    {
      "cell_type": "code",
      "execution_count": null,
      "metadata": {
        "gather": {
          "logged": 1633631847571
        },
        "jupyter": {
          "outputs_hidden": false,
          "source_hidden": false
        },
        "nteract": {
          "transient": {
            "deleting": false
          }
        }
      },
      "outputs": [],
      "source": [
        "pip install fedml_azure --force-reinstall"
      ]
    },
    {
      "cell_type": "markdown",
      "metadata": {},
      "source": [
        "## Import the libraries needed in this notebook"
      ]
    },
    {
      "cell_type": "code",
      "execution_count": null,
      "metadata": {
        "gather": {
          "logged": 1633631848503
        }
      },
      "outputs": [],
      "source": [
        "from fedml_azure import DwcAzureTrain"
      ]
    },
    {
      "cell_type": "markdown",
      "metadata": {},
      "source": [
        "## Set up\n",
        "### Creating a Training object and setting the workspace, compute target, and environment.\n",
        "\n",
        "Before running the below cell, ensure that you have a workspace and replace the subscription_id, resource_group, and workspace_name with your information.\n",
        "\n",
        "The whl file for the fedml_azure library must be passed to the pip_wheel_files key in the environment_args and to use scikit-learn, you must pass the name to conda_packages as well.\n"
      ]
    },
    {
      "cell_type": "code",
      "execution_count": null,
      "metadata": {
        "gather": {
          "logged": 1633631849668
        },
        "jupyter": {
          "outputs_hidden": false,
          "source_hidden": false
        },
        "nteract": {
          "transient": {
            "deleting": false
          }
        }
      },
      "outputs": [],
      "source": [
        "#creation of training object and creating workspace in constructor.\n",
        "\n",
        "training = DwcAzureTrain(\n",
        "                    workspace_args={\"subscription_id\": '<subscription_id>',\n",
        "                                        \"resource_group\": '<resource_group>',\n",
        "                                        \"workspace_name\": '<workspace_name>'\n",
        "                                        },\n",
        "                    experiment_args={'name':'test-2'},\n",
        "                    environment_type='CondaPackageEnvironment',\n",
        "                    environment_args={'name':'test-env-pre','conda_packages':['scikit-learn'],'pip_packages':['fedml_azure']},\n",
        "                    compute_type='AmlComputeCluster',\n",
        "                    compute_args={'vm_size':'Standard_D12_v2',\n",
        "                        'vm_priority':'lowpriority',\n",
        "                        'compute_name':'cpu-pre-clu',\n",
        "                        'min_nodes':0,\n",
        "                        'max_nodes':1,\n",
        "                        'idle_seconds_before_scaledown':1700\n",
        "                    })\n"
      ]
    },
    {
      "cell_type": "markdown",
      "metadata": {},
      "source": [
        "### Then, we need to generate the run config. This is needed to package the configuration specified so we can submit a job for training. \n",
        "\n",
        "Before running the following cell, you should have a config.json file with the specified values to allow you to access to SAP Datasphere. Provide this file path to config_file_path in the below cell.\n",
        "\n",
        "You should also have the follow view TITANIC_VIEW created in your SAP Datasphere. To gather this data, please refer to https://www.kaggle.com/c/titanic/data and download the train.csv file.\n",
        "\n",
        "https://docs.microsoft.com/en-us/python/api/azureml-core/azureml.core.scriptrunconfig?view=azure-ml-py"
      ]
    },
    {
      "cell_type": "code",
      "execution_count": null,
      "metadata": {
        "gather": {
          "logged": 1633631849921
        }
      },
      "outputs": [],
      "source": [
        "#generating the run config\n",
        "src=training.generate_run_config(config_file_path='dwc_configs/config.json',\n",
        "                          config_args={\n",
        "                                          'source_directory':'Scikit-Learn-Preprocessor',\n",
        "                                          'script':'preprocessor_script.py',\n",
        "                                          'arguments':['--model_file_name','regression.pkl', '--table_name', 'TITANIC_VIEW']\n",
        "                                          }\n",
        "                            )"
      ]
    },
    {
      "cell_type": "markdown",
      "metadata": {},
      "source": [
        "### Submitting the job for training\n",
        "setting is_download to true so the output of the model is downloaded. \n",
        "This output is used in the hyperparameter tuning model."
      ]
    },
    {
      "cell_type": "code",
      "execution_count": null,
      "metadata": {
        "gather": {
          "logged": 1633632066573
        }
      },
      "outputs": [],
      "source": [
        "#submitting the training run\n",
        "run=training.submit_run(src, is_download=True)"
      ]
    },
    {
      "cell_type": "markdown",
      "metadata": {},
      "source": [
        "## Register the model for deployment"
      ]
    },
    {
      "cell_type": "code",
      "execution_count": null,
      "metadata": {
        "gather": {
          "logged": 1633391568643
        }
      },
      "outputs": [],
      "source": [
        "model=training.register_model(run=run,\n",
        "                           model_args={'model_name':'sklearn_preprocessor_model',\n",
        "                                       'model_path':'outputs/regression.pkl'},\n",
        "                            resource_config_args={'cpu':1, 'memory_in_gb':0.5},\n",
        "                            is_sklearn_model=True\n",
        "                           )\n",
        "print('Name:', model.name)\n",
        "print('Version:', model.version)"
      ]
    }
  ],
  "metadata": {
    "kernel_info": {
      "name": "python3-azureml"
    },
    "kernelspec": {
      "display_name": "Python 3.6 - AzureML",
      "language": "python",
      "name": "python3-azureml"
    },
    "language_info": {
      "codemirror_mode": {
        "name": "ipython",
        "version": 3
      },
      "file_extension": ".py",
      "mimetype": "text/x-python",
      "name": "python",
      "nbconvert_exporter": "python",
      "pygments_lexer": "ipython3",
      "version": "3.6.9"
    },
    "microsoft": {
      "host": {
        "AzureML": {
          "notebookHasBeenCompleted": true
        }
      }
    },
    "nteract": {
      "version": "nteract-front-end@1.0.0"
    }
  },
  "nbformat": 4,
  "nbformat_minor": 2
}
