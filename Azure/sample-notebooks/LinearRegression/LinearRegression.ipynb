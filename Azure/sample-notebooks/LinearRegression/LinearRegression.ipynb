{
 "cells": [
  {
   "cell_type": "markdown",
   "source": [
    "# Scikit-Learn Linear Regression\n",
    "Using SALES_VIEW from DWC. This view has 6,291,450 records"
   ],
   "metadata": {}
  },
  {
   "cell_type": "markdown",
   "source": [
    "## Install fedml-azure package"
   ],
   "metadata": {
    "nteract": {
     "transient": {
      "deleting": false
     }
    }
   }
  },
  {
   "cell_type": "code",
   "execution_count": 2,
   "source": [
    "pip install fedml-azure --force-reinstall"
   ],
   "outputs": [
    {
     "output_type": "stream",
     "name": "stdout",
     "text": [
      "Processing ./fedml_azure_test-2.0.0-py3-none-any.whl\n",
      "Collecting ruamel.yaml\n",
      "  Using cached ruamel.yaml-0.17.21-py3-none-any.whl (109 kB)\n",
      "Collecting hdbcli\n",
      "  Using cached hdbcli-2.12.20-cp34-abi3-manylinux1_x86_64.whl (11.7 MB)\n",
      "Collecting ruamel.yaml.clib>=0.2.6; platform_python_implementation == \"CPython\" and python_version < \"3.11\"\n",
      "  Using cached ruamel.yaml.clib-0.2.6-cp38-cp38-manylinux1_x86_64.whl (570 kB)\n",
      "Installing collected packages: ruamel.yaml.clib, ruamel.yaml, hdbcli, fedml-azure-test\n",
      "  Attempting uninstall: ruamel.yaml.clib\n",
      "    Found existing installation: ruamel.yaml.clib 0.2.6\n",
      "    Uninstalling ruamel.yaml.clib-0.2.6:\n",
      "      Successfully uninstalled ruamel.yaml.clib-0.2.6\n",
      "  Attempting uninstall: ruamel.yaml\n",
      "    Found existing installation: ruamel.yaml 0.17.21\n",
      "    Uninstalling ruamel.yaml-0.17.21:\n",
      "      Successfully uninstalled ruamel.yaml-0.17.21\n",
      "  Attempting uninstall: hdbcli\n",
      "    Found existing installation: hdbcli 2.12.20\n",
      "    Uninstalling hdbcli-2.12.20:\n",
      "      Successfully uninstalled hdbcli-2.12.20\n",
      "  Attempting uninstall: fedml-azure-test\n",
      "    Found existing installation: fedml-azure-test 2.0.0\n",
      "    Uninstalling fedml-azure-test-2.0.0:\n",
      "      Successfully uninstalled fedml-azure-test-2.0.0\n",
      "Successfully installed fedml-azure-test-2.0.0 hdbcli-2.12.20 ruamel.yaml-0.17.21 ruamel.yaml.clib-0.2.6\n",
      "Note: you may need to restart the kernel to use updated packages.\n"
     ]
    }
   ],
   "metadata": {
    "gather": {
     "logged": 1648852472280
    },
    "jupyter": {
     "outputs_hidden": false,
     "source_hidden": false
    },
    "nteract": {
     "transient": {
      "deleting": false
     }
    }
   }
  },
  {
   "cell_type": "markdown",
   "source": [
    "## Import the libraries needed in this notebook"
   ],
   "metadata": {}
  },
  {
   "cell_type": "code",
   "execution_count": 3,
   "source": [
    "from fedml_azure import create_workspace\n",
    "from fedml_azure import DbConnection\n",
    "from fedml_azure import create_compute\n",
    "from fedml_azure import create_environment\n",
    "from fedml_azure import DwcAzureTrain\n",
    "from fedml_azure import deploy\n",
    "from fedml_azure import predict\n",
    "from fedml_azure import register_model"
   ],
   "outputs": [],
   "metadata": {
    "gather": {
     "logged": 1648852475941
    }
   }
  },
  {
   "cell_type": "markdown",
   "source": [
    "## Set up\n",
    "\n",
    "### Initialize the workspace\n",
    "\n",
    "The create_workspace method takes a dictionary as input for parameter workspace_args.\n",
    "\n",
    "Before running the below cell, ensure that you have a workspace and replace the subscription_id, \n",
    "resource_group, and workspace_name with your information.\n",
    "https://docs.microsoft.com/en-us/azure/machine-learning/how-to-manage-workspace?tabs=python \n",
    "\n",
    "Refer the documentation on the ‘create_workspace’ method and parameters (https://github.com/SAP-samples/data-warehouse-cloud-fedml/blob/main/Azure/docs/fedml_azure.md#create_workspace).\n"
   ],
   "metadata": {
    "nteract": {
     "transient": {
      "deleting": false
     }
    }
   }
  },
  {
   "cell_type": "code",
   "execution_count": 4,
   "source": [
    "workspace=create_workspace(workspace_args={\n",
    "                                            \"subscription_id\": '<subscription-id>',\n",
    "                                            \"resource_group\": '<resource-group>',\n",
    "                                            \"workspace_name\": '<workspace_name>'\n",
    "                                            }\n",
    ")"
   ],
   "outputs": [
    {
     "output_type": "stream",
     "name": "stdout",
     "text": [
      "2022-04-01 22:34:37,712: fedml_azure.logger INFO: Getting existing Workspace\n"
     ]
    }
   ],
   "metadata": {
    "gather": {
     "logged": 1648852479899
    },
    "jupyter": {
     "outputs_hidden": false,
     "source_hidden": false
    },
    "nteract": {
     "transient": {
      "deleting": false
     }
    }
   }
  },
  {
   "cell_type": "markdown",
   "source": [
    "### Create a Compute target\n",
    "\n",
    "The create_compute method takes the workspace, a compute_type, and compute_args as parameters.The following code creates a Compute Cluster with the name 'cluster' for training.\n",
    "\n",
    "Refer the documentation on the ‘create_compute’ method and parameters (https://github.com/SAP-samples/data-warehouse-cloud-fedml/blob/main/Azure/docs/fedml_azure.md#create_compute).\n"
   ],
   "metadata": {
    "nteract": {
     "transient": {
      "deleting": false
     }
    }
   }
  },
  {
   "cell_type": "code",
   "execution_count": 5,
   "source": [
    "compute=create_compute(workspace=workspace,\n",
    "                   compute_type='AmlComputeCluster',\n",
    "                   compute_args={'vm_size':'Standard_D12_v2',\n",
    "                                'vm_priority':'lowpriority',\n",
    "                                'compute_name':'cpu-cluster',\n",
    "                                'min_nodes':0,\n",
    "                                'max_nodes':4,\n",
    "                                'idle_seconds_before_scaledown':1700\n",
    "                                }\n",
    "                )"
   ],
   "outputs": [
    {
     "output_type": "stream",
     "name": "stdout",
     "text": [
      "2022-04-01 22:34:39,991: fedml_azure.logger INFO: Creating Compute_target.\n",
      "2022-04-01 22:34:41,715: fedml_azure.logger INFO: Creating a new compute target...\n",
      "InProgress.\n",
      "SucceededProvisioning operation finished, operation \"Succeeded\"\n",
      "Succeeded\n",
      "AmlCompute wait for completion finished\n",
      "\n",
      "Minimum number of nodes requested have been provisioned\n",
      "2022-04-01 22:34:48,236: fedml_azure.logger INFO: {'currentNodeCount': 0, 'targetNodeCount': 0, 'nodeStateCounts': {'preparingNodeCount': 0, 'runningNodeCount': 0, 'idleNodeCount': 0, 'unusableNodeCount': 0, 'leavingNodeCount': 0, 'preemptedNodeCount': 0}, 'allocationState': 'Resizing', 'allocationStateTransitionTime': '2022-04-01T22:34:42.607000+00:00', 'errors': None, 'creationTime': '2022-04-01T22:34:42.197041+00:00', 'modifiedTime': '2022-04-01T22:34:45.987396+00:00', 'provisioningState': 'Succeeded', 'provisioningStateTransitionTime': None, 'scaleSettings': {'minNodeCount': 0, 'maxNodeCount': 4, 'nodeIdleTimeBeforeScaleDown': 'PT1700S'}, 'vmPriority': 'LowPriority', 'vmSize': 'STANDARD_D12_V2'}\n"
     ]
    }
   ],
   "metadata": {
    "gather": {
     "logged": 1648852488269
    },
    "jupyter": {
     "outputs_hidden": false,
     "source_hidden": false
    },
    "nteract": {
     "transient": {
      "deleting": false
     }
    }
   }
  },
  {
   "cell_type": "markdown",
   "source": [
    "### Create an Environment\n",
    "\n",
    "The create_environment method takes the workspace, environment_type, and environment_args as parameters.\n",
    "\n",
    "Pass 'fedml-azure' as a pip package and to use scikit-learn, you must pass the name to conda_packages as well.\n",
    "\n",
    "Refer the documentation on the ‘create_environment’ method and parameters (https://github.com/SAP-samples/data-warehouse-cloud-fedml/blob/main/Azure/docs/fedml_azure.md#create_environment).\n",
    "`"
   ],
   "metadata": {
    "nteract": {
     "transient": {
      "deleting": false
     }
    }
   }
  },
  {
   "cell_type": "code",
   "execution_count": 8,
   "source": [
    "environment=create_environment(workspace=workspace,\n",
    "                           environment_type='CondaPackageEnvironment',\n",
    "                           environment_args={'name':'regression-sklearn',\n",
    "                                             'pip_packages':['joblib','fedml-azure'],\n",
    "                                             'conda_packages':['scikit-learn']})\n"
   ],
   "outputs": [
    {
     "output_type": "stream",
     "name": "stdout",
     "text": [
      "2022-04-01 22:35:04,155: fedml_azure.logger INFO: Creating Environment.\n"
     ]
    }
   ],
   "metadata": {
    "gather": {
     "logged": 1648852504694
    },
    "jupyter": {
     "outputs_hidden": false,
     "source_hidden": false
    },
    "nteract": {
     "transient": {
      "deleting": false
     }
    }
   }
  },
  {
   "cell_type": "markdown",
   "source": [
    "## Now, lets train the model\n",
    "\n",
    "### Creating a Training object and setting the workspace, compute target, and environment.\n",
    "\n",
    "Before running the below cell, ensure that you have a workspace and replace the subscription_id, resource_group, and workspace_name with your information.\n",
    "\n",
    "Pass the 'fedml_azure' as a pip package and to use scikit-learn, you must pass the name to conda_packages as well.\n",
    "\n",
    "Refer the documentation on the ‘DwcAzureTrain’ class (https://github.com/SAP-samples/data-warehouse-cloud-fedml/blob/main/Azure/docs/fedml_azure.md#dwcazuretrain-class)."
   ],
   "metadata": {}
  },
  {
   "cell_type": "code",
   "execution_count": 9,
   "source": [
    "train=DwcAzureTrain(workspace=workspace,\n",
    "                    environment=environment,\n",
    "                    experiment_args={'name':'regression-experiment'},\n",
    "                    compute=compute)"
   ],
   "outputs": [
    {
     "output_type": "stream",
     "name": "stdout",
     "text": [
      "2022-04-01 22:35:05,374: fedml_azure.logger INFO: Assigning Workspace.\n",
      "2022-04-01 22:35:05,375: fedml_azure.logger INFO: Creating Experiment\n",
      "2022-04-01 22:35:05,521: fedml_azure.logger INFO: Assigning compute.\n",
      "2022-04-01 22:35:05,522: fedml_azure.logger INFO: Assigning Environment.\n"
     ]
    }
   ],
   "metadata": {
    "gather": {
     "logged": 1648852505438
    }
   }
  },
  {
   "cell_type": "markdown",
   "source": [
    "### Then, we need to generate the run config. This is needed to package the configuration specified so we can submit a job for training. \n",
    "\n",
    "Before running the following cell, you should have a config.json file with the specified values to allow you to access to DWC. Provide this file path to config_file_path in the below cell.\n",
    "\n",
    "You should also have the follow view SALES_VIEW created in your DWC. To gather this data, please refer to https://eforexcel.com/wp/downloads-18-sample-csv-files-data-sets-for-testing-sales/\n",
    "\n",
    "Please note the 2M records data was downloaded and duplicated 3 times to represent a large dataset in DWC.\n",
    "\n",
    "Refer the documentation on the ‘generate_run_config’ method and parameters https://github.com/SAP-samples/data-warehouse-cloud-fedml/blob/main/Azure/docs/fedml_azure.md#generate_run_config). "
   ],
   "metadata": {}
  },
  {
   "cell_type": "code",
   "execution_count": 10,
   "source": [
    "src=train.generate_run_config(config_file_path='dwc_configs/config.json',\n",
    "                          config_args={\n",
    "                                          'source_directory':'Scikit-Learn-Linear-Regression',\n",
    "                                          'script':'train_script.py',\n",
    "                                          'arguments':[\n",
    "                                                        '--model_file_name','regression.pkl',\n",
    "                                                        '--table_name', 'SALES_VIEW'\n",
    "                                                      ]\n",
    "                                          }\n",
    "                            )"
   ],
   "outputs": [
    {
     "output_type": "stream",
     "name": "stdout",
     "text": [
      "2022-04-01 22:35:07,068: fedml_azure.logger INFO: Generating script run config.\n",
      "2022-04-01 22:35:07,069: fedml_azure.logger INFO: Copying config file for db connection to script_directory Scikit-Learn-Linear-Regression\n"
     ]
    }
   ],
   "metadata": {
    "gather": {
     "logged": 1648852507314
    }
   }
  },
  {
   "cell_type": "markdown",
   "source": [
    "### Submit the training job with the option to download the model outputs\n",
    "\n",
    "Refer the documentation on ‘submit_run’ method and parameters (https://github.com/SAP-samples/data-warehouse-cloud-fedml/blob/main/Azure/docs/fedml_azure.md#submit_run)"
   ],
   "metadata": {}
  },
  {
   "cell_type": "code",
   "execution_count": 11,
   "source": [
    "run=train.submit_run(src)"
   ],
   "outputs": [
    {
     "output_type": "stream",
     "name": "stdout",
     "text": [
      "2022-04-01 22:35:09,654: fedml_azure.logger INFO: Submitting training run.\n",
      "RunId: regression-experiment_1648852509_6fa36175\n",
      "Web View: https://ml.azure.com/runs/regression-experiment_1648852509_6fa36175?wsid=/subscriptions/cb97564e-cea8-45a4-9c5c-a3357e8f7ee4/resourcegroups/AI_Strategy_AzureML_Resource/workspaces/FedMLAzure&tid=42f7676c-f455-423c-82f6-dc2d99791af7\n",
      "\n",
      "Execution Summary\n",
      "=================\n",
      "RunId: regression-experiment_1648852509_6fa36175\n",
      "Web View: https://ml.azure.com/runs/regression-experiment_1648852509_6fa36175?wsid=/subscriptions/cb97564e-cea8-45a4-9c5c-a3357e8f7ee4/resourcegroups/AI_Strategy_AzureML_Resource/workspaces/FedMLAzure&tid=42f7676c-f455-423c-82f6-dc2d99791af7\n",
      "\n"
     ]
    }
   ],
   "metadata": {
    "gather": {
     "logged": 1648852803953
    }
   }
  },
  {
   "cell_type": "markdown",
   "source": [
    "### Register the model\n",
    "\n",
    "Pass ‘outputs/model_file_name.pkl’ to 'model_path' key of model_args ,where ‘model_file_name’ is the name of the .pkl model file specified in the previous step. \n",
    "\n",
    "Provide the desired model name to ‘model_name’ key of model_args in the below cell. The 'is_sklearn_model' flag specifies if a scikit learn model is being registered.\n",
    "\n",
    "Refer the documentation on ‘register_model’ method and parameters (https://github.com/SAP-samples/data-warehouse-cloud-fedml/blob/main/Azure/docs/fedml_azure.md#register_model)"
   ],
   "metadata": {}
  },
  {
   "cell_type": "code",
   "execution_count": 13,
   "source": [
    "model=train.register_model(run=run,\n",
    "                           model_args={'model_name':'sklearn_linReg_model',\n",
    "                                       'model_path':'outputs/regression.pkl'},\n",
    "                            resource_config_args={'cpu':1, 'memory_in_gb':0.5},\n",
    "                            is_sklearn_model=True\n",
    "                           )"
   ],
   "outputs": [
    {
     "output_type": "stream",
     "name": "stdout",
     "text": [
      "2022-04-01 22:43:37,144: fedml_azure.logger INFO: Registering the model.\n",
      "2022-04-01 22:43:37,145: fedml_azure.logger INFO: Configuring parameters for sklearn model.\n"
     ]
    }
   ],
   "metadata": {
    "gather": {
     "logged": 1648853017725
    }
   }
  },
  {
   "cell_type": "markdown",
   "source": [
    "### Register the model without the training run with the model file. This is helpful if you need to deploy models with just the model file. This step is optional"
   ],
   "metadata": {
    "nteract": {
     "transient": {
      "deleting": false
     }
    }
   }
  },
  {
   "cell_type": "markdown",
   "source": [
    " #### For this sample use case, we download the model generated from the training run. This step is optional"
   ],
   "metadata": {
    "nteract": {
     "transient": {
      "deleting": false
     }
    }
   }
  },
  {
   "cell_type": "code",
   "execution_count": 14,
   "source": [
    "train.download_files(run)"
   ],
   "outputs": [
    {
     "output_type": "stream",
     "name": "stdout",
     "text": [
      "2022-04-01 22:43:44,348: fedml_azure.logger INFO: Downloading the required files.\n",
      "2022-04-01 22:43:44,349: fedml_azure.logger INFO: Downloading the files to outputs/regression-experiment/regression-experiment_1648852509_6fa36175.\n"
     ]
    }
   ],
   "metadata": {
    "gather": {
     "logged": 1648853024965
    },
    "jupyter": {
     "outputs_hidden": false,
     "source_hidden": false
    },
    "nteract": {
     "transient": {
      "deleting": false
     }
    }
   }
  },
  {
   "cell_type": "markdown",
   "source": [
    "We now use the model file to register the model.  This step is optional"
   ],
   "metadata": {
    "nteract": {
     "transient": {
      "deleting": false
     }
    }
   }
  },
  {
   "cell_type": "markdown",
   "source": [
    "Refer the documentation on 'register_model' for more details (https://github.com/SAP-samples/data-warehouse-cloud-fedml/blob/main/Azure/docs/fedml_azure.md#register_model_for_deploy)"
   ],
   "metadata": {
    "nteract": {
     "transient": {
      "deleting": false
     }
    }
   }
  },
  {
   "cell_type": "code",
   "execution_count": 69,
   "source": [
    "model=register_model(model_args={'workspace':workspace,\n",
    "                                'model_name':'regression_model',\n",
    "                                'model_path':'outputs/regression-experiment/regression-experiment_1648852509_6fa36175/outputs/regression.pkl'},\n",
    "                                resource_config_args={'cpu':1, 'memory_in_gb':0.5},\n",
    "                                is_sklearn_model=True\n",
    "                                )"
   ],
   "outputs": [
    {
     "output_type": "stream",
     "name": "stdout",
     "text": [
      "2022-04-01 23:46:43,621: fedml_azure.logger INFO: Registering the model\n",
      "2022-04-01 23:46:43,622: fedml_azure.logger INFO: Configuring parameters for sklearn model\n",
      "Registering model regression_model\n"
     ]
    }
   ],
   "metadata": {
    "gather": {
     "logged": 1648856806390
    },
    "jupyter": {
     "outputs_hidden": false,
     "source_hidden": false
    },
    "nteract": {
     "transient": {
      "deleting": false
     }
    }
   }
  },
  {
   "cell_type": "markdown",
   "source": [
    "### Get the test data from SAP DWC"
   ],
   "metadata": {
    "nteract": {
     "transient": {
      "deleting": false
     }
    }
   }
  },
  {
   "cell_type": "code",
   "execution_count": 19,
   "source": [
    "from sklearn.linear_model import LinearRegression\n",
    "from sklearn.model_selection import train_test_split\n",
    "from fedml_azure import DbConnection\n",
    "import pandas as pd\n",
    "import numpy as np\n",
    "import json \n",
    "\n",
    "with open('Scikit-Learn-Linear-Regression/config.json', 'r') as f:\n",
    "    config = json.load(f)\n",
    "\n",
    "\n",
    "label_column = 'totalprofit'\n",
    "\n",
    "def get_data(table_name):\n",
    "    dwc = DbConnection(url='Scikit-Learn-Linear-Regression/config.json')\n",
    "    schema=config['schema']\n",
    "    query=f'SELECT TOP 100 * FROM \"{schema}\".\"{table_name}\"'\n",
    "    data = dwc.execute_query(query)\n",
    "    data = pd.DataFrame(data[0], columns=data[1])\n",
    "    data=data[['unitssold', 'unitprice', 'unitcost','totalrevenue', 'totalcost','totalprofit']]\n",
    "    return data\n",
    "\n",
    "data = get_data('sales_view_athena') \n",
    "data=data.dropna()#getting data from DWC\n",
    "y = data[label_column]\n",
    "\n",
    "data.drop(label_column, axis=1, inplace=True)\n",
    "\n",
    "print(np.shape(data), np.shape(y))\n",
    "\n",
    "X_train, X_test, y_train, y_test = train_test_split(data, y, test_size=0.3)"
   ],
   "outputs": [
    {
     "output_type": "stream",
     "name": "stdout",
     "text": [
      "(99, 5) (99,)\n"
     ]
    }
   ],
   "metadata": {
    "gather": {
     "logged": 1648853110786
    },
    "jupyter": {
     "outputs_hidden": false,
     "source_hidden": false
    },
    "nteract": {
     "transient": {
      "deleting": false
     }
    }
   }
  },
  {
   "cell_type": "code",
   "execution_count": 20,
   "source": [
    "test_data = json.dumps({\n",
    "    'data': X_test.values.tolist()\n",
    "})"
   ],
   "outputs": [],
   "metadata": {
    "gather": {
     "logged": 1648853113360
    },
    "jupyter": {
     "outputs_hidden": false,
     "source_hidden": false
    },
    "nteract": {
     "transient": {
      "deleting": false
     }
    }
   }
  },
  {
   "cell_type": "markdown",
   "source": [
    " ### Deploy the model as a Webservice to Azure Compute Instance"
   ],
   "metadata": {
    "nteract": {
     "transient": {
      "deleting": false
     }
    }
   }
  },
  {
   "cell_type": "markdown",
   "source": [
    "Refer the documentation on 'deploy' for more details (https://github.com/SAP-samples/data-warehouse-cloud-fedml/blob/main/Azure/docs/fedml_azure.md#deploy)"
   ],
   "metadata": {
    "nteract": {
     "transient": {
      "deleting": false
     }
    }
   }
  },
  {
   "cell_type": "code",
   "execution_count": 22,
   "source": [
    "aci_endpoint,_,aci_service=deploy(compute_type='ACI',\n",
    "                                 inference_config_args={'entry_script':'Scikit-Learn-Linear-Regression/score.py', 'environment':environment},\n",
    "                                 deploy_config_args={'cpu_cores':1, 'memory_gb':0.5},\n",
    "                                 deploy_args={'workspace':workspace,'name':'aciwebservice','models':[model]}\n",
    "                                )"
   ],
   "outputs": [
    {
     "output_type": "stream",
     "name": "stdout",
     "text": [
      "Tips: You can try get_logs(): https://aka.ms/debugimage#dockerlog or local deployment: https://aka.ms/debugimage#debug-locally to debug if deployment takes longer than 10 minutes.\n",
      "Running\n",
      "2022-04-01 22:46:35+00:00 Creating Container Registry if not exists.\n",
      "2022-04-01 22:46:36+00:00 Use the existing image.\n",
      "2022-04-01 22:46:39+00:00 Generating deployment configuration..\n",
      "2022-04-01 22:46:54+00:00 Submitting deployment to compute..\n",
      "2022-04-01 22:47:20+00:00 Checking the status of deployment aciwebservice..\n",
      "2022-04-01 22:49:50+00:00 Checking the status of inference endpoint aciwebservice.\n",
      "Succeeded\n",
      "ACI service creation operation finished, operation \"Succeeded\"\n",
      "2022-04-01 22:49:56,097: fedml_azure.logger INFO: The service endpoint url is http://ea42dbb9-1f9c-47d9-a696-c3a4faa561d4.eastus.azurecontainer.io/score.\n"
     ]
    }
   ],
   "metadata": {
    "gather": {
     "logged": 1648853396170
    },
    "jupyter": {
     "outputs_hidden": false,
     "source_hidden": false
    },
    "nteract": {
     "transient": {
      "deleting": false
     }
    }
   }
  },
  {
   "cell_type": "markdown",
   "source": [
    "### Inference the ACI endpoint using the test data"
   ],
   "metadata": {
    "nteract": {
     "transient": {
      "deleting": false
     }
    }
   }
  },
  {
   "cell_type": "markdown",
   "source": [
    "Refer the documentation on 'predict' for more details (https://github.com/SAP-samples/data-warehouse-cloud-fedml/blob/main/Azure/docs/fedml_azure.md#predict)"
   ],
   "metadata": {
    "nteract": {
     "transient": {
      "deleting": false
     }
    }
   }
  },
  {
   "cell_type": "markdown",
   "source": [
    "#### Inference the ACI endpoint using the webservice object"
   ],
   "metadata": {
    "nteract": {
     "transient": {
      "deleting": false
     }
    }
   }
  },
  {
   "cell_type": "code",
   "execution_count": 56,
   "source": [
    "result=predict(service=aci_service,data=test_data)\n",
    "result"
   ],
   "outputs": [
    {
     "output_type": "stream",
     "name": "stdout",
     "text": [
      "2022-04-01 23:43:57,076: fedml_azure.logger INFO: Using the webservice for inferencing. It can be used for compute types ACI, AKS and Local. \n"
     ]
    },
    {
     "output_type": "execute_result",
     "data": {
      "text/plain": [
       "'{\"result\": [574814.8800000149, 57771.99999999383, 780920.8500000031, 16473.599999995786, 82823.04000000824, 763463.1699999849, 18513.62000002228, 373994.3699999871, 197197.1400000148, 926422.4999999545, 73706.88000001313, 127593.9600000171, 362171.20999998716, 780256.8399999604, 17612.28000002297, 291262.399999983, 18189.599999995684, 367783.8000000103, 1391133.869999982, 115376.24000002054, 14069.580000025686, 82951.02000002284, 55884.39999999397, 1247602.4999999478, 474321.24999996333, 222082.56000002025, 43986.79999999452, 114360.98000000778, 119000.05000001748, 1142688.7499999497]}'"
      ]
     },
     "metadata": {},
     "execution_count": 56
    }
   ],
   "metadata": {
    "gather": {
     "logged": 1648856637380
    },
    "jupyter": {
     "outputs_hidden": false,
     "source_hidden": false
    },
    "nteract": {
     "transient": {
      "deleting": false
     }
    }
   }
  },
  {
   "cell_type": "markdown",
   "source": [
    "#### Inference the ACI endpoint using the endpoint_url"
   ],
   "metadata": {
    "nteract": {
     "transient": {
      "deleting": false
     }
    }
   }
  },
  {
   "cell_type": "code",
   "execution_count": 57,
   "source": [
    "result=predict(endpoint_url=aci_endpoint,compute_type='ACI',data=test_data)\n",
    "result"
   ],
   "outputs": [
    {
     "output_type": "stream",
     "name": "stdout",
     "text": [
      "2022-04-01 23:43:59,428: fedml_azure.logger INFO: Using the parameters 'endpoint_url' and 'compute_type' for inferencing.\n"
     ]
    },
    {
     "output_type": "execute_result",
     "data": {
      "text/plain": [
       "{'result': [574814.8800000149,\n",
       "  57771.99999999383,\n",
       "  780920.8500000031,\n",
       "  16473.599999995786,\n",
       "  82823.04000000824,\n",
       "  763463.1699999849,\n",
       "  18513.62000002228,\n",
       "  373994.3699999871,\n",
       "  197197.1400000148,\n",
       "  926422.4999999545,\n",
       "  73706.88000001313,\n",
       "  127593.9600000171,\n",
       "  362171.20999998716,\n",
       "  780256.8399999604,\n",
       "  17612.28000002297,\n",
       "  291262.399999983,\n",
       "  18189.599999995684,\n",
       "  367783.8000000103,\n",
       "  1391133.869999982,\n",
       "  115376.24000002054,\n",
       "  14069.580000025686,\n",
       "  82951.02000002284,\n",
       "  55884.39999999397,\n",
       "  1247602.4999999478,\n",
       "  474321.24999996333,\n",
       "  222082.56000002025,\n",
       "  43986.79999999452,\n",
       "  114360.98000000778,\n",
       "  119000.05000001748,\n",
       "  1142688.7499999497]}"
      ]
     },
     "metadata": {},
     "execution_count": 57
    }
   ],
   "metadata": {
    "gather": {
     "logged": 1648856639551
    },
    "jupyter": {
     "outputs_hidden": false,
     "source_hidden": false
    },
    "nteract": {
     "transient": {
      "deleting": false
     }
    }
   }
  },
  {
   "cell_type": "markdown",
   "source": [
    " ### Deploy the model as a Webservice Locally"
   ],
   "metadata": {
    "nteract": {
     "transient": {
      "deleting": false
     }
    }
   }
  },
  {
   "cell_type": "markdown",
   "source": [
    "Refer the documentation on 'deploy' for more details (https://github.com/SAP-samples/data-warehouse-cloud-fedml/blob/main/Azure/docs/fedml_azure.md#deploy)"
   ],
   "metadata": {
    "nteract": {
     "transient": {
      "deleting": false
     }
    }
   }
  },
  {
   "cell_type": "code",
   "execution_count": 31,
   "source": [
    "local_endpoint,_,local_service=deploy(compute_type='local',\n",
    "                                     inference_config_args={'entry_script':'Scikit-Learn-Linear-Regression/score.py', 'environment':environment},\n",
    "                                    deploy_config_args={'port':8500},\n",
    "                                    deploy_args={'workspace':workspace,'name':'localregservice','models':[model]}\n",
    "                                    )"
   ],
   "outputs": [
    {
     "output_type": "stream",
     "name": "stdout",
     "text": [
      "Downloading model regression_model:53 to /tmp/azureml_4g71y2w_/regression_model/53\n",
      "Generating Docker build context.\n",
      "Package creation Succeeded\n",
      "Logging into Docker registry d531eb48a65445d3b0ed1b6002c65026.azurecr.io\n",
      "Logging into Docker registry d531eb48a65445d3b0ed1b6002c65026.azurecr.io\n",
      "Building Docker image from Dockerfile...\n",
      "Step 1/5 : FROM d531eb48a65445d3b0ed1b6002c65026.azurecr.io/azureml/azureml_acb65c5118a4b8978e42eee54f084834\n",
      " ---> 89b6a60fe59f\n",
      "Step 2/5 : COPY azureml-app /var/azureml-app\n",
      " ---> 9fccc8340243\n",
      "Step 3/5 : RUN mkdir -p '/var/azureml-app' && echo eyJhY2NvdW50Q29udGV4dCI6eyJzdWJzY3JpcHRpb25JZCI6ImNiOTc1NjRlLWNlYTgtNDVhNC05YzVjLWEzMzU3ZThmN2VlNCIsInJlc291cmNlR3JvdXBOYW1lIjoiYWlfc3RyYXRlZ3lfYXp1cmVtbF9yZXNvdXJjZSIsImFjY291bnROYW1lIjoiZmVkbWxhenVyZSIsIndvcmtzcGFjZUlkIjoiMDJmMTFhOTEtZDQ2Ny00M2FiLWI3OTEtZTBjODdhM2YwYjI1In0sIm1vZGVscyI6e30sIm1vZGVsc0luZm8iOnt9fQ== | base64 --decode > /var/azureml-app/model_config_map.json\n",
      " ---> Running in 5b5ac626f62e\n",
      " ---> 641877ee9fe0\n",
      "Step 4/5 : RUN mv '/var/azureml-app/tmpqme0v06i.py' /var/azureml-app/main.py\n",
      " ---> Running in 8e3dc87b4f89\n",
      " ---> 0563adac5dfe\n",
      "Step 5/5 : CMD [\"runsvdir\",\"/var/runit\"]\n",
      " ---> Running in ac4c48a1e8a8\n",
      " ---> 66abd67b8133\n",
      "Successfully built 66abd67b8133\n",
      "Successfully tagged localregservice:latest\n",
      "Starting Docker container...\n",
      "Docker container running.\n",
      "Checking container health...\n",
      "Local webservice is running at http://localhost:8500\n",
      "2022-04-01 23:17:14,339: fedml_azure.logger INFO: The service endpoint url is http://localhost:8500/score.\n"
     ]
    }
   ],
   "metadata": {
    "gather": {
     "logged": 1648855034514
    },
    "jupyter": {
     "outputs_hidden": false,
     "source_hidden": false
    },
    "nteract": {
     "transient": {
      "deleting": false
     }
    }
   }
  },
  {
   "cell_type": "markdown",
   "source": [
    "### Inference the Local endpoint using the test data"
   ],
   "metadata": {
    "nteract": {
     "transient": {
      "deleting": false
     }
    }
   }
  },
  {
   "cell_type": "markdown",
   "source": [
    "Refer the documentation on 'predict' for more details (https://github.com/SAP-samples/data-warehouse-cloud-fedml/blob/main/Azure/docs/fedml_azure.md#predict)"
   ],
   "metadata": {
    "nteract": {
     "transient": {
      "deleting": false
     }
    }
   }
  },
  {
   "cell_type": "markdown",
   "source": [
    "#### Inference the Local endpoint using the webservice object"
   ],
   "metadata": {
    "nteract": {
     "transient": {
      "deleting": false
     }
    }
   }
  },
  {
   "cell_type": "code",
   "execution_count": 54,
   "source": [
    "result=predict(service=local_service,data=test_data)\n",
    "result"
   ],
   "outputs": [
    {
     "output_type": "stream",
     "name": "stdout",
     "text": [
      "2022-04-01 23:43:01,383: fedml_azure.logger INFO: Using the webservice for inferencing. It can be used for compute types ACI, AKS and Local. \n"
     ]
    },
    {
     "output_type": "execute_result",
     "data": {
      "text/plain": [
       "'{\"result\": [574814.8800000149, 57771.99999999383, 780920.8500000031, 16473.599999995786, 82823.04000000824, 763463.1699999849, 18513.62000002228, 373994.3699999871, 197197.1400000148, 926422.4999999545, 73706.88000001313, 127593.9600000171, 362171.20999998716, 780256.8399999604, 17612.28000002297, 291262.399999983, 18189.599999995684, 367783.8000000103, 1391133.869999982, 115376.24000002054, 14069.580000025686, 82951.02000002284, 55884.39999999397, 1247602.4999999478, 474321.24999996333, 222082.56000002025, 43986.79999999452, 114360.98000000778, 119000.05000001748, 1142688.7499999497]}'"
      ]
     },
     "metadata": {},
     "execution_count": 54
    }
   ],
   "metadata": {
    "gather": {
     "logged": 1648856582070
    },
    "jupyter": {
     "outputs_hidden": false,
     "source_hidden": false
    },
    "nteract": {
     "transient": {
      "deleting": false
     }
    }
   }
  },
  {
   "cell_type": "markdown",
   "source": [
    "#### Inference the Local endpoint using the endpoint_url"
   ],
   "metadata": {
    "nteract": {
     "transient": {
      "deleting": false
     }
    }
   }
  },
  {
   "cell_type": "code",
   "execution_count": 55,
   "source": [
    "result=predict(endpoint_url=local_endpoint,data=test_data,compute_type='Local')\n",
    "result"
   ],
   "outputs": [
    {
     "output_type": "stream",
     "name": "stdout",
     "text": [
      "2022-04-01 23:43:04,486: fedml_azure.logger INFO: Using the parameters 'endpoint_url' and 'compute_type' for inferencing.\n"
     ]
    },
    {
     "output_type": "execute_result",
     "data": {
      "text/plain": [
       "{'result': [574814.8800000149,\n",
       "  57771.99999999383,\n",
       "  780920.8500000031,\n",
       "  16473.599999995786,\n",
       "  82823.04000000824,\n",
       "  763463.1699999849,\n",
       "  18513.62000002228,\n",
       "  373994.3699999871,\n",
       "  197197.1400000148,\n",
       "  926422.4999999545,\n",
       "  73706.88000001313,\n",
       "  127593.9600000171,\n",
       "  362171.20999998716,\n",
       "  780256.8399999604,\n",
       "  17612.28000002297,\n",
       "  291262.399999983,\n",
       "  18189.599999995684,\n",
       "  367783.8000000103,\n",
       "  1391133.869999982,\n",
       "  115376.24000002054,\n",
       "  14069.580000025686,\n",
       "  82951.02000002284,\n",
       "  55884.39999999397,\n",
       "  1247602.4999999478,\n",
       "  474321.24999996333,\n",
       "  222082.56000002025,\n",
       "  43986.79999999452,\n",
       "  114360.98000000778,\n",
       "  119000.05000001748,\n",
       "  1142688.7499999497]}"
      ]
     },
     "metadata": {},
     "execution_count": 55
    }
   ],
   "metadata": {
    "gather": {
     "logged": 1648856584596
    },
    "jupyter": {
     "outputs_hidden": false,
     "source_hidden": false
    },
    "nteract": {
     "transient": {
      "deleting": false
     }
    }
   }
  },
  {
   "cell_type": "markdown",
   "source": [
    " ### Deploy the model as a Webservice to Azure Kubernetes Service"
   ],
   "metadata": {
    "nteract": {
     "transient": {
      "deleting": false
     }
    }
   }
  },
  {
   "cell_type": "markdown",
   "source": [
    "#### Create Azure Kubernetes Service Compute"
   ],
   "metadata": {
    "nteract": {
     "transient": {
      "deleting": false
     }
    }
   }
  },
  {
   "cell_type": "markdown",
   "source": [
    "Refer the documentation on the ‘create_compute’ method and parameters (https://github.com/SAP-samples/data-warehouse-cloud-fedml/blob/main/Azure/docs/fedml_azure.md#create_compute)."
   ],
   "metadata": {
    "nteract": {
     "transient": {
      "deleting": false
     }
    }
   }
  },
  {
   "cell_type": "code",
   "execution_count": 26,
   "source": [
    "aks=create_compute(workspace=workspace,\n",
    "                   compute_type='AKS',\n",
    "                   compute_args={'compute_name':'aks1'})"
   ],
   "outputs": [
    {
     "output_type": "stream",
     "name": "stdout",
     "text": [
      "2022-04-01 22:56:15,394: fedml_azure.logger INFO: Creating Compute_target.\n",
      "2022-04-01 23:11:54,760: fedml_azure.logger INFO: Found existing cluster, use it.\n"
     ]
    }
   ],
   "metadata": {
    "gather": {
     "logged": 1648854714985
    },
    "jupyter": {
     "outputs_hidden": false,
     "source_hidden": false
    },
    "nteract": {
     "transient": {
      "deleting": false
     }
    }
   }
  },
  {
   "cell_type": "markdown",
   "source": [
    " #### Deploy the model as a Webservice to Azure Kubernetes Service"
   ],
   "metadata": {
    "nteract": {
     "transient": {
      "deleting": false
     }
    }
   }
  },
  {
   "cell_type": "markdown",
   "source": [
    "Refer the documentation on 'deploy' for more details (https://github.com/SAP-samples/data-warehouse-cloud-fedml/blob/main/Azure/docs/fedml_azure.md#deploy)"
   ],
   "metadata": {
    "nteract": {
     "transient": {
      "deleting": false
     }
    }
   }
  },
  {
   "cell_type": "code",
   "execution_count": 28,
   "source": [
    "aks_endpoint,api_key,aks_service=deploy(compute_type='AKS',\n",
    "                                        inference_config_args={'entry_script':'Scikit-Learn-Linear-Regression/score.py', 'environment':environment},\n",
    "                                        deploy_args={'workspace':workspace,'name':'akswebservice','models':[model],'deployment_target':aks}\n",
    "                                        )"
   ],
   "outputs": [
    {
     "output_type": "stream",
     "name": "stdout",
     "text": [
      "2022-04-01 23:14:43,690: fedml_azure.logger INFO: The parameter 'deploy_config_args' is not specified. An empty configuration object will be used based on the desired target.\n",
      "Tips: You can try get_logs(): https://aka.ms/debugimage#dockerlog or local deployment: https://aka.ms/debugimage#debug-locally to debug if deployment takes longer than 10 minutes.\n",
      "Running\n",
      "2022-04-01 23:14:49+00:00 Creating Container Registry if not exists.\n",
      "2022-04-01 23:14:49+00:00 Registering the environment.\n",
      "2022-04-01 23:14:50+00:00 Use the existing image.\n",
      "2022-04-01 23:14:51+00:00 Creating resources in AKS.\n",
      "2022-04-01 23:14:52+00:00 Submitting deployment to compute.\n",
      "2022-04-01 23:14:52+00:00 Checking the status of deployment akswebservice..\n",
      "2022-04-01 23:15:02+00:00 Checking the status of inference endpoint akswebservice.\n",
      "Succeeded\n",
      "AKS service creation operation finished, operation \"Succeeded\"\n",
      "2022-04-01 23:15:06,494: fedml_azure.logger INFO: The service endpoint url is http://20.121.80.180:80/api/v1/service/akswebservice/score.\n",
      "2022-04-01 23:15:06,617: fedml_azure.logger INFO: The service api key is zi4DcXsJSPHb5sWF42EpiAgbhy0vYMd5.\n"
     ]
    }
   ],
   "metadata": {
    "gather": {
     "logged": 1648854906713
    },
    "jupyter": {
     "outputs_hidden": false,
     "source_hidden": false
    },
    "nteract": {
     "transient": {
      "deleting": false
     }
    }
   }
  },
  {
   "cell_type": "markdown",
   "source": [
    "### Inference the AKS endpoint using the test data"
   ],
   "metadata": {
    "nteract": {
     "transient": {
      "deleting": false
     }
    }
   }
  },
  {
   "cell_type": "markdown",
   "source": [
    "Refer the documentation on 'predict' for more details (https://github.com/SAP-samples/data-warehouse-cloud-fedml/blob/main/Azure/docs/fedml_azure.md#predict)"
   ],
   "metadata": {
    "nteract": {
     "transient": {
      "deleting": false
     }
    }
   }
  },
  {
   "cell_type": "markdown",
   "source": [
    "#### Inference the AKS endpoint using the webservice object"
   ],
   "metadata": {
    "nteract": {
     "transient": {
      "deleting": false
     }
    }
   }
  },
  {
   "cell_type": "code",
   "execution_count": 58,
   "source": [
    "result=predict(service=aks_service,data=test_data)\n",
    "result"
   ],
   "outputs": [
    {
     "output_type": "stream",
     "name": "stdout",
     "text": [
      "2022-04-01 23:44:09,517: fedml_azure.logger INFO: Using the webservice for inferencing. It can be used for compute types ACI, AKS and Local. \n"
     ]
    },
    {
     "output_type": "execute_result",
     "data": {
      "text/plain": [
       "'{\"result\": [574814.8800000149, 57771.99999999383, 780920.8500000031, 16473.599999995786, 82823.04000000824, 763463.1699999849, 18513.62000002228, 373994.3699999871, 197197.1400000148, 926422.4999999545, 73706.88000001313, 127593.9600000171, 362171.20999998716, 780256.8399999604, 17612.28000002297, 291262.399999983, 18189.599999995684, 367783.8000000103, 1391133.869999982, 115376.24000002054, 14069.580000025686, 82951.02000002284, 55884.39999999397, 1247602.4999999478, 474321.24999996333, 222082.56000002025, 43986.79999999452, 114360.98000000778, 119000.05000001748, 1142688.7499999497]}'"
      ]
     },
     "metadata": {},
     "execution_count": 58
    }
   ],
   "metadata": {
    "gather": {
     "logged": 1648856649652
    },
    "jupyter": {
     "outputs_hidden": false,
     "source_hidden": false
    },
    "nteract": {
     "transient": {
      "deleting": false
     }
    }
   }
  },
  {
   "cell_type": "markdown",
   "source": [
    "#### Inference the AKS endpoint using the endpoint_url"
   ],
   "metadata": {
    "nteract": {
     "transient": {
      "deleting": false
     }
    }
   }
  },
  {
   "cell_type": "code",
   "execution_count": 59,
   "source": [
    "result=predict(endpoint_url=aks_endpoint,data=test_data,compute_type='aks',api_key=api_key)\n",
    "result"
   ],
   "outputs": [
    {
     "output_type": "stream",
     "name": "stdout",
     "text": [
      "2022-04-01 23:44:11,385: fedml_azure.logger INFO: Using the parameters 'endpoint_url' and 'compute_type' for inferencing.\n"
     ]
    },
    {
     "output_type": "execute_result",
     "data": {
      "text/plain": [
       "{'result': [574814.8800000149,\n",
       "  57771.99999999383,\n",
       "  780920.8500000031,\n",
       "  16473.599999995786,\n",
       "  82823.04000000824,\n",
       "  763463.1699999849,\n",
       "  18513.62000002228,\n",
       "  373994.3699999871,\n",
       "  197197.1400000148,\n",
       "  926422.4999999545,\n",
       "  73706.88000001313,\n",
       "  127593.9600000171,\n",
       "  362171.20999998716,\n",
       "  780256.8399999604,\n",
       "  17612.28000002297,\n",
       "  291262.399999983,\n",
       "  18189.599999995684,\n",
       "  367783.8000000103,\n",
       "  1391133.869999982,\n",
       "  115376.24000002054,\n",
       "  14069.580000025686,\n",
       "  82951.02000002284,\n",
       "  55884.39999999397,\n",
       "  1247602.4999999478,\n",
       "  474321.24999996333,\n",
       "  222082.56000002025,\n",
       "  43986.79999999452,\n",
       "  114360.98000000778,\n",
       "  119000.05000001748,\n",
       "  1142688.7499999497]}"
      ]
     },
     "metadata": {},
     "execution_count": 59
    }
   ],
   "metadata": {
    "gather": {
     "logged": 1648856651537
    },
    "jupyter": {
     "outputs_hidden": false,
     "source_hidden": false
    },
    "nteract": {
     "transient": {
      "deleting": false
     }
    }
   }
  },
  {
   "cell_type": "markdown",
   "source": [
    "### Write the result back to SAP DWC"
   ],
   "metadata": {
    "nteract": {
     "transient": {
      "deleting": false
     }
    }
   }
  },
  {
   "cell_type": "markdown",
   "source": [
    "#### Create table in SAP DWC"
   ],
   "metadata": {
    "nteract": {
     "transient": {
      "deleting": false
     }
    }
   }
  },
  {
   "cell_type": "code",
   "execution_count": 36,
   "source": [
    "from fedml_azure import DbConnection\n",
    "dwc = DbConnection(url='Scikit-Learn-Linear-Regression/config.json')"
   ],
   "outputs": [],
   "metadata": {
    "gather": {
     "logged": 1648855075938
    },
    "jupyter": {
     "outputs_hidden": false,
     "source_hidden": false
    },
    "nteract": {
     "transient": {
      "deleting": false
     }
    }
   }
  },
  {
   "cell_type": "code",
   "execution_count": 67,
   "source": [
    "dwc.create_table(\"CREATE TABLE LINEAR_SALES_VIEW (unitssold FLOAT,unitprice FLOAT,unitcost FLOAT,totalrevenue FLOAT,totalcost FLOAT,result FLOAT)\")"
   ],
   "outputs": [
    {
     "output_type": "stream",
     "name": "stdout",
     "text": [
      "2022-04-01 23:45:53,385: fedml_azure.logger INFO: creating table...\n",
      "2022-04-01 23:45:53,386: fedml_azure.logger INFO: CREATE TABLE LINEAR_SALES_VIEW (unitssold FLOAT,unitprice FLOAT,unitcost FLOAT,totalrevenue FLOAT,totalcost FLOAT,result FLOAT, INSERTED_AT TIMESTAMP NOT NULL)\n"
     ]
    }
   ],
   "metadata": {
    "gather": {
     "logged": 1648856753664
    },
    "jupyter": {
     "outputs_hidden": false,
     "source_hidden": false
    },
    "nteract": {
     "transient": {
      "deleting": false
     }
    }
   }
  },
  {
   "cell_type": "markdown",
   "source": [
    "#### Storing the result in the dataframe"
   ],
   "metadata": {
    "nteract": {
     "transient": {
      "deleting": false
     }
    }
   }
  },
  {
   "cell_type": "code",
   "execution_count": 60,
   "source": [
    "import pandas as pd\n",
    "result_df=pd.DataFrame(result['result'])\n",
    "result_df.rename( columns={0:'result'}, inplace=True )"
   ],
   "outputs": [],
   "metadata": {
    "gather": {
     "logged": 1648856656750
    },
    "jupyter": {
     "outputs_hidden": false,
     "source_hidden": false
    },
    "nteract": {
     "transient": {
      "deleting": false
     }
    }
   }
  },
  {
   "cell_type": "code",
   "execution_count": 62,
   "source": [
    "X_test['result']=result_df['result'].values\n",
    "X_test"
   ],
   "outputs": [
    {
     "output_type": "execute_result",
     "data": {
      "text/plain": [
       "    unitssold  unitprice  unitcost  totalrevenue   totalcost      result\n",
       "35     7827.0     109.28     35.84     855334.56   280519.68   574814.88\n",
       "33     1010.0     421.89    364.69     426108.90   368336.90    57772.00\n",
       "84     8815.0     205.70    117.11    1813245.50  1032324.65   780920.85\n",
       "44      288.0     421.89    364.69     121504.32   105030.72    16473.60\n",
       "60      864.0     255.28    159.42     220561.92   137738.88    82823.04\n",
       "34     4391.0     437.20    263.33    1919745.20  1156282.03   763463.17\n",
       "70     7682.0       9.33      6.92      71673.06    53159.44    18513.62\n",
       "29     2151.0     437.20    263.33     940417.20   566422.83   373994.37\n",
       "40     7869.0      81.73     56.67     643133.37   445936.23   197197.14\n",
       "81     7338.0     651.21    524.96    4778578.98  3852156.48   926422.50\n",
       "77      832.0     205.70    117.11     171142.40    97435.52    73706.88\n",
       "7      2314.0     152.58     97.44     353070.12   225476.16   127593.96\n",
       "11     2083.0     437.20    263.33     910687.60   548516.39   362171.21\n",
       "79     4708.0     668.27    502.54    3146215.16  2365958.32   780256.84\n",
       "6      7308.0       9.33      6.92      68183.64    50571.36    17612.28\n",
       "82     5092.0     421.89    364.69    2148263.88  1857001.48   291262.40\n",
       "2       318.0     421.89    364.69     134161.02   115971.42    18189.60\n",
       "54     6670.0     152.58     97.44    1017708.60   649924.80   367783.80\n",
       "63     8001.0     437.20    263.33    3498037.20  2106903.33  1391133.87\n",
       "38     4604.0      81.73     56.67     376284.92   260908.68   115376.24\n",
       "23     5838.0       9.33      6.92      54468.54    40398.96    14069.58\n",
       "64     5297.0      47.45     31.79     251342.65   168391.63    82951.02\n",
       "88      977.0     421.89    364.69     412186.53   356302.13    55884.40\n",
       "98     9882.0     651.21    524.96    6435257.22  5187654.72  1247602.50\n",
       "49     3757.0     651.21    524.96    2446595.97  1972274.72   474321.25\n",
       "8      3024.0     109.28     35.84     330462.72   108380.16   222082.56\n",
       "46      769.0     421.89    364.69     324433.41   280446.61    43986.80\n",
       "16     1193.0     255.28    159.42     304549.04   190188.06   114360.98\n",
       "87     1885.0     154.06     90.93     290403.10   171403.05   119000.05\n",
       "15     9051.0     651.21    524.96    5894101.71  4751412.96  1142688.75"
      ],
      "text/html": [
       "<div>\n",
       "<style scoped>\n",
       "    .dataframe tbody tr th:only-of-type {\n",
       "        vertical-align: middle;\n",
       "    }\n",
       "\n",
       "    .dataframe tbody tr th {\n",
       "        vertical-align: top;\n",
       "    }\n",
       "\n",
       "    .dataframe thead th {\n",
       "        text-align: right;\n",
       "    }\n",
       "</style>\n",
       "<table border=\"1\" class=\"dataframe\">\n",
       "  <thead>\n",
       "    <tr style=\"text-align: right;\">\n",
       "      <th></th>\n",
       "      <th>unitssold</th>\n",
       "      <th>unitprice</th>\n",
       "      <th>unitcost</th>\n",
       "      <th>totalrevenue</th>\n",
       "      <th>totalcost</th>\n",
       "      <th>result</th>\n",
       "    </tr>\n",
       "  </thead>\n",
       "  <tbody>\n",
       "    <tr>\n",
       "      <th>35</th>\n",
       "      <td>7827.0</td>\n",
       "      <td>109.28</td>\n",
       "      <td>35.84</td>\n",
       "      <td>855334.56</td>\n",
       "      <td>280519.68</td>\n",
       "      <td>574814.88</td>\n",
       "    </tr>\n",
       "    <tr>\n",
       "      <th>33</th>\n",
       "      <td>1010.0</td>\n",
       "      <td>421.89</td>\n",
       "      <td>364.69</td>\n",
       "      <td>426108.90</td>\n",
       "      <td>368336.90</td>\n",
       "      <td>57772.00</td>\n",
       "    </tr>\n",
       "    <tr>\n",
       "      <th>84</th>\n",
       "      <td>8815.0</td>\n",
       "      <td>205.70</td>\n",
       "      <td>117.11</td>\n",
       "      <td>1813245.50</td>\n",
       "      <td>1032324.65</td>\n",
       "      <td>780920.85</td>\n",
       "    </tr>\n",
       "    <tr>\n",
       "      <th>44</th>\n",
       "      <td>288.0</td>\n",
       "      <td>421.89</td>\n",
       "      <td>364.69</td>\n",
       "      <td>121504.32</td>\n",
       "      <td>105030.72</td>\n",
       "      <td>16473.60</td>\n",
       "    </tr>\n",
       "    <tr>\n",
       "      <th>60</th>\n",
       "      <td>864.0</td>\n",
       "      <td>255.28</td>\n",
       "      <td>159.42</td>\n",
       "      <td>220561.92</td>\n",
       "      <td>137738.88</td>\n",
       "      <td>82823.04</td>\n",
       "    </tr>\n",
       "    <tr>\n",
       "      <th>34</th>\n",
       "      <td>4391.0</td>\n",
       "      <td>437.20</td>\n",
       "      <td>263.33</td>\n",
       "      <td>1919745.20</td>\n",
       "      <td>1156282.03</td>\n",
       "      <td>763463.17</td>\n",
       "    </tr>\n",
       "    <tr>\n",
       "      <th>70</th>\n",
       "      <td>7682.0</td>\n",
       "      <td>9.33</td>\n",
       "      <td>6.92</td>\n",
       "      <td>71673.06</td>\n",
       "      <td>53159.44</td>\n",
       "      <td>18513.62</td>\n",
       "    </tr>\n",
       "    <tr>\n",
       "      <th>29</th>\n",
       "      <td>2151.0</td>\n",
       "      <td>437.20</td>\n",
       "      <td>263.33</td>\n",
       "      <td>940417.20</td>\n",
       "      <td>566422.83</td>\n",
       "      <td>373994.37</td>\n",
       "    </tr>\n",
       "    <tr>\n",
       "      <th>40</th>\n",
       "      <td>7869.0</td>\n",
       "      <td>81.73</td>\n",
       "      <td>56.67</td>\n",
       "      <td>643133.37</td>\n",
       "      <td>445936.23</td>\n",
       "      <td>197197.14</td>\n",
       "    </tr>\n",
       "    <tr>\n",
       "      <th>81</th>\n",
       "      <td>7338.0</td>\n",
       "      <td>651.21</td>\n",
       "      <td>524.96</td>\n",
       "      <td>4778578.98</td>\n",
       "      <td>3852156.48</td>\n",
       "      <td>926422.50</td>\n",
       "    </tr>\n",
       "    <tr>\n",
       "      <th>77</th>\n",
       "      <td>832.0</td>\n",
       "      <td>205.70</td>\n",
       "      <td>117.11</td>\n",
       "      <td>171142.40</td>\n",
       "      <td>97435.52</td>\n",
       "      <td>73706.88</td>\n",
       "    </tr>\n",
       "    <tr>\n",
       "      <th>7</th>\n",
       "      <td>2314.0</td>\n",
       "      <td>152.58</td>\n",
       "      <td>97.44</td>\n",
       "      <td>353070.12</td>\n",
       "      <td>225476.16</td>\n",
       "      <td>127593.96</td>\n",
       "    </tr>\n",
       "    <tr>\n",
       "      <th>11</th>\n",
       "      <td>2083.0</td>\n",
       "      <td>437.20</td>\n",
       "      <td>263.33</td>\n",
       "      <td>910687.60</td>\n",
       "      <td>548516.39</td>\n",
       "      <td>362171.21</td>\n",
       "    </tr>\n",
       "    <tr>\n",
       "      <th>79</th>\n",
       "      <td>4708.0</td>\n",
       "      <td>668.27</td>\n",
       "      <td>502.54</td>\n",
       "      <td>3146215.16</td>\n",
       "      <td>2365958.32</td>\n",
       "      <td>780256.84</td>\n",
       "    </tr>\n",
       "    <tr>\n",
       "      <th>6</th>\n",
       "      <td>7308.0</td>\n",
       "      <td>9.33</td>\n",
       "      <td>6.92</td>\n",
       "      <td>68183.64</td>\n",
       "      <td>50571.36</td>\n",
       "      <td>17612.28</td>\n",
       "    </tr>\n",
       "    <tr>\n",
       "      <th>82</th>\n",
       "      <td>5092.0</td>\n",
       "      <td>421.89</td>\n",
       "      <td>364.69</td>\n",
       "      <td>2148263.88</td>\n",
       "      <td>1857001.48</td>\n",
       "      <td>291262.40</td>\n",
       "    </tr>\n",
       "    <tr>\n",
       "      <th>2</th>\n",
       "      <td>318.0</td>\n",
       "      <td>421.89</td>\n",
       "      <td>364.69</td>\n",
       "      <td>134161.02</td>\n",
       "      <td>115971.42</td>\n",
       "      <td>18189.60</td>\n",
       "    </tr>\n",
       "    <tr>\n",
       "      <th>54</th>\n",
       "      <td>6670.0</td>\n",
       "      <td>152.58</td>\n",
       "      <td>97.44</td>\n",
       "      <td>1017708.60</td>\n",
       "      <td>649924.80</td>\n",
       "      <td>367783.80</td>\n",
       "    </tr>\n",
       "    <tr>\n",
       "      <th>63</th>\n",
       "      <td>8001.0</td>\n",
       "      <td>437.20</td>\n",
       "      <td>263.33</td>\n",
       "      <td>3498037.20</td>\n",
       "      <td>2106903.33</td>\n",
       "      <td>1391133.87</td>\n",
       "    </tr>\n",
       "    <tr>\n",
       "      <th>38</th>\n",
       "      <td>4604.0</td>\n",
       "      <td>81.73</td>\n",
       "      <td>56.67</td>\n",
       "      <td>376284.92</td>\n",
       "      <td>260908.68</td>\n",
       "      <td>115376.24</td>\n",
       "    </tr>\n",
       "    <tr>\n",
       "      <th>23</th>\n",
       "      <td>5838.0</td>\n",
       "      <td>9.33</td>\n",
       "      <td>6.92</td>\n",
       "      <td>54468.54</td>\n",
       "      <td>40398.96</td>\n",
       "      <td>14069.58</td>\n",
       "    </tr>\n",
       "    <tr>\n",
       "      <th>64</th>\n",
       "      <td>5297.0</td>\n",
       "      <td>47.45</td>\n",
       "      <td>31.79</td>\n",
       "      <td>251342.65</td>\n",
       "      <td>168391.63</td>\n",
       "      <td>82951.02</td>\n",
       "    </tr>\n",
       "    <tr>\n",
       "      <th>88</th>\n",
       "      <td>977.0</td>\n",
       "      <td>421.89</td>\n",
       "      <td>364.69</td>\n",
       "      <td>412186.53</td>\n",
       "      <td>356302.13</td>\n",
       "      <td>55884.40</td>\n",
       "    </tr>\n",
       "    <tr>\n",
       "      <th>98</th>\n",
       "      <td>9882.0</td>\n",
       "      <td>651.21</td>\n",
       "      <td>524.96</td>\n",
       "      <td>6435257.22</td>\n",
       "      <td>5187654.72</td>\n",
       "      <td>1247602.50</td>\n",
       "    </tr>\n",
       "    <tr>\n",
       "      <th>49</th>\n",
       "      <td>3757.0</td>\n",
       "      <td>651.21</td>\n",
       "      <td>524.96</td>\n",
       "      <td>2446595.97</td>\n",
       "      <td>1972274.72</td>\n",
       "      <td>474321.25</td>\n",
       "    </tr>\n",
       "    <tr>\n",
       "      <th>8</th>\n",
       "      <td>3024.0</td>\n",
       "      <td>109.28</td>\n",
       "      <td>35.84</td>\n",
       "      <td>330462.72</td>\n",
       "      <td>108380.16</td>\n",
       "      <td>222082.56</td>\n",
       "    </tr>\n",
       "    <tr>\n",
       "      <th>46</th>\n",
       "      <td>769.0</td>\n",
       "      <td>421.89</td>\n",
       "      <td>364.69</td>\n",
       "      <td>324433.41</td>\n",
       "      <td>280446.61</td>\n",
       "      <td>43986.80</td>\n",
       "    </tr>\n",
       "    <tr>\n",
       "      <th>16</th>\n",
       "      <td>1193.0</td>\n",
       "      <td>255.28</td>\n",
       "      <td>159.42</td>\n",
       "      <td>304549.04</td>\n",
       "      <td>190188.06</td>\n",
       "      <td>114360.98</td>\n",
       "    </tr>\n",
       "    <tr>\n",
       "      <th>87</th>\n",
       "      <td>1885.0</td>\n",
       "      <td>154.06</td>\n",
       "      <td>90.93</td>\n",
       "      <td>290403.10</td>\n",
       "      <td>171403.05</td>\n",
       "      <td>119000.05</td>\n",
       "    </tr>\n",
       "    <tr>\n",
       "      <th>15</th>\n",
       "      <td>9051.0</td>\n",
       "      <td>651.21</td>\n",
       "      <td>524.96</td>\n",
       "      <td>5894101.71</td>\n",
       "      <td>4751412.96</td>\n",
       "      <td>1142688.75</td>\n",
       "    </tr>\n",
       "  </tbody>\n",
       "</table>\n",
       "</div>"
      ]
     },
     "metadata": {},
     "execution_count": 62
    }
   ],
   "metadata": {
    "gather": {
     "logged": 1648856668093
    },
    "jupyter": {
     "outputs_hidden": false,
     "source_hidden": false
    },
    "nteract": {
     "transient": {
      "deleting": false
     }
    }
   }
  },
  {
   "cell_type": "markdown",
   "source": [
    " #### Inserting the data into table"
   ],
   "metadata": {
    "nteract": {
     "transient": {
      "deleting": false
     }
    }
   }
  },
  {
   "cell_type": "code",
   "execution_count": 68,
   "source": [
    "dwc.insert_into_table('LINEAR_SALES_VIEW',X_test)"
   ],
   "outputs": [
    {
     "output_type": "stream",
     "name": "stdout",
     "text": [
      "2022-04-01 23:45:57,111: fedml_azure.logger INFO: inserting into table...\n",
      "2022-04-01 23:45:57,112: fedml_azure.logger INFO: INSERT INTO LINEAR_SALES_VIEW (unitssold, unitprice, unitcost, totalrevenue, totalcost, result, INSERTED_AT) VALUES (:unitssold, :unitprice, :unitcost, :totalrevenue, :totalcost, :result, :INSERTED_AT)\n"
     ]
    }
   ],
   "metadata": {
    "gather": {
     "logged": 1648856757403
    },
    "jupyter": {
     "outputs_hidden": false,
     "source_hidden": false
    },
    "nteract": {
     "transient": {
      "deleting": false
     }
    }
   }
  }
 ],
 "metadata": {
  "kernel_info": {
   "name": "python3"
  },
  "kernelspec": {
   "display_name": "Python 3",
   "language": "python",
   "name": "python3"
  },
  "language_info": {
   "codemirror_mode": {
    "name": "ipython",
    "version": 3
   },
   "file_extension": ".py",
   "mimetype": "text/x-python",
   "name": "python",
   "nbconvert_exporter": "python",
   "pygments_lexer": "ipython3",
   "version": "3.8.8"
  },
  "microsoft": {
   "host": {
    "AzureML": {
     "notebookHasBeenCompleted": true
    }
   }
  },
  "nteract": {
   "version": "nteract-front-end@1.0.0"
  }
 },
 "nbformat": 4,
 "nbformat_minor": 2
}